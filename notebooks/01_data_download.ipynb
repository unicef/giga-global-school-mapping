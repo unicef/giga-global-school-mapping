{
 "cells": [
  {
   "cell_type": "markdown",
   "id": "4b5894ba-126a-4eeb-8578-db256ba22177",
   "metadata": {},
   "source": [
    "# Data Download\n",
    "\n",
    "This notebook demonstrates how to download data across UNICEF, Overture Maps, and OpenStreetMap (OSM). \n",
    "\n",
    "Alternatively, you can also run `python src/data_download.py`: \n",
    "\n",
    "```s\n",
    "usage: data_download.py [-h] [--config CONFIG] [--profile PROFILE]\n",
    "\n",
    "Data Download\n",
    "options:\n",
    "  -h, --help         show this help message and exit\n",
    "  --config CONFIG    Path to the configuration file\n",
    "  --profile PROFILE  Path to the profile filele file\n",
    "```"
   ]
  },
  {
   "cell_type": "markdown",
   "id": "f8cf4143-2526-44f2-980d-27a390191008",
   "metadata": {},
   "source": [
    "## Imports and Setup"
   ]
  },
  {
   "cell_type": "code",
   "execution_count": 1,
   "id": "d2159d4d-fa6a-4f66-85b6-e3787fabd541",
   "metadata": {
    "tags": []
   },
   "outputs": [],
   "source": [
    "import pandas as pd\n",
    "import geopandas as gpd\n",
    "\n",
    "import os \n",
    "os.chdir('/home/itingzon.unicef/giga')\n",
    "from utils import download_utils\n",
    "from utils import config_utils\n",
    "\n",
    "import warnings\n",
    "warnings.filterwarnings('ignore')\n",
    "warnings.simplefilter('ignore')\n",
    "\n",
    "%load_ext autoreload\n",
    "%autoreload 2"
   ]
  },
  {
   "cell_type": "markdown",
   "id": "de83468e-d5da-48ae-a5f0-79a79dc83b49",
   "metadata": {},
   "source": [
    "## Data Configurations"
   ]
  },
  {
   "cell_type": "code",
   "execution_count": 14,
   "id": "a4a724d8-57da-4c7b-b964-60ae1f7e7eca",
   "metadata": {},
   "outputs": [],
   "source": [
    "profile_filename = \"configs/profile.share\"\n",
    "config_filename = \"configs/data_configs/data_config_ISO_AF.yaml\"\n",
    "profile_file = os.path.join(os.getcwd(), profile_filename)\n",
    "config_file = os.path.join(os.getcwd(), config_filename)\n",
    "config = config_utils.load_config(config_file)"
   ]
  },
  {
   "cell_type": "markdown",
   "id": "f2be6376-fc55-48bc-a3b6-5979a87014c8",
   "metadata": {},
   "source": [
    "## Download UNICEF"
   ]
  },
  {
   "cell_type": "code",
   "execution_count": 16,
   "id": "2ed086cf-1ac6-448c-ba80-d442f52ebb81",
   "metadata": {},
   "outputs": [
    {
     "name": "stderr",
     "output_type": "stream",
     "text": [
      "Processing SOM:  75%|███████████████     | 9/12 [00:04<00:01,  1.62it/s]                                                                                                    INFO:root:404 Client Error: Not Found for url: https://io-datasharing-stg.unitst.org/shares/gold/schemas/school-master/tables/SOM/query\n",
      " Response from server: \n",
      " { 'errorCode': 'RESOURCE_DOES_NOT_EXIST',\n",
      "  'message': \"[Share/Schema/Table] 'gold/school-master/SOM' does not exist, \"\n",
      "             'please contact your share provider for further information.'}\n",
      "Processing ZWE: 100%|████████████████████| 12/12 [00:07<00:00,  1.70it/s]                                                                                                   \n"
     ]
    },
    {
     "data": {
      "text/html": [
       "<div>\n",
       "<style scoped>\n",
       "    .dataframe tbody tr th:only-of-type {\n",
       "        vertical-align: middle;\n",
       "    }\n",
       "\n",
       "    .dataframe tbody tr th {\n",
       "        vertical-align: top;\n",
       "    }\n",
       "\n",
       "    .dataframe thead th {\n",
       "        text-align: right;\n",
       "    }\n",
       "</style>\n",
       "<table border=\"1\" class=\"dataframe\">\n",
       "  <thead>\n",
       "    <tr style=\"text-align: right;\">\n",
       "      <th></th>\n",
       "      <th>UID</th>\n",
       "      <th>source</th>\n",
       "      <th>iso</th>\n",
       "      <th>country</th>\n",
       "      <th>region</th>\n",
       "      <th>subregion</th>\n",
       "      <th>name</th>\n",
       "      <th>giga_id_school</th>\n",
       "      <th>geometry</th>\n",
       "    </tr>\n",
       "  </thead>\n",
       "  <tbody>\n",
       "    <tr>\n",
       "      <th>19106</th>\n",
       "      <td>UNICEF-MWI-SCHOOL-00003550</td>\n",
       "      <td>UNICEF</td>\n",
       "      <td>MWI</td>\n",
       "      <td>Malawi</td>\n",
       "      <td>Africa</td>\n",
       "      <td>Sub-Saharan Africa</td>\n",
       "      <td>None</td>\n",
       "      <td>3550</td>\n",
       "      <td>POINT (33.59014 -12.84145)</td>\n",
       "    </tr>\n",
       "    <tr>\n",
       "      <th>41559</th>\n",
       "      <td>UNICEF-SSD-SCHOOL-00002051</td>\n",
       "      <td>UNICEF</td>\n",
       "      <td>SSD</td>\n",
       "      <td>South Sudan</td>\n",
       "      <td>Africa</td>\n",
       "      <td>Sub-Saharan Africa</td>\n",
       "      <td>None</td>\n",
       "      <td>2051</td>\n",
       "      <td>POINT (26.04364 8.78803)</td>\n",
       "    </tr>\n",
       "    <tr>\n",
       "      <th>5386</th>\n",
       "      <td>UNICEF-BEN-SCHOOL-00005386</td>\n",
       "      <td>UNICEF</td>\n",
       "      <td>BEN</td>\n",
       "      <td>Benin</td>\n",
       "      <td>Africa</td>\n",
       "      <td>Sub-Saharan Africa</td>\n",
       "      <td>None</td>\n",
       "      <td>5386</td>\n",
       "      <td>POINT (2.61495 6.71598)</td>\n",
       "    </tr>\n",
       "  </tbody>\n",
       "</table>\n",
       "</div>"
      ],
      "text/plain": [
       "                              UID  source  iso      country  region  \\\n",
       "19106  UNICEF-MWI-SCHOOL-00003550  UNICEF  MWI       Malawi  Africa   \n",
       "41559  UNICEF-SSD-SCHOOL-00002051  UNICEF  SSD  South Sudan  Africa   \n",
       "5386   UNICEF-BEN-SCHOOL-00005386  UNICEF  BEN        Benin  Africa   \n",
       "\n",
       "                subregion  name  giga_id_school                    geometry  \n",
       "19106  Sub-Saharan Africa  None            3550  POINT (33.59014 -12.84145)  \n",
       "41559  Sub-Saharan Africa  None            2051    POINT (26.04364 8.78803)  \n",
       "5386   Sub-Saharan Africa  None            5386     POINT (2.61495 6.71598)  "
      ]
     },
     "execution_count": 16,
     "metadata": {},
     "output_type": "execute_result"
    }
   ],
   "source": [
    "unicef = download_utils.download_unicef(config, profile_file)\n",
    "unicef.sample(3)"
   ]
  },
  {
   "cell_type": "markdown",
   "id": "67680692-4ca8-46ae-89ff-5ed340fcd6f2",
   "metadata": {},
   "source": [
    "## Download Overture Maps Data"
   ]
  },
  {
   "cell_type": "code",
   "execution_count": 18,
   "id": "7e1c4152-5ef4-4cf9-b5a0-17f1ab031c53",
   "metadata": {},
   "outputs": [
    {
     "name": "stderr",
     "output_type": "stream",
     "text": [
      "Processing ZWE: 100%|████████████████████| 12/12 [00:01<00:00,  7.24it/s]                                                                                                   \n"
     ]
    },
    {
     "data": {
      "text/html": [
       "<div>\n",
       "<style scoped>\n",
       "    .dataframe tbody tr th:only-of-type {\n",
       "        vertical-align: middle;\n",
       "    }\n",
       "\n",
       "    .dataframe tbody tr th {\n",
       "        vertical-align: top;\n",
       "    }\n",
       "\n",
       "    .dataframe thead th {\n",
       "        text-align: right;\n",
       "    }\n",
       "</style>\n",
       "<table border=\"1\" class=\"dataframe\">\n",
       "  <thead>\n",
       "    <tr style=\"text-align: right;\">\n",
       "      <th></th>\n",
       "      <th>UID</th>\n",
       "      <th>source</th>\n",
       "      <th>iso</th>\n",
       "      <th>country</th>\n",
       "      <th>region</th>\n",
       "      <th>subregion</th>\n",
       "      <th>name</th>\n",
       "      <th>giga_id_school</th>\n",
       "      <th>geometry</th>\n",
       "    </tr>\n",
       "  </thead>\n",
       "  <tbody>\n",
       "    <tr>\n",
       "      <th>3728</th>\n",
       "      <td>OVERTURE-NAM-SCHOOL-00000107</td>\n",
       "      <td>OVERTURE</td>\n",
       "      <td>NAM</td>\n",
       "      <td>Namibia</td>\n",
       "      <td>Africa</td>\n",
       "      <td>Sub-Saharan Africa</td>\n",
       "      <td>Danie Joubert Combined School</td>\n",
       "      <td>None</td>\n",
       "      <td>POINT (17.96415 -24.62320)</td>\n",
       "    </tr>\n",
       "    <tr>\n",
       "      <th>2632</th>\n",
       "      <td>OVERTURE-KEN-SCHOOL-00000690</td>\n",
       "      <td>OVERTURE</td>\n",
       "      <td>KEN</td>\n",
       "      <td>Kenya</td>\n",
       "      <td>Africa</td>\n",
       "      <td>Sub-Saharan Africa</td>\n",
       "      <td>Royal Brains School - Ruaka Campus</td>\n",
       "      <td>None</td>\n",
       "      <td>POINT (36.78520 -1.20404)</td>\n",
       "    </tr>\n",
       "    <tr>\n",
       "      <th>458</th>\n",
       "      <td>OVERTURE-BWA-SCHOOL-00000398</td>\n",
       "      <td>OVERTURE</td>\n",
       "      <td>BWA</td>\n",
       "      <td>Botswana</td>\n",
       "      <td>Africa</td>\n",
       "      <td>Sub-Saharan Africa</td>\n",
       "      <td>Boipelego Jr Secondary School</td>\n",
       "      <td>None</td>\n",
       "      <td>POINT (26.70270 -22.43204)</td>\n",
       "    </tr>\n",
       "  </tbody>\n",
       "</table>\n",
       "</div>"
      ],
      "text/plain": [
       "                               UID    source  iso   country  region  \\\n",
       "3728  OVERTURE-NAM-SCHOOL-00000107  OVERTURE  NAM   Namibia  Africa   \n",
       "2632  OVERTURE-KEN-SCHOOL-00000690  OVERTURE  KEN     Kenya  Africa   \n",
       "458   OVERTURE-BWA-SCHOOL-00000398  OVERTURE  BWA  Botswana  Africa   \n",
       "\n",
       "               subregion                                name giga_id_school  \\\n",
       "3728  Sub-Saharan Africa       Danie Joubert Combined School           None   \n",
       "2632  Sub-Saharan Africa  Royal Brains School - Ruaka Campus           None   \n",
       "458   Sub-Saharan Africa       Boipelego Jr Secondary School           None   \n",
       "\n",
       "                        geometry  \n",
       "3728  POINT (17.96415 -24.62320)  \n",
       "2632   POINT (36.78520 -1.20404)  \n",
       "458   POINT (26.70270 -22.43204)  "
      ]
     },
     "execution_count": 18,
     "metadata": {},
     "output_type": "execute_result"
    }
   ],
   "source": [
    "overture_schools = download_utils.download_overture(config, category=\"school\")\n",
    "overture_schools.sample(3)"
   ]
  },
  {
   "cell_type": "code",
   "execution_count": 7,
   "id": "189c8518-d896-4472-88a5-971422aa7f3c",
   "metadata": {
    "tags": []
   },
   "outputs": [
    {
     "name": "stderr",
     "output_type": "stream",
     "text": [
      "Processing ZWE: 100%|████████████████████| 11/11 [00:07<00:00,  1.50it/s]                                                                                                   \n"
     ]
    },
    {
     "data": {
      "text/html": [
       "<div>\n",
       "<style scoped>\n",
       "    .dataframe tbody tr th:only-of-type {\n",
       "        vertical-align: middle;\n",
       "    }\n",
       "\n",
       "    .dataframe tbody tr th {\n",
       "        vertical-align: top;\n",
       "    }\n",
       "\n",
       "    .dataframe thead th {\n",
       "        text-align: right;\n",
       "    }\n",
       "</style>\n",
       "<table border=\"1\" class=\"dataframe\">\n",
       "  <thead>\n",
       "    <tr style=\"text-align: right;\">\n",
       "      <th></th>\n",
       "      <th>UID</th>\n",
       "      <th>source</th>\n",
       "      <th>iso</th>\n",
       "      <th>country</th>\n",
       "      <th>region</th>\n",
       "      <th>subregion</th>\n",
       "      <th>name</th>\n",
       "      <th>giga_id_school</th>\n",
       "      <th>geometry</th>\n",
       "    </tr>\n",
       "  </thead>\n",
       "  <tbody>\n",
       "    <tr>\n",
       "      <th>25910</th>\n",
       "      <td>OVERTURE-NAM-NON_SCHOOL-00001437</td>\n",
       "      <td>OVERTURE</td>\n",
       "      <td>NAM</td>\n",
       "      <td>Namibia</td>\n",
       "      <td>Africa</td>\n",
       "      <td>Sub-Saharan Africa</td>\n",
       "      <td>Sauyemwa Clinic</td>\n",
       "      <td>None</td>\n",
       "      <td>POINT (19.74148 -17.91945)</td>\n",
       "    </tr>\n",
       "    <tr>\n",
       "      <th>28875</th>\n",
       "      <td>OVERTURE-ZWE-NON_SCHOOL-00000974</td>\n",
       "      <td>OVERTURE</td>\n",
       "      <td>ZWE</td>\n",
       "      <td>Zimbabwe</td>\n",
       "      <td>Africa</td>\n",
       "      <td>Sub-Saharan Africa</td>\n",
       "      <td>Seke Seven Seventh Day Adventist Church</td>\n",
       "      <td>None</td>\n",
       "      <td>POINT (31.10296 -18.00861)</td>\n",
       "    </tr>\n",
       "    <tr>\n",
       "      <th>10584</th>\n",
       "      <td>OVERTURE-KEN-NON_SCHOOL-00001327</td>\n",
       "      <td>OVERTURE</td>\n",
       "      <td>KEN</td>\n",
       "      <td>Kenya</td>\n",
       "      <td>Africa</td>\n",
       "      <td>Sub-Saharan Africa</td>\n",
       "      <td>Kampus Towers</td>\n",
       "      <td>None</td>\n",
       "      <td>POINT (36.81886 -1.28011)</td>\n",
       "    </tr>\n",
       "  </tbody>\n",
       "</table>\n",
       "</div>"
      ],
      "text/plain": [
       "                                    UID    source  iso   country  region  \\\n",
       "25910  OVERTURE-NAM-NON_SCHOOL-00001437  OVERTURE  NAM   Namibia  Africa   \n",
       "28875  OVERTURE-ZWE-NON_SCHOOL-00000974  OVERTURE  ZWE  Zimbabwe  Africa   \n",
       "10584  OVERTURE-KEN-NON_SCHOOL-00001327  OVERTURE  KEN     Kenya  Africa   \n",
       "\n",
       "                subregion                                     name  \\\n",
       "25910  Sub-Saharan Africa                          Sauyemwa Clinic   \n",
       "28875  Sub-Saharan Africa  Seke Seven Seventh Day Adventist Church   \n",
       "10584  Sub-Saharan Africa                            Kampus Towers   \n",
       "\n",
       "      giga_id_school                    geometry  \n",
       "25910           None  POINT (19.74148 -17.91945)  \n",
       "28875           None  POINT (31.10296 -18.00861)  \n",
       "10584           None   POINT (36.81886 -1.28011)  "
      ]
     },
     "execution_count": 7,
     "metadata": {},
     "output_type": "execute_result"
    }
   ],
   "source": [
    "overture_nonschools = download_utils.download_overture(\n",
    "    config, category=\"non_school\", exclude=\"school\"\n",
    ")\n",
    "overture_nonschools.sample(3)"
   ]
  },
  {
   "cell_type": "markdown",
   "id": "90aa0884-c872-413f-b014-3b246dd6b321",
   "metadata": {},
   "source": [
    "## Download OpenStreetMap (OSM) Data"
   ]
  },
  {
   "cell_type": "code",
   "execution_count": 20,
   "id": "b999ce0c-567c-4c8b-91f1-32a44aa7752f",
   "metadata": {
    "tags": []
   },
   "outputs": [
    {
     "name": "stderr",
     "output_type": "stream",
     "text": [
      "Processing ZWE: 100%|████████████████████| 12/12 [00:03<00:00,  3.16it/s]                                                                                                   \n"
     ]
    },
    {
     "data": {
      "text/html": [
       "<div>\n",
       "<style scoped>\n",
       "    .dataframe tbody tr th:only-of-type {\n",
       "        vertical-align: middle;\n",
       "    }\n",
       "\n",
       "    .dataframe tbody tr th {\n",
       "        vertical-align: top;\n",
       "    }\n",
       "\n",
       "    .dataframe thead th {\n",
       "        text-align: right;\n",
       "    }\n",
       "</style>\n",
       "<table border=\"1\" class=\"dataframe\">\n",
       "  <thead>\n",
       "    <tr style=\"text-align: right;\">\n",
       "      <th></th>\n",
       "      <th>UID</th>\n",
       "      <th>source</th>\n",
       "      <th>iso</th>\n",
       "      <th>country</th>\n",
       "      <th>region</th>\n",
       "      <th>subregion</th>\n",
       "      <th>name</th>\n",
       "      <th>geometry</th>\n",
       "      <th>giga_id_school</th>\n",
       "    </tr>\n",
       "  </thead>\n",
       "  <tbody>\n",
       "    <tr>\n",
       "      <th>7950</th>\n",
       "      <td>OSM-KEN-SCHOOL-00002679</td>\n",
       "      <td>OSM</td>\n",
       "      <td>KEN</td>\n",
       "      <td>Kenya</td>\n",
       "      <td>Africa</td>\n",
       "      <td>Sub-Saharan Africa</td>\n",
       "      <td>Maua Primary School</td>\n",
       "      <td>POINT (37.94416 0.22910)</td>\n",
       "      <td>None</td>\n",
       "    </tr>\n",
       "    <tr>\n",
       "      <th>4151</th>\n",
       "      <td>OSM-GHA-SCHOOL-00001301</td>\n",
       "      <td>OSM</td>\n",
       "      <td>GHA</td>\n",
       "      <td>Ghana</td>\n",
       "      <td>Africa</td>\n",
       "      <td>Sub-Saharan Africa</td>\n",
       "      <td>Spring Hill Academy</td>\n",
       "      <td>POINT (-0.42729 5.53240)</td>\n",
       "      <td>None</td>\n",
       "    </tr>\n",
       "    <tr>\n",
       "      <th>5884</th>\n",
       "      <td>OSM-KEN-SCHOOL-00000613</td>\n",
       "      <td>OSM</td>\n",
       "      <td>KEN</td>\n",
       "      <td>Kenya</td>\n",
       "      <td>Africa</td>\n",
       "      <td>Sub-Saharan Africa</td>\n",
       "      <td>St Lukes Primary School</td>\n",
       "      <td>POINT (39.35203 -4.13411)</td>\n",
       "      <td>None</td>\n",
       "    </tr>\n",
       "  </tbody>\n",
       "</table>\n",
       "</div>"
      ],
      "text/plain": [
       "                          UID source  iso country  region           subregion  \\\n",
       "7950  OSM-KEN-SCHOOL-00002679    OSM  KEN   Kenya  Africa  Sub-Saharan Africa   \n",
       "4151  OSM-GHA-SCHOOL-00001301    OSM  GHA   Ghana  Africa  Sub-Saharan Africa   \n",
       "5884  OSM-KEN-SCHOOL-00000613    OSM  KEN   Kenya  Africa  Sub-Saharan Africa   \n",
       "\n",
       "                         name                   geometry giga_id_school  \n",
       "7950      Maua Primary School   POINT (37.94416 0.22910)           None  \n",
       "4151      Spring Hill Academy   POINT (-0.42729 5.53240)           None  \n",
       "5884  St Lukes Primary School  POINT (39.35203 -4.13411)           None  "
      ]
     },
     "execution_count": 20,
     "metadata": {},
     "output_type": "execute_result"
    }
   ],
   "source": [
    "osm_schools = download_utils.download_osm(config, category=\"school\")\n",
    "osm_schools.sample(3)"
   ]
  },
  {
   "cell_type": "code",
   "execution_count": 11,
   "id": "9120693a-ec23-4347-bacc-93178b4af087",
   "metadata": {
    "tags": []
   },
   "outputs": [
    {
     "name": "stderr",
     "output_type": "stream",
     "text": [
      "Processing ZWE: 100%|████████████████████| 11/11 [00:11<00:00,  1.04s/it]                                                                                                   \n"
     ]
    },
    {
     "data": {
      "text/html": [
       "<div>\n",
       "<style scoped>\n",
       "    .dataframe tbody tr th:only-of-type {\n",
       "        vertical-align: middle;\n",
       "    }\n",
       "\n",
       "    .dataframe tbody tr th {\n",
       "        vertical-align: top;\n",
       "    }\n",
       "\n",
       "    .dataframe thead th {\n",
       "        text-align: right;\n",
       "    }\n",
       "</style>\n",
       "<table border=\"1\" class=\"dataframe\">\n",
       "  <thead>\n",
       "    <tr style=\"text-align: right;\">\n",
       "      <th></th>\n",
       "      <th>UID</th>\n",
       "      <th>source</th>\n",
       "      <th>iso</th>\n",
       "      <th>country</th>\n",
       "      <th>region</th>\n",
       "      <th>subregion</th>\n",
       "      <th>name</th>\n",
       "      <th>geometry</th>\n",
       "      <th>giga_id_school</th>\n",
       "    </tr>\n",
       "  </thead>\n",
       "  <tbody>\n",
       "    <tr>\n",
       "      <th>36919</th>\n",
       "      <td>OSM-MOZ-NON_SCHOOL-00000975</td>\n",
       "      <td>OSM</td>\n",
       "      <td>MOZ</td>\n",
       "      <td>Mozambique</td>\n",
       "      <td>Africa</td>\n",
       "      <td>Sub-Saharan Africa</td>\n",
       "      <td>Moza Bank</td>\n",
       "      <td>POINT (36.53721 -14.80087)</td>\n",
       "      <td>975</td>\n",
       "    </tr>\n",
       "    <tr>\n",
       "      <th>15816</th>\n",
       "      <td>OSM-GHA-NON_SCHOOL-00005978</td>\n",
       "      <td>OSM</td>\n",
       "      <td>GHA</td>\n",
       "      <td>Ghana</td>\n",
       "      <td>Africa</td>\n",
       "      <td>Sub-Saharan Africa</td>\n",
       "      <td>None</td>\n",
       "      <td>POINT (-0.09012 10.30013)</td>\n",
       "      <td>None</td>\n",
       "    </tr>\n",
       "    <tr>\n",
       "      <th>2574</th>\n",
       "      <td>OSM-BEN-NON_SCHOOL-00002574</td>\n",
       "      <td>OSM</td>\n",
       "      <td>BEN</td>\n",
       "      <td>Benin</td>\n",
       "      <td>Africa</td>\n",
       "      <td>Sub-Saharan Africa</td>\n",
       "      <td>Chez Clarisse</td>\n",
       "      <td>POINT (2.41684 6.35449)</td>\n",
       "      <td>2574</td>\n",
       "    </tr>\n",
       "  </tbody>\n",
       "</table>\n",
       "</div>"
      ],
      "text/plain": [
       "                               UID source  iso     country  region  \\\n",
       "36919  OSM-MOZ-NON_SCHOOL-00000975    OSM  MOZ  Mozambique  Africa   \n",
       "15816  OSM-GHA-NON_SCHOOL-00005978    OSM  GHA       Ghana  Africa   \n",
       "2574   OSM-BEN-NON_SCHOOL-00002574    OSM  BEN       Benin  Africa   \n",
       "\n",
       "                subregion           name                    geometry  \\\n",
       "36919  Sub-Saharan Africa      Moza Bank  POINT (36.53721 -14.80087)   \n",
       "15816  Sub-Saharan Africa           None   POINT (-0.09012 10.30013)   \n",
       "2574   Sub-Saharan Africa  Chez Clarisse     POINT (2.41684 6.35449)   \n",
       "\n",
       "      giga_id_school  \n",
       "36919            975  \n",
       "15816           None  \n",
       "2574            2574  "
      ]
     },
     "execution_count": 11,
     "metadata": {},
     "output_type": "execute_result"
    }
   ],
   "source": [
    "osm_nonschools = download_utils.download_osm(config, category=\"non_school\")\n",
    "osm_nonschools.sample(3)"
   ]
  },
  {
   "cell_type": "markdown",
   "id": "ee5e52a4-4ba1-418b-aaa9-0111670bf516",
   "metadata": {},
   "source": [
    "## Download Building Footprints"
   ]
  },
  {
   "cell_type": "code",
   "execution_count": 12,
   "id": "387e5082-d066-47d3-8bb5-979ea5f72b3d",
   "metadata": {},
   "outputs": [
    {
     "name": "stderr",
     "output_type": "stream",
     "text": [
      "Processing ZWE: 100%|████████████████████| 11/11 [00:00<00:00, 815.81it/s]                                                                                                  \n"
     ]
    }
   ],
   "source": [
    "download_utils.download_buildings(config, source=\"ms\", verbose=True)"
   ]
  },
  {
   "cell_type": "code",
   "execution_count": 13,
   "id": "f90ceeb1-fa74-41d4-9ce3-7f40a26ce577",
   "metadata": {},
   "outputs": [
    {
     "name": "stderr",
     "output_type": "stream",
     "text": [
      "Processing ZWE: 100%|████████████████████| 11/11 [00:00<00:00, 925.49it/s]                                                                                                  \n"
     ]
    }
   ],
   "source": [
    "download_utils.download_buildings(config, source=\"google\", verbose=True)"
   ]
  },
  {
   "cell_type": "markdown",
   "id": "42c1634b-b8ac-4293-a3b3-01910c1b5f92",
   "metadata": {},
   "source": [
    "## Download Global Human Settlements Layer"
   ]
  },
  {
   "cell_type": "code",
   "execution_count": 11,
   "id": "325ff415-fe12-40e3-abfa-17e3e161db81",
   "metadata": {},
   "outputs": [],
   "source": [
    "download_utils.download_ghsl(config, type=\"built_c\")"
   ]
  },
  {
   "cell_type": "code",
   "execution_count": 12,
   "id": "788993b4-d620-459b-a453-4e51753c38a8",
   "metadata": {},
   "outputs": [],
   "source": [
    "download_utils.download_ghsl(config, type=\"smod\")"
   ]
  }
 ],
 "metadata": {
  "kernelspec": {
   "display_name": "giga2",
   "language": "python",
   "name": "giga2"
  },
  "language_info": {
   "codemirror_mode": {
    "name": "ipython",
    "version": 3
   },
   "file_extension": ".py",
   "mimetype": "text/x-python",
   "name": "python",
   "nbconvert_exporter": "python",
   "pygments_lexer": "ipython3",
   "version": "3.10.13"
  }
 },
 "nbformat": 4,
 "nbformat_minor": 5
}
