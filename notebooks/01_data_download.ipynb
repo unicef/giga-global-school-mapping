{
 "cells": [
  {
   "cell_type": "markdown",
   "id": "4b5894ba-126a-4eeb-8578-db256ba22177",
   "metadata": {},
   "source": [
    "# Data Download\n",
    "\n",
    "This notebook demonstrates how to download data across UNICEF, Overture Maps, and OpenStreetMap (OSM). \n",
    "\n",
    "Alternatively, you can also run `python src/data_download.py`: \n",
    "\n",
    "```s\n",
    "usage: data_download.py [-h] [--config CONFIG] [--profile PROFILE]\n",
    "\n",
    "Data Download\n",
    "options:\n",
    "  -h, --help         show this help message and exit\n",
    "  --config CONFIG    Path to the configuration file\n",
    "  --profile PROFILE  Path to the profile filele file\n",
    "```"
   ]
  },
  {
   "cell_type": "markdown",
   "id": "f8cf4143-2526-44f2-980d-27a390191008",
   "metadata": {},
   "source": [
    "## Imports and Setup"
   ]
  },
  {
   "cell_type": "code",
   "execution_count": 1,
   "id": "d2159d4d-fa6a-4f66-85b6-e3787fabd541",
   "metadata": {
    "tags": []
   },
   "outputs": [],
   "source": [
    "import pandas as pd\n",
    "import geopandas as gpd\n",
    "\n",
    "import os \n",
    "os.chdir('/home/itingzon.unicef/giga')\n",
    "from utils import download_utils\n",
    "from utils import config_utils\n",
    "\n",
    "import warnings\n",
    "warnings.filterwarnings('ignore')\n",
    "warnings.simplefilter('ignore')\n",
    "\n",
    "%load_ext autoreload\n",
    "%autoreload 2"
   ]
  },
  {
   "cell_type": "markdown",
   "id": "de83468e-d5da-48ae-a5f0-79a79dc83b49",
   "metadata": {},
   "source": [
    "## Data Configurations"
   ]
  },
  {
   "cell_type": "code",
   "execution_count": 2,
   "id": "a4a724d8-57da-4c7b-b964-60ae1f7e7eca",
   "metadata": {},
   "outputs": [],
   "source": [
    "profile_filename = \"configs/profile.share\"\n",
    "config_filename = \"configs/data_configs/data_config_ISO_OC.yaml\"\n",
    "profile_file = os.path.join(os.getcwd(), profile_filename)\n",
    "config_file = os.path.join(os.getcwd(), config_filename)\n",
    "config = config_utils.load_config(config_file)"
   ]
  },
  {
   "cell_type": "markdown",
   "id": "f2be6376-fc55-48bc-a3b6-5979a87014c8",
   "metadata": {},
   "source": [
    "## Download UNICEF"
   ]
  },
  {
   "cell_type": "code",
   "execution_count": 4,
   "id": "cb559f34-dcef-40d4-a45f-ba5a721d6926",
   "metadata": {},
   "outputs": [
    {
     "name": "stderr",
     "output_type": "stream",
     "text": [
      "Processing PNG: 100%|████████████████████| 1/1 [00:02<00:00,  2.13s/it]                                                 \n"
     ]
    },
    {
     "data": {
      "text/html": [
       "<div>\n",
       "<style scoped>\n",
       "    .dataframe tbody tr th:only-of-type {\n",
       "        vertical-align: middle;\n",
       "    }\n",
       "\n",
       "    .dataframe tbody tr th {\n",
       "        vertical-align: top;\n",
       "    }\n",
       "\n",
       "    .dataframe thead th {\n",
       "        text-align: right;\n",
       "    }\n",
       "</style>\n",
       "<table border=\"1\" class=\"dataframe\">\n",
       "  <thead>\n",
       "    <tr style=\"text-align: right;\">\n",
       "      <th></th>\n",
       "      <th>UID</th>\n",
       "      <th>source</th>\n",
       "      <th>iso</th>\n",
       "      <th>country</th>\n",
       "      <th>region</th>\n",
       "      <th>subregion</th>\n",
       "      <th>name</th>\n",
       "      <th>giga_id_school</th>\n",
       "      <th>geometry</th>\n",
       "    </tr>\n",
       "  </thead>\n",
       "  <tbody>\n",
       "    <tr>\n",
       "      <th>1792</th>\n",
       "      <td>UNICEF-PNG-SCHOOL-00001792</td>\n",
       "      <td>UNICEF</td>\n",
       "      <td>PNG</td>\n",
       "      <td>Papua New Guinea</td>\n",
       "      <td>Oceania</td>\n",
       "      <td>Melanesia</td>\n",
       "      <td>None</td>\n",
       "      <td>1792</td>\n",
       "      <td>POINT (148.74916 -5.85666)</td>\n",
       "    </tr>\n",
       "    <tr>\n",
       "      <th>577</th>\n",
       "      <td>UNICEF-PNG-SCHOOL-00000577</td>\n",
       "      <td>UNICEF</td>\n",
       "      <td>PNG</td>\n",
       "      <td>Papua New Guinea</td>\n",
       "      <td>Oceania</td>\n",
       "      <td>Melanesia</td>\n",
       "      <td>None</td>\n",
       "      <td>577</td>\n",
       "      <td>POINT (143.50696 -5.84345)</td>\n",
       "    </tr>\n",
       "    <tr>\n",
       "      <th>2221</th>\n",
       "      <td>UNICEF-PNG-SCHOOL-00002221</td>\n",
       "      <td>UNICEF</td>\n",
       "      <td>PNG</td>\n",
       "      <td>Papua New Guinea</td>\n",
       "      <td>Oceania</td>\n",
       "      <td>Melanesia</td>\n",
       "      <td>None</td>\n",
       "      <td>2221</td>\n",
       "      <td>POINT (147.07610 -5.96105)</td>\n",
       "    </tr>\n",
       "  </tbody>\n",
       "</table>\n",
       "</div>"
      ],
      "text/plain": [
       "                             UID  source  iso           country   region  \\\n",
       "1792  UNICEF-PNG-SCHOOL-00001792  UNICEF  PNG  Papua New Guinea  Oceania   \n",
       "577   UNICEF-PNG-SCHOOL-00000577  UNICEF  PNG  Papua New Guinea  Oceania   \n",
       "2221  UNICEF-PNG-SCHOOL-00002221  UNICEF  PNG  Papua New Guinea  Oceania   \n",
       "\n",
       "      subregion  name  giga_id_school                    geometry  \n",
       "1792  Melanesia  None            1792  POINT (148.74916 -5.85666)  \n",
       "577   Melanesia  None             577  POINT (143.50696 -5.84345)  \n",
       "2221  Melanesia  None            2221  POINT (147.07610 -5.96105)  "
      ]
     },
     "execution_count": 4,
     "metadata": {},
     "output_type": "execute_result"
    }
   ],
   "source": [
    "unicef = download_utils.download_unicef(config, profile_file)\n",
    "unicef.sample(3)"
   ]
  },
  {
   "cell_type": "markdown",
   "id": "67680692-4ca8-46ae-89ff-5ed340fcd6f2",
   "metadata": {},
   "source": [
    "## Download Overture Maps Data"
   ]
  },
  {
   "cell_type": "code",
   "execution_count": 6,
   "id": "cd46674d-6d88-4642-9a8d-fc2533e56eb9",
   "metadata": {},
   "outputs": [
    {
     "name": "stderr",
     "output_type": "stream",
     "text": [
      "Processing PNG:   0%|                    | 0/1 [00:00<?, ?it/s]                                                         "
     ]
    },
    {
     "data": {
      "application/vnd.jupyter.widget-view+json": {
       "model_id": "dd9f0bc13a3349c88790b9a1702aed3c",
       "version_major": 2,
       "version_minor": 0
      },
      "text/plain": [
       "FloatProgress(value=0.0, layout=Layout(width='auto'), style=ProgressStyle(bar_color='black'))"
      ]
     },
     "metadata": {},
     "output_type": "display_data"
    },
    {
     "name": "stderr",
     "output_type": "stream",
     "text": [
      "Processing PNG: 100%|████████████████████| 1/1 [24:48<00:00, 1488.05s/it]                                               \n"
     ]
    },
    {
     "data": {
      "text/html": [
       "<div>\n",
       "<style scoped>\n",
       "    .dataframe tbody tr th:only-of-type {\n",
       "        vertical-align: middle;\n",
       "    }\n",
       "\n",
       "    .dataframe tbody tr th {\n",
       "        vertical-align: top;\n",
       "    }\n",
       "\n",
       "    .dataframe thead th {\n",
       "        text-align: right;\n",
       "    }\n",
       "</style>\n",
       "<table border=\"1\" class=\"dataframe\">\n",
       "  <thead>\n",
       "    <tr style=\"text-align: right;\">\n",
       "      <th></th>\n",
       "      <th>UID</th>\n",
       "      <th>source</th>\n",
       "      <th>iso</th>\n",
       "      <th>country</th>\n",
       "      <th>region</th>\n",
       "      <th>subregion</th>\n",
       "      <th>name</th>\n",
       "      <th>giga_id_school</th>\n",
       "      <th>geometry</th>\n",
       "    </tr>\n",
       "  </thead>\n",
       "  <tbody>\n",
       "    <tr>\n",
       "      <th>0</th>\n",
       "      <td>OVERTURE-PNG-SCHOOL-00000000</td>\n",
       "      <td>OVERTURE</td>\n",
       "      <td>PNG</td>\n",
       "      <td>Papua New Guinea</td>\n",
       "      <td>Oceania</td>\n",
       "      <td>Melanesia</td>\n",
       "      <td>St. Gregory Koromira Technical School</td>\n",
       "      <td>0</td>\n",
       "      <td>POINT (155.56010 -6.22777)</td>\n",
       "    </tr>\n",
       "    <tr>\n",
       "      <th>3</th>\n",
       "      <td>OVERTURE-PNG-SCHOOL-00000004</td>\n",
       "      <td>OVERTURE</td>\n",
       "      <td>PNG</td>\n",
       "      <td>Papua New Guinea</td>\n",
       "      <td>Oceania</td>\n",
       "      <td>Melanesia</td>\n",
       "      <td>Buin Secondary School</td>\n",
       "      <td>3</td>\n",
       "      <td>POINT (155.68504 -6.74661)</td>\n",
       "    </tr>\n",
       "    <tr>\n",
       "      <th>2</th>\n",
       "      <td>OVERTURE-PNG-SCHOOL-00000003</td>\n",
       "      <td>OVERTURE</td>\n",
       "      <td>PNG</td>\n",
       "      <td>Papua New Guinea</td>\n",
       "      <td>Oceania</td>\n",
       "      <td>Melanesia</td>\n",
       "      <td>Hurai Primary School</td>\n",
       "      <td>2</td>\n",
       "      <td>POINT (155.47295 -6.71601)</td>\n",
       "    </tr>\n",
       "  </tbody>\n",
       "</table>\n",
       "</div>"
      ],
      "text/plain": [
       "                            UID    source  iso           country   region  \\\n",
       "0  OVERTURE-PNG-SCHOOL-00000000  OVERTURE  PNG  Papua New Guinea  Oceania   \n",
       "3  OVERTURE-PNG-SCHOOL-00000004  OVERTURE  PNG  Papua New Guinea  Oceania   \n",
       "2  OVERTURE-PNG-SCHOOL-00000003  OVERTURE  PNG  Papua New Guinea  Oceania   \n",
       "\n",
       "   subregion                                   name  giga_id_school  \\\n",
       "0  Melanesia  St. Gregory Koromira Technical School               0   \n",
       "3  Melanesia                  Buin Secondary School               3   \n",
       "2  Melanesia                   Hurai Primary School               2   \n",
       "\n",
       "                     geometry  \n",
       "0  POINT (155.56010 -6.22777)  \n",
       "3  POINT (155.68504 -6.74661)  \n",
       "2  POINT (155.47295 -6.71601)  "
      ]
     },
     "execution_count": 6,
     "metadata": {},
     "output_type": "execute_result"
    }
   ],
   "source": [
    "overture_schools = download_utils.download_overture(config, category=\"school\")\n",
    "overture_schools.sample(3)"
   ]
  },
  {
   "cell_type": "code",
   "execution_count": 7,
   "id": "189c8518-d896-4472-88a5-971422aa7f3c",
   "metadata": {
    "tags": []
   },
   "outputs": [
    {
     "name": "stderr",
     "output_type": "stream",
     "text": [
      "Processing PNG:   0%|                    | 0/1 [00:00<?, ?it/s]                                                         "
     ]
    },
    {
     "data": {
      "application/vnd.jupyter.widget-view+json": {
       "model_id": "54d75ca787d64c6a83d096165e85fe90",
       "version_major": 2,
       "version_minor": 0
      },
      "text/plain": [
       "FloatProgress(value=0.0, layout=Layout(width='auto'), style=ProgressStyle(bar_color='black'))"
      ]
     },
     "metadata": {},
     "output_type": "display_data"
    },
    {
     "name": "stderr",
     "output_type": "stream",
     "text": [
      "Processing PNG: 100%|████████████████████| 1/1 [20:55<00:00, 1255.55s/it]                                               \n"
     ]
    },
    {
     "data": {
      "text/html": [
       "<div>\n",
       "<style scoped>\n",
       "    .dataframe tbody tr th:only-of-type {\n",
       "        vertical-align: middle;\n",
       "    }\n",
       "\n",
       "    .dataframe tbody tr th {\n",
       "        vertical-align: top;\n",
       "    }\n",
       "\n",
       "    .dataframe thead th {\n",
       "        text-align: right;\n",
       "    }\n",
       "</style>\n",
       "<table border=\"1\" class=\"dataframe\">\n",
       "  <thead>\n",
       "    <tr style=\"text-align: right;\">\n",
       "      <th></th>\n",
       "      <th>UID</th>\n",
       "      <th>source</th>\n",
       "      <th>iso</th>\n",
       "      <th>country</th>\n",
       "      <th>region</th>\n",
       "      <th>subregion</th>\n",
       "      <th>name</th>\n",
       "      <th>giga_id_school</th>\n",
       "      <th>geometry</th>\n",
       "    </tr>\n",
       "  </thead>\n",
       "  <tbody>\n",
       "    <tr>\n",
       "      <th>1</th>\n",
       "      <td>OVERTURE-PNG-NON_SCHOOL-00000001</td>\n",
       "      <td>OVERTURE</td>\n",
       "      <td>PNG</td>\n",
       "      <td>Papua New Guinea</td>\n",
       "      <td>Oceania</td>\n",
       "      <td>Melanesia</td>\n",
       "      <td>ARAWA TOWN Foursquare Church</td>\n",
       "      <td>1</td>\n",
       "      <td>POINT (155.60392 -6.21921)</td>\n",
       "    </tr>\n",
       "    <tr>\n",
       "      <th>3</th>\n",
       "      <td>OVERTURE-PNG-NON_SCHOOL-00000007</td>\n",
       "      <td>OVERTURE</td>\n",
       "      <td>PNG</td>\n",
       "      <td>Papua New Guinea</td>\n",
       "      <td>Oceania</td>\n",
       "      <td>Melanesia</td>\n",
       "      <td>Lighthouse Church - CFM - Arawa, Bougainville</td>\n",
       "      <td>3</td>\n",
       "      <td>POINT (155.57099 -6.22678)</td>\n",
       "    </tr>\n",
       "    <tr>\n",
       "      <th>2</th>\n",
       "      <td>OVERTURE-PNG-NON_SCHOOL-00000006</td>\n",
       "      <td>OVERTURE</td>\n",
       "      <td>PNG</td>\n",
       "      <td>Papua New Guinea</td>\n",
       "      <td>Oceania</td>\n",
       "      <td>Melanesia</td>\n",
       "      <td>Bougainville Tinputz Station</td>\n",
       "      <td>2</td>\n",
       "      <td>POINT (155.00802 -5.55602)</td>\n",
       "    </tr>\n",
       "  </tbody>\n",
       "</table>\n",
       "</div>"
      ],
      "text/plain": [
       "                                UID    source  iso           country   region  \\\n",
       "1  OVERTURE-PNG-NON_SCHOOL-00000001  OVERTURE  PNG  Papua New Guinea  Oceania   \n",
       "3  OVERTURE-PNG-NON_SCHOOL-00000007  OVERTURE  PNG  Papua New Guinea  Oceania   \n",
       "2  OVERTURE-PNG-NON_SCHOOL-00000006  OVERTURE  PNG  Papua New Guinea  Oceania   \n",
       "\n",
       "   subregion                                           name  giga_id_school  \\\n",
       "1  Melanesia                   ARAWA TOWN Foursquare Church               1   \n",
       "3  Melanesia  Lighthouse Church - CFM - Arawa, Bougainville               3   \n",
       "2  Melanesia                   Bougainville Tinputz Station               2   \n",
       "\n",
       "                     geometry  \n",
       "1  POINT (155.60392 -6.21921)  \n",
       "3  POINT (155.57099 -6.22678)  \n",
       "2  POINT (155.00802 -5.55602)  "
      ]
     },
     "execution_count": 7,
     "metadata": {},
     "output_type": "execute_result"
    }
   ],
   "source": [
    "overture_nonschools = download_utils.download_overture(\n",
    "    config, category=\"non_school\", exclude=\"school\"\n",
    ")\n",
    "overture_nonschools.sample(3)"
   ]
  },
  {
   "cell_type": "markdown",
   "id": "90aa0884-c872-413f-b014-3b246dd6b321",
   "metadata": {},
   "source": [
    "## Download OpenStreetMap (OSM) Data"
   ]
  },
  {
   "cell_type": "code",
   "execution_count": 8,
   "id": "b999ce0c-567c-4c8b-91f1-32a44aa7752f",
   "metadata": {
    "tags": []
   },
   "outputs": [
    {
     "name": "stderr",
     "output_type": "stream",
     "text": [
      "Processing PNG: 100%|████████████████████| 1/1 [00:00<00:00,  7.86it/s]                                                 \n"
     ]
    },
    {
     "data": {
      "text/html": [
       "<div>\n",
       "<style scoped>\n",
       "    .dataframe tbody tr th:only-of-type {\n",
       "        vertical-align: middle;\n",
       "    }\n",
       "\n",
       "    .dataframe tbody tr th {\n",
       "        vertical-align: top;\n",
       "    }\n",
       "\n",
       "    .dataframe thead th {\n",
       "        text-align: right;\n",
       "    }\n",
       "</style>\n",
       "<table border=\"1\" class=\"dataframe\">\n",
       "  <thead>\n",
       "    <tr style=\"text-align: right;\">\n",
       "      <th></th>\n",
       "      <th>UID</th>\n",
       "      <th>source</th>\n",
       "      <th>iso</th>\n",
       "      <th>country</th>\n",
       "      <th>region</th>\n",
       "      <th>subregion</th>\n",
       "      <th>name</th>\n",
       "      <th>geometry</th>\n",
       "      <th>giga_id_school</th>\n",
       "    </tr>\n",
       "  </thead>\n",
       "  <tbody>\n",
       "    <tr>\n",
       "      <th>80</th>\n",
       "      <td>OSM-PNG-SCHOOL-00000080</td>\n",
       "      <td>OSM</td>\n",
       "      <td>PNG</td>\n",
       "      <td>Papua New Guinea</td>\n",
       "      <td>Oceania</td>\n",
       "      <td>Melanesia</td>\n",
       "      <td>Kopi</td>\n",
       "      <td>POINT (144.18119 -7.30830)</td>\n",
       "      <td>80</td>\n",
       "    </tr>\n",
       "    <tr>\n",
       "      <th>53</th>\n",
       "      <td>OSM-PNG-SCHOOL-00000053</td>\n",
       "      <td>OSM</td>\n",
       "      <td>PNG</td>\n",
       "      <td>Papua New Guinea</td>\n",
       "      <td>Oceania</td>\n",
       "      <td>Melanesia</td>\n",
       "      <td>Kairimai Elementary</td>\n",
       "      <td>POINT (144.98395 -7.57595)</td>\n",
       "      <td>53</td>\n",
       "    </tr>\n",
       "    <tr>\n",
       "      <th>123</th>\n",
       "      <td>OSM-PNG-SCHOOL-00000123</td>\n",
       "      <td>OSM</td>\n",
       "      <td>PNG</td>\n",
       "      <td>Papua New Guinea</td>\n",
       "      <td>Oceania</td>\n",
       "      <td>Melanesia</td>\n",
       "      <td>Diharoha Primary School</td>\n",
       "      <td>POINT (147.18462 -9.49415)</td>\n",
       "      <td>123</td>\n",
       "    </tr>\n",
       "  </tbody>\n",
       "</table>\n",
       "</div>"
      ],
      "text/plain": [
       "                         UID source  iso           country   region  \\\n",
       "80   OSM-PNG-SCHOOL-00000080    OSM  PNG  Papua New Guinea  Oceania   \n",
       "53   OSM-PNG-SCHOOL-00000053    OSM  PNG  Papua New Guinea  Oceania   \n",
       "123  OSM-PNG-SCHOOL-00000123    OSM  PNG  Papua New Guinea  Oceania   \n",
       "\n",
       "     subregion                     name                    geometry  \\\n",
       "80   Melanesia                     Kopi  POINT (144.18119 -7.30830)   \n",
       "53   Melanesia      Kairimai Elementary  POINT (144.98395 -7.57595)   \n",
       "123  Melanesia  Diharoha Primary School  POINT (147.18462 -9.49415)   \n",
       "\n",
       "     giga_id_school  \n",
       "80               80  \n",
       "53               53  \n",
       "123             123  "
      ]
     },
     "execution_count": 8,
     "metadata": {},
     "output_type": "execute_result"
    }
   ],
   "source": [
    "osm_schools = download_utils.download_osm(config, category=\"school\")\n",
    "osm_schools.sample(3)"
   ]
  },
  {
   "cell_type": "code",
   "execution_count": 9,
   "id": "9120693a-ec23-4347-bacc-93178b4af087",
   "metadata": {
    "tags": []
   },
   "outputs": [
    {
     "name": "stderr",
     "output_type": "stream",
     "text": [
      "Processing PNG:   0%|                    | 0/1 [00:00<?, ?it/s]                                                         WARNING:fiona._env:Several features with id = 274258414 have been found. Altering it to be unique. This warning will not be emitted anymore for this layer\n",
      "WARNING:fiona._env:Several features with id = 274258414 have been found. Altering it to be unique. This warning will not be emitted anymore for this layer\n",
      "Processing PNG: 100%|████████████████████| 1/1 [00:06<00:00,  6.92s/it]                                                 \n"
     ]
    },
    {
     "data": {
      "text/html": [
       "<div>\n",
       "<style scoped>\n",
       "    .dataframe tbody tr th:only-of-type {\n",
       "        vertical-align: middle;\n",
       "    }\n",
       "\n",
       "    .dataframe tbody tr th {\n",
       "        vertical-align: top;\n",
       "    }\n",
       "\n",
       "    .dataframe thead th {\n",
       "        text-align: right;\n",
       "    }\n",
       "</style>\n",
       "<table border=\"1\" class=\"dataframe\">\n",
       "  <thead>\n",
       "    <tr style=\"text-align: right;\">\n",
       "      <th></th>\n",
       "      <th>UID</th>\n",
       "      <th>source</th>\n",
       "      <th>iso</th>\n",
       "      <th>country</th>\n",
       "      <th>region</th>\n",
       "      <th>subregion</th>\n",
       "      <th>name</th>\n",
       "      <th>geometry</th>\n",
       "      <th>giga_id_school</th>\n",
       "    </tr>\n",
       "  </thead>\n",
       "  <tbody>\n",
       "    <tr>\n",
       "      <th>1188</th>\n",
       "      <td>OSM-PNG-NON_SCHOOL-00001188</td>\n",
       "      <td>OSM</td>\n",
       "      <td>PNG</td>\n",
       "      <td>Papua New Guinea</td>\n",
       "      <td>Oceania</td>\n",
       "      <td>Melanesia</td>\n",
       "      <td>Kaugere Market</td>\n",
       "      <td>POINT (147.18241 -9.48432)</td>\n",
       "      <td>1188</td>\n",
       "    </tr>\n",
       "    <tr>\n",
       "      <th>312</th>\n",
       "      <td>OSM-PNG-NON_SCHOOL-00000312</td>\n",
       "      <td>OSM</td>\n",
       "      <td>PNG</td>\n",
       "      <td>Papua New Guinea</td>\n",
       "      <td>Oceania</td>\n",
       "      <td>Melanesia</td>\n",
       "      <td>CFC Church</td>\n",
       "      <td>POINT (143.20439 -9.07070)</td>\n",
       "      <td>312</td>\n",
       "    </tr>\n",
       "    <tr>\n",
       "      <th>1158</th>\n",
       "      <td>OSM-PNG-NON_SCHOOL-00001158</td>\n",
       "      <td>OSM</td>\n",
       "      <td>PNG</td>\n",
       "      <td>Papua New Guinea</td>\n",
       "      <td>Oceania</td>\n",
       "      <td>Melanesia</td>\n",
       "      <td>City Pharmacy</td>\n",
       "      <td>POINT (150.79347 -2.57473)</td>\n",
       "      <td>1158</td>\n",
       "    </tr>\n",
       "  </tbody>\n",
       "</table>\n",
       "</div>"
      ],
      "text/plain": [
       "                              UID source  iso           country   region  \\\n",
       "1188  OSM-PNG-NON_SCHOOL-00001188    OSM  PNG  Papua New Guinea  Oceania   \n",
       "312   OSM-PNG-NON_SCHOOL-00000312    OSM  PNG  Papua New Guinea  Oceania   \n",
       "1158  OSM-PNG-NON_SCHOOL-00001158    OSM  PNG  Papua New Guinea  Oceania   \n",
       "\n",
       "      subregion            name                    geometry  giga_id_school  \n",
       "1188  Melanesia  Kaugere Market  POINT (147.18241 -9.48432)            1188  \n",
       "312   Melanesia      CFC Church  POINT (143.20439 -9.07070)             312  \n",
       "1158  Melanesia   City Pharmacy  POINT (150.79347 -2.57473)            1158  "
      ]
     },
     "execution_count": 9,
     "metadata": {},
     "output_type": "execute_result"
    }
   ],
   "source": [
    "osm_nonschools = download_utils.download_osm(config, category=\"non_school\")\n",
    "osm_nonschools.sample(3)"
   ]
  },
  {
   "cell_type": "markdown",
   "id": "ee5e52a4-4ba1-418b-aaa9-0111670bf516",
   "metadata": {},
   "source": [
    "## Download Building Footprints"
   ]
  },
  {
   "cell_type": "code",
   "execution_count": 3,
   "id": "387e5082-d066-47d3-8bb5-979ea5f72b3d",
   "metadata": {},
   "outputs": [
    {
     "name": "stderr",
     "output_type": "stream",
     "text": [
      "Processing LCA: 100%|████████████████████| 1/1 [00:00<00:00, 324.26it/s]                                                                                                    \n"
     ]
    }
   ],
   "source": [
    "download_utils.download_buildings(config, source=\"ms\", verbose=True)"
   ]
  },
  {
   "cell_type": "code",
   "execution_count": 13,
   "id": "f90ceeb1-fa74-41d4-9ce3-7f40a26ce577",
   "metadata": {},
   "outputs": [
    {
     "name": "stderr",
     "output_type": "stream",
     "text": [
      "Processing ZWE: 100%|████████████████████| 11/11 [00:00<00:00, 925.49it/s]                                                                                                  \n"
     ]
    }
   ],
   "source": [
    "download_utils.download_buildings(config, source=\"google\", verbose=True)"
   ]
  },
  {
   "cell_type": "markdown",
   "id": "42c1634b-b8ac-4293-a3b3-01910c1b5f92",
   "metadata": {},
   "source": [
    "## Download Global Human Settlements Layer"
   ]
  },
  {
   "cell_type": "code",
   "execution_count": 11,
   "id": "325ff415-fe12-40e3-abfa-17e3e161db81",
   "metadata": {},
   "outputs": [],
   "source": [
    "download_utils.download_ghsl(config, type=\"built_c\")"
   ]
  },
  {
   "cell_type": "code",
   "execution_count": 12,
   "id": "788993b4-d620-459b-a453-4e51753c38a8",
   "metadata": {},
   "outputs": [],
   "source": [
    "download_utils.download_ghsl(config, type=\"smod\")"
   ]
  }
 ],
 "metadata": {
  "kernelspec": {
   "display_name": "giga2",
   "language": "python",
   "name": "giga2"
  },
  "language_info": {
   "codemirror_mode": {
    "name": "ipython",
    "version": 3
   },
   "file_extension": ".py",
   "mimetype": "text/x-python",
   "name": "python",
   "nbconvert_exporter": "python",
   "pygments_lexer": "ipython3",
   "version": "3.10.13"
  }
 },
 "nbformat": 4,
 "nbformat_minor": 5
}
