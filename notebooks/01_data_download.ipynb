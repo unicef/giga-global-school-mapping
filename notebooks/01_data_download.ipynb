{
 "cells": [
  {
   "cell_type": "markdown",
   "id": "f8cf4143-2526-44f2-980d-27a390191008",
   "metadata": {},
   "source": [
    "## Imports and Setup"
   ]
  },
  {
   "cell_type": "code",
   "execution_count": 1,
   "id": "634532cb-af3f-4083-8472-a09030e5897c",
   "metadata": {
    "tags": []
   },
   "outputs": [],
   "source": [
    "import os\n",
    "import pandas as pd\n",
    "import geopandas as gpd\n",
    "\n",
    "import sys\n",
    "sys.path.insert(0, \"../utils/\")\n",
    "import download_utils\n",
    "import config_utils\n",
    "\n",
    "import warnings\n",
    "warnings.filterwarnings('ignore')\n",
    "warnings.simplefilter('ignore')\n",
    "\n",
    "%load_ext autoreload\n",
    "%autoreload 2"
   ]
  },
  {
   "cell_type": "markdown",
   "id": "de83468e-d5da-48ae-a5f0-79a79dc83b49",
   "metadata": {},
   "source": [
    "## Data Configurations"
   ]
  },
  {
   "cell_type": "code",
   "execution_count": 2,
   "id": "a4a724d8-57da-4c7b-b964-60ae1f7e7eca",
   "metadata": {},
   "outputs": [],
   "source": [
    "cwd = os.path.dirname(os.getcwd())\n",
    "filename=\"configs/AF_config.yaml\"\n",
    "\n",
    "config_file = os.path.join(cwd, filename)\n",
    "config = config_utils.load_config(config_file)"
   ]
  },
  {
   "cell_type": "markdown",
   "id": "46e00581-63db-42b5-b765-ca3a761ad6f7",
   "metadata": {},
   "source": [
    "## Load UNICEF Data "
   ]
  },
  {
   "cell_type": "code",
   "execution_count": 4,
   "id": "d54d4593-32d0-424e-88be-b9efab25d87b",
   "metadata": {
    "tags": []
   },
   "outputs": [
    {
     "name": "stderr",
     "output_type": "stream",
     "text": [
      "INFO:root:Number of CSV files: 43\n",
      "Processing SLV: 100%|████████████████████| 43/43 [00:09<00:00,  4.52it/s]                                               \n"
     ]
    },
    {
     "data": {
      "text/html": [
       "<div>\n",
       "<style scoped>\n",
       "    .dataframe tbody tr th:only-of-type {\n",
       "        vertical-align: middle;\n",
       "    }\n",
       "\n",
       "    .dataframe tbody tr th {\n",
       "        vertical-align: top;\n",
       "    }\n",
       "\n",
       "    .dataframe thead th {\n",
       "        text-align: right;\n",
       "    }\n",
       "</style>\n",
       "<table border=\"1\" class=\"dataframe\">\n",
       "  <thead>\n",
       "    <tr style=\"text-align: right;\">\n",
       "      <th></th>\n",
       "      <th>UID</th>\n",
       "      <th>source</th>\n",
       "      <th>iso</th>\n",
       "      <th>country</th>\n",
       "      <th>region</th>\n",
       "      <th>subregion</th>\n",
       "      <th>name</th>\n",
       "      <th>geometry</th>\n",
       "      <th>giga_id_school</th>\n",
       "    </tr>\n",
       "  </thead>\n",
       "  <tbody>\n",
       "    <tr>\n",
       "      <th>156759</th>\n",
       "      <td>UNICEF-UKR-SCHOOL-00006275</td>\n",
       "      <td>UNICEF</td>\n",
       "      <td>UKR</td>\n",
       "      <td>Ukraine</td>\n",
       "      <td>Europe</td>\n",
       "      <td>Eastern Europe</td>\n",
       "      <td>ÐšÐ— \"Ð‘Ñ€Ð¸Ñ‚Ð°Ð²ÑÑŒÐºÐ° Ð¡Ð—Ð¨ Ð†-Ð†Ð† ÑÑ‚.\"</td>\n",
       "      <td>POINT (29.18253 48.17326)</td>\n",
       "      <td>26859acf-cd0a-488b-8b3d-a83f8c239005</td>\n",
       "    </tr>\n",
       "    <tr>\n",
       "      <th>209786</th>\n",
       "      <td>UNICEF-GHA-SCHOOL-00017048</td>\n",
       "      <td>UNICEF</td>\n",
       "      <td>GHA</td>\n",
       "      <td>Ghana</td>\n",
       "      <td>Africa</td>\n",
       "      <td>Sub-Saharan Africa</td>\n",
       "      <td>HIGHER HEIGHTS ACADEMY SCHOOL</td>\n",
       "      <td>POINT (-1.02332 6.49419)</td>\n",
       "      <td>e5050259-3eef-36ad-b7ac-88c4a6838e4a</td>\n",
       "    </tr>\n",
       "    <tr>\n",
       "      <th>310178</th>\n",
       "      <td>UNICEF-BRA-SCHOOL-00023911</td>\n",
       "      <td>UNICEF</td>\n",
       "      <td>BRA</td>\n",
       "      <td>Brazil</td>\n",
       "      <td>Americas</td>\n",
       "      <td>Latin America and the Caribbean</td>\n",
       "      <td>ESCOLA MUNICIPAL SANTA TEREZINHA</td>\n",
       "      <td>POINT (-44.63369 -4.38427)</td>\n",
       "      <td>662f9deb-8ade-3f52-81dd-3b37486cce7d</td>\n",
       "    </tr>\n",
       "  </tbody>\n",
       "</table>\n",
       "</div>"
      ],
      "text/plain": [
       "                               UID  source  iso  country    region  \\\n",
       "156759  UNICEF-UKR-SCHOOL-00006275  UNICEF  UKR  Ukraine    Europe   \n",
       "209786  UNICEF-GHA-SCHOOL-00017048  UNICEF  GHA    Ghana    Africa   \n",
       "310178  UNICEF-BRA-SCHOOL-00023911  UNICEF  BRA   Brazil  Americas   \n",
       "\n",
       "                              subregion  \\\n",
       "156759                   Eastern Europe   \n",
       "209786               Sub-Saharan Africa   \n",
       "310178  Latin America and the Caribbean   \n",
       "\n",
       "                                                    name  \\\n",
       "156759  ÐšÐ— \"Ð‘Ñ€Ð¸Ñ‚Ð°Ð²ÑÑŒÐºÐ° Ð¡Ð—Ð¨ Ð†-Ð†Ð† ÑÑ‚.\"   \n",
       "209786                     HIGHER HEIGHTS ACADEMY SCHOOL   \n",
       "310178                  ESCOLA MUNICIPAL SANTA TEREZINHA   \n",
       "\n",
       "                          geometry                        giga_id_school  \n",
       "156759   POINT (29.18253 48.17326)  26859acf-cd0a-488b-8b3d-a83f8c239005  \n",
       "209786    POINT (-1.02332 6.49419)  e5050259-3eef-36ad-b7ac-88c4a6838e4a  \n",
       "310178  POINT (-44.63369 -4.38427)  662f9deb-8ade-3f52-81dd-3b37486cce7d  "
      ]
     },
     "execution_count": 4,
     "metadata": {},
     "output_type": "execute_result"
    }
   ],
   "source": [
    "unicef = download_utils.load_unicef(config)\n",
    "unicef.sample(3)"
   ]
  },
  {
   "cell_type": "markdown",
   "id": "67680692-4ca8-46ae-89ff-5ed340fcd6f2",
   "metadata": {},
   "source": [
    "## Download Overture Maps Data"
   ]
  },
  {
   "cell_type": "code",
   "execution_count": 5,
   "id": "acfa6b0b-152d-4138-94d0-47308b370f95",
   "metadata": {
    "tags": []
   },
   "outputs": [
    {
     "name": "stderr",
     "output_type": "stream",
     "text": [
      "Processing BRA: 100%|████████████████████| 41/41 [00:46<00:00,  1.14s/it]                                               \n"
     ]
    },
    {
     "data": {
      "text/html": [
       "<div>\n",
       "<style scoped>\n",
       "    .dataframe tbody tr th:only-of-type {\n",
       "        vertical-align: middle;\n",
       "    }\n",
       "\n",
       "    .dataframe tbody tr th {\n",
       "        vertical-align: top;\n",
       "    }\n",
       "\n",
       "    .dataframe thead th {\n",
       "        text-align: right;\n",
       "    }\n",
       "</style>\n",
       "<table border=\"1\" class=\"dataframe\">\n",
       "  <thead>\n",
       "    <tr style=\"text-align: right;\">\n",
       "      <th></th>\n",
       "      <th>UID</th>\n",
       "      <th>source</th>\n",
       "      <th>iso</th>\n",
       "      <th>country</th>\n",
       "      <th>region</th>\n",
       "      <th>subregion</th>\n",
       "      <th>name</th>\n",
       "      <th>geometry</th>\n",
       "      <th>giga_id_school</th>\n",
       "    </tr>\n",
       "  </thead>\n",
       "  <tbody>\n",
       "    <tr>\n",
       "      <th>168115</th>\n",
       "      <td>OVERTURE-BRA-SCHOOL-00049113</td>\n",
       "      <td>OVERTURE</td>\n",
       "      <td>BRA</td>\n",
       "      <td>Brazil</td>\n",
       "      <td>Americas</td>\n",
       "      <td>Latin America and the Caribbean</td>\n",
       "      <td>Conquista Acompanhamento Escolar</td>\n",
       "      <td>POINT (-54.81169 -22.20467)</td>\n",
       "      <td>None</td>\n",
       "    </tr>\n",
       "    <tr>\n",
       "      <th>162376</th>\n",
       "      <td>OVERTURE-BRA-SCHOOL-00043374</td>\n",
       "      <td>OVERTURE</td>\n",
       "      <td>BRA</td>\n",
       "      <td>Brazil</td>\n",
       "      <td>Americas</td>\n",
       "      <td>Latin America and the Caribbean</td>\n",
       "      <td>Edapa Escola de Aviacao Civil, Desenvolviiment...</td>\n",
       "      <td>POINT (-43.18705 -22.50802)</td>\n",
       "      <td>None</td>\n",
       "    </tr>\n",
       "    <tr>\n",
       "      <th>152205</th>\n",
       "      <td>OVERTURE-BRA-SCHOOL-00033203</td>\n",
       "      <td>OVERTURE</td>\n",
       "      <td>BRA</td>\n",
       "      <td>Brazil</td>\n",
       "      <td>Americas</td>\n",
       "      <td>Latin America and the Caribbean</td>\n",
       "      <td>Ma Shi Tong Bei Escola De Kung Fu Brasil</td>\n",
       "      <td>POINT (-42.97400 -22.41878)</td>\n",
       "      <td>None</td>\n",
       "    </tr>\n",
       "  </tbody>\n",
       "</table>\n",
       "</div>"
      ],
      "text/plain": [
       "                                 UID    source  iso country    region  \\\n",
       "168115  OVERTURE-BRA-SCHOOL-00049113  OVERTURE  BRA  Brazil  Americas   \n",
       "162376  OVERTURE-BRA-SCHOOL-00043374  OVERTURE  BRA  Brazil  Americas   \n",
       "152205  OVERTURE-BRA-SCHOOL-00033203  OVERTURE  BRA  Brazil  Americas   \n",
       "\n",
       "                              subregion  \\\n",
       "168115  Latin America and the Caribbean   \n",
       "162376  Latin America and the Caribbean   \n",
       "152205  Latin America and the Caribbean   \n",
       "\n",
       "                                                     name  \\\n",
       "168115                   Conquista Acompanhamento Escolar   \n",
       "162376  Edapa Escola de Aviacao Civil, Desenvolviiment...   \n",
       "152205           Ma Shi Tong Bei Escola De Kung Fu Brasil   \n",
       "\n",
       "                           geometry giga_id_school  \n",
       "168115  POINT (-54.81169 -22.20467)           None  \n",
       "162376  POINT (-43.18705 -22.50802)           None  \n",
       "152205  POINT (-42.97400 -22.41878)           None  "
      ]
     },
     "execution_count": 5,
     "metadata": {},
     "output_type": "execute_result"
    }
   ],
   "source": [
    "overture_schools = download_utils.download_overture(config, category=\"school\")\n",
    "overture_schools.sample(3)"
   ]
  },
  {
   "cell_type": "code",
   "execution_count": 6,
   "id": "189c8518-d896-4472-88a5-971422aa7f3c",
   "metadata": {
    "tags": []
   },
   "outputs": [
    {
     "name": "stderr",
     "output_type": "stream",
     "text": [
      "Processing BRA: 100%|████████████████████| 41/41 [02:36<00:00,  3.82s/it]                                               \n"
     ]
    },
    {
     "data": {
      "text/html": [
       "<div>\n",
       "<style scoped>\n",
       "    .dataframe tbody tr th:only-of-type {\n",
       "        vertical-align: middle;\n",
       "    }\n",
       "\n",
       "    .dataframe tbody tr th {\n",
       "        vertical-align: top;\n",
       "    }\n",
       "\n",
       "    .dataframe thead th {\n",
       "        text-align: right;\n",
       "    }\n",
       "</style>\n",
       "<table border=\"1\" class=\"dataframe\">\n",
       "  <thead>\n",
       "    <tr style=\"text-align: right;\">\n",
       "      <th></th>\n",
       "      <th>UID</th>\n",
       "      <th>source</th>\n",
       "      <th>iso</th>\n",
       "      <th>country</th>\n",
       "      <th>region</th>\n",
       "      <th>subregion</th>\n",
       "      <th>name</th>\n",
       "      <th>geometry</th>\n",
       "      <th>giga_id_school</th>\n",
       "    </tr>\n",
       "  </thead>\n",
       "  <tbody>\n",
       "    <tr>\n",
       "      <th>571192</th>\n",
       "      <td>OVERTURE-BRA-NON_SCHOOL-00301072</td>\n",
       "      <td>OVERTURE</td>\n",
       "      <td>BRA</td>\n",
       "      <td>Brazil</td>\n",
       "      <td>Americas</td>\n",
       "      <td>Latin America and the Caribbean</td>\n",
       "      <td>Laboratorio de Analises Clinicas Calazans</td>\n",
       "      <td>POINT (-43.28302 -22.64142)</td>\n",
       "      <td>None</td>\n",
       "    </tr>\n",
       "    <tr>\n",
       "      <th>565121</th>\n",
       "      <td>OVERTURE-BRA-NON_SCHOOL-00295001</td>\n",
       "      <td>OVERTURE</td>\n",
       "      <td>BRA</td>\n",
       "      <td>Brazil</td>\n",
       "      <td>Americas</td>\n",
       "      <td>Latin America and the Caribbean</td>\n",
       "      <td>Barilli's Beer</td>\n",
       "      <td>POINT (-49.18912 -25.40186)</td>\n",
       "      <td>None</td>\n",
       "    </tr>\n",
       "    <tr>\n",
       "      <th>401804</th>\n",
       "      <td>OVERTURE-BRA-NON_SCHOOL-00131684</td>\n",
       "      <td>OVERTURE</td>\n",
       "      <td>BRA</td>\n",
       "      <td>Brazil</td>\n",
       "      <td>Americas</td>\n",
       "      <td>Latin America and the Caribbean</td>\n",
       "      <td>The Factory BeerPub</td>\n",
       "      <td>POINT (-48.94084 -27.07027)</td>\n",
       "      <td>None</td>\n",
       "    </tr>\n",
       "  </tbody>\n",
       "</table>\n",
       "</div>"
      ],
      "text/plain": [
       "                                     UID    source  iso country    region  \\\n",
       "571192  OVERTURE-BRA-NON_SCHOOL-00301072  OVERTURE  BRA  Brazil  Americas   \n",
       "565121  OVERTURE-BRA-NON_SCHOOL-00295001  OVERTURE  BRA  Brazil  Americas   \n",
       "401804  OVERTURE-BRA-NON_SCHOOL-00131684  OVERTURE  BRA  Brazil  Americas   \n",
       "\n",
       "                              subregion  \\\n",
       "571192  Latin America and the Caribbean   \n",
       "565121  Latin America and the Caribbean   \n",
       "401804  Latin America and the Caribbean   \n",
       "\n",
       "                                             name  \\\n",
       "571192  Laboratorio de Analises Clinicas Calazans   \n",
       "565121                             Barilli's Beer   \n",
       "401804                        The Factory BeerPub   \n",
       "\n",
       "                           geometry giga_id_school  \n",
       "571192  POINT (-43.28302 -22.64142)           None  \n",
       "565121  POINT (-49.18912 -25.40186)           None  \n",
       "401804  POINT (-48.94084 -27.07027)           None  "
      ]
     },
     "execution_count": 6,
     "metadata": {},
     "output_type": "execute_result"
    }
   ],
   "source": [
    "overture_nonschools = download_utils.download_overture(config, category=\"non_school\", exclude=\"school\")\n",
    "overture_nonschools.sample(3)"
   ]
  },
  {
   "cell_type": "markdown",
   "id": "90aa0884-c872-413f-b014-3b246dd6b321",
   "metadata": {},
   "source": [
    "## Download OpenStreetMap (OSM) Data"
   ]
  },
  {
   "cell_type": "code",
   "execution_count": 7,
   "id": "b999ce0c-567c-4c8b-91f1-32a44aa7752f",
   "metadata": {
    "tags": []
   },
   "outputs": [
    {
     "name": "stderr",
     "output_type": "stream",
     "text": [
      "Processing BRA: 100%|████████████████████| 41/41 [00:17<00:00,  2.30it/s]                                               \n"
     ]
    },
    {
     "data": {
      "text/html": [
       "<div>\n",
       "<style scoped>\n",
       "    .dataframe tbody tr th:only-of-type {\n",
       "        vertical-align: middle;\n",
       "    }\n",
       "\n",
       "    .dataframe tbody tr th {\n",
       "        vertical-align: top;\n",
       "    }\n",
       "\n",
       "    .dataframe thead th {\n",
       "        text-align: right;\n",
       "    }\n",
       "</style>\n",
       "<table border=\"1\" class=\"dataframe\">\n",
       "  <thead>\n",
       "    <tr style=\"text-align: right;\">\n",
       "      <th></th>\n",
       "      <th>UID</th>\n",
       "      <th>source</th>\n",
       "      <th>iso</th>\n",
       "      <th>country</th>\n",
       "      <th>region</th>\n",
       "      <th>subregion</th>\n",
       "      <th>name</th>\n",
       "      <th>geometry</th>\n",
       "      <th>giga_id_school</th>\n",
       "    </tr>\n",
       "  </thead>\n",
       "  <tbody>\n",
       "    <tr>\n",
       "      <th>23144</th>\n",
       "      <td>OSM-THA-SCHOOL-00002015</td>\n",
       "      <td>OSM</td>\n",
       "      <td>THA</td>\n",
       "      <td>Thailand</td>\n",
       "      <td>Asia</td>\n",
       "      <td>South-eastern Asia</td>\n",
       "      <td>โรงเรียนวัดเทพชุมนุม</td>\n",
       "      <td>POINT (100.47303 6.95434)</td>\n",
       "      <td>None</td>\n",
       "    </tr>\n",
       "    <tr>\n",
       "      <th>10196</th>\n",
       "      <td>OSM-KAZ-SCHOOL-00000589</td>\n",
       "      <td>OSM</td>\n",
       "      <td>KAZ</td>\n",
       "      <td>Kazakhstan</td>\n",
       "      <td>Asia</td>\n",
       "      <td>Central Asia</td>\n",
       "      <td>школа-интернат №3</td>\n",
       "      <td>POINT (69.41936 53.27359)</td>\n",
       "      <td>None</td>\n",
       "    </tr>\n",
       "    <tr>\n",
       "      <th>22900</th>\n",
       "      <td>OSM-THA-SCHOOL-00001771</td>\n",
       "      <td>OSM</td>\n",
       "      <td>THA</td>\n",
       "      <td>Thailand</td>\n",
       "      <td>Asia</td>\n",
       "      <td>South-eastern Asia</td>\n",
       "      <td>None</td>\n",
       "      <td>POINT (103.55466 15.84572)</td>\n",
       "      <td>None</td>\n",
       "    </tr>\n",
       "  </tbody>\n",
       "</table>\n",
       "</div>"
      ],
      "text/plain": [
       "                           UID source  iso     country region  \\\n",
       "23144  OSM-THA-SCHOOL-00002015    OSM  THA    Thailand   Asia   \n",
       "10196  OSM-KAZ-SCHOOL-00000589    OSM  KAZ  Kazakhstan   Asia   \n",
       "22900  OSM-THA-SCHOOL-00001771    OSM  THA    Thailand   Asia   \n",
       "\n",
       "                subregion                  name                    geometry  \\\n",
       "23144  South-eastern Asia  โรงเรียนวัดเทพชุมนุม   POINT (100.47303 6.95434)   \n",
       "10196        Central Asia     школа-интернат №3   POINT (69.41936 53.27359)   \n",
       "22900  South-eastern Asia                  None  POINT (103.55466 15.84572)   \n",
       "\n",
       "      giga_id_school  \n",
       "23144           None  \n",
       "10196           None  \n",
       "22900           None  "
      ]
     },
     "execution_count": 7,
     "metadata": {},
     "output_type": "execute_result"
    }
   ],
   "source": [
    "osm_schools = download_utils.download_osm(config, category=\"school\")\n",
    "osm_schools.sample(3)"
   ]
  },
  {
   "cell_type": "code",
   "execution_count": 8,
   "id": "9120693a-ec23-4347-bacc-93178b4af087",
   "metadata": {
    "tags": []
   },
   "outputs": [
    {
     "name": "stderr",
     "output_type": "stream",
     "text": [
      "Processing ZAF:  93%|██████████████████▌ | 38/41 [01:14<00:09,  3.20s/it]                                               WARNING:fiona.ogrext:Expecting property name enclosed in double quotes: line 1 column 2 (char 1)\n",
      "Processing BRA: 100%|████████████████████| 41/41 [01:44<00:00,  2.54s/it]                                               \n"
     ]
    },
    {
     "data": {
      "text/html": [
       "<div>\n",
       "<style scoped>\n",
       "    .dataframe tbody tr th:only-of-type {\n",
       "        vertical-align: middle;\n",
       "    }\n",
       "\n",
       "    .dataframe tbody tr th {\n",
       "        vertical-align: top;\n",
       "    }\n",
       "\n",
       "    .dataframe thead th {\n",
       "        text-align: right;\n",
       "    }\n",
       "</style>\n",
       "<table border=\"1\" class=\"dataframe\">\n",
       "  <thead>\n",
       "    <tr style=\"text-align: right;\">\n",
       "      <th></th>\n",
       "      <th>UID</th>\n",
       "      <th>source</th>\n",
       "      <th>iso</th>\n",
       "      <th>country</th>\n",
       "      <th>region</th>\n",
       "      <th>subregion</th>\n",
       "      <th>name</th>\n",
       "      <th>geometry</th>\n",
       "      <th>giga_id_school</th>\n",
       "    </tr>\n",
       "  </thead>\n",
       "  <tbody>\n",
       "    <tr>\n",
       "      <th>169664</th>\n",
       "      <td>OSM-THA-NON_SCHOOL-00025580</td>\n",
       "      <td>OSM</td>\n",
       "      <td>THA</td>\n",
       "      <td>Thailand</td>\n",
       "      <td>Asia</td>\n",
       "      <td>South-eastern Asia</td>\n",
       "      <td>None</td>\n",
       "      <td>POINT (104.63836 14.64589)</td>\n",
       "      <td>None</td>\n",
       "    </tr>\n",
       "    <tr>\n",
       "      <th>57571</th>\n",
       "      <td>OSM-HUN-NON_SCHOOL-00005976</td>\n",
       "      <td>OSM</td>\n",
       "      <td>HUN</td>\n",
       "      <td>Hungary</td>\n",
       "      <td>Europe</td>\n",
       "      <td>Eastern Europe</td>\n",
       "      <td>Kriván presszó</td>\n",
       "      <td>POINT (18.36809 47.58960)</td>\n",
       "      <td>None</td>\n",
       "    </tr>\n",
       "    <tr>\n",
       "      <th>8375</th>\n",
       "      <td>OSM-GHA-NON_SCHOOL-00003242</td>\n",
       "      <td>OSM</td>\n",
       "      <td>GHA</td>\n",
       "      <td>Ghana</td>\n",
       "      <td>Africa</td>\n",
       "      <td>Sub-Saharan Africa</td>\n",
       "      <td>Goil</td>\n",
       "      <td>POINT (-1.83108 4.89320)</td>\n",
       "      <td>None</td>\n",
       "    </tr>\n",
       "  </tbody>\n",
       "</table>\n",
       "</div>"
      ],
      "text/plain": [
       "                                UID source  iso   country  region  \\\n",
       "169664  OSM-THA-NON_SCHOOL-00025580    OSM  THA  Thailand    Asia   \n",
       "57571   OSM-HUN-NON_SCHOOL-00005976    OSM  HUN   Hungary  Europe   \n",
       "8375    OSM-GHA-NON_SCHOOL-00003242    OSM  GHA     Ghana  Africa   \n",
       "\n",
       "                 subregion            name                    geometry  \\\n",
       "169664  South-eastern Asia            None  POINT (104.63836 14.64589)   \n",
       "57571       Eastern Europe  Kriván presszó   POINT (18.36809 47.58960)   \n",
       "8375    Sub-Saharan Africa            Goil    POINT (-1.83108 4.89320)   \n",
       "\n",
       "       giga_id_school  \n",
       "169664           None  \n",
       "57571            None  \n",
       "8375             None  "
      ]
     },
     "execution_count": 8,
     "metadata": {},
     "output_type": "execute_result"
    }
   ],
   "source": [
    "osm_nonschools = download_utils.download_osm(config, category=\"non_school\")\n",
    "osm_nonschools.sample(3)"
   ]
  },
  {
   "cell_type": "markdown",
   "id": "ee5e52a4-4ba1-418b-aaa9-0111670bf516",
   "metadata": {},
   "source": [
    "## Download Building Footprints"
   ]
  },
  {
   "cell_type": "code",
   "execution_count": 9,
   "id": "387e5082-d066-47d3-8bb5-979ea5f72b3d",
   "metadata": {},
   "outputs": [
    {
     "name": "stderr",
     "output_type": "stream",
     "text": [
      "Processing BRA: 100%|████████████████████| 41/41 [00:00<00:00, 962.93it/s]                                              \n"
     ]
    }
   ],
   "source": [
    "download_utils.download_buildings(config, source=\"ms\", verbose=True)"
   ]
  },
  {
   "cell_type": "code",
   "execution_count": 4,
   "id": "f90ceeb1-fa74-41d4-9ce3-7f40a26ce577",
   "metadata": {},
   "outputs": [
    {
     "name": "stderr",
     "output_type": "stream",
     "text": [
      "Processing ZWE: 100%|████████████████████| 7/7 [00:00<00:00, 663.03it/s]                                                \n"
     ]
    }
   ],
   "source": [
    "download_utils.download_buildings(config, source=\"google\", verbose=True)"
   ]
  },
  {
   "cell_type": "markdown",
   "id": "42c1634b-b8ac-4293-a3b3-01910c1b5f92",
   "metadata": {},
   "source": [
    "## Download Global Human Settlements Layer"
   ]
  },
  {
   "cell_type": "code",
   "execution_count": 3,
   "id": "325ff415-fe12-40e3-abfa-17e3e161db81",
   "metadata": {},
   "outputs": [],
   "source": [
    "download_utils.download_ghsl(config, type=\"built_c\")"
   ]
  },
  {
   "cell_type": "code",
   "execution_count": 4,
   "id": "788993b4-d620-459b-a453-4e51753c38a8",
   "metadata": {},
   "outputs": [],
   "source": [
    "download_utils.download_ghsl(config, type=\"smod\")"
   ]
  }
 ],
 "metadata": {
  "kernelspec": {
   "display_name": "giga2",
   "language": "python",
   "name": "giga2"
  },
  "language_info": {
   "codemirror_mode": {
    "name": "ipython",
    "version": 3
   },
   "file_extension": ".py",
   "mimetype": "text/x-python",
   "name": "python",
   "nbconvert_exporter": "python",
   "pygments_lexer": "ipython3",
   "version": "3.10.13"
  }
 },
 "nbformat": 4,
 "nbformat_minor": 5
}
