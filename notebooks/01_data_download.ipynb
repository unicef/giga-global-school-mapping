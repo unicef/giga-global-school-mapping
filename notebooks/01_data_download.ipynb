{
  "cells": [
    {
      "cell_type": "markdown",
      "source": [
        "# Data Download\n",
        "\n",
        "This notebook demonstrates how to download data from the following sources:\n",
        "- GigaMaps\n",
        "- Overture\n",
        "- OpenStreetMap (OSM)\n",
        "- Microsoft Building Footprints\n",
        "- Google Open Buildings\n",
        "- Global Human Settlements Layer (GHSL)"
      ],
      "metadata": {},
      "id": "4b5894ba-126a-4eeb-8578-db256ba22177"
    },
    {
      "cell_type": "markdown",
      "source": [
        "## Imports and Setup"
      ],
      "metadata": {},
      "id": "f8cf4143-2526-44f2-980d-27a390191008"
    },
    {
      "cell_type": "code",
      "source": [
        "import pandas as pd\n",
        "import geopandas as gpd\n",
        "\n",
        "import os \n",
        "os.chdir('../')\n",
        "from utils import download_utils\n",
        "from utils import config_utils\n",
        "\n",
        "import warnings\n",
        "warnings.filterwarnings('ignore')\n",
        "warnings.simplefilter('ignore')\n",
        "\n",
        "%load_ext autoreload\n",
        "%autoreload 2"
      ],
      "outputs": [],
      "execution_count": 1,
      "metadata": {
        "tags": [],
        "gather": {
          "logged": 1733408692624
        }
      },
      "id": "d2159d4d-fa6a-4f66-85b6-e3787fabd541"
    },
    {
      "cell_type": "markdown",
      "source": [
        "## Data Configurations"
      ],
      "metadata": {},
      "id": "de83468e-d5da-48ae-a5f0-79a79dc83b49"
    },
    {
      "cell_type": "code",
      "source": [
        "profile_filename = \"configs/creds.share\"\n",
        "config_filename = \"configs/data_configs/data_config_ISO_LCA.yaml\"\n",
        "profile_file = os.path.join(os.getcwd(), profile_filename)\n",
        "config_file = os.path.join(os.getcwd(), config_filename)\n",
        "config = config_utils.load_config(config_file)"
      ],
      "outputs": [],
      "execution_count": 16,
      "metadata": {
        "gather": {
          "logged": 1733413946368
        }
      },
      "id": "a4a724d8-57da-4c7b-b964-60ae1f7e7eca"
    },
    {
      "cell_type": "markdown",
      "source": [
        "## Download UNICEF"
      ],
      "metadata": {},
      "id": "f2be6376-fc55-48bc-a3b6-5979a87014c8"
    },
    {
      "cell_type": "code",
      "source": [
        "unicef = download_utils.download_unicef(config, profile_file)\n",
        "print(f\"Data dimensions: {unicef.shape}\")\n",
        "unicef.sample(3)"
      ],
      "outputs": [
        {
          "output_type": "stream",
          "name": "stderr",
          "text": "Processing NIC: 100%|████████████████████| 1/1 [00:01<00:00,  1.76s/it]\n"
        },
        {
          "output_type": "stream",
          "name": "stdout",
          "text": "Data dimensions: (1364, 9)\n"
        },
        {
          "output_type": "execute_result",
          "execution_count": 15,
          "data": {
            "text/plain": "                             UID  source  iso    country    region  \\\n1137  UNICEF-NIC-SCHOOL-00001137  UNICEF  NIC  Nicaragua  Americas   \n682   UNICEF-NIC-SCHOOL-00000682  UNICEF  NIC  Nicaragua  Americas   \n1173  UNICEF-NIC-SCHOOL-00001173  UNICEF  NIC  Nicaragua  Americas   \n\n                            subregion  name  giga_id_school  \\\n1137  Latin America and the Caribbean  None            1137   \n682   Latin America and the Caribbean  None             682   \n1173  Latin America and the Caribbean  None            1173   \n\n                        geometry  \n1137  POINT (-86.46552 12.73560)  \n682   POINT (-86.11874 12.71894)  \n1173  POINT (-86.57574 12.92773)  ",
            "text/html": "<div>\n<style scoped>\n    .dataframe tbody tr th:only-of-type {\n        vertical-align: middle;\n    }\n\n    .dataframe tbody tr th {\n        vertical-align: top;\n    }\n\n    .dataframe thead th {\n        text-align: right;\n    }\n</style>\n<table border=\"1\" class=\"dataframe\">\n  <thead>\n    <tr style=\"text-align: right;\">\n      <th></th>\n      <th>UID</th>\n      <th>source</th>\n      <th>iso</th>\n      <th>country</th>\n      <th>region</th>\n      <th>subregion</th>\n      <th>name</th>\n      <th>giga_id_school</th>\n      <th>geometry</th>\n    </tr>\n  </thead>\n  <tbody>\n    <tr>\n      <th>1137</th>\n      <td>UNICEF-NIC-SCHOOL-00001137</td>\n      <td>UNICEF</td>\n      <td>NIC</td>\n      <td>Nicaragua</td>\n      <td>Americas</td>\n      <td>Latin America and the Caribbean</td>\n      <td>None</td>\n      <td>1137</td>\n      <td>POINT (-86.46552 12.73560)</td>\n    </tr>\n    <tr>\n      <th>682</th>\n      <td>UNICEF-NIC-SCHOOL-00000682</td>\n      <td>UNICEF</td>\n      <td>NIC</td>\n      <td>Nicaragua</td>\n      <td>Americas</td>\n      <td>Latin America and the Caribbean</td>\n      <td>None</td>\n      <td>682</td>\n      <td>POINT (-86.11874 12.71894)</td>\n    </tr>\n    <tr>\n      <th>1173</th>\n      <td>UNICEF-NIC-SCHOOL-00001173</td>\n      <td>UNICEF</td>\n      <td>NIC</td>\n      <td>Nicaragua</td>\n      <td>Americas</td>\n      <td>Latin America and the Caribbean</td>\n      <td>None</td>\n      <td>1173</td>\n      <td>POINT (-86.57574 12.92773)</td>\n    </tr>\n  </tbody>\n</table>\n</div>"
          },
          "metadata": {}
        }
      ],
      "execution_count": 15,
      "metadata": {
        "gather": {
          "logged": 1733412395688
        }
      },
      "id": "cb559f34-dcef-40d4-a45f-ba5a721d6926"
    },
    {
      "cell_type": "markdown",
      "source": [
        "## Download Overture Maps Data"
      ],
      "metadata": {},
      "id": "67680692-4ca8-46ae-89ff-5ed340fcd6f2"
    },
    {
      "cell_type": "code",
      "source": [
        "overture_schools = download_utils.download_overture(config, category=\"school\")\n",
        "print(f\"Data dimensions: {overture_schools.shape}\")\n",
        "overture_schools.sample(3)"
      ],
      "outputs": [
        {
          "output_type": "stream",
          "name": "stderr",
          "text": "\r  0%|                    | 0/1 [00:00<?, ?it/s]\rProcessing CAF:   0%|                    | 0/1 [00:00<?, ?it/s]\rProcessing CAF: 100%|████████████████████| 1/1 [00:00<00:00,  8.13it/s]\rProcessing CAF: 100%|████████████████████| 1/1 [00:00<00:00,  8.06it/s]"
        },
        {
          "output_type": "stream",
          "name": "stdout",
          "text": "Data dimensions: (42, 9)\n"
        },
        {
          "output_type": "execute_result",
          "execution_count": 7,
          "data": {
            "text/plain": "                             UID    source  iso                   country  \\\n40  OVERTURE-CAF-SCHOOL-00000100  OVERTURE  CAF  Central African Republic   \n37  OVERTURE-CAF-SCHOOL-00000096  OVERTURE  CAF  Central African Republic   \n5   OVERTURE-CAF-SCHOOL-00000011  OVERTURE  CAF  Central African Republic   \n\n    region           subregion                              name  \\\n40  Africa  Sub-Saharan Africa           Mampho Secondary School   \n37  Africa  Sub-Saharan Africa       State Public School Shahkot   \n5   Africa  Sub-Saharan Africa  Zana Community Christian Schools   \n\n    giga_id_school                  geometry  \n40              40  POINT (26.36719 6.14055)  \n37              37  POINT (19.26238 8.62042)  \n5                5  POINT (24.60337 5.61146)  ",
            "text/html": "<div>\n<style scoped>\n    .dataframe tbody tr th:only-of-type {\n        vertical-align: middle;\n    }\n\n    .dataframe tbody tr th {\n        vertical-align: top;\n    }\n\n    .dataframe thead th {\n        text-align: right;\n    }\n</style>\n<table border=\"1\" class=\"dataframe\">\n  <thead>\n    <tr style=\"text-align: right;\">\n      <th></th>\n      <th>UID</th>\n      <th>source</th>\n      <th>iso</th>\n      <th>country</th>\n      <th>region</th>\n      <th>subregion</th>\n      <th>name</th>\n      <th>giga_id_school</th>\n      <th>geometry</th>\n    </tr>\n  </thead>\n  <tbody>\n    <tr>\n      <th>40</th>\n      <td>OVERTURE-CAF-SCHOOL-00000100</td>\n      <td>OVERTURE</td>\n      <td>CAF</td>\n      <td>Central African Republic</td>\n      <td>Africa</td>\n      <td>Sub-Saharan Africa</td>\n      <td>Mampho Secondary School</td>\n      <td>40</td>\n      <td>POINT (26.36719 6.14055)</td>\n    </tr>\n    <tr>\n      <th>37</th>\n      <td>OVERTURE-CAF-SCHOOL-00000096</td>\n      <td>OVERTURE</td>\n      <td>CAF</td>\n      <td>Central African Republic</td>\n      <td>Africa</td>\n      <td>Sub-Saharan Africa</td>\n      <td>State Public School Shahkot</td>\n      <td>37</td>\n      <td>POINT (19.26238 8.62042)</td>\n    </tr>\n    <tr>\n      <th>5</th>\n      <td>OVERTURE-CAF-SCHOOL-00000011</td>\n      <td>OVERTURE</td>\n      <td>CAF</td>\n      <td>Central African Republic</td>\n      <td>Africa</td>\n      <td>Sub-Saharan Africa</td>\n      <td>Zana Community Christian Schools</td>\n      <td>5</td>\n      <td>POINT (24.60337 5.61146)</td>\n    </tr>\n  </tbody>\n</table>\n</div>"
          },
          "metadata": {}
        }
      ],
      "execution_count": 7,
      "metadata": {
        "gather": {
          "logged": 1733409137816
        }
      },
      "id": "cd46674d-6d88-4642-9a8d-fc2533e56eb9"
    },
    {
      "cell_type": "code",
      "source": [
        "overture_nonschools = download_utils.download_overture(\n",
        "    config, category=\"non_school\", exclude=\"school\"\n",
        ")\n",
        "print(overture_nonschools.shape)\n",
        "overture_nonschools.sample(3)"
      ],
      "outputs": [
        {
          "output_type": "stream",
          "name": "stderr",
          "text": "Processing TJK: 100%|████████████████████| 1/1 [00:00<00:00,  5.10it/s]\n"
        },
        {
          "output_type": "stream",
          "name": "stdout",
          "text": "(212, 9)\n"
        },
        {
          "output_type": "execute_result",
          "execution_count": 9,
          "data": {
            "text/plain": "                                  UID    source  iso     country region  \\\n58   OVERTURE-TJK-NON_SCHOOL-00000141  OVERTURE  TJK  Tajikistan   Asia   \n152  OVERTURE-TJK-NON_SCHOOL-00000345  OVERTURE  TJK  Tajikistan   Asia   \n196  OVERTURE-TJK-NON_SCHOOL-00000448  OVERTURE  TJK  Tajikistan   Asia   \n\n        subregion                                              name  \\\n58   Central Asia   Central Republican Stadium Dushanbe, Tajikistan   \n152  Central Asia  Office of civil freedoms/Офис гражданских свобод   \n196  Central Asia                                       Barqi Tojik   \n\n     giga_id_school                   geometry  \n58               58  POINT (68.77881 38.58867)  \n152             152  POINT (68.79190 38.56270)  \n196             196  POINT (68.75547 38.58720)  ",
            "text/html": "<div>\n<style scoped>\n    .dataframe tbody tr th:only-of-type {\n        vertical-align: middle;\n    }\n\n    .dataframe tbody tr th {\n        vertical-align: top;\n    }\n\n    .dataframe thead th {\n        text-align: right;\n    }\n</style>\n<table border=\"1\" class=\"dataframe\">\n  <thead>\n    <tr style=\"text-align: right;\">\n      <th></th>\n      <th>UID</th>\n      <th>source</th>\n      <th>iso</th>\n      <th>country</th>\n      <th>region</th>\n      <th>subregion</th>\n      <th>name</th>\n      <th>giga_id_school</th>\n      <th>geometry</th>\n    </tr>\n  </thead>\n  <tbody>\n    <tr>\n      <th>58</th>\n      <td>OVERTURE-TJK-NON_SCHOOL-00000141</td>\n      <td>OVERTURE</td>\n      <td>TJK</td>\n      <td>Tajikistan</td>\n      <td>Asia</td>\n      <td>Central Asia</td>\n      <td>Central Republican Stadium Dushanbe, Tajikistan</td>\n      <td>58</td>\n      <td>POINT (68.77881 38.58867)</td>\n    </tr>\n    <tr>\n      <th>152</th>\n      <td>OVERTURE-TJK-NON_SCHOOL-00000345</td>\n      <td>OVERTURE</td>\n      <td>TJK</td>\n      <td>Tajikistan</td>\n      <td>Asia</td>\n      <td>Central Asia</td>\n      <td>Office of civil freedoms/Офис гражданских свобод</td>\n      <td>152</td>\n      <td>POINT (68.79190 38.56270)</td>\n    </tr>\n    <tr>\n      <th>196</th>\n      <td>OVERTURE-TJK-NON_SCHOOL-00000448</td>\n      <td>OVERTURE</td>\n      <td>TJK</td>\n      <td>Tajikistan</td>\n      <td>Asia</td>\n      <td>Central Asia</td>\n      <td>Barqi Tojik</td>\n      <td>196</td>\n      <td>POINT (68.75547 38.58720)</td>\n    </tr>\n  </tbody>\n</table>\n</div>"
          },
          "metadata": {}
        }
      ],
      "execution_count": 9,
      "metadata": {
        "tags": [],
        "gather": {
          "logged": 1731575945982
        }
      },
      "id": "189c8518-d896-4472-88a5-971422aa7f3c"
    },
    {
      "cell_type": "markdown",
      "source": [
        "## Download OpenStreetMap (OSM) Data"
      ],
      "metadata": {},
      "id": "90aa0884-c872-413f-b014-3b246dd6b321"
    },
    {
      "cell_type": "code",
      "source": [
        "osm_schools = download_utils.download_osm(config, category=\"school\")\n",
        "print(osm_schools.shape)\n",
        "osm_schools.sample(3)"
      ],
      "outputs": [
        {
          "output_type": "stream",
          "name": "stderr",
          "text": "\r  0%|                    | 0/1 [00:00<?, ?it/s]\rProcessing TJK:   0%|                    | 0/1 [00:00<?, ?it/s]\rProcessing TJK: 100%|████████████████████| 1/1 [00:00<00:00,  1.66it/s]\rProcessing TJK: 100%|████████████████████| 1/1 [00:00<00:00,  1.65it/s]\n"
        },
        {
          "output_type": "stream",
          "name": "stdout",
          "text": "(732, 9)\n"
        },
        {
          "output_type": "execute_result",
          "execution_count": 8,
          "data": {
            "text/plain": "                         UID source  iso     country region     subregion  \\\n234  OSM-TJK-SCHOOL-00000234    OSM  TJK  Tajikistan   Asia  Central Asia   \n409  OSM-TJK-SCHOOL-00000409    OSM  TJK  Tajikistan   Asia  Central Asia   \n475  OSM-TJK-SCHOOL-00000475    OSM  TJK  Tajikistan   Asia  Central Asia   \n\n     name                   geometry  giga_id_school  \n234  None  POINT (68.73007 38.57116)             234  \n409  None  POINT (71.96532 37.18400)             409  \n475  None  POINT (70.83522 38.54546)             475  ",
            "text/html": "<div>\n<style scoped>\n    .dataframe tbody tr th:only-of-type {\n        vertical-align: middle;\n    }\n\n    .dataframe tbody tr th {\n        vertical-align: top;\n    }\n\n    .dataframe thead th {\n        text-align: right;\n    }\n</style>\n<table border=\"1\" class=\"dataframe\">\n  <thead>\n    <tr style=\"text-align: right;\">\n      <th></th>\n      <th>UID</th>\n      <th>source</th>\n      <th>iso</th>\n      <th>country</th>\n      <th>region</th>\n      <th>subregion</th>\n      <th>name</th>\n      <th>geometry</th>\n      <th>giga_id_school</th>\n    </tr>\n  </thead>\n  <tbody>\n    <tr>\n      <th>234</th>\n      <td>OSM-TJK-SCHOOL-00000234</td>\n      <td>OSM</td>\n      <td>TJK</td>\n      <td>Tajikistan</td>\n      <td>Asia</td>\n      <td>Central Asia</td>\n      <td>None</td>\n      <td>POINT (68.73007 38.57116)</td>\n      <td>234</td>\n    </tr>\n    <tr>\n      <th>409</th>\n      <td>OSM-TJK-SCHOOL-00000409</td>\n      <td>OSM</td>\n      <td>TJK</td>\n      <td>Tajikistan</td>\n      <td>Asia</td>\n      <td>Central Asia</td>\n      <td>None</td>\n      <td>POINT (71.96532 37.18400)</td>\n      <td>409</td>\n    </tr>\n    <tr>\n      <th>475</th>\n      <td>OSM-TJK-SCHOOL-00000475</td>\n      <td>OSM</td>\n      <td>TJK</td>\n      <td>Tajikistan</td>\n      <td>Asia</td>\n      <td>Central Asia</td>\n      <td>None</td>\n      <td>POINT (70.83522 38.54546)</td>\n      <td>475</td>\n    </tr>\n  </tbody>\n</table>\n</div>"
          },
          "metadata": {}
        }
      ],
      "execution_count": 8,
      "metadata": {
        "tags": [],
        "gather": {
          "logged": 1730725162169
        }
      },
      "id": "b999ce0c-567c-4c8b-91f1-32a44aa7752f"
    },
    {
      "cell_type": "code",
      "source": [
        "osm_nonschools = download_utils.download_osm(config, category=\"non_school\")\n",
        "print(osm_nonschools.shape)\n",
        "osm_nonschools.sample(3)"
      ],
      "outputs": [
        {
          "output_type": "stream",
          "name": "stderr",
          "text": "Processing TJK: 100%|████████████████████| 1/1 [00:01<00:00,  1.74s/it]\n"
        },
        {
          "output_type": "stream",
          "name": "stdout",
          "text": "(5512, 9)\n"
        },
        {
          "output_type": "execute_result",
          "execution_count": 10,
          "data": {
            "text/plain": "                              UID source  iso     country region  \\\n4337  OSM-TJK-NON_SCHOOL-00004337    OSM  TJK  Tajikistan   Asia   \n5117  OSM-TJK-NON_SCHOOL-00005117    OSM  TJK  Tajikistan   Asia   \n2618  OSM-TJK-NON_SCHOOL-00002618    OSM  TJK  Tajikistan   Asia   \n\n         subregion                       name                   geometry  \\\n4337  Central Asia  Масҷиди ҷомеи Ҳазрати Шоҳ  POINT (70.57642 39.97346)   \n5117  Central Asia               Колхоз Росси  POINT (68.82791 38.56008)   \n2618  Central Asia         Суди ноҳия Сангвор  POINT (70.48422 38.69672)   \n\n      giga_id_school  \n4337            4337  \n5117            5117  \n2618            2618  ",
            "text/html": "<div>\n<style scoped>\n    .dataframe tbody tr th:only-of-type {\n        vertical-align: middle;\n    }\n\n    .dataframe tbody tr th {\n        vertical-align: top;\n    }\n\n    .dataframe thead th {\n        text-align: right;\n    }\n</style>\n<table border=\"1\" class=\"dataframe\">\n  <thead>\n    <tr style=\"text-align: right;\">\n      <th></th>\n      <th>UID</th>\n      <th>source</th>\n      <th>iso</th>\n      <th>country</th>\n      <th>region</th>\n      <th>subregion</th>\n      <th>name</th>\n      <th>geometry</th>\n      <th>giga_id_school</th>\n    </tr>\n  </thead>\n  <tbody>\n    <tr>\n      <th>4337</th>\n      <td>OSM-TJK-NON_SCHOOL-00004337</td>\n      <td>OSM</td>\n      <td>TJK</td>\n      <td>Tajikistan</td>\n      <td>Asia</td>\n      <td>Central Asia</td>\n      <td>Масҷиди ҷомеи Ҳазрати Шоҳ</td>\n      <td>POINT (70.57642 39.97346)</td>\n      <td>4337</td>\n    </tr>\n    <tr>\n      <th>5117</th>\n      <td>OSM-TJK-NON_SCHOOL-00005117</td>\n      <td>OSM</td>\n      <td>TJK</td>\n      <td>Tajikistan</td>\n      <td>Asia</td>\n      <td>Central Asia</td>\n      <td>Колхоз Росси</td>\n      <td>POINT (68.82791 38.56008)</td>\n      <td>5117</td>\n    </tr>\n    <tr>\n      <th>2618</th>\n      <td>OSM-TJK-NON_SCHOOL-00002618</td>\n      <td>OSM</td>\n      <td>TJK</td>\n      <td>Tajikistan</td>\n      <td>Asia</td>\n      <td>Central Asia</td>\n      <td>Суди ноҳия Сангвор</td>\n      <td>POINT (70.48422 38.69672)</td>\n      <td>2618</td>\n    </tr>\n  </tbody>\n</table>\n</div>"
          },
          "metadata": {}
        }
      ],
      "execution_count": 10,
      "metadata": {
        "tags": [],
        "gather": {
          "logged": 1730725197020
        }
      },
      "id": "9120693a-ec23-4347-bacc-93178b4af087"
    },
    {
      "cell_type": "markdown",
      "source": [
        "## Download Building Footprints"
      ],
      "metadata": {},
      "id": "ee5e52a4-4ba1-418b-aaa9-0111670bf516"
    },
    {
      "cell_type": "markdown",
      "source": [
        "#### Microsoft Building Footprints"
      ],
      "metadata": {
        "nteract": {
          "transient": {
            "deleting": false
          }
        }
      },
      "id": "e953126b-6395-4cb4-bb1c-b2346b4cc915"
    },
    {
      "cell_type": "code",
      "source": [
        "download_utils.download_buildings(config, source=\"ms\", verbose=True)"
      ],
      "outputs": [],
      "execution_count": 5,
      "metadata": {
        "gather": {
          "logged": 1732960598149
        },
        "editable": true,
        "run_control": {
          "frozen": false
        }
      },
      "id": "387e5082-d066-47d3-8bb5-979ea5f72b3d"
    },
    {
      "cell_type": "markdown",
      "source": [
        "#### Google Open Buildings"
      ],
      "metadata": {
        "nteract": {
          "transient": {
            "deleting": false
          }
        }
      },
      "id": "a57de7e4-d411-479e-a427-aba3906b9c5b"
    },
    {
      "cell_type": "code",
      "source": [
        "download_utils.download_buildings(config, source=\"google\", verbose=True)"
      ],
      "outputs": [],
      "execution_count": null,
      "metadata": {
        "gather": {
          "logged": 1731624975658
        }
      },
      "id": "024f9a0a-4b2e-49e8-bd64-e95a6dd805ac"
    },
    {
      "cell_type": "markdown",
      "source": [
        "## Download Global Human Settlements Layer"
      ],
      "metadata": {},
      "id": "42c1634b-b8ac-4293-a3b3-01910c1b5f92"
    },
    {
      "cell_type": "markdown",
      "source": [
        "#### GHSL BUILT-C"
      ],
      "metadata": {
        "nteract": {
          "transient": {
            "deleting": false
          }
        }
      },
      "id": "1d6a3bb8-f2a4-46fb-a5a0-5dd673a984d1"
    },
    {
      "cell_type": "code",
      "source": [
        "download_utils.download_ghsl(config, type=\"built_c\")"
      ],
      "outputs": [],
      "execution_count": 11,
      "metadata": {},
      "id": "325ff415-fe12-40e3-abfa-17e3e161db81"
    },
    {
      "cell_type": "markdown",
      "source": [
        "#### GHSL SMOD"
      ],
      "metadata": {
        "nteract": {
          "transient": {
            "deleting": false
          }
        }
      },
      "id": "c974226d-27ac-4fa9-96c7-a12425f09b3e"
    },
    {
      "cell_type": "code",
      "source": [
        "download_utils.download_ghsl(config, type=\"smod\")"
      ],
      "outputs": [],
      "execution_count": 12,
      "metadata": {},
      "id": "788993b4-d620-459b-a453-4e51753c38a8"
    }
  ],
  "metadata": {
    "kernelspec": {
      "name": "gigav3",
      "language": "python",
      "display_name": "gigav3"
    },
    "language_info": {
      "name": "python",
      "version": "3.10.13",
      "mimetype": "text/x-python",
      "codemirror_mode": {
        "name": "ipython",
        "version": 3
      },
      "pygments_lexer": "ipython3",
      "nbconvert_exporter": "python",
      "file_extension": ".py"
    },
    "microsoft": {
      "ms_spell_check": {
        "ms_spell_check_language": "en"
      },
      "host": {
        "AzureML": {
          "notebookHasBeenCompleted": true
        }
      }
    },
    "kernel_info": {
      "name": "gigav3"
    },
    "nteract": {
      "version": "nteract-front-end@1.0.0"
    }
  },
  "nbformat": 4,
  "nbformat_minor": 5
}