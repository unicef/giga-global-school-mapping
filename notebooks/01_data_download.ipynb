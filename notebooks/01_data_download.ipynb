{
 "cells": [
  {
   "cell_type": "markdown",
   "id": "9febaabf-777d-4195-8cce-c242cc2e3409",
   "metadata": {},
   "source": [
    "# Data Download\n",
    "\n",
    "This notebook demonstrates how to download data across UNICEF, Overture Maps, and OpenStreetMap (OSM). \n",
    "\n",
    "Alternatively, you can also run `python src/data_download.py`: \n",
    "\n",
    "```s\n",
    "usage: data_download.py [-h] [--config CONFIG] [--profile PROFILE]\r\n",
    "\r\n",
    "Data Downlod\r\n",
    "\r\n",
    "options:\r\n",
    "  -h, --help         show this help message and exit\r\n",
    "  --config CONFPlute path to the configuration file\r\n",
    "  --profile PRPolute path to the profile filele file\n",
    "```"
   ]
  },
  {
   "cell_type": "markdown",
   "id": "f8cf4143-2526-44f2-980d-27a390191008",
   "metadata": {},
   "source": [
    "## Imports and Setup"
   ]
  },
  {
   "cell_type": "code",
   "execution_count": 1,
   "id": "d2159d4d-fa6a-4f66-85b6-e3787fabd541",
   "metadata": {
    "tags": []
   },
   "outputs": [],
   "source": [
    "import pandas as pd\n",
    "import geopandas as gpd\n",
    "\n",
    "import os \n",
    "os.chdir('/home/itingzon.unicef/giga')\n",
    "from utils import download_utils\n",
    "from utils import config_utils\n",
    "\n",
    "import warnings\n",
    "warnings.filterwarnings('ignore')\n",
    "warnings.simplefilter('ignore')\n",
    "\n",
    "%load_ext autoreload\n",
    "%autoreload 2"
   ]
  },
  {
   "cell_type": "markdown",
   "id": "de83468e-d5da-48ae-a5f0-79a79dc83b49",
   "metadata": {},
   "source": [
    "## Data Configurations"
   ]
  },
  {
   "cell_type": "code",
   "execution_count": 15,
   "id": "a4a724d8-57da-4c7b-b964-60ae1f7e7eca",
   "metadata": {},
   "outputs": [],
   "source": [
    "cwd = os.path.dirname(os.getcwd())\n",
    "profile_filename = \"giga/configs/profile.share\"\n",
    "config_filename = \"giga/configs/data_configs/data_config_ISO_AF.yaml\"\n",
    "profile_file = os.path.join(cwd, profile_filename)\n",
    "config_file = os.path.join(cwd, config_filename)\n",
    "config = config_utils.load_config(config_file)"
   ]
  },
  {
   "cell_type": "markdown",
   "id": "f2be6376-fc55-48bc-a3b6-5979a87014c8",
   "metadata": {},
   "source": [
    "## Download UNICEF"
   ]
  },
  {
   "cell_type": "code",
   "execution_count": 16,
   "id": "c595b7a9-93c6-4b62-a6a0-0a1e86113bc4",
   "metadata": {},
   "outputs": [
    {
     "name": "stderr",
     "output_type": "stream",
     "text": [
      "Processing ZWE: 100%|████████████████████| 10/10 [00:05<00:00,  1.80it/s]                                               \n"
     ]
    },
    {
     "data": {
      "text/html": [
       "<div>\n",
       "<style scoped>\n",
       "    .dataframe tbody tr th:only-of-type {\n",
       "        vertical-align: middle;\n",
       "    }\n",
       "\n",
       "    .dataframe tbody tr th {\n",
       "        vertical-align: top;\n",
       "    }\n",
       "\n",
       "    .dataframe thead th {\n",
       "        text-align: right;\n",
       "    }\n",
       "</style>\n",
       "<table border=\"1\" class=\"dataframe\">\n",
       "  <thead>\n",
       "    <tr style=\"text-align: right;\">\n",
       "      <th></th>\n",
       "      <th>UID</th>\n",
       "      <th>source</th>\n",
       "      <th>iso</th>\n",
       "      <th>country</th>\n",
       "      <th>region</th>\n",
       "      <th>subregion</th>\n",
       "      <th>name</th>\n",
       "      <th>giga_id_school</th>\n",
       "      <th>geometry</th>\n",
       "    </tr>\n",
       "  </thead>\n",
       "  <tbody>\n",
       "    <tr>\n",
       "      <th>38198</th>\n",
       "      <td>UNICEF-SSD-SCHOOL-00005959</td>\n",
       "      <td>UNICEF</td>\n",
       "      <td>SSD</td>\n",
       "      <td>South Sudan</td>\n",
       "      <td>Africa</td>\n",
       "      <td>Sub-Saharan Africa</td>\n",
       "      <td>None</td>\n",
       "      <td>5959</td>\n",
       "      <td>POINT (31.69093 7.74448)</td>\n",
       "    </tr>\n",
       "    <tr>\n",
       "      <th>4811</th>\n",
       "      <td>UNICEF-KEN-SCHOOL-00002598</td>\n",
       "      <td>UNICEF</td>\n",
       "      <td>KEN</td>\n",
       "      <td>Kenya</td>\n",
       "      <td>Africa</td>\n",
       "      <td>Sub-Saharan Africa</td>\n",
       "      <td>None</td>\n",
       "      <td>2598</td>\n",
       "      <td>POINT (39.82750 -3.77971)</td>\n",
       "    </tr>\n",
       "    <tr>\n",
       "      <th>25634</th>\n",
       "      <td>UNICEF-SEN-SCHOOL-00003459</td>\n",
       "      <td>UNICEF</td>\n",
       "      <td>SEN</td>\n",
       "      <td>Senegal</td>\n",
       "      <td>Africa</td>\n",
       "      <td>Sub-Saharan Africa</td>\n",
       "      <td>None</td>\n",
       "      <td>3459</td>\n",
       "      <td>POINT (-14.07349 12.93121)</td>\n",
       "    </tr>\n",
       "  </tbody>\n",
       "</table>\n",
       "</div>"
      ],
      "text/plain": [
       "                              UID  source  iso      country  region  \\\n",
       "38198  UNICEF-SSD-SCHOOL-00005959  UNICEF  SSD  South Sudan  Africa   \n",
       "4811   UNICEF-KEN-SCHOOL-00002598  UNICEF  KEN        Kenya  Africa   \n",
       "25634  UNICEF-SEN-SCHOOL-00003459  UNICEF  SEN      Senegal  Africa   \n",
       "\n",
       "                subregion  name  giga_id_school                    geometry  \n",
       "38198  Sub-Saharan Africa  None            5959    POINT (31.69093 7.74448)  \n",
       "4811   Sub-Saharan Africa  None            2598   POINT (39.82750 -3.77971)  \n",
       "25634  Sub-Saharan Africa  None            3459  POINT (-14.07349 12.93121)  "
      ]
     },
     "execution_count": 16,
     "metadata": {},
     "output_type": "execute_result"
    }
   ],
   "source": [
    "unicef = download_utils.download_unicef(config, profile_file)\n",
    "unicef.sample(3)"
   ]
  },
  {
   "cell_type": "markdown",
   "id": "67680692-4ca8-46ae-89ff-5ed340fcd6f2",
   "metadata": {},
   "source": [
    "## Download Overture Maps Data"
   ]
  },
  {
   "cell_type": "code",
   "execution_count": 5,
   "id": "7e1c4152-5ef4-4cf9-b5a0-17f1ab031c53",
   "metadata": {},
   "outputs": [
    {
     "name": "stderr",
     "output_type": "stream",
     "text": [
      "Processing ZWE: 100%|████████████████████| 10/10 [00:01<00:00,  6.64it/s]                                               \n"
     ]
    },
    {
     "data": {
      "text/html": [
       "<div>\n",
       "<style scoped>\n",
       "    .dataframe tbody tr th:only-of-type {\n",
       "        vertical-align: middle;\n",
       "    }\n",
       "\n",
       "    .dataframe tbody tr th {\n",
       "        vertical-align: top;\n",
       "    }\n",
       "\n",
       "    .dataframe thead th {\n",
       "        text-align: right;\n",
       "    }\n",
       "</style>\n",
       "<table border=\"1\" class=\"dataframe\">\n",
       "  <thead>\n",
       "    <tr style=\"text-align: right;\">\n",
       "      <th></th>\n",
       "      <th>UID</th>\n",
       "      <th>source</th>\n",
       "      <th>iso</th>\n",
       "      <th>country</th>\n",
       "      <th>region</th>\n",
       "      <th>subregion</th>\n",
       "      <th>name</th>\n",
       "      <th>giga_id_school</th>\n",
       "      <th>geometry</th>\n",
       "    </tr>\n",
       "  </thead>\n",
       "  <tbody>\n",
       "    <tr>\n",
       "      <th>3948</th>\n",
       "      <td>OVERTURE-ZWE-SCHOOL-00000117</td>\n",
       "      <td>OVERTURE</td>\n",
       "      <td>ZWE</td>\n",
       "      <td>Zimbabwe</td>\n",
       "      <td>Africa</td>\n",
       "      <td>Sub-Saharan Africa</td>\n",
       "      <td>Marie's Learning Centre Nursery, Preschool &amp; ECD</td>\n",
       "      <td>None</td>\n",
       "      <td>POINT (31.00353 -17.76876)</td>\n",
       "    </tr>\n",
       "    <tr>\n",
       "      <th>49</th>\n",
       "      <td>OVERTURE-BEN-SCHOOL-00000049</td>\n",
       "      <td>OVERTURE</td>\n",
       "      <td>BEN</td>\n",
       "      <td>Benin</td>\n",
       "      <td>Africa</td>\n",
       "      <td>Sub-Saharan Africa</td>\n",
       "      <td>Blessed Home School and Crèche, Kwabenya.</td>\n",
       "      <td>49</td>\n",
       "      <td>POINT (1.40625 9.79568)</td>\n",
       "    </tr>\n",
       "    <tr>\n",
       "      <th>3479</th>\n",
       "      <td>OVERTURE-NAM-SCHOOL-00000384</td>\n",
       "      <td>OVERTURE</td>\n",
       "      <td>NAM</td>\n",
       "      <td>Namibia</td>\n",
       "      <td>Africa</td>\n",
       "      <td>Sub-Saharan Africa</td>\n",
       "      <td>Vooruit Primary School</td>\n",
       "      <td>None</td>\n",
       "      <td>POINT (16.65052 -20.46188)</td>\n",
       "    </tr>\n",
       "  </tbody>\n",
       "</table>\n",
       "</div>"
      ],
      "text/plain": [
       "                               UID    source  iso   country  region  \\\n",
       "3948  OVERTURE-ZWE-SCHOOL-00000117  OVERTURE  ZWE  Zimbabwe  Africa   \n",
       "49    OVERTURE-BEN-SCHOOL-00000049  OVERTURE  BEN     Benin  Africa   \n",
       "3479  OVERTURE-NAM-SCHOOL-00000384  OVERTURE  NAM   Namibia  Africa   \n",
       "\n",
       "               subregion                                              name  \\\n",
       "3948  Sub-Saharan Africa  Marie's Learning Centre Nursery, Preschool & ECD   \n",
       "49    Sub-Saharan Africa         Blessed Home School and Crèche, Kwabenya.   \n",
       "3479  Sub-Saharan Africa                            Vooruit Primary School   \n",
       "\n",
       "     giga_id_school                    geometry  \n",
       "3948           None  POINT (31.00353 -17.76876)  \n",
       "49               49     POINT (1.40625 9.79568)  \n",
       "3479           None  POINT (16.65052 -20.46188)  "
      ]
     },
     "execution_count": 5,
     "metadata": {},
     "output_type": "execute_result"
    }
   ],
   "source": [
    "overture_schools = download_utils.download_overture(config, category=\"school\")\n",
    "overture_schools.sample(3)"
   ]
  },
  {
   "cell_type": "code",
   "execution_count": 7,
   "id": "189c8518-d896-4472-88a5-971422aa7f3c",
   "metadata": {
    "tags": []
   },
   "outputs": [
    {
     "name": "stderr",
     "output_type": "stream",
     "text": [
      "Processing ZWE: 100%|████████████████████| 10/10 [00:07<00:00,  1.40it/s]                                               \n"
     ]
    },
    {
     "data": {
      "text/html": [
       "<div>\n",
       "<style scoped>\n",
       "    .dataframe tbody tr th:only-of-type {\n",
       "        vertical-align: middle;\n",
       "    }\n",
       "\n",
       "    .dataframe tbody tr th {\n",
       "        vertical-align: top;\n",
       "    }\n",
       "\n",
       "    .dataframe thead th {\n",
       "        text-align: right;\n",
       "    }\n",
       "</style>\n",
       "<table border=\"1\" class=\"dataframe\">\n",
       "  <thead>\n",
       "    <tr style=\"text-align: right;\">\n",
       "      <th></th>\n",
       "      <th>UID</th>\n",
       "      <th>source</th>\n",
       "      <th>iso</th>\n",
       "      <th>country</th>\n",
       "      <th>region</th>\n",
       "      <th>subregion</th>\n",
       "      <th>name</th>\n",
       "      <th>giga_id_school</th>\n",
       "      <th>geometry</th>\n",
       "    </tr>\n",
       "  </thead>\n",
       "  <tbody>\n",
       "    <tr>\n",
       "      <th>19137</th>\n",
       "      <td>OVERTURE-KEN-NON_SCHOOL-00009880</td>\n",
       "      <td>OVERTURE</td>\n",
       "      <td>KEN</td>\n",
       "      <td>Kenya</td>\n",
       "      <td>Africa</td>\n",
       "      <td>Sub-Saharan Africa</td>\n",
       "      <td>Daiichi Hotels - Isiolo</td>\n",
       "      <td>None</td>\n",
       "      <td>POINT (37.58283 0.34822)</td>\n",
       "    </tr>\n",
       "    <tr>\n",
       "      <th>21181</th>\n",
       "      <td>OVERTURE-KEN-NON_SCHOOL-00011924</td>\n",
       "      <td>OVERTURE</td>\n",
       "      <td>KEN</td>\n",
       "      <td>Kenya</td>\n",
       "      <td>Africa</td>\n",
       "      <td>Sub-Saharan Africa</td>\n",
       "      <td>The Emory Hotel</td>\n",
       "      <td>None</td>\n",
       "      <td>POINT (36.79234 -1.27608)</td>\n",
       "    </tr>\n",
       "    <tr>\n",
       "      <th>15683</th>\n",
       "      <td>OVERTURE-KEN-NON_SCHOOL-00006426</td>\n",
       "      <td>OVERTURE</td>\n",
       "      <td>KEN</td>\n",
       "      <td>Kenya</td>\n",
       "      <td>Africa</td>\n",
       "      <td>Sub-Saharan Africa</td>\n",
       "      <td>Platinum Square - Commercial Retail &amp; Office S...</td>\n",
       "      <td>None</td>\n",
       "      <td>POINT (36.82770 -1.30102)</td>\n",
       "    </tr>\n",
       "  </tbody>\n",
       "</table>\n",
       "</div>"
      ],
      "text/plain": [
       "                                    UID    source  iso country  region  \\\n",
       "19137  OVERTURE-KEN-NON_SCHOOL-00009880  OVERTURE  KEN   Kenya  Africa   \n",
       "21181  OVERTURE-KEN-NON_SCHOOL-00011924  OVERTURE  KEN   Kenya  Africa   \n",
       "15683  OVERTURE-KEN-NON_SCHOOL-00006426  OVERTURE  KEN   Kenya  Africa   \n",
       "\n",
       "                subregion                                               name  \\\n",
       "19137  Sub-Saharan Africa                            Daiichi Hotels - Isiolo   \n",
       "21181  Sub-Saharan Africa                                    The Emory Hotel   \n",
       "15683  Sub-Saharan Africa  Platinum Square - Commercial Retail & Office S...   \n",
       "\n",
       "      giga_id_school                   geometry  \n",
       "19137           None   POINT (37.58283 0.34822)  \n",
       "21181           None  POINT (36.79234 -1.27608)  \n",
       "15683           None  POINT (36.82770 -1.30102)  "
      ]
     },
     "execution_count": 7,
     "metadata": {},
     "output_type": "execute_result"
    }
   ],
   "source": [
    "overture_nonschools = download_utils.download_overture(\n",
    "    config, category=\"non_school\", exclude=\"school\"\n",
    ")\n",
    "overture_nonschools.sample(3)"
   ]
  },
  {
   "cell_type": "markdown",
   "id": "90aa0884-c872-413f-b014-3b246dd6b321",
   "metadata": {},
   "source": [
    "## Download OpenStreetMap (OSM) Data"
   ]
  },
  {
   "cell_type": "code",
   "execution_count": 6,
   "id": "b999ce0c-567c-4c8b-91f1-32a44aa7752f",
   "metadata": {
    "tags": []
   },
   "outputs": [
    {
     "name": "stderr",
     "output_type": "stream",
     "text": [
      "Processing ZWE: 100%|████████████████████| 10/10 [00:03<00:00,  2.87it/s]                                               \n"
     ]
    },
    {
     "data": {
      "text/html": [
       "<div>\n",
       "<style scoped>\n",
       "    .dataframe tbody tr th:only-of-type {\n",
       "        vertical-align: middle;\n",
       "    }\n",
       "\n",
       "    .dataframe tbody tr th {\n",
       "        vertical-align: top;\n",
       "    }\n",
       "\n",
       "    .dataframe thead th {\n",
       "        text-align: right;\n",
       "    }\n",
       "</style>\n",
       "<table border=\"1\" class=\"dataframe\">\n",
       "  <thead>\n",
       "    <tr style=\"text-align: right;\">\n",
       "      <th></th>\n",
       "      <th>UID</th>\n",
       "      <th>source</th>\n",
       "      <th>iso</th>\n",
       "      <th>country</th>\n",
       "      <th>region</th>\n",
       "      <th>subregion</th>\n",
       "      <th>name</th>\n",
       "      <th>geometry</th>\n",
       "      <th>giga_id_school</th>\n",
       "    </tr>\n",
       "  </thead>\n",
       "  <tbody>\n",
       "    <tr>\n",
       "      <th>4689</th>\n",
       "      <td>OSM-GHA-SCHOOL-00001839</td>\n",
       "      <td>OSM</td>\n",
       "      <td>GHA</td>\n",
       "      <td>Ghana</td>\n",
       "      <td>Africa</td>\n",
       "      <td>Sub-Saharan Africa</td>\n",
       "      <td>None</td>\n",
       "      <td>POINT (0.73944 6.41868)</td>\n",
       "      <td>None</td>\n",
       "    </tr>\n",
       "    <tr>\n",
       "      <th>4066</th>\n",
       "      <td>OSM-GHA-SCHOOL-00001216</td>\n",
       "      <td>OSM</td>\n",
       "      <td>GHA</td>\n",
       "      <td>Ghana</td>\n",
       "      <td>Africa</td>\n",
       "      <td>Sub-Saharan Africa</td>\n",
       "      <td>Aikins International school</td>\n",
       "      <td>POINT (-1.25572 5.11662)</td>\n",
       "      <td>None</td>\n",
       "    </tr>\n",
       "    <tr>\n",
       "      <th>5114</th>\n",
       "      <td>OSM-GHA-SCHOOL-00002264</td>\n",
       "      <td>OSM</td>\n",
       "      <td>GHA</td>\n",
       "      <td>Ghana</td>\n",
       "      <td>Africa</td>\n",
       "      <td>Sub-Saharan Africa</td>\n",
       "      <td>B &amp; C J.H.S</td>\n",
       "      <td>POINT (-1.55059 5.60708)</td>\n",
       "      <td>None</td>\n",
       "    </tr>\n",
       "  </tbody>\n",
       "</table>\n",
       "</div>"
      ],
      "text/plain": [
       "                          UID source  iso country  region           subregion  \\\n",
       "4689  OSM-GHA-SCHOOL-00001839    OSM  GHA   Ghana  Africa  Sub-Saharan Africa   \n",
       "4066  OSM-GHA-SCHOOL-00001216    OSM  GHA   Ghana  Africa  Sub-Saharan Africa   \n",
       "5114  OSM-GHA-SCHOOL-00002264    OSM  GHA   Ghana  Africa  Sub-Saharan Africa   \n",
       "\n",
       "                             name                  geometry giga_id_school  \n",
       "4689                         None   POINT (0.73944 6.41868)           None  \n",
       "4066  Aikins International school  POINT (-1.25572 5.11662)           None  \n",
       "5114                  B & C J.H.S  POINT (-1.55059 5.60708)           None  "
      ]
     },
     "execution_count": 6,
     "metadata": {},
     "output_type": "execute_result"
    }
   ],
   "source": [
    "osm_schools = download_utils.download_osm(config, category=\"school\")\n",
    "osm_schools.sample(3)"
   ]
  },
  {
   "cell_type": "code",
   "execution_count": 8,
   "id": "9120693a-ec23-4347-bacc-93178b4af087",
   "metadata": {
    "tags": []
   },
   "outputs": [
    {
     "name": "stderr",
     "output_type": "stream",
     "text": [
      "Processing ZWE: 100%|████████████████████| 10/10 [00:10<00:00,  1.02s/it]                                               \n"
     ]
    },
    {
     "data": {
      "text/html": [
       "<div>\n",
       "<style scoped>\n",
       "    .dataframe tbody tr th:only-of-type {\n",
       "        vertical-align: middle;\n",
       "    }\n",
       "\n",
       "    .dataframe tbody tr th {\n",
       "        vertical-align: top;\n",
       "    }\n",
       "\n",
       "    .dataframe thead th {\n",
       "        text-align: right;\n",
       "    }\n",
       "</style>\n",
       "<table border=\"1\" class=\"dataframe\">\n",
       "  <thead>\n",
       "    <tr style=\"text-align: right;\">\n",
       "      <th></th>\n",
       "      <th>UID</th>\n",
       "      <th>source</th>\n",
       "      <th>iso</th>\n",
       "      <th>country</th>\n",
       "      <th>region</th>\n",
       "      <th>subregion</th>\n",
       "      <th>name</th>\n",
       "      <th>geometry</th>\n",
       "      <th>giga_id_school</th>\n",
       "    </tr>\n",
       "  </thead>\n",
       "  <tbody>\n",
       "    <tr>\n",
       "      <th>37957</th>\n",
       "      <td>OSM-SEN-NON_SCHOOL-00000845</td>\n",
       "      <td>OSM</td>\n",
       "      <td>SEN</td>\n",
       "      <td>Senegal</td>\n",
       "      <td>Africa</td>\n",
       "      <td>Sub-Saharan Africa</td>\n",
       "      <td>PAMECAS</td>\n",
       "      <td>POINT (-17.31951 14.73200)</td>\n",
       "      <td>None</td>\n",
       "    </tr>\n",
       "    <tr>\n",
       "      <th>39311</th>\n",
       "      <td>OSM-SEN-NON_SCHOOL-00002199</td>\n",
       "      <td>OSM</td>\n",
       "      <td>SEN</td>\n",
       "      <td>Senegal</td>\n",
       "      <td>Africa</td>\n",
       "      <td>Sub-Saharan Africa</td>\n",
       "      <td>Le Taif</td>\n",
       "      <td>POINT (-17.46132 14.75361)</td>\n",
       "      <td>None</td>\n",
       "    </tr>\n",
       "    <tr>\n",
       "      <th>18358</th>\n",
       "      <td>OSM-GHA-NON_SCHOOL-00008520</td>\n",
       "      <td>OSM</td>\n",
       "      <td>GHA</td>\n",
       "      <td>Ghana</td>\n",
       "      <td>Africa</td>\n",
       "      <td>Sub-Saharan Africa</td>\n",
       "      <td>Dukes Petroleum</td>\n",
       "      <td>POINT (-0.41911 5.53510)</td>\n",
       "      <td>None</td>\n",
       "    </tr>\n",
       "  </tbody>\n",
       "</table>\n",
       "</div>"
      ],
      "text/plain": [
       "                               UID source  iso  country  region  \\\n",
       "37957  OSM-SEN-NON_SCHOOL-00000845    OSM  SEN  Senegal  Africa   \n",
       "39311  OSM-SEN-NON_SCHOOL-00002199    OSM  SEN  Senegal  Africa   \n",
       "18358  OSM-GHA-NON_SCHOOL-00008520    OSM  GHA    Ghana  Africa   \n",
       "\n",
       "                subregion             name                    geometry  \\\n",
       "37957  Sub-Saharan Africa          PAMECAS  POINT (-17.31951 14.73200)   \n",
       "39311  Sub-Saharan Africa          Le Taif  POINT (-17.46132 14.75361)   \n",
       "18358  Sub-Saharan Africa  Dukes Petroleum    POINT (-0.41911 5.53510)   \n",
       "\n",
       "      giga_id_school  \n",
       "37957           None  \n",
       "39311           None  \n",
       "18358           None  "
      ]
     },
     "execution_count": 8,
     "metadata": {},
     "output_type": "execute_result"
    }
   ],
   "source": [
    "osm_nonschools = download_utils.download_osm(config, category=\"non_school\")\n",
    "osm_nonschools.sample(3)"
   ]
  },
  {
   "cell_type": "markdown",
   "id": "ee5e52a4-4ba1-418b-aaa9-0111670bf516",
   "metadata": {},
   "source": [
    "## Download Building Footprints"
   ]
  },
  {
   "cell_type": "code",
   "execution_count": 9,
   "id": "387e5082-d066-47d3-8bb5-979ea5f72b3d",
   "metadata": {},
   "outputs": [
    {
     "name": "stderr",
     "output_type": "stream",
     "text": [
      "Processing ZWE: 100%|████████████████████| 10/10 [00:00<00:00, 847.13it/s]                                              \n"
     ]
    }
   ],
   "source": [
    "download_utils.download_buildings(config, source=\"ms\", verbose=True)"
   ]
  },
  {
   "cell_type": "code",
   "execution_count": 10,
   "id": "f90ceeb1-fa74-41d4-9ce3-7f40a26ce577",
   "metadata": {},
   "outputs": [
    {
     "name": "stderr",
     "output_type": "stream",
     "text": [
      "Processing ZWE: 100%|████████████████████| 10/10 [00:00<00:00, 780.03it/s]                                              \n"
     ]
    }
   ],
   "source": [
    "download_utils.download_buildings(config, source=\"google\", verbose=True)"
   ]
  },
  {
   "cell_type": "markdown",
   "id": "42c1634b-b8ac-4293-a3b3-01910c1b5f92",
   "metadata": {},
   "source": [
    "## Download Global Human Settlements Layer"
   ]
  },
  {
   "cell_type": "code",
   "execution_count": 11,
   "id": "325ff415-fe12-40e3-abfa-17e3e161db81",
   "metadata": {},
   "outputs": [],
   "source": [
    "download_utils.download_ghsl(config, type=\"built_c\")"
   ]
  },
  {
   "cell_type": "code",
   "execution_count": 12,
   "id": "788993b4-d620-459b-a453-4e51753c38a8",
   "metadata": {},
   "outputs": [],
   "source": [
    "download_utils.download_ghsl(config, type=\"smod\")"
   ]
  }
 ],
 "metadata": {
  "kernelspec": {
   "display_name": "giga2",
   "language": "python",
   "name": "giga2"
  },
  "language_info": {
   "codemirror_mode": {
    "name": "ipython",
    "version": 3
   },
   "file_extension": ".py",
   "mimetype": "text/x-python",
   "name": "python",
   "nbconvert_exporter": "python",
   "pygments_lexer": "ipython3",
   "version": "3.10.13"
  }
 },
 "nbformat": 4,
 "nbformat_minor": 5
}
