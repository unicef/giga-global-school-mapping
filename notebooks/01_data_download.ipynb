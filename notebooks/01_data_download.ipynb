{
  "cells": [
    {
      "cell_type": "markdown",
      "source": [
        "# Data Download\n",
        "\n",
        "This notebook demonstrates how to download data across UNICEF, Overture Maps, and OpenStreetMap (OSM). \n",
        "\n",
        "Alternatively, you can also run `python src/data_download.py`: \n",
        "\n",
        "```s\n",
        "usage: data_download.py [-h] [--config CONFIG] [--profile PROFILE]\n",
        "\n",
        "Data Download\n",
        "options:\n",
        "  -h, --help         show this help message and exit\n",
        "  --config CONFIG    Path to the configuration file\n",
        "  --profile PROFILE  Path to the profile filele file\n",
        "```"
      ],
      "metadata": {},
      "id": "4b5894ba-126a-4eeb-8578-db256ba22177"
    },
    {
      "cell_type": "markdown",
      "source": [
        "## Imports and Setup"
      ],
      "metadata": {},
      "id": "f8cf4143-2526-44f2-980d-27a390191008"
    },
    {
      "cell_type": "code",
      "source": [
        "import pandas as pd\n",
        "import geopandas as gpd\n",
        "\n",
        "import os \n",
        "os.chdir('../')\n",
        "from utils import download_utils\n",
        "from utils import config_utils\n",
        "\n",
        "import warnings\n",
        "warnings.filterwarnings('ignore')\n",
        "warnings.simplefilter('ignore')\n",
        "\n",
        "%load_ext autoreload\n",
        "%autoreload 2"
      ],
      "outputs": [],
      "execution_count": 1,
      "metadata": {
        "tags": [],
        "gather": {
          "logged": 1730724202521
        }
      },
      "id": "d2159d4d-fa6a-4f66-85b6-e3787fabd541"
    },
    {
      "cell_type": "markdown",
      "source": [
        "## Data Configurations"
      ],
      "metadata": {},
      "id": "de83468e-d5da-48ae-a5f0-79a79dc83b49"
    },
    {
      "cell_type": "code",
      "source": [
        "profile_filename = \"configs/profile.share\"\n",
        "config_filename = \"configs/data_configs/data_config_ISO_ME.yaml\"\n",
        "profile_file = os.path.join(os.getcwd(), profile_filename)\n",
        "config_file = os.path.join(os.getcwd(), config_filename)\n",
        "config = config_utils.load_config(config_file)"
      ],
      "outputs": [],
      "execution_count": 2,
      "metadata": {
        "gather": {
          "logged": 1730724215250
        }
      },
      "id": "a4a724d8-57da-4c7b-b964-60ae1f7e7eca"
    },
    {
      "cell_type": "markdown",
      "source": [
        "## Download UNICEF"
      ],
      "metadata": {},
      "id": "f2be6376-fc55-48bc-a3b6-5979a87014c8"
    },
    {
      "cell_type": "code",
      "source": [
        "unicef = download_utils.download_unicef(config, profile_file, in_file=\"BRA_unicef.csv\")\n",
        "print(unicef.shape)\n",
        "unicef.sample(3)"
      ],
      "outputs": [
        {
          "output_type": "stream",
          "name": "stderr",
          "text": "Processing TJK: 100%|████████████████████| 1/1 [00:01<00:00,  1.28s/it]\n"
        },
        {
          "output_type": "stream",
          "name": "stdout",
          "text": "(400, 9)\n"
        },
        {
          "output_type": "execute_result",
          "execution_count": 3,
          "data": {
            "text/plain": "                            UID  source  iso     country region     subregion  \\\n178  UNICEF-TJK-SCHOOL-00000178  UNICEF  TJK  Tajikistan   Asia  Central Asia   \n223  UNICEF-TJK-SCHOOL-00000223  UNICEF  TJK  Tajikistan   Asia  Central Asia   \n288  UNICEF-TJK-SCHOOL-00000288  UNICEF  TJK  Tajikistan   Asia  Central Asia   \n\n     name  giga_id_school                   geometry  \n178  None             178  POINT (68.79195 38.57595)  \n223  None             223  POINT (68.75348 38.59286)  \n288  None             288  POINT (68.99815 38.55616)  ",
            "text/html": "<div>\n<style scoped>\n    .dataframe tbody tr th:only-of-type {\n        vertical-align: middle;\n    }\n\n    .dataframe tbody tr th {\n        vertical-align: top;\n    }\n\n    .dataframe thead th {\n        text-align: right;\n    }\n</style>\n<table border=\"1\" class=\"dataframe\">\n  <thead>\n    <tr style=\"text-align: right;\">\n      <th></th>\n      <th>UID</th>\n      <th>source</th>\n      <th>iso</th>\n      <th>country</th>\n      <th>region</th>\n      <th>subregion</th>\n      <th>name</th>\n      <th>giga_id_school</th>\n      <th>geometry</th>\n    </tr>\n  </thead>\n  <tbody>\n    <tr>\n      <th>178</th>\n      <td>UNICEF-TJK-SCHOOL-00000178</td>\n      <td>UNICEF</td>\n      <td>TJK</td>\n      <td>Tajikistan</td>\n      <td>Asia</td>\n      <td>Central Asia</td>\n      <td>None</td>\n      <td>178</td>\n      <td>POINT (68.79195 38.57595)</td>\n    </tr>\n    <tr>\n      <th>223</th>\n      <td>UNICEF-TJK-SCHOOL-00000223</td>\n      <td>UNICEF</td>\n      <td>TJK</td>\n      <td>Tajikistan</td>\n      <td>Asia</td>\n      <td>Central Asia</td>\n      <td>None</td>\n      <td>223</td>\n      <td>POINT (68.75348 38.59286)</td>\n    </tr>\n    <tr>\n      <th>288</th>\n      <td>UNICEF-TJK-SCHOOL-00000288</td>\n      <td>UNICEF</td>\n      <td>TJK</td>\n      <td>Tajikistan</td>\n      <td>Asia</td>\n      <td>Central Asia</td>\n      <td>None</td>\n      <td>288</td>\n      <td>POINT (68.99815 38.55616)</td>\n    </tr>\n  </tbody>\n</table>\n</div>"
          },
          "metadata": {}
        }
      ],
      "execution_count": 3,
      "metadata": {
        "gather": {
          "logged": 1730724219799
        }
      },
      "id": "cb559f34-dcef-40d4-a45f-ba5a721d6926"
    },
    {
      "cell_type": "markdown",
      "source": [
        "## Download Overture Maps Data"
      ],
      "metadata": {},
      "id": "67680692-4ca8-46ae-89ff-5ed340fcd6f2"
    },
    {
      "cell_type": "code",
      "source": [
        "overture_schools = download_utils.download_overture(config, category=\"school\")\n",
        "print(overture_schools.shape)\n",
        "overture_schools.sample(3)"
      ],
      "outputs": [
        {
          "output_type": "stream",
          "name": "stderr",
          "text": "\r  0%|                    | 0/1 [00:00<?, ?it/s]\rProcessing TJK:   0%|                    | 0/1 [00:00<?, ?it/s]\rProcessing TJK: 100%|████████████████████| 1/1 [00:00<00:00, 14.58it/s]\n"
        },
        {
          "output_type": "stream",
          "name": "stdout",
          "text": "(35, 9)\n"
        },
        {
          "output_type": "execute_result",
          "execution_count": 9,
          "data": {
            "text/plain": "                             UID    source  iso     country region  \\\n33  OVERTURE-TJK-SCHOOL-00000121  OVERTURE  TJK  Tajikistan   Asia   \n24  OVERTURE-TJK-SCHOOL-00000084  OVERTURE  TJK  Tajikistan   Asia   \n1   OVERTURE-TJK-SCHOOL-00000014  OVERTURE  TJK  Tajikistan   Asia   \n\n       subregion                  name  giga_id_school  \\\n33  Central Asia          alif academy              33   \n24  Central Asia  Школа #20 г. Душанбе              24   \n1   Central Asia             CL School               1   \n\n                     geometry  \n33  POINT (68.79343 38.58100)  \n24  POINT (68.80000 38.55000)  \n1   POINT (69.62849 40.27960)  ",
            "text/html": "<div>\n<style scoped>\n    .dataframe tbody tr th:only-of-type {\n        vertical-align: middle;\n    }\n\n    .dataframe tbody tr th {\n        vertical-align: top;\n    }\n\n    .dataframe thead th {\n        text-align: right;\n    }\n</style>\n<table border=\"1\" class=\"dataframe\">\n  <thead>\n    <tr style=\"text-align: right;\">\n      <th></th>\n      <th>UID</th>\n      <th>source</th>\n      <th>iso</th>\n      <th>country</th>\n      <th>region</th>\n      <th>subregion</th>\n      <th>name</th>\n      <th>giga_id_school</th>\n      <th>geometry</th>\n    </tr>\n  </thead>\n  <tbody>\n    <tr>\n      <th>33</th>\n      <td>OVERTURE-TJK-SCHOOL-00000121</td>\n      <td>OVERTURE</td>\n      <td>TJK</td>\n      <td>Tajikistan</td>\n      <td>Asia</td>\n      <td>Central Asia</td>\n      <td>alif academy</td>\n      <td>33</td>\n      <td>POINT (68.79343 38.58100)</td>\n    </tr>\n    <tr>\n      <th>24</th>\n      <td>OVERTURE-TJK-SCHOOL-00000084</td>\n      <td>OVERTURE</td>\n      <td>TJK</td>\n      <td>Tajikistan</td>\n      <td>Asia</td>\n      <td>Central Asia</td>\n      <td>Школа #20 г. Душанбе</td>\n      <td>24</td>\n      <td>POINT (68.80000 38.55000)</td>\n    </tr>\n    <tr>\n      <th>1</th>\n      <td>OVERTURE-TJK-SCHOOL-00000014</td>\n      <td>OVERTURE</td>\n      <td>TJK</td>\n      <td>Tajikistan</td>\n      <td>Asia</td>\n      <td>Central Asia</td>\n      <td>CL School</td>\n      <td>1</td>\n      <td>POINT (69.62849 40.27960)</td>\n    </tr>\n  </tbody>\n</table>\n</div>"
          },
          "metadata": {}
        }
      ],
      "execution_count": 9,
      "metadata": {
        "gather": {
          "logged": 1730725162857
        }
      },
      "id": "cd46674d-6d88-4642-9a8d-fc2533e56eb9"
    },
    {
      "cell_type": "code",
      "source": [
        "overture_nonschools = download_utils.download_overture(\n",
        "    config, category=\"non_school\", exclude=\"school\"\n",
        ")\n",
        "print(overture_nonschools.shape)\n",
        "overture_nonschools.sample(3)"
      ],
      "outputs": [
        {
          "output_type": "stream",
          "name": "stderr",
          "text": "\r  0%|                    | 0/1 [00:00<?, ?it/s]\rProcessing TJK:   0%|                    | 0/1 [00:00<?, ?it/s]"
        },
        {
          "output_type": "display_data",
          "data": {
            "text/plain": "FloatProgress(value=0.0, layout=Layout(width='auto'), style=ProgressStyle(bar_color='black'))",
            "application/vnd.jupyter.widget-view+json": {
              "version_major": 2,
              "version_minor": 0,
              "model_id": "4761a100d38c4d2ea87410e46eaf1054"
            }
          },
          "metadata": {}
        },
        {
          "output_type": "stream",
          "name": "stderr",
          "text": "Processing TJK: 100%|████████████████████| 1/1 [06:26<00:00, 386.86s/it]\n"
        },
        {
          "output_type": "stream",
          "name": "stdout",
          "text": "(212, 9)\n"
        },
        {
          "output_type": "execute_result",
          "execution_count": 6,
          "data": {
            "text/plain": "                                  UID    source  iso     country region  \\\n196  OVERTURE-TJK-NON_SCHOOL-00000448  OVERTURE  TJK  Tajikistan   Asia   \n23   OVERTURE-TJK-NON_SCHOOL-00000066  OVERTURE  TJK  Tajikistan   Asia   \n16   OVERTURE-TJK-NON_SCHOOL-00000039  OVERTURE  TJK  Tajikistan   Asia   \n\n        subregion                                               name  \\\n196  Central Asia                                        Barqi Tojik   \n23   Central Asia  Embassy of Chinese Peoples Republic in Tajikistan   \n16   Central Asia                                   Sifat.dentistryy   \n\n     giga_id_school                   geometry  \n196             196  POINT (68.75547 38.58720)  \n23               23  POINT (68.78650 38.60331)  \n16               16  POINT (69.61064 40.30120)  ",
            "text/html": "<div>\n<style scoped>\n    .dataframe tbody tr th:only-of-type {\n        vertical-align: middle;\n    }\n\n    .dataframe tbody tr th {\n        vertical-align: top;\n    }\n\n    .dataframe thead th {\n        text-align: right;\n    }\n</style>\n<table border=\"1\" class=\"dataframe\">\n  <thead>\n    <tr style=\"text-align: right;\">\n      <th></th>\n      <th>UID</th>\n      <th>source</th>\n      <th>iso</th>\n      <th>country</th>\n      <th>region</th>\n      <th>subregion</th>\n      <th>name</th>\n      <th>giga_id_school</th>\n      <th>geometry</th>\n    </tr>\n  </thead>\n  <tbody>\n    <tr>\n      <th>196</th>\n      <td>OVERTURE-TJK-NON_SCHOOL-00000448</td>\n      <td>OVERTURE</td>\n      <td>TJK</td>\n      <td>Tajikistan</td>\n      <td>Asia</td>\n      <td>Central Asia</td>\n      <td>Barqi Tojik</td>\n      <td>196</td>\n      <td>POINT (68.75547 38.58720)</td>\n    </tr>\n    <tr>\n      <th>23</th>\n      <td>OVERTURE-TJK-NON_SCHOOL-00000066</td>\n      <td>OVERTURE</td>\n      <td>TJK</td>\n      <td>Tajikistan</td>\n      <td>Asia</td>\n      <td>Central Asia</td>\n      <td>Embassy of Chinese Peoples Republic in Tajikistan</td>\n      <td>23</td>\n      <td>POINT (68.78650 38.60331)</td>\n    </tr>\n    <tr>\n      <th>16</th>\n      <td>OVERTURE-TJK-NON_SCHOOL-00000039</td>\n      <td>OVERTURE</td>\n      <td>TJK</td>\n      <td>Tajikistan</td>\n      <td>Asia</td>\n      <td>Central Asia</td>\n      <td>Sifat.dentistryy</td>\n      <td>16</td>\n      <td>POINT (69.61064 40.30120)</td>\n    </tr>\n  </tbody>\n</table>\n</div>"
          },
          "metadata": {}
        }
      ],
      "execution_count": 6,
      "metadata": {
        "tags": [],
        "gather": {
          "logged": 1730725090408
        }
      },
      "id": "189c8518-d896-4472-88a5-971422aa7f3c"
    },
    {
      "cell_type": "markdown",
      "source": [
        "## Download OpenStreetMap (OSM) Data"
      ],
      "metadata": {},
      "id": "90aa0884-c872-413f-b014-3b246dd6b321"
    },
    {
      "cell_type": "code",
      "source": [
        "osm_schools = download_utils.download_osm(config, category=\"school\")\n",
        "print(osm_schools.shape)\n",
        "osm_schools.sample(3)"
      ],
      "outputs": [
        {
          "output_type": "stream",
          "name": "stderr",
          "text": "\r  0%|                    | 0/1 [00:00<?, ?it/s]\rProcessing TJK:   0%|                    | 0/1 [00:00<?, ?it/s]\rProcessing TJK: 100%|████████████████████| 1/1 [00:00<00:00,  1.66it/s]\rProcessing TJK: 100%|████████████████████| 1/1 [00:00<00:00,  1.65it/s]\n"
        },
        {
          "output_type": "stream",
          "name": "stdout",
          "text": "(732, 9)\n"
        },
        {
          "output_type": "execute_result",
          "execution_count": 8,
          "data": {
            "text/plain": "                         UID source  iso     country region     subregion  \\\n234  OSM-TJK-SCHOOL-00000234    OSM  TJK  Tajikistan   Asia  Central Asia   \n409  OSM-TJK-SCHOOL-00000409    OSM  TJK  Tajikistan   Asia  Central Asia   \n475  OSM-TJK-SCHOOL-00000475    OSM  TJK  Tajikistan   Asia  Central Asia   \n\n     name                   geometry  giga_id_school  \n234  None  POINT (68.73007 38.57116)             234  \n409  None  POINT (71.96532 37.18400)             409  \n475  None  POINT (70.83522 38.54546)             475  ",
            "text/html": "<div>\n<style scoped>\n    .dataframe tbody tr th:only-of-type {\n        vertical-align: middle;\n    }\n\n    .dataframe tbody tr th {\n        vertical-align: top;\n    }\n\n    .dataframe thead th {\n        text-align: right;\n    }\n</style>\n<table border=\"1\" class=\"dataframe\">\n  <thead>\n    <tr style=\"text-align: right;\">\n      <th></th>\n      <th>UID</th>\n      <th>source</th>\n      <th>iso</th>\n      <th>country</th>\n      <th>region</th>\n      <th>subregion</th>\n      <th>name</th>\n      <th>geometry</th>\n      <th>giga_id_school</th>\n    </tr>\n  </thead>\n  <tbody>\n    <tr>\n      <th>234</th>\n      <td>OSM-TJK-SCHOOL-00000234</td>\n      <td>OSM</td>\n      <td>TJK</td>\n      <td>Tajikistan</td>\n      <td>Asia</td>\n      <td>Central Asia</td>\n      <td>None</td>\n      <td>POINT (68.73007 38.57116)</td>\n      <td>234</td>\n    </tr>\n    <tr>\n      <th>409</th>\n      <td>OSM-TJK-SCHOOL-00000409</td>\n      <td>OSM</td>\n      <td>TJK</td>\n      <td>Tajikistan</td>\n      <td>Asia</td>\n      <td>Central Asia</td>\n      <td>None</td>\n      <td>POINT (71.96532 37.18400)</td>\n      <td>409</td>\n    </tr>\n    <tr>\n      <th>475</th>\n      <td>OSM-TJK-SCHOOL-00000475</td>\n      <td>OSM</td>\n      <td>TJK</td>\n      <td>Tajikistan</td>\n      <td>Asia</td>\n      <td>Central Asia</td>\n      <td>None</td>\n      <td>POINT (70.83522 38.54546)</td>\n      <td>475</td>\n    </tr>\n  </tbody>\n</table>\n</div>"
          },
          "metadata": {}
        }
      ],
      "execution_count": 8,
      "metadata": {
        "tags": [],
        "gather": {
          "logged": 1730725162169
        }
      },
      "id": "b999ce0c-567c-4c8b-91f1-32a44aa7752f"
    },
    {
      "cell_type": "code",
      "source": [
        "osm_nonschools = download_utils.download_osm(config, category=\"non_school\")\n",
        "print(osm_nonschools.shape)\n",
        "osm_nonschools.sample(3)"
      ],
      "outputs": [
        {
          "output_type": "stream",
          "name": "stderr",
          "text": "Processing TJK: 100%|████████████████████| 1/1 [00:01<00:00,  1.74s/it]\n"
        },
        {
          "output_type": "stream",
          "name": "stdout",
          "text": "(5512, 9)\n"
        },
        {
          "output_type": "execute_result",
          "execution_count": 10,
          "data": {
            "text/plain": "                              UID source  iso     country region  \\\n4337  OSM-TJK-NON_SCHOOL-00004337    OSM  TJK  Tajikistan   Asia   \n5117  OSM-TJK-NON_SCHOOL-00005117    OSM  TJK  Tajikistan   Asia   \n2618  OSM-TJK-NON_SCHOOL-00002618    OSM  TJK  Tajikistan   Asia   \n\n         subregion                       name                   geometry  \\\n4337  Central Asia  Масҷиди ҷомеи Ҳазрати Шоҳ  POINT (70.57642 39.97346)   \n5117  Central Asia               Колхоз Росси  POINT (68.82791 38.56008)   \n2618  Central Asia         Суди ноҳия Сангвор  POINT (70.48422 38.69672)   \n\n      giga_id_school  \n4337            4337  \n5117            5117  \n2618            2618  ",
            "text/html": "<div>\n<style scoped>\n    .dataframe tbody tr th:only-of-type {\n        vertical-align: middle;\n    }\n\n    .dataframe tbody tr th {\n        vertical-align: top;\n    }\n\n    .dataframe thead th {\n        text-align: right;\n    }\n</style>\n<table border=\"1\" class=\"dataframe\">\n  <thead>\n    <tr style=\"text-align: right;\">\n      <th></th>\n      <th>UID</th>\n      <th>source</th>\n      <th>iso</th>\n      <th>country</th>\n      <th>region</th>\n      <th>subregion</th>\n      <th>name</th>\n      <th>geometry</th>\n      <th>giga_id_school</th>\n    </tr>\n  </thead>\n  <tbody>\n    <tr>\n      <th>4337</th>\n      <td>OSM-TJK-NON_SCHOOL-00004337</td>\n      <td>OSM</td>\n      <td>TJK</td>\n      <td>Tajikistan</td>\n      <td>Asia</td>\n      <td>Central Asia</td>\n      <td>Масҷиди ҷомеи Ҳазрати Шоҳ</td>\n      <td>POINT (70.57642 39.97346)</td>\n      <td>4337</td>\n    </tr>\n    <tr>\n      <th>5117</th>\n      <td>OSM-TJK-NON_SCHOOL-00005117</td>\n      <td>OSM</td>\n      <td>TJK</td>\n      <td>Tajikistan</td>\n      <td>Asia</td>\n      <td>Central Asia</td>\n      <td>Колхоз Росси</td>\n      <td>POINT (68.82791 38.56008)</td>\n      <td>5117</td>\n    </tr>\n    <tr>\n      <th>2618</th>\n      <td>OSM-TJK-NON_SCHOOL-00002618</td>\n      <td>OSM</td>\n      <td>TJK</td>\n      <td>Tajikistan</td>\n      <td>Asia</td>\n      <td>Central Asia</td>\n      <td>Суди ноҳия Сангвор</td>\n      <td>POINT (70.48422 38.69672)</td>\n      <td>2618</td>\n    </tr>\n  </tbody>\n</table>\n</div>"
          },
          "metadata": {}
        }
      ],
      "execution_count": 10,
      "metadata": {
        "tags": [],
        "gather": {
          "logged": 1730725197020
        }
      },
      "id": "9120693a-ec23-4347-bacc-93178b4af087"
    },
    {
      "cell_type": "markdown",
      "source": [
        "## Download Building Footprints"
      ],
      "metadata": {},
      "id": "ee5e52a4-4ba1-418b-aaa9-0111670bf516"
    },
    {
      "cell_type": "code",
      "source": [
        "download_utils.download_buildings(config, source=\"ms\", verbose=True)"
      ],
      "outputs": [
        {
          "output_type": "stream",
          "name": "stderr",
          "text": "Processing TJK: 100%|████████████████████| 1/1 [27:04<00:00, 1624.04s/it]\n"
        },
        {
          "output_type": "stream",
          "name": "stdout",
          "text": "Found 53 links for Tajikistan\nDownloading 1 of 53: 121322322.geojson\nDownloading 2 of 53: 123011131.geojson\nDownloading 3 of 53: 123100010.geojson\nDownloading 4 of 53: 123100011.geojson\nDownloading 5 of 53: 123100012.geojson\nDownloading 6 of 53: 123100013.geojson\nDownloading 7 of 53: 123100020.geojson\nDownloading 8 of 53: 123100021.geojson\nDownloading 9 of 53: 123100022.geojson\nDownloading 10 of 53: 123100023.geojson\nDownloading 11 of 53: 123100030.geojson\nDownloading 12 of 53: 123100031.geojson\nDownloading 13 of 53: 123100032.geojson\nDownloading 14 of 53: 123100033.geojson\nDownloading 15 of 53: 123100100.geojson\nDownloading 16 of 53: 123100102.geojson\nDownloading 17 of 53: 123100120.geojson\nDownloading 18 of 53: 123100122.geojson\nDownloading 19 of 53: 123100123.geojson\nDownloading 20 of 53: 123100130.geojson\nDownloading 21 of 53: 123100200.geojson\nDownloading 22 of 53: 123100201.geojson\nDownloading 23 of 53: 123100202.geojson\nDownloading 24 of 53: 123100203.geojson\nDownloading 25 of 53: 123100210.geojson\nDownloading 26 of 53: 123100211.geojson\nDownloading 27 of 53: 123100212.geojson\nDownloading 28 of 53: 123100213.geojson\nDownloading 29 of 53: 123100220.geojson\nDownloading 30 of 53: 123100221.geojson\nDownloading 31 of 53: 123100222.geojson\nDownloading 32 of 53: 123100223.geojson\nDownloading 33 of 53: 123100230.geojson\nDownloading 34 of 53: 123100231.geojson\nDownloading 35 of 53: 123100232.geojson\nDownloading 36 of 53: 123100300.geojson\nDownloading 37 of 53: 123100301.geojson\nDownloading 38 of 53: 123100303.geojson\nDownloading 39 of 53: 123100310.geojson\nDownloading 40 of 53: 123100312.geojson\nDownloading 41 of 53: 123100313.geojson\nDownloading 42 of 53: 123100321.geojson\nDownloading 43 of 53: 123100323.geojson\nDownloading 44 of 53: 123100330.geojson\nDownloading 45 of 53: 123100331.geojson\nDownloading 46 of 53: 123100332.geojson\nDownloading 47 of 53: 123100333.geojson\nDownloading 48 of 53: 123101202.geojson\nDownloading 49 of 53: 123101203.geojson\nDownloading 50 of 53: 123101212.geojson\nDownloading 51 of 53: 123101220.geojson\nDownloading 52 of 53: 123101221.geojson\nDownloading 53 of 53: 123101230.geojson\nReading 1 of 53: /mnt/batch/tasks/shared/LS_root/mounts/clusters/itingzon-compute/code/Users/itingzon/20241011_dell_hpc_env/giga-global-school-mapping/data/vectors/ms_buildings/TJK/121322322.geojson\nReading 2 of 53: /mnt/batch/tasks/shared/LS_root/mounts/clusters/itingzon-compute/code/Users/itingzon/20241011_dell_hpc_env/giga-global-school-mapping/data/vectors/ms_buildings/TJK/123011131.geojson\nReading 3 of 53: /mnt/batch/tasks/shared/LS_root/mounts/clusters/itingzon-compute/code/Users/itingzon/20241011_dell_hpc_env/giga-global-school-mapping/data/vectors/ms_buildings/TJK/123100010.geojson\nReading 4 of 53: /mnt/batch/tasks/shared/LS_root/mounts/clusters/itingzon-compute/code/Users/itingzon/20241011_dell_hpc_env/giga-global-school-mapping/data/vectors/ms_buildings/TJK/123100011.geojson\nReading 5 of 53: /mnt/batch/tasks/shared/LS_root/mounts/clusters/itingzon-compute/code/Users/itingzon/20241011_dell_hpc_env/giga-global-school-mapping/data/vectors/ms_buildings/TJK/123100012.geojson\nReading 6 of 53: /mnt/batch/tasks/shared/LS_root/mounts/clusters/itingzon-compute/code/Users/itingzon/20241011_dell_hpc_env/giga-global-school-mapping/data/vectors/ms_buildings/TJK/123100013.geojson\nReading 7 of 53: /mnt/batch/tasks/shared/LS_root/mounts/clusters/itingzon-compute/code/Users/itingzon/20241011_dell_hpc_env/giga-global-school-mapping/data/vectors/ms_buildings/TJK/123100020.geojson\nReading 8 of 53: /mnt/batch/tasks/shared/LS_root/mounts/clusters/itingzon-compute/code/Users/itingzon/20241011_dell_hpc_env/giga-global-school-mapping/data/vectors/ms_buildings/TJK/123100021.geojson\nReading 9 of 53: /mnt/batch/tasks/shared/LS_root/mounts/clusters/itingzon-compute/code/Users/itingzon/20241011_dell_hpc_env/giga-global-school-mapping/data/vectors/ms_buildings/TJK/123100022.geojson\nReading 10 of 53: /mnt/batch/tasks/shared/LS_root/mounts/clusters/itingzon-compute/code/Users/itingzon/20241011_dell_hpc_env/giga-global-school-mapping/data/vectors/ms_buildings/TJK/123100023.geojson\nReading 11 of 53: /mnt/batch/tasks/shared/LS_root/mounts/clusters/itingzon-compute/code/Users/itingzon/20241011_dell_hpc_env/giga-global-school-mapping/data/vectors/ms_buildings/TJK/123100030.geojson\nReading 12 of 53: /mnt/batch/tasks/shared/LS_root/mounts/clusters/itingzon-compute/code/Users/itingzon/20241011_dell_hpc_env/giga-global-school-mapping/data/vectors/ms_buildings/TJK/123100031.geojson\nReading 13 of 53: /mnt/batch/tasks/shared/LS_root/mounts/clusters/itingzon-compute/code/Users/itingzon/20241011_dell_hpc_env/giga-global-school-mapping/data/vectors/ms_buildings/TJK/123100032.geojson\nReading 14 of 53: /mnt/batch/tasks/shared/LS_root/mounts/clusters/itingzon-compute/code/Users/itingzon/20241011_dell_hpc_env/giga-global-school-mapping/data/vectors/ms_buildings/TJK/123100033.geojson\nReading 15 of 53: /mnt/batch/tasks/shared/LS_root/mounts/clusters/itingzon-compute/code/Users/itingzon/20241011_dell_hpc_env/giga-global-school-mapping/data/vectors/ms_buildings/TJK/123100100.geojson\nReading 16 of 53: /mnt/batch/tasks/shared/LS_root/mounts/clusters/itingzon-compute/code/Users/itingzon/20241011_dell_hpc_env/giga-global-school-mapping/data/vectors/ms_buildings/TJK/123100102.geojson\nReading 17 of 53: /mnt/batch/tasks/shared/LS_root/mounts/clusters/itingzon-compute/code/Users/itingzon/20241011_dell_hpc_env/giga-global-school-mapping/data/vectors/ms_buildings/TJK/123100120.geojson\nReading 18 of 53: /mnt/batch/tasks/shared/LS_root/mounts/clusters/itingzon-compute/code/Users/itingzon/20241011_dell_hpc_env/giga-global-school-mapping/data/vectors/ms_buildings/TJK/123100122.geojson\nReading 19 of 53: /mnt/batch/tasks/shared/LS_root/mounts/clusters/itingzon-compute/code/Users/itingzon/20241011_dell_hpc_env/giga-global-school-mapping/data/vectors/ms_buildings/TJK/123100123.geojson\nReading 20 of 53: /mnt/batch/tasks/shared/LS_root/mounts/clusters/itingzon-compute/code/Users/itingzon/20241011_dell_hpc_env/giga-global-school-mapping/data/vectors/ms_buildings/TJK/123100130.geojson\nReading 21 of 53: /mnt/batch/tasks/shared/LS_root/mounts/clusters/itingzon-compute/code/Users/itingzon/20241011_dell_hpc_env/giga-global-school-mapping/data/vectors/ms_buildings/TJK/123100200.geojson\nReading 22 of 53: /mnt/batch/tasks/shared/LS_root/mounts/clusters/itingzon-compute/code/Users/itingzon/20241011_dell_hpc_env/giga-global-school-mapping/data/vectors/ms_buildings/TJK/123100201.geojson\nReading 23 of 53: /mnt/batch/tasks/shared/LS_root/mounts/clusters/itingzon-compute/code/Users/itingzon/20241011_dell_hpc_env/giga-global-school-mapping/data/vectors/ms_buildings/TJK/123100202.geojson\nReading 24 of 53: /mnt/batch/tasks/shared/LS_root/mounts/clusters/itingzon-compute/code/Users/itingzon/20241011_dell_hpc_env/giga-global-school-mapping/data/vectors/ms_buildings/TJK/123100203.geojson\nReading 25 of 53: /mnt/batch/tasks/shared/LS_root/mounts/clusters/itingzon-compute/code/Users/itingzon/20241011_dell_hpc_env/giga-global-school-mapping/data/vectors/ms_buildings/TJK/123100210.geojson\nReading 26 of 53: /mnt/batch/tasks/shared/LS_root/mounts/clusters/itingzon-compute/code/Users/itingzon/20241011_dell_hpc_env/giga-global-school-mapping/data/vectors/ms_buildings/TJK/123100211.geojson\nReading 27 of 53: /mnt/batch/tasks/shared/LS_root/mounts/clusters/itingzon-compute/code/Users/itingzon/20241011_dell_hpc_env/giga-global-school-mapping/data/vectors/ms_buildings/TJK/123100212.geojson\nReading 28 of 53: /mnt/batch/tasks/shared/LS_root/mounts/clusters/itingzon-compute/code/Users/itingzon/20241011_dell_hpc_env/giga-global-school-mapping/data/vectors/ms_buildings/TJK/123100213.geojson\nReading 29 of 53: /mnt/batch/tasks/shared/LS_root/mounts/clusters/itingzon-compute/code/Users/itingzon/20241011_dell_hpc_env/giga-global-school-mapping/data/vectors/ms_buildings/TJK/123100220.geojson\nReading 30 of 53: /mnt/batch/tasks/shared/LS_root/mounts/clusters/itingzon-compute/code/Users/itingzon/20241011_dell_hpc_env/giga-global-school-mapping/data/vectors/ms_buildings/TJK/123100221.geojson\nReading 31 of 53: /mnt/batch/tasks/shared/LS_root/mounts/clusters/itingzon-compute/code/Users/itingzon/20241011_dell_hpc_env/giga-global-school-mapping/data/vectors/ms_buildings/TJK/123100222.geojson\nReading 32 of 53: /mnt/batch/tasks/shared/LS_root/mounts/clusters/itingzon-compute/code/Users/itingzon/20241011_dell_hpc_env/giga-global-school-mapping/data/vectors/ms_buildings/TJK/123100223.geojson\nReading 33 of 53: /mnt/batch/tasks/shared/LS_root/mounts/clusters/itingzon-compute/code/Users/itingzon/20241011_dell_hpc_env/giga-global-school-mapping/data/vectors/ms_buildings/TJK/123100230.geojson\nReading 34 of 53: /mnt/batch/tasks/shared/LS_root/mounts/clusters/itingzon-compute/code/Users/itingzon/20241011_dell_hpc_env/giga-global-school-mapping/data/vectors/ms_buildings/TJK/123100231.geojson\nReading 35 of 53: /mnt/batch/tasks/shared/LS_root/mounts/clusters/itingzon-compute/code/Users/itingzon/20241011_dell_hpc_env/giga-global-school-mapping/data/vectors/ms_buildings/TJK/123100232.geojson\nReading 36 of 53: /mnt/batch/tasks/shared/LS_root/mounts/clusters/itingzon-compute/code/Users/itingzon/20241011_dell_hpc_env/giga-global-school-mapping/data/vectors/ms_buildings/TJK/123100300.geojson\nReading 37 of 53: /mnt/batch/tasks/shared/LS_root/mounts/clusters/itingzon-compute/code/Users/itingzon/20241011_dell_hpc_env/giga-global-school-mapping/data/vectors/ms_buildings/TJK/123100301.geojson\nReading 38 of 53: /mnt/batch/tasks/shared/LS_root/mounts/clusters/itingzon-compute/code/Users/itingzon/20241011_dell_hpc_env/giga-global-school-mapping/data/vectors/ms_buildings/TJK/123100303.geojson\nReading 39 of 53: /mnt/batch/tasks/shared/LS_root/mounts/clusters/itingzon-compute/code/Users/itingzon/20241011_dell_hpc_env/giga-global-school-mapping/data/vectors/ms_buildings/TJK/123100310.geojson\nReading 40 of 53: /mnt/batch/tasks/shared/LS_root/mounts/clusters/itingzon-compute/code/Users/itingzon/20241011_dell_hpc_env/giga-global-school-mapping/data/vectors/ms_buildings/TJK/123100312.geojson\nReading 41 of 53: /mnt/batch/tasks/shared/LS_root/mounts/clusters/itingzon-compute/code/Users/itingzon/20241011_dell_hpc_env/giga-global-school-mapping/data/vectors/ms_buildings/TJK/123100313.geojson\nReading 42 of 53: /mnt/batch/tasks/shared/LS_root/mounts/clusters/itingzon-compute/code/Users/itingzon/20241011_dell_hpc_env/giga-global-school-mapping/data/vectors/ms_buildings/TJK/123100321.geojson\nReading 43 of 53: /mnt/batch/tasks/shared/LS_root/mounts/clusters/itingzon-compute/code/Users/itingzon/20241011_dell_hpc_env/giga-global-school-mapping/data/vectors/ms_buildings/TJK/123100323.geojson\nReading 44 of 53: /mnt/batch/tasks/shared/LS_root/mounts/clusters/itingzon-compute/code/Users/itingzon/20241011_dell_hpc_env/giga-global-school-mapping/data/vectors/ms_buildings/TJK/123100330.geojson\nReading 45 of 53: /mnt/batch/tasks/shared/LS_root/mounts/clusters/itingzon-compute/code/Users/itingzon/20241011_dell_hpc_env/giga-global-school-mapping/data/vectors/ms_buildings/TJK/123100331.geojson\nReading 46 of 53: /mnt/batch/tasks/shared/LS_root/mounts/clusters/itingzon-compute/code/Users/itingzon/20241011_dell_hpc_env/giga-global-school-mapping/data/vectors/ms_buildings/TJK/123100332.geojson\nReading 47 of 53: /mnt/batch/tasks/shared/LS_root/mounts/clusters/itingzon-compute/code/Users/itingzon/20241011_dell_hpc_env/giga-global-school-mapping/data/vectors/ms_buildings/TJK/123100333.geojson\nReading 48 of 53: /mnt/batch/tasks/shared/LS_root/mounts/clusters/itingzon-compute/code/Users/itingzon/20241011_dell_hpc_env/giga-global-school-mapping/data/vectors/ms_buildings/TJK/123101202.geojson\nReading 49 of 53: /mnt/batch/tasks/shared/LS_root/mounts/clusters/itingzon-compute/code/Users/itingzon/20241011_dell_hpc_env/giga-global-school-mapping/data/vectors/ms_buildings/TJK/123101203.geojson\nReading 50 of 53: /mnt/batch/tasks/shared/LS_root/mounts/clusters/itingzon-compute/code/Users/itingzon/20241011_dell_hpc_env/giga-global-school-mapping/data/vectors/ms_buildings/TJK/123101212.geojson\nReading 51 of 53: /mnt/batch/tasks/shared/LS_root/mounts/clusters/itingzon-compute/code/Users/itingzon/20241011_dell_hpc_env/giga-global-school-mapping/data/vectors/ms_buildings/TJK/123101220.geojson\nReading 52 of 53: /mnt/batch/tasks/shared/LS_root/mounts/clusters/itingzon-compute/code/Users/itingzon/20241011_dell_hpc_env/giga-global-school-mapping/data/vectors/ms_buildings/TJK/123101221.geojson\nReading 53 of 53: /mnt/batch/tasks/shared/LS_root/mounts/clusters/itingzon-compute/code/Users/itingzon/20241011_dell_hpc_env/giga-global-school-mapping/data/vectors/ms_buildings/TJK/123101230.geojson\nMerging GeoDataFrames ...\nSaving merged file to /mnt/batch/tasks/shared/LS_root/mounts/clusters/itingzon-compute/code/Users/itingzon/20241011_dell_hpc_env/giga-global-school-mapping/data/vectors/ms_buildings/TJK_ms_EPSG4326.geojson ...\nSaved merged file to /mnt/batch/tasks/shared/LS_root/mounts/clusters/itingzon-compute/code/Users/itingzon/20241011_dell_hpc_env/giga-global-school-mapping/data/vectors/ms_buildings/TJK_ms_EPSG4326.geojson\n"
        }
      ],
      "execution_count": 11,
      "metadata": {
        "gather": {
          "logged": 1730726828846
        }
      },
      "id": "387e5082-d066-47d3-8bb5-979ea5f72b3d"
    },
    {
      "cell_type": "code",
      "source": [
        "download_utils.download_buildings(config, source=\"google\", verbose=True)"
      ],
      "outputs": [
        {
          "output_type": "stream",
          "name": "stderr",
          "text": "\r  0%|                    | 0/1 [00:00<?, ?it/s]\rProcessing TJK:   0%|                    | 0/1 [00:00<?, ?it/s]\rProcessing TJK: 100%|████████████████████| 1/1 [00:00<00:00, 32.76it/s]\n"
        },
        {
          "output_type": "stream",
          "name": "stdout",
          "text": "0...10...20...30...40...50...60...70...80...90...100 - done.\n"
        }
      ],
      "execution_count": 14,
      "metadata": {
        "gather": {
          "logged": 1730734225134
        }
      },
      "id": "024f9a0a-4b2e-49e8-bd64-e95a6dd805ac"
    },
    {
      "cell_type": "markdown",
      "source": [
        "## Download Global Human Settlements Layer"
      ],
      "metadata": {},
      "id": "42c1634b-b8ac-4293-a3b3-01910c1b5f92"
    },
    {
      "cell_type": "code",
      "source": [
        "download_utils.download_ghsl(config, type=\"built_c\")"
      ],
      "outputs": [],
      "execution_count": 11,
      "metadata": {},
      "id": "325ff415-fe12-40e3-abfa-17e3e161db81"
    },
    {
      "cell_type": "code",
      "source": [
        "download_utils.download_ghsl(config, type=\"smod\")"
      ],
      "outputs": [],
      "execution_count": 12,
      "metadata": {},
      "id": "788993b4-d620-459b-a453-4e51753c38a8"
    }
  ],
  "metadata": {
    "kernelspec": {
      "name": "gigav3",
      "language": "python",
      "display_name": "gigav3"
    },
    "language_info": {
      "name": "python",
      "version": "3.10.13",
      "mimetype": "text/x-python",
      "codemirror_mode": {
        "name": "ipython",
        "version": 3
      },
      "pygments_lexer": "ipython3",
      "nbconvert_exporter": "python",
      "file_extension": ".py"
    },
    "microsoft": {
      "ms_spell_check": {
        "ms_spell_check_language": "en"
      },
      "host": {
        "AzureML": {
          "notebookHasBeenCompleted": true
        }
      }
    },
    "kernel_info": {
      "name": "gigav3"
    },
    "nteract": {
      "version": "nteract-front-end@1.0.0"
    }
  },
  "nbformat": 4,
  "nbformat_minor": 5
}