{
  "cells": [
    {
      "cell_type": "markdown",
      "source": [
        "# Data Download\n",
        "\n",
        "This notebook demonstrates how to download data from the following sources:\n",
        "- GigaMaps\n",
        "- Overture\n",
        "- OpenStreetMap (OSM)\n",
        "- Microsoft Building Footprints\n",
        "- Google Open Buildings\n",
        "- Global Human Settlements Layer (GHSL)"
      ],
      "metadata": {},
      "id": "4b5894ba-126a-4eeb-8578-db256ba22177"
    },
    {
      "cell_type": "markdown",
      "source": [
        "## Imports and Setup"
      ],
      "metadata": {},
      "id": "f8cf4143-2526-44f2-980d-27a390191008"
    },
    {
      "cell_type": "code",
      "source": [
        "import pandas as pd\n",
        "import geopandas as gpd\n",
        "\n",
        "import os \n",
        "os.chdir('../')\n",
        "from utils import download_utils\n",
        "from utils import config_utils\n",
        "\n",
        "import warnings\n",
        "warnings.filterwarnings('ignore')\n",
        "warnings.simplefilter('ignore')\n",
        "\n",
        "%load_ext autoreload\n",
        "%autoreload 2"
      ],
      "outputs": [],
      "execution_count": 2,
      "metadata": {
        "tags": [],
        "gather": {
          "logged": 1733951460266
        }
      },
      "id": "d2159d4d-fa6a-4f66-85b6-e3787fabd541"
    },
    {
      "cell_type": "markdown",
      "source": [
        "## Data Configurations"
      ],
      "metadata": {},
      "id": "de83468e-d5da-48ae-a5f0-79a79dc83b49"
    },
    {
      "cell_type": "code",
      "source": [
        "profile_filename = \"configs/creds.share\"\n",
        "config_filename = \"configs/data_configs/data_config_ISO_BWA.yaml\"\n",
        "profile_file = os.path.join(os.getcwd(), profile_filename)\n",
        "config_file = os.path.join(os.getcwd(), config_filename)\n",
        "config = config_utils.load_config(config_file)"
      ],
      "outputs": [],
      "execution_count": 3,
      "metadata": {
        "gather": {
          "logged": 1733951462177
        }
      },
      "id": "a4a724d8-57da-4c7b-b964-60ae1f7e7eca"
    },
    {
      "cell_type": "markdown",
      "source": [
        "## Download UNICEF"
      ],
      "metadata": {},
      "id": "f2be6376-fc55-48bc-a3b6-5979a87014c8"
    },
    {
      "cell_type": "code",
      "source": [
        "unicef = download_utils.download_unicef(config, profile_file)\n",
        "print(f\"Data dimensions: {unicef.shape}\")\n",
        "unicef.sample(3)"
      ],
      "outputs": [
        {
          "output_type": "stream",
          "name": "stderr",
          "text": "Processing BWA: 100%|████████████████████| 1/1 [00:00<00:00,  4.06it/s]"
        },
        {
          "output_type": "stream",
          "name": "stdout",
          "text": "Data dimensions: (1031, 9)\n"
        },
        {
          "output_type": "execute_result",
          "execution_count": 4,
          "data": {
            "text/plain": "                            UID  source  iso   country  region  \\\n425  UNICEF-BWA-SCHOOL-00000425  UNICEF  BWA  Botswana  Africa   \n936  UNICEF-BWA-SCHOOL-00000936  UNICEF  BWA  Botswana  Africa   \n803  UNICEF-BWA-SCHOOL-00000803  UNICEF  BWA  Botswana  Africa   \n\n              subregion             name  \\\n425  Sub-Saharan Africa           Gakuto   \n936  Sub-Saharan Africa  Ratsie Setlhako   \n803  Sub-Saharan Africa          Tebogo    \n\n                           school_id_giga                    geometry  \n425  676ae93e-cd80-3162-86b5-fbea98b04ae5  POINT (25.78715 -24.47065)  \n936  e5a492f7-3a87-3737-9c8c-0629c5383077  POINT (27.13153 -22.53626)  \n803  c5b018cb-3ca0-3ce4-ae17-b495c4b32359  POINT (27.83446 -21.96889)  ",
            "text/html": "<div>\n<style scoped>\n    .dataframe tbody tr th:only-of-type {\n        vertical-align: middle;\n    }\n\n    .dataframe tbody tr th {\n        vertical-align: top;\n    }\n\n    .dataframe thead th {\n        text-align: right;\n    }\n</style>\n<table border=\"1\" class=\"dataframe\">\n  <thead>\n    <tr style=\"text-align: right;\">\n      <th></th>\n      <th>UID</th>\n      <th>source</th>\n      <th>iso</th>\n      <th>country</th>\n      <th>region</th>\n      <th>subregion</th>\n      <th>name</th>\n      <th>school_id_giga</th>\n      <th>geometry</th>\n    </tr>\n  </thead>\n  <tbody>\n    <tr>\n      <th>425</th>\n      <td>UNICEF-BWA-SCHOOL-00000425</td>\n      <td>UNICEF</td>\n      <td>BWA</td>\n      <td>Botswana</td>\n      <td>Africa</td>\n      <td>Sub-Saharan Africa</td>\n      <td>Gakuto</td>\n      <td>676ae93e-cd80-3162-86b5-fbea98b04ae5</td>\n      <td>POINT (25.78715 -24.47065)</td>\n    </tr>\n    <tr>\n      <th>936</th>\n      <td>UNICEF-BWA-SCHOOL-00000936</td>\n      <td>UNICEF</td>\n      <td>BWA</td>\n      <td>Botswana</td>\n      <td>Africa</td>\n      <td>Sub-Saharan Africa</td>\n      <td>Ratsie Setlhako</td>\n      <td>e5a492f7-3a87-3737-9c8c-0629c5383077</td>\n      <td>POINT (27.13153 -22.53626)</td>\n    </tr>\n    <tr>\n      <th>803</th>\n      <td>UNICEF-BWA-SCHOOL-00000803</td>\n      <td>UNICEF</td>\n      <td>BWA</td>\n      <td>Botswana</td>\n      <td>Africa</td>\n      <td>Sub-Saharan Africa</td>\n      <td>Tebogo</td>\n      <td>c5b018cb-3ca0-3ce4-ae17-b495c4b32359</td>\n      <td>POINT (27.83446 -21.96889)</td>\n    </tr>\n  </tbody>\n</table>\n</div>"
          },
          "metadata": {}
        }
      ],
      "execution_count": 4,
      "metadata": {
        "gather": {
          "logged": 1733920212940
        }
      },
      "id": "cb559f34-dcef-40d4-a45f-ba5a721d6926"
    },
    {
      "cell_type": "markdown",
      "source": [
        "## Download Overture Maps Data"
      ],
      "metadata": {},
      "id": "67680692-4ca8-46ae-89ff-5ed340fcd6f2"
    },
    {
      "cell_type": "code",
      "source": [
        "overture_schools = download_utils.download_overture(config, category=\"school\")\n",
        "print(f\"Data dimensions: {overture_schools.shape}\")\n",
        "overture_schools.sample(3)"
      ],
      "outputs": [
        {
          "output_type": "stream",
          "name": "stdout",
          "text": "Data dimensions: (271, 9)\n"
        },
        {
          "output_type": "execute_result",
          "execution_count": 7,
          "data": {
            "text/plain": "                              UID    source  iso   country  region  \\\n18   OVERTURE-BWA-SCHOOL-00000351  OVERTURE  BWA  Botswana  Africa   \n226  OVERTURE-BWA-SCHOOL-00004592  OVERTURE  BWA  Botswana  Africa   \n54   OVERTURE-BWA-SCHOOL-00001145  OVERTURE  BWA  Botswana  Africa   \n\n              subregion                                         name  \\\n18   Sub-Saharan Africa                            BDF dance academy   \n226  Sub-Saharan Africa                  Francistown School of Chess   \n54   Sub-Saharan Africa  Hukuntsi Lehutshelo Junior Secondary School   \n\n     school_id_giga                    geometry  \n18               18  POINT (25.88784 -24.62561)  \n226             226  POINT (27.51670 -21.16670)  \n54               54  POINT (21.78490 -23.98964)  ",
            "text/html": "<div>\n<style scoped>\n    .dataframe tbody tr th:only-of-type {\n        vertical-align: middle;\n    }\n\n    .dataframe tbody tr th {\n        vertical-align: top;\n    }\n\n    .dataframe thead th {\n        text-align: right;\n    }\n</style>\n<table border=\"1\" class=\"dataframe\">\n  <thead>\n    <tr style=\"text-align: right;\">\n      <th></th>\n      <th>UID</th>\n      <th>source</th>\n      <th>iso</th>\n      <th>country</th>\n      <th>region</th>\n      <th>subregion</th>\n      <th>name</th>\n      <th>school_id_giga</th>\n      <th>geometry</th>\n    </tr>\n  </thead>\n  <tbody>\n    <tr>\n      <th>18</th>\n      <td>OVERTURE-BWA-SCHOOL-00000351</td>\n      <td>OVERTURE</td>\n      <td>BWA</td>\n      <td>Botswana</td>\n      <td>Africa</td>\n      <td>Sub-Saharan Africa</td>\n      <td>BDF dance academy</td>\n      <td>18</td>\n      <td>POINT (25.88784 -24.62561)</td>\n    </tr>\n    <tr>\n      <th>226</th>\n      <td>OVERTURE-BWA-SCHOOL-00004592</td>\n      <td>OVERTURE</td>\n      <td>BWA</td>\n      <td>Botswana</td>\n      <td>Africa</td>\n      <td>Sub-Saharan Africa</td>\n      <td>Francistown School of Chess</td>\n      <td>226</td>\n      <td>POINT (27.51670 -21.16670)</td>\n    </tr>\n    <tr>\n      <th>54</th>\n      <td>OVERTURE-BWA-SCHOOL-00001145</td>\n      <td>OVERTURE</td>\n      <td>BWA</td>\n      <td>Botswana</td>\n      <td>Africa</td>\n      <td>Sub-Saharan Africa</td>\n      <td>Hukuntsi Lehutshelo Junior Secondary School</td>\n      <td>54</td>\n      <td>POINT (21.78490 -23.98964)</td>\n    </tr>\n  </tbody>\n</table>\n</div>"
          },
          "metadata": {}
        }
      ],
      "execution_count": 7,
      "metadata": {
        "gather": {
          "logged": 1733951915093
        }
      },
      "id": "cd46674d-6d88-4642-9a8d-fc2533e56eb9"
    },
    {
      "cell_type": "code",
      "source": [
        "overture_nonschools = download_utils.download_overture(\n",
        "    config, category=\"non_school\", exclude=\"school\"\n",
        ")\n",
        "print(overture_nonschools.shape)\n",
        "overture_nonschools.sample(3)"
      ],
      "outputs": [
        {
          "output_type": "stream",
          "name": "stderr",
          "text": "\r  0%|                    | 0/1 [00:00<?, ?it/s]\rProcessing BWA:   0%|                    | 0/1 [00:00<?, ?it/s]"
        },
        {
          "output_type": "display_data",
          "data": {
            "text/plain": "FloatProgress(value=0.0, layout=Layout(width='auto'), style=ProgressStyle(bar_color='black'))",
            "application/vnd.jupyter.widget-view+json": {
              "version_major": 2,
              "version_minor": 0,
              "model_id": "fb73effe092a48e984130a7fd4f59024"
            }
          },
          "metadata": {}
        },
        {
          "output_type": "stream",
          "name": "stderr",
          "text": "\rProcessing BWA: 100%|████████████████████| 1/1 [08:25<00:00, 505.70s/it]\rProcessing BWA: 100%|████████████████████| 1/1 [08:25<00:00, 505.70s/it]"
        },
        {
          "output_type": "stream",
          "name": "stdout",
          "text": "(2133, 9)\n"
        },
        {
          "output_type": "execute_result",
          "execution_count": 9,
          "data": {
            "text/plain": "                                   UID    source  iso   country  region  \\\n3     OVERTURE-BWA-NON_SCHOOL-00000052  OVERTURE  BWA  Botswana  Africa   \n1997  OVERTURE-BWA-NON_SCHOOL-00033215  OVERTURE  BWA  Botswana  Africa   \n1643  OVERTURE-BWA-NON_SCHOOL-00027129  OVERTURE  BWA  Botswana  Africa   \n\n               subregion                    name  school_id_giga  \\\n3     Sub-Saharan Africa  Thakadu Hotel Restaura               3   \n1997  Sub-Saharan Africa    Green World Pharmacy            1997   \n1643  Sub-Saharan Africa              Mc Cafe BW            1643   \n\n                        geometry  \n3     POINT (27.13060 -22.55591)  \n1997  POINT (27.54527 -21.18902)  \n1643  POINT (25.88823 -24.68703)  ",
            "text/html": "<div>\n<style scoped>\n    .dataframe tbody tr th:only-of-type {\n        vertical-align: middle;\n    }\n\n    .dataframe tbody tr th {\n        vertical-align: top;\n    }\n\n    .dataframe thead th {\n        text-align: right;\n    }\n</style>\n<table border=\"1\" class=\"dataframe\">\n  <thead>\n    <tr style=\"text-align: right;\">\n      <th></th>\n      <th>UID</th>\n      <th>source</th>\n      <th>iso</th>\n      <th>country</th>\n      <th>region</th>\n      <th>subregion</th>\n      <th>name</th>\n      <th>school_id_giga</th>\n      <th>geometry</th>\n    </tr>\n  </thead>\n  <tbody>\n    <tr>\n      <th>3</th>\n      <td>OVERTURE-BWA-NON_SCHOOL-00000052</td>\n      <td>OVERTURE</td>\n      <td>BWA</td>\n      <td>Botswana</td>\n      <td>Africa</td>\n      <td>Sub-Saharan Africa</td>\n      <td>Thakadu Hotel Restaura</td>\n      <td>3</td>\n      <td>POINT (27.13060 -22.55591)</td>\n    </tr>\n    <tr>\n      <th>1997</th>\n      <td>OVERTURE-BWA-NON_SCHOOL-00033215</td>\n      <td>OVERTURE</td>\n      <td>BWA</td>\n      <td>Botswana</td>\n      <td>Africa</td>\n      <td>Sub-Saharan Africa</td>\n      <td>Green World Pharmacy</td>\n      <td>1997</td>\n      <td>POINT (27.54527 -21.18902)</td>\n    </tr>\n    <tr>\n      <th>1643</th>\n      <td>OVERTURE-BWA-NON_SCHOOL-00027129</td>\n      <td>OVERTURE</td>\n      <td>BWA</td>\n      <td>Botswana</td>\n      <td>Africa</td>\n      <td>Sub-Saharan Africa</td>\n      <td>Mc Cafe BW</td>\n      <td>1643</td>\n      <td>POINT (25.88823 -24.68703)</td>\n    </tr>\n  </tbody>\n</table>\n</div>"
          },
          "metadata": {}
        }
      ],
      "execution_count": 9,
      "metadata": {
        "tags": [],
        "gather": {
          "logged": 1733921343889
        }
      },
      "id": "189c8518-d896-4472-88a5-971422aa7f3c"
    },
    {
      "cell_type": "markdown",
      "source": [
        "## Download OpenStreetMap (OSM) Data"
      ],
      "metadata": {},
      "id": "90aa0884-c872-413f-b014-3b246dd6b321"
    },
    {
      "cell_type": "code",
      "source": [
        "osm_schools = download_utils.download_osm(config, category=\"school\")\n",
        "print(f\"Data dimensions: {osm_schools.shape}\")\n",
        "osm_schools.sample(3)"
      ],
      "outputs": [
        {
          "output_type": "stream",
          "name": "stderr",
          "text": "\r  0%|                    | 0/1 [00:00<?, ?it/s]\rProcessing BWA:   0%|                    | 0/1 [00:00<?, ?it/s]"
        },
        {
          "output_type": "stream",
          "name": "stdout",
          "text": "Data dimensions: (284, 9)\n"
        },
        {
          "output_type": "execute_result",
          "execution_count": 6,
          "data": {
            "text/plain": "                         UID source  iso   country  region  \\\n7    OSM-BWA-SCHOOL-00000007    OSM  BWA  Botswana  Africa   \n115  OSM-BWA-SCHOOL-00000115    OSM  BWA  Botswana  Africa   \n2    OSM-BWA-SCHOOL-00000002    OSM  BWA  Botswana  Africa   \n\n              subregion                                 name  \\\n7    Sub-Saharan Africa                                 None   \n115  Sub-Saharan Africa                 Vukwi primary school   \n2    Sub-Saharan Africa  Francistown Senior Secondary School   \n\n                       geometry  school_id_giga  \n7    POINT (27.83595 -21.96940)               7  \n115  POINT (27.39718 -20.60259)             115  \n2    POINT (27.49136 -21.16794)               2  ",
            "text/html": "<div>\n<style scoped>\n    .dataframe tbody tr th:only-of-type {\n        vertical-align: middle;\n    }\n\n    .dataframe tbody tr th {\n        vertical-align: top;\n    }\n\n    .dataframe thead th {\n        text-align: right;\n    }\n</style>\n<table border=\"1\" class=\"dataframe\">\n  <thead>\n    <tr style=\"text-align: right;\">\n      <th></th>\n      <th>UID</th>\n      <th>source</th>\n      <th>iso</th>\n      <th>country</th>\n      <th>region</th>\n      <th>subregion</th>\n      <th>name</th>\n      <th>geometry</th>\n      <th>school_id_giga</th>\n    </tr>\n  </thead>\n  <tbody>\n    <tr>\n      <th>7</th>\n      <td>OSM-BWA-SCHOOL-00000007</td>\n      <td>OSM</td>\n      <td>BWA</td>\n      <td>Botswana</td>\n      <td>Africa</td>\n      <td>Sub-Saharan Africa</td>\n      <td>None</td>\n      <td>POINT (27.83595 -21.96940)</td>\n      <td>7</td>\n    </tr>\n    <tr>\n      <th>115</th>\n      <td>OSM-BWA-SCHOOL-00000115</td>\n      <td>OSM</td>\n      <td>BWA</td>\n      <td>Botswana</td>\n      <td>Africa</td>\n      <td>Sub-Saharan Africa</td>\n      <td>Vukwi primary school</td>\n      <td>POINT (27.39718 -20.60259)</td>\n      <td>115</td>\n    </tr>\n    <tr>\n      <th>2</th>\n      <td>OSM-BWA-SCHOOL-00000002</td>\n      <td>OSM</td>\n      <td>BWA</td>\n      <td>Botswana</td>\n      <td>Africa</td>\n      <td>Sub-Saharan Africa</td>\n      <td>Francistown Senior Secondary School</td>\n      <td>POINT (27.49136 -21.16794)</td>\n      <td>2</td>\n    </tr>\n  </tbody>\n</table>\n</div>"
          },
          "metadata": {}
        }
      ],
      "execution_count": 6,
      "metadata": {
        "tags": [],
        "gather": {
          "logged": 1733920229958
        }
      },
      "id": "b999ce0c-567c-4c8b-91f1-32a44aa7752f"
    },
    {
      "cell_type": "code",
      "source": [
        "osm_nonschools = download_utils.download_osm(config, category=\"non_school\")\n",
        "print(f\"Data dimensions: {osm_nonschools.shape}\")\n",
        "osm_nonschools.sample(3)"
      ],
      "outputs": [
        {
          "output_type": "stream",
          "name": "stderr",
          "text": "Processing BWA:   0%|                    | 0/1 [00:00<?, ?it/s]WARNING:fiona._env:Several features with id = 269543818 have been found. Altering it to be unique. This warning will not be emitted anymore for this layer\nWARNING:fiona._env:Several features with id = 269543818 have been found. Altering it to be unique. This warning will not be emitted anymore for this layer\n"
        },
        {
          "output_type": "stream",
          "name": "stdout",
          "text": "Data dimensions: (1836, 9)\n"
        },
        {
          "output_type": "execute_result",
          "execution_count": 7,
          "data": {
            "text/plain": "                              UID source  iso   country  region  \\\n461   OSM-BWA-NON_SCHOOL-00000461    OSM  BWA  Botswana  Africa   \n1484  OSM-BWA-NON_SCHOOL-00001484    OSM  BWA  Botswana  Africa   \n1753  OSM-BWA-NON_SCHOOL-00001753    OSM  BWA  Botswana  Africa   \n\n               subregion              name                    geometry  \\\n461   Sub-Saharan Africa     Easy Come Bar  POINT (26.68205 -22.38224)   \n1484  Sub-Saharan Africa        CBD Police  POINT (25.90677 -24.64473)   \n1753  Sub-Saharan Africa  Mokubilo Clinici  POINT (26.42994 -21.23319)   \n\n      school_id_giga  \n461              461  \n1484            1484  \n1753            1753  ",
            "text/html": "<div>\n<style scoped>\n    .dataframe tbody tr th:only-of-type {\n        vertical-align: middle;\n    }\n\n    .dataframe tbody tr th {\n        vertical-align: top;\n    }\n\n    .dataframe thead th {\n        text-align: right;\n    }\n</style>\n<table border=\"1\" class=\"dataframe\">\n  <thead>\n    <tr style=\"text-align: right;\">\n      <th></th>\n      <th>UID</th>\n      <th>source</th>\n      <th>iso</th>\n      <th>country</th>\n      <th>region</th>\n      <th>subregion</th>\n      <th>name</th>\n      <th>geometry</th>\n      <th>school_id_giga</th>\n    </tr>\n  </thead>\n  <tbody>\n    <tr>\n      <th>461</th>\n      <td>OSM-BWA-NON_SCHOOL-00000461</td>\n      <td>OSM</td>\n      <td>BWA</td>\n      <td>Botswana</td>\n      <td>Africa</td>\n      <td>Sub-Saharan Africa</td>\n      <td>Easy Come Bar</td>\n      <td>POINT (26.68205 -22.38224)</td>\n      <td>461</td>\n    </tr>\n    <tr>\n      <th>1484</th>\n      <td>OSM-BWA-NON_SCHOOL-00001484</td>\n      <td>OSM</td>\n      <td>BWA</td>\n      <td>Botswana</td>\n      <td>Africa</td>\n      <td>Sub-Saharan Africa</td>\n      <td>CBD Police</td>\n      <td>POINT (25.90677 -24.64473)</td>\n      <td>1484</td>\n    </tr>\n    <tr>\n      <th>1753</th>\n      <td>OSM-BWA-NON_SCHOOL-00001753</td>\n      <td>OSM</td>\n      <td>BWA</td>\n      <td>Botswana</td>\n      <td>Africa</td>\n      <td>Sub-Saharan Africa</td>\n      <td>Mokubilo Clinici</td>\n      <td>POINT (26.42994 -21.23319)</td>\n      <td>1753</td>\n    </tr>\n  </tbody>\n</table>\n</div>"
          },
          "metadata": {}
        }
      ],
      "execution_count": 7,
      "metadata": {
        "tags": [],
        "gather": {
          "logged": 1733920246045
        }
      },
      "id": "9120693a-ec23-4347-bacc-93178b4af087"
    },
    {
      "cell_type": "markdown",
      "source": [
        "## Download Building Footprints"
      ],
      "metadata": {},
      "id": "ee5e52a4-4ba1-418b-aaa9-0111670bf516"
    },
    {
      "cell_type": "markdown",
      "source": [
        "#### Microsoft Building Footprints"
      ],
      "metadata": {
        "nteract": {
          "transient": {
            "deleting": false
          }
        }
      },
      "id": "e953126b-6395-4cb4-bb1c-b2346b4cc915"
    },
    {
      "cell_type": "code",
      "source": [
        "download_utils.download_buildings(config, source=\"ms\", verbose=True)"
      ],
      "outputs": [
        {
          "output_type": "stream",
          "name": "stderr",
          "text": "Processing BWA: 100%|████████████████████| 1/1 [19:05<00:00, 1145.05s/it]/bin/sh: 1: ogr2ogr: not found\nProcessing BWA: 100%|████████████████████| 1/1 [19:05<00:00, 1145.05s/it]\n"
        },
        {
          "output_type": "stream",
          "name": "stdout",
          "text": "Found 136 links for Botswana\nDownloading 1 of 136: 300033121.geojson\nDownloading 2 of 136: 300033123.geojson\nDownloading 3 of 136: 300033130.geojson\nDownloading 4 of 136: 300033131.geojson\nDownloading 5 of 136: 300033132.geojson\nDownloading 6 of 136: 300033133.geojson\nDownloading 7 of 136: 300033301.geojson\nDownloading 8 of 136: 300033303.geojson\nDownloading 9 of 136: 300033310.geojson\nDownloading 10 of 136: 300033311.geojson\nDownloading 11 of 136: 300033312.geojson\nDownloading 12 of 136: 300033313.geojson\nDownloading 13 of 136: 300033321.geojson\nDownloading 14 of 136: 300033323.geojson\nDownloading 15 of 136: 300033330.geojson\nDownloading 16 of 136: 300033331.geojson\nDownloading 17 of 136: 300033332.geojson\nDownloading 18 of 136: 300033333.geojson\nDownloading 19 of 136: 300122012.geojson\nDownloading 20 of 136: 300122013.geojson\nDownloading 21 of 136: 300122020.geojson\nDownloading 22 of 136: 300122021.geojson\nDownloading 23 of 136: 300122022.geojson\nDownloading 24 of 136: 300122023.geojson\nDownloading 25 of 136: 300122030.geojson\nDownloading 26 of 136: 300122031.geojson\nDownloading 27 of 136: 300122032.geojson\nDownloading 28 of 136: 300122033.geojson\nDownloading 29 of 136: 300122120.geojson\nDownloading 30 of 136: 300122122.geojson\nDownloading 31 of 136: 300122200.geojson\nDownloading 32 of 136: 300122201.geojson\nDownloading 33 of 136: 300122202.geojson\nDownloading 34 of 136: 300122203.geojson\nDownloading 35 of 136: 300122210.geojson\nDownloading 36 of 136: 300122211.geojson\nDownloading 37 of 136: 300122212.geojson\nDownloading 38 of 136: 300122213.geojson\nDownloading 39 of 136: 300122220.geojson\nDownloading 40 of 136: 300122221.geojson\nDownloading 41 of 136: 300122222.geojson\nDownloading 42 of 136: 300122223.geojson\nDownloading 43 of 136: 300122230.geojson\nDownloading 44 of 136: 300122231.geojson\nDownloading 45 of 136: 300122232.geojson\nDownloading 46 of 136: 300122233.geojson\nDownloading 47 of 136: 300122300.geojson\nDownloading 48 of 136: 300122301.geojson\nDownloading 49 of 136: 300122302.geojson\nDownloading 50 of 136: 300122303.geojson\nDownloading 51 of 136: 300122310.geojson\nDownloading 52 of 136: 300122312.geojson\nDownloading 53 of 136: 300122313.geojson\nDownloading 54 of 136: 300122320.geojson\nDownloading 55 of 136: 300122321.geojson\nDownloading 56 of 136: 300122322.geojson\nDownloading 57 of 136: 300122323.geojson\nDownloading 58 of 136: 300122330.geojson\nDownloading 59 of 136: 300122331.geojson\nDownloading 60 of 136: 300122332.geojson\nDownloading 61 of 136: 300122333.geojson\nDownloading 62 of 136: 300123222.geojson\nDownloading 63 of 136: 300123223.geojson\nDownloading 64 of 136: 300211100.geojson\nDownloading 65 of 136: 300211101.geojson\nDownloading 66 of 136: 300211102.geojson\nDownloading 67 of 136: 300211103.geojson\nDownloading 68 of 136: 300211110.geojson\nDownloading 69 of 136: 300211111.geojson\nDownloading 70 of 136: 300211112.geojson\nDownloading 71 of 136: 300211113.geojson\nDownloading 72 of 136: 300211120.geojson\nDownloading 73 of 136: 300211121.geojson\nDownloading 74 of 136: 300211122.geojson\nDownloading 75 of 136: 300211123.geojson\nDownloading 76 of 136: 300211130.geojson\nDownloading 77 of 136: 300211131.geojson\nDownloading 78 of 136: 300211132.geojson\nDownloading 79 of 136: 300211133.geojson\nDownloading 80 of 136: 300211300.geojson\nDownloading 81 of 136: 300211301.geojson\nDownloading 82 of 136: 300211303.geojson\nDownloading 83 of 136: 300211310.geojson\nDownloading 84 of 136: 300211311.geojson\nDownloading 85 of 136: 300211312.geojson\nDownloading 86 of 136: 300211313.geojson\nDownloading 87 of 136: 300211321.geojson\nDownloading 88 of 136: 300211323.geojson\nDownloading 89 of 136: 300211330.geojson\nDownloading 90 of 136: 300211331.geojson\nDownloading 91 of 136: 300211332.geojson\nDownloading 92 of 136: 300211333.geojson\nDownloading 93 of 136: 300300000.geojson\nDownloading 94 of 136: 300300010.geojson\nDownloading 95 of 136: 300300011.geojson\nDownloading 96 of 136: 300300012.geojson\nDownloading 97 of 136: 300300013.geojson\nDownloading 98 of 136: 300300020.geojson\nDownloading 99 of 136: 300300021.geojson\nDownloading 100 of 136: 300300022.geojson\nDownloading 101 of 136: 300300023.geojson\nDownloading 102 of 136: 300300030.geojson\nDownloading 103 of 136: 300300031.geojson\nDownloading 104 of 136: 300300032.geojson\nDownloading 105 of 136: 300300033.geojson\nDownloading 106 of 136: 300300100.geojson\nDownloading 107 of 136: 300300101.geojson\nDownloading 108 of 136: 300300102.geojson\nDownloading 109 of 136: 300300103.geojson\nDownloading 110 of 136: 300300110.geojson\nDownloading 111 of 136: 300300111.geojson\nDownloading 112 of 136: 300300112.geojson\nDownloading 113 of 136: 300300113.geojson\nDownloading 114 of 136: 300300120.geojson\nDownloading 115 of 136: 300300121.geojson\nDownloading 116 of 136: 300300122.geojson\nDownloading 117 of 136: 300300123.geojson\nDownloading 118 of 136: 300300130.geojson\nDownloading 119 of 136: 300300131.geojson\nDownloading 120 of 136: 300300132.geojson\nDownloading 121 of 136: 300300200.geojson\nDownloading 122 of 136: 300300201.geojson\nDownloading 123 of 136: 300300202.geojson\nDownloading 124 of 136: 300300203.geojson\nDownloading 125 of 136: 300300210.geojson\nDownloading 126 of 136: 300300211.geojson\nDownloading 127 of 136: 300300212.geojson\nDownloading 128 of 136: 300300213.geojson\nDownloading 129 of 136: 300300220.geojson\nDownloading 130 of 136: 300300231.geojson\nDownloading 131 of 136: 300300300.geojson\nDownloading 132 of 136: 300300301.geojson\nDownloading 133 of 136: 300300302.geojson\nDownloading 134 of 136: 300301000.geojson\nDownloading 135 of 136: 300301001.geojson\nDownloading 136 of 136: 300301002.geojson\nReading 1 of 136: /mnt/batch/tasks/shared/LS_root/mounts/clusters/model-deployment3/code/Users/itingzon/20241011_dell_hpc_env/giga-global-school-mapping/data/vectors/ms_buildings/BWA/300033121.geojson\nReading 2 of 136: /mnt/batch/tasks/shared/LS_root/mounts/clusters/model-deployment3/code/Users/itingzon/20241011_dell_hpc_env/giga-global-school-mapping/data/vectors/ms_buildings/BWA/300033123.geojson\nReading 3 of 136: /mnt/batch/tasks/shared/LS_root/mounts/clusters/model-deployment3/code/Users/itingzon/20241011_dell_hpc_env/giga-global-school-mapping/data/vectors/ms_buildings/BWA/300033130.geojson\nReading 4 of 136: /mnt/batch/tasks/shared/LS_root/mounts/clusters/model-deployment3/code/Users/itingzon/20241011_dell_hpc_env/giga-global-school-mapping/data/vectors/ms_buildings/BWA/300033131.geojson\nReading 5 of 136: /mnt/batch/tasks/shared/LS_root/mounts/clusters/model-deployment3/code/Users/itingzon/20241011_dell_hpc_env/giga-global-school-mapping/data/vectors/ms_buildings/BWA/300033132.geojson\nReading 6 of 136: /mnt/batch/tasks/shared/LS_root/mounts/clusters/model-deployment3/code/Users/itingzon/20241011_dell_hpc_env/giga-global-school-mapping/data/vectors/ms_buildings/BWA/300033133.geojson\nReading 7 of 136: /mnt/batch/tasks/shared/LS_root/mounts/clusters/model-deployment3/code/Users/itingzon/20241011_dell_hpc_env/giga-global-school-mapping/data/vectors/ms_buildings/BWA/300033301.geojson\nReading 8 of 136: /mnt/batch/tasks/shared/LS_root/mounts/clusters/model-deployment3/code/Users/itingzon/20241011_dell_hpc_env/giga-global-school-mapping/data/vectors/ms_buildings/BWA/300033303.geojson\nReading 9 of 136: /mnt/batch/tasks/shared/LS_root/mounts/clusters/model-deployment3/code/Users/itingzon/20241011_dell_hpc_env/giga-global-school-mapping/data/vectors/ms_buildings/BWA/300033310.geojson\nReading 10 of 136: /mnt/batch/tasks/shared/LS_root/mounts/clusters/model-deployment3/code/Users/itingzon/20241011_dell_hpc_env/giga-global-school-mapping/data/vectors/ms_buildings/BWA/300033311.geojson\nReading 11 of 136: /mnt/batch/tasks/shared/LS_root/mounts/clusters/model-deployment3/code/Users/itingzon/20241011_dell_hpc_env/giga-global-school-mapping/data/vectors/ms_buildings/BWA/300033312.geojson\nReading 12 of 136: /mnt/batch/tasks/shared/LS_root/mounts/clusters/model-deployment3/code/Users/itingzon/20241011_dell_hpc_env/giga-global-school-mapping/data/vectors/ms_buildings/BWA/300033313.geojson\nReading 13 of 136: /mnt/batch/tasks/shared/LS_root/mounts/clusters/model-deployment3/code/Users/itingzon/20241011_dell_hpc_env/giga-global-school-mapping/data/vectors/ms_buildings/BWA/300033321.geojson\nReading 14 of 136: /mnt/batch/tasks/shared/LS_root/mounts/clusters/model-deployment3/code/Users/itingzon/20241011_dell_hpc_env/giga-global-school-mapping/data/vectors/ms_buildings/BWA/300033323.geojson\nReading 15 of 136: /mnt/batch/tasks/shared/LS_root/mounts/clusters/model-deployment3/code/Users/itingzon/20241011_dell_hpc_env/giga-global-school-mapping/data/vectors/ms_buildings/BWA/300033330.geojson\nReading 16 of 136: /mnt/batch/tasks/shared/LS_root/mounts/clusters/model-deployment3/code/Users/itingzon/20241011_dell_hpc_env/giga-global-school-mapping/data/vectors/ms_buildings/BWA/300033331.geojson\nReading 17 of 136: /mnt/batch/tasks/shared/LS_root/mounts/clusters/model-deployment3/code/Users/itingzon/20241011_dell_hpc_env/giga-global-school-mapping/data/vectors/ms_buildings/BWA/300033332.geojson\nReading 18 of 136: /mnt/batch/tasks/shared/LS_root/mounts/clusters/model-deployment3/code/Users/itingzon/20241011_dell_hpc_env/giga-global-school-mapping/data/vectors/ms_buildings/BWA/300033333.geojson\nReading 19 of 136: /mnt/batch/tasks/shared/LS_root/mounts/clusters/model-deployment3/code/Users/itingzon/20241011_dell_hpc_env/giga-global-school-mapping/data/vectors/ms_buildings/BWA/300122012.geojson\nReading 20 of 136: /mnt/batch/tasks/shared/LS_root/mounts/clusters/model-deployment3/code/Users/itingzon/20241011_dell_hpc_env/giga-global-school-mapping/data/vectors/ms_buildings/BWA/300122013.geojson\nReading 21 of 136: /mnt/batch/tasks/shared/LS_root/mounts/clusters/model-deployment3/code/Users/itingzon/20241011_dell_hpc_env/giga-global-school-mapping/data/vectors/ms_buildings/BWA/300122020.geojson\nReading 22 of 136: /mnt/batch/tasks/shared/LS_root/mounts/clusters/model-deployment3/code/Users/itingzon/20241011_dell_hpc_env/giga-global-school-mapping/data/vectors/ms_buildings/BWA/300122021.geojson\nReading 23 of 136: /mnt/batch/tasks/shared/LS_root/mounts/clusters/model-deployment3/code/Users/itingzon/20241011_dell_hpc_env/giga-global-school-mapping/data/vectors/ms_buildings/BWA/300122022.geojson\nReading 24 of 136: /mnt/batch/tasks/shared/LS_root/mounts/clusters/model-deployment3/code/Users/itingzon/20241011_dell_hpc_env/giga-global-school-mapping/data/vectors/ms_buildings/BWA/300122023.geojson\nReading 25 of 136: /mnt/batch/tasks/shared/LS_root/mounts/clusters/model-deployment3/code/Users/itingzon/20241011_dell_hpc_env/giga-global-school-mapping/data/vectors/ms_buildings/BWA/300122030.geojson\nReading 26 of 136: /mnt/batch/tasks/shared/LS_root/mounts/clusters/model-deployment3/code/Users/itingzon/20241011_dell_hpc_env/giga-global-school-mapping/data/vectors/ms_buildings/BWA/300122031.geojson\nReading 27 of 136: /mnt/batch/tasks/shared/LS_root/mounts/clusters/model-deployment3/code/Users/itingzon/20241011_dell_hpc_env/giga-global-school-mapping/data/vectors/ms_buildings/BWA/300122032.geojson\nReading 28 of 136: /mnt/batch/tasks/shared/LS_root/mounts/clusters/model-deployment3/code/Users/itingzon/20241011_dell_hpc_env/giga-global-school-mapping/data/vectors/ms_buildings/BWA/300122033.geojson\nReading 29 of 136: /mnt/batch/tasks/shared/LS_root/mounts/clusters/model-deployment3/code/Users/itingzon/20241011_dell_hpc_env/giga-global-school-mapping/data/vectors/ms_buildings/BWA/300122120.geojson\nReading 30 of 136: /mnt/batch/tasks/shared/LS_root/mounts/clusters/model-deployment3/code/Users/itingzon/20241011_dell_hpc_env/giga-global-school-mapping/data/vectors/ms_buildings/BWA/300122122.geojson\nReading 31 of 136: /mnt/batch/tasks/shared/LS_root/mounts/clusters/model-deployment3/code/Users/itingzon/20241011_dell_hpc_env/giga-global-school-mapping/data/vectors/ms_buildings/BWA/300122200.geojson\nReading 32 of 136: /mnt/batch/tasks/shared/LS_root/mounts/clusters/model-deployment3/code/Users/itingzon/20241011_dell_hpc_env/giga-global-school-mapping/data/vectors/ms_buildings/BWA/300122201.geojson\nReading 33 of 136: /mnt/batch/tasks/shared/LS_root/mounts/clusters/model-deployment3/code/Users/itingzon/20241011_dell_hpc_env/giga-global-school-mapping/data/vectors/ms_buildings/BWA/300122202.geojson\nReading 34 of 136: /mnt/batch/tasks/shared/LS_root/mounts/clusters/model-deployment3/code/Users/itingzon/20241011_dell_hpc_env/giga-global-school-mapping/data/vectors/ms_buildings/BWA/300122203.geojson\nReading 35 of 136: /mnt/batch/tasks/shared/LS_root/mounts/clusters/model-deployment3/code/Users/itingzon/20241011_dell_hpc_env/giga-global-school-mapping/data/vectors/ms_buildings/BWA/300122210.geojson\nReading 36 of 136: /mnt/batch/tasks/shared/LS_root/mounts/clusters/model-deployment3/code/Users/itingzon/20241011_dell_hpc_env/giga-global-school-mapping/data/vectors/ms_buildings/BWA/300122211.geojson\nReading 37 of 136: /mnt/batch/tasks/shared/LS_root/mounts/clusters/model-deployment3/code/Users/itingzon/20241011_dell_hpc_env/giga-global-school-mapping/data/vectors/ms_buildings/BWA/300122212.geojson\nReading 38 of 136: /mnt/batch/tasks/shared/LS_root/mounts/clusters/model-deployment3/code/Users/itingzon/20241011_dell_hpc_env/giga-global-school-mapping/data/vectors/ms_buildings/BWA/300122213.geojson\nReading 39 of 136: /mnt/batch/tasks/shared/LS_root/mounts/clusters/model-deployment3/code/Users/itingzon/20241011_dell_hpc_env/giga-global-school-mapping/data/vectors/ms_buildings/BWA/300122220.geojson\nReading 40 of 136: /mnt/batch/tasks/shared/LS_root/mounts/clusters/model-deployment3/code/Users/itingzon/20241011_dell_hpc_env/giga-global-school-mapping/data/vectors/ms_buildings/BWA/300122221.geojson\nReading 41 of 136: /mnt/batch/tasks/shared/LS_root/mounts/clusters/model-deployment3/code/Users/itingzon/20241011_dell_hpc_env/giga-global-school-mapping/data/vectors/ms_buildings/BWA/300122222.geojson\nReading 42 of 136: /mnt/batch/tasks/shared/LS_root/mounts/clusters/model-deployment3/code/Users/itingzon/20241011_dell_hpc_env/giga-global-school-mapping/data/vectors/ms_buildings/BWA/300122223.geojson\nReading 43 of 136: /mnt/batch/tasks/shared/LS_root/mounts/clusters/model-deployment3/code/Users/itingzon/20241011_dell_hpc_env/giga-global-school-mapping/data/vectors/ms_buildings/BWA/300122230.geojson\nReading 44 of 136: /mnt/batch/tasks/shared/LS_root/mounts/clusters/model-deployment3/code/Users/itingzon/20241011_dell_hpc_env/giga-global-school-mapping/data/vectors/ms_buildings/BWA/300122231.geojson\nReading 45 of 136: /mnt/batch/tasks/shared/LS_root/mounts/clusters/model-deployment3/code/Users/itingzon/20241011_dell_hpc_env/giga-global-school-mapping/data/vectors/ms_buildings/BWA/300122232.geojson\nReading 46 of 136: /mnt/batch/tasks/shared/LS_root/mounts/clusters/model-deployment3/code/Users/itingzon/20241011_dell_hpc_env/giga-global-school-mapping/data/vectors/ms_buildings/BWA/300122233.geojson\nReading 47 of 136: /mnt/batch/tasks/shared/LS_root/mounts/clusters/model-deployment3/code/Users/itingzon/20241011_dell_hpc_env/giga-global-school-mapping/data/vectors/ms_buildings/BWA/300122300.geojson\nReading 48 of 136: /mnt/batch/tasks/shared/LS_root/mounts/clusters/model-deployment3/code/Users/itingzon/20241011_dell_hpc_env/giga-global-school-mapping/data/vectors/ms_buildings/BWA/300122301.geojson\nReading 49 of 136: /mnt/batch/tasks/shared/LS_root/mounts/clusters/model-deployment3/code/Users/itingzon/20241011_dell_hpc_env/giga-global-school-mapping/data/vectors/ms_buildings/BWA/300122302.geojson\nReading 50 of 136: /mnt/batch/tasks/shared/LS_root/mounts/clusters/model-deployment3/code/Users/itingzon/20241011_dell_hpc_env/giga-global-school-mapping/data/vectors/ms_buildings/BWA/300122303.geojson\nReading 51 of 136: /mnt/batch/tasks/shared/LS_root/mounts/clusters/model-deployment3/code/Users/itingzon/20241011_dell_hpc_env/giga-global-school-mapping/data/vectors/ms_buildings/BWA/300122310.geojson\nReading 52 of 136: /mnt/batch/tasks/shared/LS_root/mounts/clusters/model-deployment3/code/Users/itingzon/20241011_dell_hpc_env/giga-global-school-mapping/data/vectors/ms_buildings/BWA/300122312.geojson\nReading 53 of 136: /mnt/batch/tasks/shared/LS_root/mounts/clusters/model-deployment3/code/Users/itingzon/20241011_dell_hpc_env/giga-global-school-mapping/data/vectors/ms_buildings/BWA/300122313.geojson\nReading 54 of 136: /mnt/batch/tasks/shared/LS_root/mounts/clusters/model-deployment3/code/Users/itingzon/20241011_dell_hpc_env/giga-global-school-mapping/data/vectors/ms_buildings/BWA/300122320.geojson\nReading 55 of 136: /mnt/batch/tasks/shared/LS_root/mounts/clusters/model-deployment3/code/Users/itingzon/20241011_dell_hpc_env/giga-global-school-mapping/data/vectors/ms_buildings/BWA/300122321.geojson\nReading 56 of 136: /mnt/batch/tasks/shared/LS_root/mounts/clusters/model-deployment3/code/Users/itingzon/20241011_dell_hpc_env/giga-global-school-mapping/data/vectors/ms_buildings/BWA/300122322.geojson\nReading 57 of 136: /mnt/batch/tasks/shared/LS_root/mounts/clusters/model-deployment3/code/Users/itingzon/20241011_dell_hpc_env/giga-global-school-mapping/data/vectors/ms_buildings/BWA/300122323.geojson\nReading 58 of 136: /mnt/batch/tasks/shared/LS_root/mounts/clusters/model-deployment3/code/Users/itingzon/20241011_dell_hpc_env/giga-global-school-mapping/data/vectors/ms_buildings/BWA/300122330.geojson\nReading 59 of 136: /mnt/batch/tasks/shared/LS_root/mounts/clusters/model-deployment3/code/Users/itingzon/20241011_dell_hpc_env/giga-global-school-mapping/data/vectors/ms_buildings/BWA/300122331.geojson\nReading 60 of 136: /mnt/batch/tasks/shared/LS_root/mounts/clusters/model-deployment3/code/Users/itingzon/20241011_dell_hpc_env/giga-global-school-mapping/data/vectors/ms_buildings/BWA/300122332.geojson\nReading 61 of 136: /mnt/batch/tasks/shared/LS_root/mounts/clusters/model-deployment3/code/Users/itingzon/20241011_dell_hpc_env/giga-global-school-mapping/data/vectors/ms_buildings/BWA/300122333.geojson\nReading 62 of 136: /mnt/batch/tasks/shared/LS_root/mounts/clusters/model-deployment3/code/Users/itingzon/20241011_dell_hpc_env/giga-global-school-mapping/data/vectors/ms_buildings/BWA/300123222.geojson\nReading 63 of 136: /mnt/batch/tasks/shared/LS_root/mounts/clusters/model-deployment3/code/Users/itingzon/20241011_dell_hpc_env/giga-global-school-mapping/data/vectors/ms_buildings/BWA/300123223.geojson\nReading 64 of 136: /mnt/batch/tasks/shared/LS_root/mounts/clusters/model-deployment3/code/Users/itingzon/20241011_dell_hpc_env/giga-global-school-mapping/data/vectors/ms_buildings/BWA/300211100.geojson\nReading 65 of 136: /mnt/batch/tasks/shared/LS_root/mounts/clusters/model-deployment3/code/Users/itingzon/20241011_dell_hpc_env/giga-global-school-mapping/data/vectors/ms_buildings/BWA/300211101.geojson\nReading 66 of 136: /mnt/batch/tasks/shared/LS_root/mounts/clusters/model-deployment3/code/Users/itingzon/20241011_dell_hpc_env/giga-global-school-mapping/data/vectors/ms_buildings/BWA/300211102.geojson\nReading 67 of 136: /mnt/batch/tasks/shared/LS_root/mounts/clusters/model-deployment3/code/Users/itingzon/20241011_dell_hpc_env/giga-global-school-mapping/data/vectors/ms_buildings/BWA/300211103.geojson\nReading 68 of 136: /mnt/batch/tasks/shared/LS_root/mounts/clusters/model-deployment3/code/Users/itingzon/20241011_dell_hpc_env/giga-global-school-mapping/data/vectors/ms_buildings/BWA/300211110.geojson\nReading 69 of 136: /mnt/batch/tasks/shared/LS_root/mounts/clusters/model-deployment3/code/Users/itingzon/20241011_dell_hpc_env/giga-global-school-mapping/data/vectors/ms_buildings/BWA/300211111.geojson\nReading 70 of 136: /mnt/batch/tasks/shared/LS_root/mounts/clusters/model-deployment3/code/Users/itingzon/20241011_dell_hpc_env/giga-global-school-mapping/data/vectors/ms_buildings/BWA/300211112.geojson\nReading 71 of 136: /mnt/batch/tasks/shared/LS_root/mounts/clusters/model-deployment3/code/Users/itingzon/20241011_dell_hpc_env/giga-global-school-mapping/data/vectors/ms_buildings/BWA/300211113.geojson\nReading 72 of 136: /mnt/batch/tasks/shared/LS_root/mounts/clusters/model-deployment3/code/Users/itingzon/20241011_dell_hpc_env/giga-global-school-mapping/data/vectors/ms_buildings/BWA/300211120.geojson\nReading 73 of 136: /mnt/batch/tasks/shared/LS_root/mounts/clusters/model-deployment3/code/Users/itingzon/20241011_dell_hpc_env/giga-global-school-mapping/data/vectors/ms_buildings/BWA/300211121.geojson\nReading 74 of 136: /mnt/batch/tasks/shared/LS_root/mounts/clusters/model-deployment3/code/Users/itingzon/20241011_dell_hpc_env/giga-global-school-mapping/data/vectors/ms_buildings/BWA/300211122.geojson\nReading 75 of 136: /mnt/batch/tasks/shared/LS_root/mounts/clusters/model-deployment3/code/Users/itingzon/20241011_dell_hpc_env/giga-global-school-mapping/data/vectors/ms_buildings/BWA/300211123.geojson\nReading 76 of 136: /mnt/batch/tasks/shared/LS_root/mounts/clusters/model-deployment3/code/Users/itingzon/20241011_dell_hpc_env/giga-global-school-mapping/data/vectors/ms_buildings/BWA/300211130.geojson\nReading 77 of 136: /mnt/batch/tasks/shared/LS_root/mounts/clusters/model-deployment3/code/Users/itingzon/20241011_dell_hpc_env/giga-global-school-mapping/data/vectors/ms_buildings/BWA/300211131.geojson\nReading 78 of 136: /mnt/batch/tasks/shared/LS_root/mounts/clusters/model-deployment3/code/Users/itingzon/20241011_dell_hpc_env/giga-global-school-mapping/data/vectors/ms_buildings/BWA/300211132.geojson\nReading 79 of 136: /mnt/batch/tasks/shared/LS_root/mounts/clusters/model-deployment3/code/Users/itingzon/20241011_dell_hpc_env/giga-global-school-mapping/data/vectors/ms_buildings/BWA/300211133.geojson\nReading 80 of 136: /mnt/batch/tasks/shared/LS_root/mounts/clusters/model-deployment3/code/Users/itingzon/20241011_dell_hpc_env/giga-global-school-mapping/data/vectors/ms_buildings/BWA/300211300.geojson\nReading 81 of 136: /mnt/batch/tasks/shared/LS_root/mounts/clusters/model-deployment3/code/Users/itingzon/20241011_dell_hpc_env/giga-global-school-mapping/data/vectors/ms_buildings/BWA/300211301.geojson\nReading 82 of 136: /mnt/batch/tasks/shared/LS_root/mounts/clusters/model-deployment3/code/Users/itingzon/20241011_dell_hpc_env/giga-global-school-mapping/data/vectors/ms_buildings/BWA/300211303.geojson\nReading 83 of 136: /mnt/batch/tasks/shared/LS_root/mounts/clusters/model-deployment3/code/Users/itingzon/20241011_dell_hpc_env/giga-global-school-mapping/data/vectors/ms_buildings/BWA/300211310.geojson\nReading 84 of 136: /mnt/batch/tasks/shared/LS_root/mounts/clusters/model-deployment3/code/Users/itingzon/20241011_dell_hpc_env/giga-global-school-mapping/data/vectors/ms_buildings/BWA/300211311.geojson\nReading 85 of 136: /mnt/batch/tasks/shared/LS_root/mounts/clusters/model-deployment3/code/Users/itingzon/20241011_dell_hpc_env/giga-global-school-mapping/data/vectors/ms_buildings/BWA/300211312.geojson\nReading 86 of 136: /mnt/batch/tasks/shared/LS_root/mounts/clusters/model-deployment3/code/Users/itingzon/20241011_dell_hpc_env/giga-global-school-mapping/data/vectors/ms_buildings/BWA/300211313.geojson\nReading 87 of 136: /mnt/batch/tasks/shared/LS_root/mounts/clusters/model-deployment3/code/Users/itingzon/20241011_dell_hpc_env/giga-global-school-mapping/data/vectors/ms_buildings/BWA/300211321.geojson\nReading 88 of 136: /mnt/batch/tasks/shared/LS_root/mounts/clusters/model-deployment3/code/Users/itingzon/20241011_dell_hpc_env/giga-global-school-mapping/data/vectors/ms_buildings/BWA/300211323.geojson\nReading 89 of 136: /mnt/batch/tasks/shared/LS_root/mounts/clusters/model-deployment3/code/Users/itingzon/20241011_dell_hpc_env/giga-global-school-mapping/data/vectors/ms_buildings/BWA/300211330.geojson\nReading 90 of 136: /mnt/batch/tasks/shared/LS_root/mounts/clusters/model-deployment3/code/Users/itingzon/20241011_dell_hpc_env/giga-global-school-mapping/data/vectors/ms_buildings/BWA/300211331.geojson\nReading 91 of 136: /mnt/batch/tasks/shared/LS_root/mounts/clusters/model-deployment3/code/Users/itingzon/20241011_dell_hpc_env/giga-global-school-mapping/data/vectors/ms_buildings/BWA/300211332.geojson\nReading 92 of 136: /mnt/batch/tasks/shared/LS_root/mounts/clusters/model-deployment3/code/Users/itingzon/20241011_dell_hpc_env/giga-global-school-mapping/data/vectors/ms_buildings/BWA/300211333.geojson\nReading 93 of 136: /mnt/batch/tasks/shared/LS_root/mounts/clusters/model-deployment3/code/Users/itingzon/20241011_dell_hpc_env/giga-global-school-mapping/data/vectors/ms_buildings/BWA/300300000.geojson\nReading 94 of 136: /mnt/batch/tasks/shared/LS_root/mounts/clusters/model-deployment3/code/Users/itingzon/20241011_dell_hpc_env/giga-global-school-mapping/data/vectors/ms_buildings/BWA/300300010.geojson\nReading 95 of 136: /mnt/batch/tasks/shared/LS_root/mounts/clusters/model-deployment3/code/Users/itingzon/20241011_dell_hpc_env/giga-global-school-mapping/data/vectors/ms_buildings/BWA/300300011.geojson\nReading 96 of 136: /mnt/batch/tasks/shared/LS_root/mounts/clusters/model-deployment3/code/Users/itingzon/20241011_dell_hpc_env/giga-global-school-mapping/data/vectors/ms_buildings/BWA/300300012.geojson\nReading 97 of 136: /mnt/batch/tasks/shared/LS_root/mounts/clusters/model-deployment3/code/Users/itingzon/20241011_dell_hpc_env/giga-global-school-mapping/data/vectors/ms_buildings/BWA/300300013.geojson\nReading 98 of 136: /mnt/batch/tasks/shared/LS_root/mounts/clusters/model-deployment3/code/Users/itingzon/20241011_dell_hpc_env/giga-global-school-mapping/data/vectors/ms_buildings/BWA/300300020.geojson\nReading 99 of 136: /mnt/batch/tasks/shared/LS_root/mounts/clusters/model-deployment3/code/Users/itingzon/20241011_dell_hpc_env/giga-global-school-mapping/data/vectors/ms_buildings/BWA/300300021.geojson\nReading 100 of 136: /mnt/batch/tasks/shared/LS_root/mounts/clusters/model-deployment3/code/Users/itingzon/20241011_dell_hpc_env/giga-global-school-mapping/data/vectors/ms_buildings/BWA/300300022.geojson\nReading 101 of 136: /mnt/batch/tasks/shared/LS_root/mounts/clusters/model-deployment3/code/Users/itingzon/20241011_dell_hpc_env/giga-global-school-mapping/data/vectors/ms_buildings/BWA/300300023.geojson\nReading 102 of 136: /mnt/batch/tasks/shared/LS_root/mounts/clusters/model-deployment3/code/Users/itingzon/20241011_dell_hpc_env/giga-global-school-mapping/data/vectors/ms_buildings/BWA/300300030.geojson\nReading 103 of 136: /mnt/batch/tasks/shared/LS_root/mounts/clusters/model-deployment3/code/Users/itingzon/20241011_dell_hpc_env/giga-global-school-mapping/data/vectors/ms_buildings/BWA/300300031.geojson\nReading 104 of 136: /mnt/batch/tasks/shared/LS_root/mounts/clusters/model-deployment3/code/Users/itingzon/20241011_dell_hpc_env/giga-global-school-mapping/data/vectors/ms_buildings/BWA/300300032.geojson\nReading 105 of 136: /mnt/batch/tasks/shared/LS_root/mounts/clusters/model-deployment3/code/Users/itingzon/20241011_dell_hpc_env/giga-global-school-mapping/data/vectors/ms_buildings/BWA/300300033.geojson\nReading 106 of 136: /mnt/batch/tasks/shared/LS_root/mounts/clusters/model-deployment3/code/Users/itingzon/20241011_dell_hpc_env/giga-global-school-mapping/data/vectors/ms_buildings/BWA/300300100.geojson\nReading 107 of 136: /mnt/batch/tasks/shared/LS_root/mounts/clusters/model-deployment3/code/Users/itingzon/20241011_dell_hpc_env/giga-global-school-mapping/data/vectors/ms_buildings/BWA/300300101.geojson\nReading 108 of 136: /mnt/batch/tasks/shared/LS_root/mounts/clusters/model-deployment3/code/Users/itingzon/20241011_dell_hpc_env/giga-global-school-mapping/data/vectors/ms_buildings/BWA/300300102.geojson\nReading 109 of 136: /mnt/batch/tasks/shared/LS_root/mounts/clusters/model-deployment3/code/Users/itingzon/20241011_dell_hpc_env/giga-global-school-mapping/data/vectors/ms_buildings/BWA/300300103.geojson\nReading 110 of 136: /mnt/batch/tasks/shared/LS_root/mounts/clusters/model-deployment3/code/Users/itingzon/20241011_dell_hpc_env/giga-global-school-mapping/data/vectors/ms_buildings/BWA/300300110.geojson\nReading 111 of 136: /mnt/batch/tasks/shared/LS_root/mounts/clusters/model-deployment3/code/Users/itingzon/20241011_dell_hpc_env/giga-global-school-mapping/data/vectors/ms_buildings/BWA/300300111.geojson\nReading 112 of 136: /mnt/batch/tasks/shared/LS_root/mounts/clusters/model-deployment3/code/Users/itingzon/20241011_dell_hpc_env/giga-global-school-mapping/data/vectors/ms_buildings/BWA/300300112.geojson\nReading 113 of 136: /mnt/batch/tasks/shared/LS_root/mounts/clusters/model-deployment3/code/Users/itingzon/20241011_dell_hpc_env/giga-global-school-mapping/data/vectors/ms_buildings/BWA/300300113.geojson\nReading 114 of 136: /mnt/batch/tasks/shared/LS_root/mounts/clusters/model-deployment3/code/Users/itingzon/20241011_dell_hpc_env/giga-global-school-mapping/data/vectors/ms_buildings/BWA/300300120.geojson\nReading 115 of 136: /mnt/batch/tasks/shared/LS_root/mounts/clusters/model-deployment3/code/Users/itingzon/20241011_dell_hpc_env/giga-global-school-mapping/data/vectors/ms_buildings/BWA/300300121.geojson\nReading 116 of 136: /mnt/batch/tasks/shared/LS_root/mounts/clusters/model-deployment3/code/Users/itingzon/20241011_dell_hpc_env/giga-global-school-mapping/data/vectors/ms_buildings/BWA/300300122.geojson\nReading 117 of 136: /mnt/batch/tasks/shared/LS_root/mounts/clusters/model-deployment3/code/Users/itingzon/20241011_dell_hpc_env/giga-global-school-mapping/data/vectors/ms_buildings/BWA/300300123.geojson\nReading 118 of 136: /mnt/batch/tasks/shared/LS_root/mounts/clusters/model-deployment3/code/Users/itingzon/20241011_dell_hpc_env/giga-global-school-mapping/data/vectors/ms_buildings/BWA/300300130.geojson\nReading 119 of 136: /mnt/batch/tasks/shared/LS_root/mounts/clusters/model-deployment3/code/Users/itingzon/20241011_dell_hpc_env/giga-global-school-mapping/data/vectors/ms_buildings/BWA/300300131.geojson\nReading 120 of 136: /mnt/batch/tasks/shared/LS_root/mounts/clusters/model-deployment3/code/Users/itingzon/20241011_dell_hpc_env/giga-global-school-mapping/data/vectors/ms_buildings/BWA/300300132.geojson\nReading 121 of 136: /mnt/batch/tasks/shared/LS_root/mounts/clusters/model-deployment3/code/Users/itingzon/20241011_dell_hpc_env/giga-global-school-mapping/data/vectors/ms_buildings/BWA/300300200.geojson\nReading 122 of 136: /mnt/batch/tasks/shared/LS_root/mounts/clusters/model-deployment3/code/Users/itingzon/20241011_dell_hpc_env/giga-global-school-mapping/data/vectors/ms_buildings/BWA/300300201.geojson\nReading 123 of 136: /mnt/batch/tasks/shared/LS_root/mounts/clusters/model-deployment3/code/Users/itingzon/20241011_dell_hpc_env/giga-global-school-mapping/data/vectors/ms_buildings/BWA/300300202.geojson\nReading 124 of 136: /mnt/batch/tasks/shared/LS_root/mounts/clusters/model-deployment3/code/Users/itingzon/20241011_dell_hpc_env/giga-global-school-mapping/data/vectors/ms_buildings/BWA/300300203.geojson\nReading 125 of 136: /mnt/batch/tasks/shared/LS_root/mounts/clusters/model-deployment3/code/Users/itingzon/20241011_dell_hpc_env/giga-global-school-mapping/data/vectors/ms_buildings/BWA/300300210.geojson\nReading 126 of 136: /mnt/batch/tasks/shared/LS_root/mounts/clusters/model-deployment3/code/Users/itingzon/20241011_dell_hpc_env/giga-global-school-mapping/data/vectors/ms_buildings/BWA/300300211.geojson\nReading 127 of 136: /mnt/batch/tasks/shared/LS_root/mounts/clusters/model-deployment3/code/Users/itingzon/20241011_dell_hpc_env/giga-global-school-mapping/data/vectors/ms_buildings/BWA/300300212.geojson\nReading 128 of 136: /mnt/batch/tasks/shared/LS_root/mounts/clusters/model-deployment3/code/Users/itingzon/20241011_dell_hpc_env/giga-global-school-mapping/data/vectors/ms_buildings/BWA/300300213.geojson\nReading 129 of 136: /mnt/batch/tasks/shared/LS_root/mounts/clusters/model-deployment3/code/Users/itingzon/20241011_dell_hpc_env/giga-global-school-mapping/data/vectors/ms_buildings/BWA/300300220.geojson\nReading 130 of 136: /mnt/batch/tasks/shared/LS_root/mounts/clusters/model-deployment3/code/Users/itingzon/20241011_dell_hpc_env/giga-global-school-mapping/data/vectors/ms_buildings/BWA/300300231.geojson\nReading 131 of 136: /mnt/batch/tasks/shared/LS_root/mounts/clusters/model-deployment3/code/Users/itingzon/20241011_dell_hpc_env/giga-global-school-mapping/data/vectors/ms_buildings/BWA/300300300.geojson\nReading 132 of 136: /mnt/batch/tasks/shared/LS_root/mounts/clusters/model-deployment3/code/Users/itingzon/20241011_dell_hpc_env/giga-global-school-mapping/data/vectors/ms_buildings/BWA/300300301.geojson\nReading 133 of 136: /mnt/batch/tasks/shared/LS_root/mounts/clusters/model-deployment3/code/Users/itingzon/20241011_dell_hpc_env/giga-global-school-mapping/data/vectors/ms_buildings/BWA/300300302.geojson\nReading 134 of 136: /mnt/batch/tasks/shared/LS_root/mounts/clusters/model-deployment3/code/Users/itingzon/20241011_dell_hpc_env/giga-global-school-mapping/data/vectors/ms_buildings/BWA/300301000.geojson\nReading 135 of 136: /mnt/batch/tasks/shared/LS_root/mounts/clusters/model-deployment3/code/Users/itingzon/20241011_dell_hpc_env/giga-global-school-mapping/data/vectors/ms_buildings/BWA/300301001.geojson\nReading 136 of 136: /mnt/batch/tasks/shared/LS_root/mounts/clusters/model-deployment3/code/Users/itingzon/20241011_dell_hpc_env/giga-global-school-mapping/data/vectors/ms_buildings/BWA/300301002.geojson\nMerging GeoDataFrames ...\nSaving merged file to /mnt/batch/tasks/shared/LS_root/mounts/clusters/model-deployment3/code/Users/itingzon/20241011_dell_hpc_env/giga-global-school-mapping/data/vectors/ms_buildings/BWA_ms_EPSG4326.geojson ...\n"
        }
      ],
      "execution_count": 10,
      "metadata": {
        "gather": {
          "logged": 1733922725946
        },
        "editable": true,
        "run_control": {
          "frozen": false
        }
      },
      "id": "387e5082-d066-47d3-8bb5-979ea5f72b3d"
    },
    {
      "cell_type": "markdown",
      "source": [
        "#### Google Open Buildings"
      ],
      "metadata": {
        "nteract": {
          "transient": {
            "deleting": false
          }
        }
      },
      "id": "a57de7e4-d411-479e-a427-aba3906b9c5b"
    },
    {
      "cell_type": "code",
      "source": [
        "download_utils.download_buildings(config, source=\"google\", verbose=True)"
      ],
      "outputs": [
        {
          "output_type": "stream",
          "name": "stderr",
          "text": "Processing BWA:   0%|                    | 0/1 [00:00<?, ?it/s]Downloading...\nFrom: https://storage.googleapis.com/open-buildings-data/v3/polygons_s2_level_4_gzip/1c1_buildings.csv.gz\nTo: /mnt/batch/tasks/shared/LS_root/mounts/clusters/model-deployment3/code/Users/itingzon/20241011_dell_hpc_env/giga-global-school-mapping/data/vectors/google_buildings/BWA/1c1_buildings.csv.gz\n\n  0%|          | 0.00/57.3M [00:00<?, ?B/s]\u001b[A\n  9%|▉         | 5.24M/57.3M [00:00<00:01, 45.0MB/s]\u001b[A\n 24%|██▍       | 13.6M/57.3M [00:00<00:00, 60.9MB/s]\u001b[A\n 35%|███▍      | 19.9M/57.3M [00:00<00:00, 58.6MB/s]\u001b[A\n 49%|████▊     | 27.8M/57.3M [00:00<00:00, 59.4MB/s]\u001b[A\n 60%|██████    | 34.6M/57.3M [00:00<00:00, 59.5MB/s]\u001b[A\n 74%|███████▍  | 42.5M/57.3M [00:00<00:00, 55.0MB/s]\u001b[A\n100%|██████████| 57.3M/57.3M [00:00<00:00, 57.9MB/s]\u001b[A\nDownloading...\nFrom: https://storage.googleapis.com/open-buildings-data/v3/polygons_s2_level_4_gzip/1bf_buildings.csv.gz\nTo: /mnt/batch/tasks/shared/LS_root/mounts/clusters/model-deployment3/code/Users/itingzon/20241011_dell_hpc_env/giga-global-school-mapping/data/vectors/google_buildings/BWA/1bf_buildings.csv.gz\n\n  0%|          | 0.00/68.4M [00:00<?, ?B/s]\u001b[A\n 15%|█▍        | 9.96M/68.4M [00:00<00:00, 96.8MB/s]\u001b[A\n 29%|██▉       | 19.9M/68.4M [00:00<00:00, 75.8MB/s]\u001b[A\n 44%|████▎     | 29.9M/68.4M [00:00<00:00, 84.4MB/s]\u001b[A\n 60%|█████▉    | 40.9M/68.4M [00:00<00:00, 93.3MB/s]\u001b[A\n 74%|███████▍  | 50.9M/68.4M [00:00<00:00, 82.1MB/s]\u001b[A\n100%|██████████| 68.4M/68.4M [00:00<00:00, 89.9MB/s]\u001b[A\nDownloading...\nFrom: https://storage.googleapis.com/open-buildings-data/v3/polygons_s2_level_4_gzip/195_buildings.csv.gz\nTo: /mnt/batch/tasks/shared/LS_root/mounts/clusters/model-deployment3/code/Users/itingzon/20241011_dell_hpc_env/giga-global-school-mapping/data/vectors/google_buildings/BWA/195_buildings.csv.gz\n\n  0%|          | 0.00/368M [00:00<?, ?B/s]\u001b[A\n  2%|▏         | 8.91M/368M [00:00<00:04, 83.3MB/s]\u001b[A\n  6%|▌         | 20.4M/368M [00:00<00:03, 101MB/s] \u001b[A\n  8%|▊         | 30.9M/368M [00:00<00:03, 84.3MB/s]\u001b[A\n 12%|█▏        | 42.5M/368M [00:00<00:03, 90.9MB/s]\u001b[A\n 14%|█▍        | 51.9M/368M [00:00<00:03, 83.1MB/s]\u001b[A\n 17%|█▋        | 62.4M/368M [00:00<00:03, 89.1MB/s]\u001b[A\n 20%|█▉        | 71.8M/368M [00:00<00:03, 85.6MB/s]\u001b[A\n 22%|██▏       | 80.7M/368M [00:00<00:03, 85.1MB/s]\u001b[A\n 24%|██▍       | 89.7M/368M [00:01<00:03, 81.1MB/s]\u001b[A\n 27%|██▋       | 98.0M/368M [00:01<00:03, 75.3MB/s]\u001b[A\n 29%|██▉       | 106M/368M [00:01<00:03, 72.4MB/s] \u001b[A\n 32%|███▏      | 117M/368M [00:01<00:03, 81.8MB/s]\u001b[A\n 34%|███▍      | 126M/368M [00:01<00:03, 74.0MB/s]\u001b[A\n 38%|███▊      | 141M/368M [00:01<00:02, 92.0MB/s]\u001b[A\n 41%|████      | 151M/368M [00:01<00:02, 93.3MB/s]\u001b[A\n 44%|████▍     | 161M/368M [00:01<00:02, 82.1MB/s]\u001b[A\n 48%|████▊     | 177M/368M [00:02<00:02, 92.9MB/s]\u001b[A\n 52%|█████▏    | 192M/368M [00:02<00:01, 108MB/s] \u001b[A\n 56%|█████▌    | 207M/368M [00:02<00:01, 117MB/s]\u001b[A\n 60%|█████▉    | 219M/368M [00:02<00:01, 109MB/s]\u001b[A\n 65%|██████▍   | 238M/368M [00:02<00:01, 128MB/s]\u001b[A\n 69%|██████▊   | 252M/368M [00:02<00:00, 130MB/s]\u001b[A\n 73%|███████▎  | 269M/368M [00:02<00:00, 125MB/s]\u001b[A\n 77%|███████▋  | 284M/368M [00:02<00:00, 129MB/s]\u001b[A\n 81%|████████  | 297M/368M [00:03<00:00, 114MB/s]\u001b[A\n 85%|████████▌ | 313M/368M [00:03<00:00, 123MB/s]\u001b[A\n 90%|████████▉ | 331M/368M [00:03<00:00, 136MB/s]\u001b[A\n 94%|█████████▍| 345M/368M [00:03<00:00, 134MB/s]\u001b[A\n100%|██████████| 368M/368M [00:03<00:00, 106MB/s]\u001b[A\nDownloading...\nFrom: https://storage.googleapis.com/open-buildings-data/v3/polygons_s2_level_4_gzip/1eb_buildings.csv.gz\nTo: /mnt/batch/tasks/shared/LS_root/mounts/clusters/model-deployment3/code/Users/itingzon/20241011_dell_hpc_env/giga-global-school-mapping/data/vectors/google_buildings/BWA/1eb_buildings.csv.gz\n\n  0%|          | 0.00/583M [00:00<?, ?B/s]\u001b[A\n  2%|▏         | 11.0M/583M [00:00<00:05, 110MB/s]\u001b[A\n  4%|▍         | 22.0M/583M [00:00<00:06, 80.9MB/s]\u001b[A\n  5%|▌         | 30.9M/583M [00:00<00:06, 79.8MB/s]\u001b[A\n  7%|▋         | 39.3M/583M [00:00<00:08, 66.5MB/s]\u001b[A\n  8%|▊         | 48.2M/583M [00:00<00:07, 72.0MB/s]\u001b[A\n 10%|▉         | 57.1M/583M [00:00<00:06, 76.3MB/s]\u001b[A\n 11%|█         | 65.5M/583M [00:00<00:07, 72.6MB/s]\u001b[A\n 13%|█▎        | 73.4M/583M [00:01<00:08, 62.1MB/s]\u001b[A\n 14%|█▍        | 80.2M/583M [00:01<00:08, 59.0MB/s]\u001b[A\n 15%|█▍        | 86.5M/583M [00:01<00:08, 56.7MB/s]\u001b[A\n 16%|█▌        | 92.8M/583M [00:01<00:09, 53.8MB/s]\u001b[A\n 17%|█▋        | 101M/583M [00:01<00:08, 56.2MB/s] \u001b[A\n 19%|█▉        | 110M/583M [00:01<00:08, 54.7MB/s]\u001b[A\n 21%|██        | 120M/583M [00:01<00:07, 65.2MB/s]\u001b[A\n 22%|██▏       | 127M/583M [00:01<00:06, 65.2MB/s]\u001b[A\n 24%|██▎       | 138M/583M [00:02<00:05, 76.8MB/s]\u001b[A\n 25%|██▌       | 146M/583M [00:02<00:06, 65.7MB/s]\u001b[A\n 27%|██▋       | 156M/583M [00:02<00:05, 72.3MB/s]\u001b[A\n 28%|██▊       | 165M/583M [00:02<00:05, 77.8MB/s]\u001b[A\n 30%|██▉       | 175M/583M [00:02<00:04, 81.7MB/s]\u001b[A\n 31%|███▏      | 184M/583M [00:02<00:05, 68.2MB/s]\u001b[A\n 33%|███▎      | 191M/583M [00:02<00:05, 66.4MB/s]\u001b[A\n 34%|███▍      | 199M/583M [00:02<00:05, 66.3MB/s]\u001b[A\n 36%|███▌      | 210M/583M [00:03<00:05, 74.1MB/s]\u001b[A\n 39%|███▊      | 225M/583M [00:03<00:03, 92.3MB/s]\u001b[A\n 40%|████      | 235M/583M [00:03<00:04, 82.3MB/s]\u001b[A\n 42%|████▏     | 244M/583M [00:03<00:05, 57.7MB/s]\u001b[A\n 44%|████▍     | 259M/583M [00:03<00:04, 75.9MB/s]\u001b[A\n 46%|████▌     | 268M/583M [00:03<00:04, 76.5MB/s]\u001b[A\n 48%|████▊     | 279M/583M [00:03<00:03, 83.7MB/s]\u001b[A\n 51%|█████     | 298M/583M [00:04<00:02, 108MB/s] \u001b[A\n 53%|█████▎    | 310M/583M [00:04<00:02, 110MB/s]\u001b[A\n 55%|█████▌    | 322M/583M [00:04<00:02, 109MB/s]\u001b[A\n 58%|█████▊    | 336M/583M [00:04<00:02, 110MB/s]\u001b[A\n 61%|██████    | 353M/583M [00:04<00:02, 108MB/s]\u001b[A\n 64%|██████▍   | 372M/583M [00:04<00:01, 128MB/s]\u001b[A\n 66%|██████▌   | 385M/583M [00:04<00:01, 99.7MB/s]\u001b[A\n 68%|██████▊   | 397M/583M [00:04<00:01, 103MB/s] \u001b[A\n 71%|███████   | 412M/583M [00:05<00:01, 96.8MB/s]\u001b[A\n 73%|███████▎  | 427M/583M [00:05<00:01, 110MB/s] \u001b[A\n 76%|███████▌  | 443M/583M [00:05<00:01, 121MB/s]\u001b[A\n 79%|███████▊  | 458M/583M [00:05<00:00, 127MB/s]\u001b[A\n 81%|████████  | 472M/583M [00:05<00:00, 129MB/s]\u001b[A\n 84%|████████▎ | 488M/583M [00:05<00:00, 136MB/s]\u001b[A\n 87%|████████▋ | 506M/583M [00:05<00:00, 150MB/s]\u001b[A\n 90%|████████▉ | 522M/583M [00:05<00:00, 144MB/s]\u001b[A\n 92%|█████████▏| 537M/583M [00:05<00:00, 143MB/s]\u001b[A\n 95%|█████████▍| 554M/583M [00:06<00:00, 149MB/s]\u001b[A\n100%|██████████| 583M/583M [00:06<00:00, 92.7MB/s][A\nDownloading...\nFrom: https://storage.googleapis.com/open-buildings-data/v3/polygons_s2_level_4_gzip/1ed_buildings.csv.gz\nTo: /mnt/batch/tasks/shared/LS_root/mounts/clusters/model-deployment3/code/Users/itingzon/20241011_dell_hpc_env/giga-global-school-mapping/data/vectors/google_buildings/BWA/1ed_buildings.csv.gz\n\n  0%|          | 0.00/921M [00:00<?, ?B/s]\u001b[A\n  1%|          | 8.91M/921M [00:00<00:16, 54.8MB/s]\u001b[A\n  2%|▏         | 17.3M/921M [00:00<00:14, 62.9MB/s]\u001b[A\n  3%|▎         | 25.2M/921M [00:00<00:13, 68.6MB/s]\u001b[A\n  4%|▎         | 34.1M/921M [00:00<00:14, 62.8MB/s]\u001b[A\n  5%|▍         | 42.5M/921M [00:00<00:14, 61.5MB/s]\u001b[A\n  6%|▌         | 52.4M/921M [00:00<00:12, 71.8MB/s]\u001b[A\n  7%|▋         | 60.3M/921M [00:00<00:12, 68.7MB/s]\u001b[A\n  7%|▋         | 67.6M/921M [00:01<00:12, 68.8MB/s]\u001b[A\n  8%|▊         | 77.1M/921M [00:01<00:11, 75.7MB/s]\u001b[A\n  9%|▉         | 87.0M/921M [00:01<00:10, 82.2MB/s]\u001b[A\n 10%|█         | 95.9M/921M [00:01<00:11, 73.2MB/s]\u001b[A\n 11%|█▏        | 104M/921M [00:01<00:10, 75.9MB/s] \u001b[A\n 12%|█▏        | 112M/921M [00:01<00:11, 72.6MB/s]\u001b[A\n 13%|█▎        | 122M/921M [00:01<00:10, 78.2MB/s]\u001b[A\n 14%|█▍        | 130M/921M [00:01<00:10, 77.8MB/s]\u001b[A\n 15%|█▌        | 138M/921M [00:01<00:10, 76.9MB/s]\u001b[A\n 16%|█▋        | 150M/921M [00:02<00:08, 87.2MB/s]\u001b[A\n 17%|█▋        | 159M/921M [00:02<00:09, 78.9MB/s]\u001b[A\n 18%|█▊        | 168M/921M [00:02<00:11, 62.8MB/s]\u001b[A\n 19%|█▉        | 178M/921M [00:02<00:10, 69.7MB/s]\u001b[A\n 21%|██        | 189M/921M [00:02<00:09, 80.0MB/s]\u001b[A\n 22%|██▏       | 201M/921M [00:02<00:07, 90.2MB/s]\u001b[A\n 23%|██▎       | 211M/921M [00:02<00:07, 89.5MB/s]\u001b[A\n 24%|██▍       | 225M/921M [00:02<00:06, 102MB/s] \u001b[A\n 26%|██▌       | 236M/921M [00:03<00:06, 100MB/s]\u001b[A\n 27%|██▋       | 251M/921M [00:03<00:05, 114MB/s]\u001b[A\n 29%|██▉       | 265M/921M [00:03<00:05, 120MB/s]\u001b[A\n 30%|███       | 278M/921M [00:03<00:05, 124MB/s]\u001b[A\n 32%|███▏      | 296M/921M [00:03<00:04, 138MB/s]\u001b[A\n 34%|███▎      | 310M/921M [00:03<00:04, 134MB/s]\u001b[A\n 35%|███▌      | 323M/921M [00:03<00:04, 135MB/s]\u001b[A\n 37%|███▋      | 339M/921M [00:03<00:04, 139MB/s]\u001b[A\n 38%|███▊      | 353M/921M [00:03<00:04, 136MB/s]\u001b[A\n 40%|████      | 370M/921M [00:03<00:04, 129MB/s]\u001b[A\n 42%|████▏     | 383M/921M [00:04<00:04, 129MB/s]\u001b[A\n 43%|████▎     | 396M/921M [00:04<00:04, 131MB/s]\u001b[A\n 45%|████▍     | 410M/921M [00:04<00:04, 121MB/s]\u001b[A\n 46%|████▋     | 427M/921M [00:04<00:03, 135MB/s]\u001b[A\n 48%|████▊     | 441M/921M [00:04<00:03, 129MB/s]\u001b[A\n 50%|████▉     | 460M/921M [00:04<00:03, 145MB/s]\u001b[A\n 52%|█████▏    | 476M/921M [00:04<00:03, 132MB/s]\u001b[A\n 53%|█████▎    | 489M/921M [00:04<00:03, 125MB/s]\u001b[A\n 55%|█████▍    | 504M/921M [00:05<00:03, 126MB/s]\u001b[A\n 56%|█████▌    | 518M/921M [00:05<00:03, 129MB/s]\u001b[A\n 58%|█████▊    | 535M/921M [00:05<00:02, 140MB/s]\u001b[A\n 60%|█████▉    | 549M/921M [00:05<00:02, 130MB/s]\u001b[A\n 61%|██████▏   | 564M/921M [00:05<00:02, 133MB/s]\u001b[A\n 63%|██████▎   | 578M/921M [00:05<00:02, 118MB/s]\u001b[A\n 64%|██████▍   | 592M/921M [00:05<00:02, 124MB/s]\u001b[A\n 66%|██████▌   | 605M/921M [00:05<00:02, 123MB/s]\u001b[A\n 67%|██████▋   | 621M/921M [00:05<00:02, 134MB/s]\u001b[A\n 70%|██████▉   | 641M/921M [00:06<00:01, 151MB/s]\u001b[A\n 71%|███████▏  | 657M/921M [00:06<00:01, 148MB/s]\u001b[A\n 73%|███████▎  | 674M/921M [00:06<00:01, 155MB/s]\u001b[A\n 75%|███████▍  | 690M/921M [00:06<00:01, 154MB/s]\u001b[A\n 77%|███████▋  | 710M/921M [00:06<00:01, 168MB/s]\u001b[A\n 79%|███████▉  | 728M/921M [00:06<00:01, 164MB/s]\u001b[A\n 81%|████████  | 744M/921M [00:06<00:01, 142MB/s]\u001b[A\n 82%|████████▏ | 760M/921M [00:06<00:01, 135MB/s]\u001b[A\n 84%|████████▍ | 776M/921M [00:06<00:01, 143MB/s]\u001b[A\n 86%|████████▋ | 794M/921M [00:07<00:00, 151MB/s]\u001b[A\n 88%|████████▊ | 814M/921M [00:07<00:00, 136MB/s]\u001b[A\n 90%|█████████ | 829M/921M [00:07<00:00, 126MB/s]\u001b[A\n 92%|█████████▏| 849M/921M [00:07<00:00, 145MB/s]\u001b[A\n 94%|█████████▍| 865M/921M [00:07<00:00, 144MB/s]\u001b[A\n 96%|█████████▋| 888M/921M [00:07<00:00, 164MB/s]\u001b[A\n100%|██████████| 921M/921M [00:07<00:00, 117MB/s]\u001b[A\n"
        },
        {
          "output_type": "stream",
          "name": "stdout",
          "text": "Merging GeoDataFrames ...\n"
        }
      ],
      "execution_count": 11,
      "metadata": {
        "gather": {
          "logged": 1733837478079
        }
      },
      "id": "024f9a0a-4b2e-49e8-bd64-e95a6dd805ac"
    },
    {
      "cell_type": "markdown",
      "source": [
        "## Download Global Human Settlements Layer"
      ],
      "metadata": {},
      "id": "42c1634b-b8ac-4293-a3b3-01910c1b5f92"
    },
    {
      "cell_type": "markdown",
      "source": [
        "#### GHSL BUILT-C"
      ],
      "metadata": {
        "nteract": {
          "transient": {
            "deleting": false
          }
        }
      },
      "id": "1d6a3bb8-f2a4-46fb-a5a0-5dd673a984d1"
    },
    {
      "cell_type": "code",
      "source": [
        "download_utils.download_ghsl(config, type=\"built_c\")"
      ],
      "outputs": [],
      "execution_count": 13,
      "metadata": {
        "gather": {
          "logged": 1733837522093
        }
      },
      "id": "325ff415-fe12-40e3-abfa-17e3e161db81"
    },
    {
      "cell_type": "markdown",
      "source": [
        "#### GHSL SMOD"
      ],
      "metadata": {
        "nteract": {
          "transient": {
            "deleting": false
          }
        }
      },
      "id": "c974226d-27ac-4fa9-96c7-a12425f09b3e"
    },
    {
      "cell_type": "code",
      "source": [
        "download_utils.download_ghsl(config, type=\"smod\")"
      ],
      "outputs": [],
      "execution_count": 12,
      "metadata": {},
      "id": "788993b4-d620-459b-a453-4e51753c38a8"
    }
  ],
  "metadata": {
    "kernelspec": {
      "name": "gigav3",
      "language": "python",
      "display_name": "gigav3"
    },
    "language_info": {
      "name": "python",
      "version": "3.10.13",
      "mimetype": "text/x-python",
      "codemirror_mode": {
        "name": "ipython",
        "version": 3
      },
      "pygments_lexer": "ipython3",
      "nbconvert_exporter": "python",
      "file_extension": ".py"
    },
    "microsoft": {
      "ms_spell_check": {
        "ms_spell_check_language": "en"
      },
      "host": {
        "AzureML": {
          "notebookHasBeenCompleted": true
        }
      }
    },
    "kernel_info": {
      "name": "gigav3"
    },
    "nteract": {
      "version": "nteract-front-end@1.0.0"
    }
  },
  "nbformat": 4,
  "nbformat_minor": 5
}