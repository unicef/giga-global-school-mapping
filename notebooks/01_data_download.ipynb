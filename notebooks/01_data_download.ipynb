{
 "cells": [
  {
   "cell_type": "markdown",
   "id": "f8cf4143-2526-44f2-980d-27a390191008",
   "metadata": {},
   "source": [
    "## Imports and Setup"
   ]
  },
  {
   "cell_type": "code",
   "execution_count": 1,
   "id": "634532cb-af3f-4083-8472-a09030e5897c",
   "metadata": {
    "tags": []
   },
   "outputs": [],
   "source": [
    "import os\n",
    "import pandas as pd\n",
    "import geopandas as gpd\n",
    "\n",
    "import sys\n",
    "sys.path.insert(0, \"../utils/\")\n",
    "import download_utils\n",
    "import config_utils\n",
    "\n",
    "import warnings\n",
    "warnings.filterwarnings('ignore')\n",
    "warnings.simplefilter('ignore')\n",
    "\n",
    "%load_ext autoreload\n",
    "%autoreload 2"
   ]
  },
  {
   "cell_type": "markdown",
   "id": "de83468e-d5da-48ae-a5f0-79a79dc83b49",
   "metadata": {},
   "source": [
    "## Data Configurations"
   ]
  },
  {
   "cell_type": "code",
   "execution_count": 13,
   "id": "a4a724d8-57da-4c7b-b964-60ae1f7e7eca",
   "metadata": {},
   "outputs": [],
   "source": [
    "cwd = os.path.dirname(os.getcwd())\n",
    "filename = \"configs/data_configs/data_config_ISO_AF.yaml\"\n",
    "config_file = os.path.join(cwd, filename)\n",
    "config = config_utils.load_config(config_file)"
   ]
  },
  {
   "cell_type": "markdown",
   "id": "46e00581-63db-42b5-b765-ca3a761ad6f7",
   "metadata": {},
   "source": [
    "## Load UNICEF Data "
   ]
  },
  {
   "cell_type": "code",
   "execution_count": 3,
   "id": "d54d4593-32d0-424e-88be-b9efab25d87b",
   "metadata": {
    "tags": []
   },
   "outputs": [
    {
     "name": "stderr",
     "output_type": "stream",
     "text": [
      "INFO:root:Number of CSV files: 10\n",
      "Processing GHA: 100%|████████████████████| 10/10 [00:03<00:00,  2.85it/s]                                               \n"
     ]
    },
    {
     "data": {
      "text/html": [
       "<div>\n",
       "<style scoped>\n",
       "    .dataframe tbody tr th:only-of-type {\n",
       "        vertical-align: middle;\n",
       "    }\n",
       "\n",
       "    .dataframe tbody tr th {\n",
       "        vertical-align: top;\n",
       "    }\n",
       "\n",
       "    .dataframe thead th {\n",
       "        text-align: right;\n",
       "    }\n",
       "</style>\n",
       "<table border=\"1\" class=\"dataframe\">\n",
       "  <thead>\n",
       "    <tr style=\"text-align: right;\">\n",
       "      <th></th>\n",
       "      <th>UID</th>\n",
       "      <th>source</th>\n",
       "      <th>iso</th>\n",
       "      <th>country</th>\n",
       "      <th>region</th>\n",
       "      <th>subregion</th>\n",
       "      <th>name</th>\n",
       "      <th>geometry</th>\n",
       "      <th>giga_id_school</th>\n",
       "    </tr>\n",
       "  </thead>\n",
       "  <tbody>\n",
       "    <tr>\n",
       "      <th>57313</th>\n",
       "      <td>UNICEF-GHA-SCHOOL-00003286</td>\n",
       "      <td>UNICEF</td>\n",
       "      <td>GHA</td>\n",
       "      <td>Ghana</td>\n",
       "      <td>Africa</td>\n",
       "      <td>Sub-Saharan Africa</td>\n",
       "      <td>EFFIDUASE TOMHEL BASIC PREPARATORY SCHOOL,  BA...</td>\n",
       "      <td>POINT (-2.38445 6.97885)</td>\n",
       "      <td>7ba66d54-4263-354b-952e-1775f0cdae97</td>\n",
       "    </tr>\n",
       "    <tr>\n",
       "      <th>69058</th>\n",
       "      <td>UNICEF-GHA-SCHOOL-00015031</td>\n",
       "      <td>UNICEF</td>\n",
       "      <td>GHA</td>\n",
       "      <td>Ghana</td>\n",
       "      <td>Africa</td>\n",
       "      <td>Sub-Saharan Africa</td>\n",
       "      <td>UNICORN VIEW SCHOOL</td>\n",
       "      <td>POINT (-0.32948 5.62955)</td>\n",
       "      <td>25fce9a5-e937-3844-beb2-47c0d8a7df44</td>\n",
       "    </tr>\n",
       "    <tr>\n",
       "      <th>23148</th>\n",
       "      <td>UNICEF-SEN-SCHOOL-00004598</td>\n",
       "      <td>UNICEF</td>\n",
       "      <td>SEN</td>\n",
       "      <td>Senegal</td>\n",
       "      <td>Africa</td>\n",
       "      <td>Sub-Saharan Africa</td>\n",
       "      <td>EE MIDIO</td>\n",
       "      <td>POINT (-16.05877 15.96820)</td>\n",
       "      <td>e9f8021b-5851-3125-b7f5-292085b64946</td>\n",
       "    </tr>\n",
       "  </tbody>\n",
       "</table>\n",
       "</div>"
      ],
      "text/plain": [
       "                              UID  source  iso  country  region  \\\n",
       "57313  UNICEF-GHA-SCHOOL-00003286  UNICEF  GHA    Ghana  Africa   \n",
       "69058  UNICEF-GHA-SCHOOL-00015031  UNICEF  GHA    Ghana  Africa   \n",
       "23148  UNICEF-SEN-SCHOOL-00004598  UNICEF  SEN  Senegal  Africa   \n",
       "\n",
       "                subregion                                               name  \\\n",
       "57313  Sub-Saharan Africa  EFFIDUASE TOMHEL BASIC PREPARATORY SCHOOL,  BA...   \n",
       "69058  Sub-Saharan Africa                                UNICORN VIEW SCHOOL   \n",
       "23148  Sub-Saharan Africa                                           EE MIDIO   \n",
       "\n",
       "                         geometry                        giga_id_school  \n",
       "57313    POINT (-2.38445 6.97885)  7ba66d54-4263-354b-952e-1775f0cdae97  \n",
       "69058    POINT (-0.32948 5.62955)  25fce9a5-e937-3844-beb2-47c0d8a7df44  \n",
       "23148  POINT (-16.05877 15.96820)  e9f8021b-5851-3125-b7f5-292085b64946  "
      ]
     },
     "execution_count": 3,
     "metadata": {},
     "output_type": "execute_result"
    }
   ],
   "source": [
    "unicef = download_utils.load_unicef(config)\n",
    "unicef.sample(3)"
   ]
  },
  {
   "cell_type": "markdown",
   "id": "67680692-4ca8-46ae-89ff-5ed340fcd6f2",
   "metadata": {},
   "source": [
    "## Download Overture Maps Data"
   ]
  },
  {
   "cell_type": "code",
   "execution_count": 4,
   "id": "7e1c4152-5ef4-4cf9-b5a0-17f1ab031c53",
   "metadata": {},
   "outputs": [
    {
     "name": "stderr",
     "output_type": "stream",
     "text": [
      "Processing BEN:   0%|                    | 0/10 [00:00<?, ?it/s]                                                        "
     ]
    },
    {
     "data": {
      "application/vnd.jupyter.widget-view+json": {
       "model_id": "4424db81f42b4789980e70332833448d",
       "version_major": 2,
       "version_minor": 0
      },
      "text/plain": [
       "FloatProgress(value=0.0, layout=Layout(width='auto'), style=ProgressStyle(bar_color='black'))"
      ]
     },
     "metadata": {},
     "output_type": "display_data"
    },
    {
     "name": "stderr",
     "output_type": "stream",
     "text": [
      "Processing ZWE: 100%|████████████████████| 10/10 [18:31<00:00, 111.18s/it]                                              \n"
     ]
    },
    {
     "data": {
      "text/html": [
       "<div>\n",
       "<style scoped>\n",
       "    .dataframe tbody tr th:only-of-type {\n",
       "        vertical-align: middle;\n",
       "    }\n",
       "\n",
       "    .dataframe tbody tr th {\n",
       "        vertical-align: top;\n",
       "    }\n",
       "\n",
       "    .dataframe thead th {\n",
       "        text-align: right;\n",
       "    }\n",
       "</style>\n",
       "<table border=\"1\" class=\"dataframe\">\n",
       "  <thead>\n",
       "    <tr style=\"text-align: right;\">\n",
       "      <th></th>\n",
       "      <th>UID</th>\n",
       "      <th>source</th>\n",
       "      <th>iso</th>\n",
       "      <th>country</th>\n",
       "      <th>region</th>\n",
       "      <th>subregion</th>\n",
       "      <th>name</th>\n",
       "      <th>geometry</th>\n",
       "      <th>giga_id_school</th>\n",
       "    </tr>\n",
       "  </thead>\n",
       "  <tbody>\n",
       "    <tr>\n",
       "      <th>3052</th>\n",
       "      <td>OVERTURE-MWI-SCHOOL-00000175</td>\n",
       "      <td>OVERTURE</td>\n",
       "      <td>MWI</td>\n",
       "      <td>Malawi</td>\n",
       "      <td>Africa</td>\n",
       "      <td>Sub-Saharan Africa</td>\n",
       "      <td>Nice Islamic Private Academy (primary and seco...</td>\n",
       "      <td>POINT (35.33330 -15.36670)</td>\n",
       "      <td>None</td>\n",
       "    </tr>\n",
       "    <tr>\n",
       "      <th>3941</th>\n",
       "      <td>OVERTURE-ZWE-SCHOOL-00000110</td>\n",
       "      <td>OVERTURE</td>\n",
       "      <td>ZWE</td>\n",
       "      <td>Zimbabwe</td>\n",
       "      <td>Africa</td>\n",
       "      <td>Sub-Saharan Africa</td>\n",
       "      <td>My Nursery School</td>\n",
       "      <td>POINT (28.58147 -20.14855)</td>\n",
       "      <td>None</td>\n",
       "    </tr>\n",
       "    <tr>\n",
       "      <th>392</th>\n",
       "      <td>OVERTURE-BWA-SCHOOL-00000332</td>\n",
       "      <td>OVERTURE</td>\n",
       "      <td>BWA</td>\n",
       "      <td>Botswana</td>\n",
       "      <td>Africa</td>\n",
       "      <td>Sub-Saharan Africa</td>\n",
       "      <td>Carnival Dance Academy</td>\n",
       "      <td>POINT (27.50387 -21.19669)</td>\n",
       "      <td>None</td>\n",
       "    </tr>\n",
       "  </tbody>\n",
       "</table>\n",
       "</div>"
      ],
      "text/plain": [
       "                               UID    source  iso   country  region  \\\n",
       "3052  OVERTURE-MWI-SCHOOL-00000175  OVERTURE  MWI    Malawi  Africa   \n",
       "3941  OVERTURE-ZWE-SCHOOL-00000110  OVERTURE  ZWE  Zimbabwe  Africa   \n",
       "392   OVERTURE-BWA-SCHOOL-00000332  OVERTURE  BWA  Botswana  Africa   \n",
       "\n",
       "               subregion                                               name  \\\n",
       "3052  Sub-Saharan Africa  Nice Islamic Private Academy (primary and seco...   \n",
       "3941  Sub-Saharan Africa                                  My Nursery School   \n",
       "392   Sub-Saharan Africa                             Carnival Dance Academy   \n",
       "\n",
       "                        geometry giga_id_school  \n",
       "3052  POINT (35.33330 -15.36670)           None  \n",
       "3941  POINT (28.58147 -20.14855)           None  \n",
       "392   POINT (27.50387 -21.19669)           None  "
      ]
     },
     "execution_count": 4,
     "metadata": {},
     "output_type": "execute_result"
    }
   ],
   "source": [
    "overture_schools = download_utils.download_overture(config, category=\"school\")\n",
    "overture_schools.sample(3)"
   ]
  },
  {
   "cell_type": "code",
   "execution_count": 8,
   "id": "189c8518-d896-4472-88a5-971422aa7f3c",
   "metadata": {
    "tags": []
   },
   "outputs": [
    {
     "name": "stderr",
     "output_type": "stream",
     "text": [
      "Processing ZWE: 100%|████████████████████| 10/10 [00:07<00:00,  1.36it/s]                                               \n"
     ]
    },
    {
     "data": {
      "text/html": [
       "<div>\n",
       "<style scoped>\n",
       "    .dataframe tbody tr th:only-of-type {\n",
       "        vertical-align: middle;\n",
       "    }\n",
       "\n",
       "    .dataframe tbody tr th {\n",
       "        vertical-align: top;\n",
       "    }\n",
       "\n",
       "    .dataframe thead th {\n",
       "        text-align: right;\n",
       "    }\n",
       "</style>\n",
       "<table border=\"1\" class=\"dataframe\">\n",
       "  <thead>\n",
       "    <tr style=\"text-align: right;\">\n",
       "      <th></th>\n",
       "      <th>UID</th>\n",
       "      <th>source</th>\n",
       "      <th>iso</th>\n",
       "      <th>country</th>\n",
       "      <th>region</th>\n",
       "      <th>subregion</th>\n",
       "      <th>name</th>\n",
       "      <th>geometry</th>\n",
       "      <th>giga_id_school</th>\n",
       "    </tr>\n",
       "  </thead>\n",
       "  <tbody>\n",
       "    <tr>\n",
       "      <th>9972</th>\n",
       "      <td>OVERTURE-KEN-NON_SCHOOL-00000715</td>\n",
       "      <td>OVERTURE</td>\n",
       "      <td>KEN</td>\n",
       "      <td>Kenya</td>\n",
       "      <td>Africa</td>\n",
       "      <td>Sub-Saharan Africa</td>\n",
       "      <td>Church of Christ with apostolic Christian mess...</td>\n",
       "      <td>POINT (34.57895 0.73582)</td>\n",
       "      <td>None</td>\n",
       "    </tr>\n",
       "    <tr>\n",
       "      <th>6459</th>\n",
       "      <td>OVERTURE-GHA-NON_SCHOOL-00003982</td>\n",
       "      <td>OVERTURE</td>\n",
       "      <td>GHA</td>\n",
       "      <td>Ghana</td>\n",
       "      <td>Africa</td>\n",
       "      <td>Sub-Saharan Africa</td>\n",
       "      <td>Uni-Bank</td>\n",
       "      <td>POINT (-0.25700 6.09347)</td>\n",
       "      <td>None</td>\n",
       "    </tr>\n",
       "    <tr>\n",
       "      <th>2367</th>\n",
       "      <td>OVERTURE-BWA-NON_SCHOOL-00001846</td>\n",
       "      <td>OVERTURE</td>\n",
       "      <td>BWA</td>\n",
       "      <td>Botswana</td>\n",
       "      <td>Africa</td>\n",
       "      <td>Sub-Saharan Africa</td>\n",
       "      <td>Nswazi Mall</td>\n",
       "      <td>POINT (27.51179 -21.17067)</td>\n",
       "      <td>None</td>\n",
       "    </tr>\n",
       "  </tbody>\n",
       "</table>\n",
       "</div>"
      ],
      "text/plain": [
       "                                   UID    source  iso   country  region  \\\n",
       "9972  OVERTURE-KEN-NON_SCHOOL-00000715  OVERTURE  KEN     Kenya  Africa   \n",
       "6459  OVERTURE-GHA-NON_SCHOOL-00003982  OVERTURE  GHA     Ghana  Africa   \n",
       "2367  OVERTURE-BWA-NON_SCHOOL-00001846  OVERTURE  BWA  Botswana  Africa   \n",
       "\n",
       "               subregion                                               name  \\\n",
       "9972  Sub-Saharan Africa  Church of Christ with apostolic Christian mess...   \n",
       "6459  Sub-Saharan Africa                                           Uni-Bank   \n",
       "2367  Sub-Saharan Africa                                        Nswazi Mall   \n",
       "\n",
       "                        geometry giga_id_school  \n",
       "9972    POINT (34.57895 0.73582)           None  \n",
       "6459    POINT (-0.25700 6.09347)           None  \n",
       "2367  POINT (27.51179 -21.17067)           None  "
      ]
     },
     "execution_count": 8,
     "metadata": {},
     "output_type": "execute_result"
    }
   ],
   "source": [
    "overture_nonschools = download_utils.download_overture(config, category=\"non_school\", exclude=\"school\")\n",
    "overture_nonschools.sample(3)"
   ]
  },
  {
   "cell_type": "markdown",
   "id": "90aa0884-c872-413f-b014-3b246dd6b321",
   "metadata": {},
   "source": [
    "## Download OpenStreetMap (OSM) Data"
   ]
  },
  {
   "cell_type": "code",
   "execution_count": 9,
   "id": "b999ce0c-567c-4c8b-91f1-32a44aa7752f",
   "metadata": {
    "tags": []
   },
   "outputs": [
    {
     "name": "stderr",
     "output_type": "stream",
     "text": [
      "Processing ZWE: 100%|████████████████████| 10/10 [00:03<00:00,  2.77it/s]                                               \n"
     ]
    },
    {
     "data": {
      "text/html": [
       "<div>\n",
       "<style scoped>\n",
       "    .dataframe tbody tr th:only-of-type {\n",
       "        vertical-align: middle;\n",
       "    }\n",
       "\n",
       "    .dataframe tbody tr th {\n",
       "        vertical-align: top;\n",
       "    }\n",
       "\n",
       "    .dataframe thead th {\n",
       "        text-align: right;\n",
       "    }\n",
       "</style>\n",
       "<table border=\"1\" class=\"dataframe\">\n",
       "  <thead>\n",
       "    <tr style=\"text-align: right;\">\n",
       "      <th></th>\n",
       "      <th>UID</th>\n",
       "      <th>source</th>\n",
       "      <th>iso</th>\n",
       "      <th>country</th>\n",
       "      <th>region</th>\n",
       "      <th>subregion</th>\n",
       "      <th>name</th>\n",
       "      <th>geometry</th>\n",
       "      <th>giga_id_school</th>\n",
       "    </tr>\n",
       "  </thead>\n",
       "  <tbody>\n",
       "    <tr>\n",
       "      <th>1680</th>\n",
       "      <td>OSM-BEN-SCHOOL-00001680</td>\n",
       "      <td>OSM</td>\n",
       "      <td>BEN</td>\n",
       "      <td>Benin</td>\n",
       "      <td>Africa</td>\n",
       "      <td>Sub-Saharan Africa</td>\n",
       "      <td>None</td>\n",
       "      <td>POINT (2.43671 9.74608)</td>\n",
       "      <td>1680</td>\n",
       "    </tr>\n",
       "    <tr>\n",
       "      <th>3476</th>\n",
       "      <td>OSM-GHA-SCHOOL-00000626</td>\n",
       "      <td>OSM</td>\n",
       "      <td>GHA</td>\n",
       "      <td>Ghana</td>\n",
       "      <td>Africa</td>\n",
       "      <td>Sub-Saharan Africa</td>\n",
       "      <td>None</td>\n",
       "      <td>POINT (-1.21342 6.62336)</td>\n",
       "      <td>None</td>\n",
       "    </tr>\n",
       "    <tr>\n",
       "      <th>9573</th>\n",
       "      <td>OSM-KEN-SCHOOL-00004302</td>\n",
       "      <td>OSM</td>\n",
       "      <td>KEN</td>\n",
       "      <td>Kenya</td>\n",
       "      <td>Africa</td>\n",
       "      <td>Sub-Saharan Africa</td>\n",
       "      <td>Igandeni mixed day secondary</td>\n",
       "      <td>POINT (37.63521 -0.11948)</td>\n",
       "      <td>None</td>\n",
       "    </tr>\n",
       "  </tbody>\n",
       "</table>\n",
       "</div>"
      ],
      "text/plain": [
       "                          UID source  iso country  region           subregion  \\\n",
       "1680  OSM-BEN-SCHOOL-00001680    OSM  BEN   Benin  Africa  Sub-Saharan Africa   \n",
       "3476  OSM-GHA-SCHOOL-00000626    OSM  GHA   Ghana  Africa  Sub-Saharan Africa   \n",
       "9573  OSM-KEN-SCHOOL-00004302    OSM  KEN   Kenya  Africa  Sub-Saharan Africa   \n",
       "\n",
       "                              name                   geometry giga_id_school  \n",
       "1680                          None    POINT (2.43671 9.74608)           1680  \n",
       "3476                          None   POINT (-1.21342 6.62336)           None  \n",
       "9573  Igandeni mixed day secondary  POINT (37.63521 -0.11948)           None  "
      ]
     },
     "execution_count": 9,
     "metadata": {},
     "output_type": "execute_result"
    }
   ],
   "source": [
    "osm_schools = download_utils.download_osm(config, category=\"school\")\n",
    "osm_schools.sample(3)"
   ]
  },
  {
   "cell_type": "code",
   "execution_count": 10,
   "id": "9120693a-ec23-4347-bacc-93178b4af087",
   "metadata": {
    "tags": []
   },
   "outputs": [
    {
     "name": "stderr",
     "output_type": "stream",
     "text": [
      "Processing ZWE: 100%|████████████████████| 10/10 [00:11<00:00,  1.13s/it]                                               \n"
     ]
    },
    {
     "data": {
      "text/html": [
       "<div>\n",
       "<style scoped>\n",
       "    .dataframe tbody tr th:only-of-type {\n",
       "        vertical-align: middle;\n",
       "    }\n",
       "\n",
       "    .dataframe tbody tr th {\n",
       "        vertical-align: top;\n",
       "    }\n",
       "\n",
       "    .dataframe thead th {\n",
       "        text-align: right;\n",
       "    }\n",
       "</style>\n",
       "<table border=\"1\" class=\"dataframe\">\n",
       "  <thead>\n",
       "    <tr style=\"text-align: right;\">\n",
       "      <th></th>\n",
       "      <th>UID</th>\n",
       "      <th>source</th>\n",
       "      <th>iso</th>\n",
       "      <th>country</th>\n",
       "      <th>region</th>\n",
       "      <th>subregion</th>\n",
       "      <th>name</th>\n",
       "      <th>geometry</th>\n",
       "      <th>giga_id_school</th>\n",
       "    </tr>\n",
       "  </thead>\n",
       "  <tbody>\n",
       "    <tr>\n",
       "      <th>26114</th>\n",
       "      <td>OSM-KEN-NON_SCHOOL-00004579</td>\n",
       "      <td>OSM</td>\n",
       "      <td>KEN</td>\n",
       "      <td>Kenya</td>\n",
       "      <td>Africa</td>\n",
       "      <td>Sub-Saharan Africa</td>\n",
       "      <td>Triton - Naivasha Road</td>\n",
       "      <td>POINT (36.75715 -1.29818)</td>\n",
       "      <td>None</td>\n",
       "    </tr>\n",
       "    <tr>\n",
       "      <th>22874</th>\n",
       "      <td>OSM-KEN-NON_SCHOOL-00001339</td>\n",
       "      <td>OSM</td>\n",
       "      <td>KEN</td>\n",
       "      <td>Kenya</td>\n",
       "      <td>Africa</td>\n",
       "      <td>Sub-Saharan Africa</td>\n",
       "      <td>Checkers inn Bar &amp; restaurant</td>\n",
       "      <td>POINT (36.79588 -1.29174)</td>\n",
       "      <td>None</td>\n",
       "    </tr>\n",
       "    <tr>\n",
       "      <th>26746</th>\n",
       "      <td>OSM-KEN-NON_SCHOOL-00005211</td>\n",
       "      <td>OSM</td>\n",
       "      <td>KEN</td>\n",
       "      <td>Kenya</td>\n",
       "      <td>Africa</td>\n",
       "      <td>Sub-Saharan Africa</td>\n",
       "      <td>None</td>\n",
       "      <td>POINT (35.05190 1.21351)</td>\n",
       "      <td>None</td>\n",
       "    </tr>\n",
       "  </tbody>\n",
       "</table>\n",
       "</div>"
      ],
      "text/plain": [
       "                               UID source  iso country  region  \\\n",
       "26114  OSM-KEN-NON_SCHOOL-00004579    OSM  KEN   Kenya  Africa   \n",
       "22874  OSM-KEN-NON_SCHOOL-00001339    OSM  KEN   Kenya  Africa   \n",
       "26746  OSM-KEN-NON_SCHOOL-00005211    OSM  KEN   Kenya  Africa   \n",
       "\n",
       "                subregion                           name  \\\n",
       "26114  Sub-Saharan Africa         Triton - Naivasha Road   \n",
       "22874  Sub-Saharan Africa  Checkers inn Bar & restaurant   \n",
       "26746  Sub-Saharan Africa                           None   \n",
       "\n",
       "                        geometry giga_id_school  \n",
       "26114  POINT (36.75715 -1.29818)           None  \n",
       "22874  POINT (36.79588 -1.29174)           None  \n",
       "26746   POINT (35.05190 1.21351)           None  "
      ]
     },
     "execution_count": 10,
     "metadata": {},
     "output_type": "execute_result"
    }
   ],
   "source": [
    "osm_nonschools = download_utils.download_osm(config, category=\"non_school\")\n",
    "osm_nonschools.sample(3)"
   ]
  },
  {
   "cell_type": "markdown",
   "id": "ee5e52a4-4ba1-418b-aaa9-0111670bf516",
   "metadata": {},
   "source": [
    "## Download Building Footprints"
   ]
  },
  {
   "cell_type": "code",
   "execution_count": 14,
   "id": "387e5082-d066-47d3-8bb5-979ea5f72b3d",
   "metadata": {},
   "outputs": [
    {
     "name": "stderr",
     "output_type": "stream",
     "text": [
      "Processing ZWE: 100%|████████████████████| 10/10 [00:00<00:00, 808.23it/s]                                              \n"
     ]
    }
   ],
   "source": [
    "download_utils.download_buildings(config, source=\"ms\", verbose=True)"
   ]
  },
  {
   "cell_type": "code",
   "execution_count": 18,
   "id": "f90ceeb1-fa74-41d4-9ce3-7f40a26ce577",
   "metadata": {},
   "outputs": [
    {
     "name": "stderr",
     "output_type": "stream",
     "text": [
      "Processing ZWE: 100%|████████████████████| 10/10 [00:00<00:00, 719.98it/s]                                              \n"
     ]
    }
   ],
   "source": [
    "download_utils.download_buildings(config, source=\"google\", verbose=True)"
   ]
  },
  {
   "cell_type": "markdown",
   "id": "42c1634b-b8ac-4293-a3b3-01910c1b5f92",
   "metadata": {},
   "source": [
    "## Download Global Human Settlements Layer"
   ]
  },
  {
   "cell_type": "code",
   "execution_count": 9,
   "id": "325ff415-fe12-40e3-abfa-17e3e161db81",
   "metadata": {},
   "outputs": [],
   "source": [
    "download_utils.download_ghsl(config, type=\"built_c\")"
   ]
  },
  {
   "cell_type": "code",
   "execution_count": 10,
   "id": "788993b4-d620-459b-a453-4e51753c38a8",
   "metadata": {},
   "outputs": [],
   "source": [
    "download_utils.download_ghsl(config, type=\"smod\")"
   ]
  }
 ],
 "metadata": {
  "kernelspec": {
   "display_name": "giga2",
   "language": "python",
   "name": "giga2"
  },
  "language_info": {
   "codemirror_mode": {
    "name": "ipython",
    "version": 3
   },
   "file_extension": ".py",
   "mimetype": "text/x-python",
   "name": "python",
   "nbconvert_exporter": "python",
   "pygments_lexer": "ipython3",
   "version": "3.10.13"
  }
 },
 "nbformat": 4,
 "nbformat_minor": 5
}
