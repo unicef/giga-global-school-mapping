{
 "cells": [
  {
   "cell_type": "markdown",
   "id": "f8cf4143-2526-44f2-980d-27a390191008",
   "metadata": {},
   "source": [
    "## Imports and Setup"
   ]
  },
  {
   "cell_type": "code",
   "execution_count": 1,
   "id": "634532cb-af3f-4083-8472-a09030e5897c",
   "metadata": {
    "tags": []
   },
   "outputs": [],
   "source": [
    "import os\n",
    "import pandas as pd\n",
    "import geopandas as gpd\n",
    "\n",
    "import sys\n",
    "sys.path.insert(0, \"../utils/\")\n",
    "import download_utils\n",
    "import config_utils\n",
    "\n",
    "import warnings\n",
    "warnings.filterwarnings('ignore')\n",
    "warnings.simplefilter('ignore')\n",
    "\n",
    "%load_ext autoreload\n",
    "%autoreload 2"
   ]
  },
  {
   "cell_type": "markdown",
   "id": "de83468e-d5da-48ae-a5f0-79a79dc83b49",
   "metadata": {},
   "source": [
    "## Data Configurations"
   ]
  },
  {
   "cell_type": "code",
   "execution_count": 2,
   "id": "a4a724d8-57da-4c7b-b964-60ae1f7e7eca",
   "metadata": {},
   "outputs": [],
   "source": [
    "cwd = os.path.dirname(os.getcwd())\n",
    "filename=\"configs/master_config.yaml\"\n",
    "\n",
    "config_file = os.path.join(cwd, filename)\n",
    "config = config_utils.load_config(config_file)"
   ]
  },
  {
   "cell_type": "markdown",
   "id": "46e00581-63db-42b5-b765-ca3a761ad6f7",
   "metadata": {},
   "source": [
    "## Load UNICEF Data "
   ]
  },
  {
   "cell_type": "code",
   "execution_count": 3,
   "id": "d54d4593-32d0-424e-88be-b9efab25d87b",
   "metadata": {
    "tags": []
   },
   "outputs": [
    {
     "name": "stderr",
     "output_type": "stream",
     "text": [
      "INFO:root:Number of CSV files: 43\n",
      "Processing SLV: 100%|████████████████████| 43/43 [00:14<00:00,  2.88it/s]                                               \n"
     ]
    },
    {
     "data": {
      "text/html": [
       "<div>\n",
       "<style scoped>\n",
       "    .dataframe tbody tr th:only-of-type {\n",
       "        vertical-align: middle;\n",
       "    }\n",
       "\n",
       "    .dataframe tbody tr th {\n",
       "        vertical-align: top;\n",
       "    }\n",
       "\n",
       "    .dataframe thead th {\n",
       "        text-align: right;\n",
       "    }\n",
       "</style>\n",
       "<table border=\"1\" class=\"dataframe\">\n",
       "  <thead>\n",
       "    <tr style=\"text-align: right;\">\n",
       "      <th></th>\n",
       "      <th>UID</th>\n",
       "      <th>source</th>\n",
       "      <th>iso</th>\n",
       "      <th>country</th>\n",
       "      <th>region</th>\n",
       "      <th>subregion</th>\n",
       "      <th>name</th>\n",
       "      <th>geometry</th>\n",
       "      <th>giga_id_school</th>\n",
       "    </tr>\n",
       "  </thead>\n",
       "  <tbody>\n",
       "    <tr>\n",
       "      <th>103652</th>\n",
       "      <td>UNICEF-NGA-SCHOOL-00078301</td>\n",
       "      <td>UNICEF</td>\n",
       "      <td>NGA</td>\n",
       "      <td>Nigeria</td>\n",
       "      <td>Africa</td>\n",
       "      <td>Sub-Saharan Africa</td>\n",
       "      <td>Local Government Education Authority Riffi Pri...</td>\n",
       "      <td>POINT (8.58604 8.96356)</td>\n",
       "      <td>5d03db4a-571c-3830-b5ad-8815dfa4a643</td>\n",
       "    </tr>\n",
       "    <tr>\n",
       "      <th>531723</th>\n",
       "      <td>UNICEF-MDG-SCHOOL-00029654</td>\n",
       "      <td>UNICEF</td>\n",
       "      <td>MDG</td>\n",
       "      <td>Madagascar</td>\n",
       "      <td>Africa</td>\n",
       "      <td>Sub-Saharan Africa</td>\n",
       "      <td>ANKOFAFA AMBONY</td>\n",
       "      <td>POINT (47.10991 -21.42941)</td>\n",
       "      <td>29654</td>\n",
       "    </tr>\n",
       "    <tr>\n",
       "      <th>497170</th>\n",
       "      <td>UNICEF-ZWE-SCHOOL-00003775</td>\n",
       "      <td>UNICEF</td>\n",
       "      <td>ZWE</td>\n",
       "      <td>Zimbabwe</td>\n",
       "      <td>Africa</td>\n",
       "      <td>Sub-Saharan Africa</td>\n",
       "      <td>CHININGA</td>\n",
       "      <td>POINT (30.45708 -16.92055)</td>\n",
       "      <td>c271a035-a201-3d91-ba42-1e48f82f0f6b</td>\n",
       "    </tr>\n",
       "  </tbody>\n",
       "</table>\n",
       "</div>"
      ],
      "text/plain": [
       "                               UID  source  iso     country  region  \\\n",
       "103652  UNICEF-NGA-SCHOOL-00078301  UNICEF  NGA     Nigeria  Africa   \n",
       "531723  UNICEF-MDG-SCHOOL-00029654  UNICEF  MDG  Madagascar  Africa   \n",
       "497170  UNICEF-ZWE-SCHOOL-00003775  UNICEF  ZWE    Zimbabwe  Africa   \n",
       "\n",
       "                 subregion                                               name  \\\n",
       "103652  Sub-Saharan Africa  Local Government Education Authority Riffi Pri...   \n",
       "531723  Sub-Saharan Africa                                    ANKOFAFA AMBONY   \n",
       "497170  Sub-Saharan Africa                                           CHININGA   \n",
       "\n",
       "                          geometry                        giga_id_school  \n",
       "103652     POINT (8.58604 8.96356)  5d03db4a-571c-3830-b5ad-8815dfa4a643  \n",
       "531723  POINT (47.10991 -21.42941)                                 29654  \n",
       "497170  POINT (30.45708 -16.92055)  c271a035-a201-3d91-ba42-1e48f82f0f6b  "
      ]
     },
     "execution_count": 3,
     "metadata": {},
     "output_type": "execute_result"
    }
   ],
   "source": [
    "unicef = download_utils.load_unicef(config)\n",
    "unicef.sample(3)"
   ]
  },
  {
   "cell_type": "markdown",
   "id": "67680692-4ca8-46ae-89ff-5ed340fcd6f2",
   "metadata": {},
   "source": [
    "## Download Overture Maps Data"
   ]
  },
  {
   "cell_type": "code",
   "execution_count": null,
   "id": "acfa6b0b-152d-4138-94d0-47308b370f95",
   "metadata": {
    "tags": []
   },
   "outputs": [
    {
     "name": "stderr",
     "output_type": "stream",
     "text": [
      "Processing MOZ:   0%|                    | 0/1 [00:00<?, ?it/s]                                                         "
     ]
    },
    {
     "data": {
      "application/vnd.jupyter.widget-view+json": {
       "model_id": "68380754181e47e48fc1425d440f0311",
       "version_major": 2,
       "version_minor": 0
      },
      "text/plain": [
       "FloatProgress(value=0.0, layout=Layout(width='auto'), style=ProgressStyle(bar_color='black'))"
      ]
     },
     "metadata": {},
     "output_type": "display_data"
    }
   ],
   "source": [
    "overture_schools = download_utils.download_overture(config, category=\"school\")\n",
    "overture_schools.sample(3)"
   ]
  },
  {
   "cell_type": "code",
   "execution_count": 5,
   "id": "189c8518-d896-4472-88a5-971422aa7f3c",
   "metadata": {
    "tags": []
   },
   "outputs": [
    {
     "name": "stderr",
     "output_type": "stream",
     "text": [
      "Processing BRA: 100%|████████████████████| 42/42 [02:32<00:00,  3.64s/it]                                               \n",
      "INFO:root:Generated /home/itingzon.unicef/giga/data/vectors/non_school/overture.geojson\n",
      "INFO:root:Data dimensions: (660525, 9), CRS: EPSG:4326\n"
     ]
    },
    {
     "data": {
      "text/html": [
       "<div>\n",
       "<style scoped>\n",
       "    .dataframe tbody tr th:only-of-type {\n",
       "        vertical-align: middle;\n",
       "    }\n",
       "\n",
       "    .dataframe tbody tr th {\n",
       "        vertical-align: top;\n",
       "    }\n",
       "\n",
       "    .dataframe thead th {\n",
       "        text-align: right;\n",
       "    }\n",
       "</style>\n",
       "<table border=\"1\" class=\"dataframe\">\n",
       "  <thead>\n",
       "    <tr style=\"text-align: right;\">\n",
       "      <th></th>\n",
       "      <th>UID</th>\n",
       "      <th>source</th>\n",
       "      <th>iso</th>\n",
       "      <th>country</th>\n",
       "      <th>region</th>\n",
       "      <th>subregion</th>\n",
       "      <th>name</th>\n",
       "      <th>geometry</th>\n",
       "      <th>giga_id_school</th>\n",
       "    </tr>\n",
       "  </thead>\n",
       "  <tbody>\n",
       "    <tr>\n",
       "      <th>5382</th>\n",
       "      <td>OVERTURE-BIH-NON_SCHOOL-00002402</td>\n",
       "      <td>OVERTURE</td>\n",
       "      <td>BIH</td>\n",
       "      <td>Bosnia and Herzegovina</td>\n",
       "      <td>Europe</td>\n",
       "      <td>Southern Europe</td>\n",
       "      <td>Baraćuša</td>\n",
       "      <td>POINT (16.01257 44.70676)</td>\n",
       "      <td>None</td>\n",
       "    </tr>\n",
       "    <tr>\n",
       "      <th>605258</th>\n",
       "      <td>OVERTURE-BRA-NON_SCHOOL-00334784</td>\n",
       "      <td>OVERTURE</td>\n",
       "      <td>BRA</td>\n",
       "      <td>Brazil</td>\n",
       "      <td>Americas</td>\n",
       "      <td>Latin America and the Caribbean</td>\n",
       "      <td>Al Mare Restaurante</td>\n",
       "      <td>POINT (-48.68347 -26.64404)</td>\n",
       "      <td>None</td>\n",
       "    </tr>\n",
       "    <tr>\n",
       "      <th>366212</th>\n",
       "      <td>OVERTURE-BRA-NON_SCHOOL-00095738</td>\n",
       "      <td>OVERTURE</td>\n",
       "      <td>BRA</td>\n",
       "      <td>Brazil</td>\n",
       "      <td>Americas</td>\n",
       "      <td>Latin America and the Caribbean</td>\n",
       "      <td>Private Pub</td>\n",
       "      <td>POINT (-34.84614 -7.14704)</td>\n",
       "      <td>None</td>\n",
       "    </tr>\n",
       "  </tbody>\n",
       "</table>\n",
       "</div>"
      ],
      "text/plain": [
       "                                     UID    source  iso  \\\n",
       "5382    OVERTURE-BIH-NON_SCHOOL-00002402  OVERTURE  BIH   \n",
       "605258  OVERTURE-BRA-NON_SCHOOL-00334784  OVERTURE  BRA   \n",
       "366212  OVERTURE-BRA-NON_SCHOOL-00095738  OVERTURE  BRA   \n",
       "\n",
       "                       country    region                        subregion  \\\n",
       "5382    Bosnia and Herzegovina    Europe                  Southern Europe   \n",
       "605258                  Brazil  Americas  Latin America and the Caribbean   \n",
       "366212                  Brazil  Americas  Latin America and the Caribbean   \n",
       "\n",
       "                       name                     geometry giga_id_school  \n",
       "5382               Baraćuša    POINT (16.01257 44.70676)           None  \n",
       "605258  Al Mare Restaurante  POINT (-48.68347 -26.64404)           None  \n",
       "366212          Private Pub   POINT (-34.84614 -7.14704)           None  "
      ]
     },
     "execution_count": 5,
     "metadata": {},
     "output_type": "execute_result"
    }
   ],
   "source": [
    "overture_nonschools = download_utils.download_overture(config, category=\"non_school\", exclude=\"school\")\n",
    "overture_nonschools.sample(3)"
   ]
  },
  {
   "cell_type": "markdown",
   "id": "90aa0884-c872-413f-b014-3b246dd6b321",
   "metadata": {},
   "source": [
    "## Download OpenStreetMap (OSM) Data"
   ]
  },
  {
   "cell_type": "code",
   "execution_count": 5,
   "id": "b999ce0c-567c-4c8b-91f1-32a44aa7752f",
   "metadata": {
    "tags": []
   },
   "outputs": [
    {
     "name": "stderr",
     "output_type": "stream",
     "text": [
      "Processing MOZ:   0%|                    | 0/1 [00:00<?, ?it/s]                                                         WARNING:fiona._env:Several features with id = 663190261 have been found. Altering it to be unique. This warning will not be emitted anymore for this layer\n",
      "WARNING:fiona._env:Several features with id = 663190261 have been found. Altering it to be unique. This warning will not be emitted anymore for this layer\n",
      "Processing MOZ: 100%|████████████████████| 1/1 [00:05<00:00,  5.15s/it]                                                 \n"
     ]
    },
    {
     "data": {
      "text/html": [
       "<div>\n",
       "<style scoped>\n",
       "    .dataframe tbody tr th:only-of-type {\n",
       "        vertical-align: middle;\n",
       "    }\n",
       "\n",
       "    .dataframe tbody tr th {\n",
       "        vertical-align: top;\n",
       "    }\n",
       "\n",
       "    .dataframe thead th {\n",
       "        text-align: right;\n",
       "    }\n",
       "</style>\n",
       "<table border=\"1\" class=\"dataframe\">\n",
       "  <thead>\n",
       "    <tr style=\"text-align: right;\">\n",
       "      <th></th>\n",
       "      <th>UID</th>\n",
       "      <th>source</th>\n",
       "      <th>iso</th>\n",
       "      <th>country</th>\n",
       "      <th>region</th>\n",
       "      <th>subregion</th>\n",
       "      <th>name</th>\n",
       "      <th>geometry</th>\n",
       "      <th>giga_id_school</th>\n",
       "    </tr>\n",
       "  </thead>\n",
       "  <tbody>\n",
       "    <tr>\n",
       "      <th>214</th>\n",
       "      <td>OSM-MOZ-SCHOOL-00000214</td>\n",
       "      <td>OSM</td>\n",
       "      <td>MOZ</td>\n",
       "      <td>Mozambique</td>\n",
       "      <td>Africa</td>\n",
       "      <td>Sub-Saharan Africa</td>\n",
       "      <td>Escola Comunitária São Paulo</td>\n",
       "      <td>POINT (32.60260 -25.92490)</td>\n",
       "      <td>None</td>\n",
       "    </tr>\n",
       "    <tr>\n",
       "      <th>3</th>\n",
       "      <td>OSM-MOZ-SCHOOL-00000003</td>\n",
       "      <td>OSM</td>\n",
       "      <td>MOZ</td>\n",
       "      <td>Mozambique</td>\n",
       "      <td>Africa</td>\n",
       "      <td>Sub-Saharan Africa</td>\n",
       "      <td>Escola Industrial e Comercial Estrela do Mar -...</td>\n",
       "      <td>POINT (35.19532 -21.53630)</td>\n",
       "      <td>None</td>\n",
       "    </tr>\n",
       "    <tr>\n",
       "      <th>113</th>\n",
       "      <td>OSM-MOZ-SCHOOL-00000113</td>\n",
       "      <td>OSM</td>\n",
       "      <td>MOZ</td>\n",
       "      <td>Mozambique</td>\n",
       "      <td>Africa</td>\n",
       "      <td>Sub-Saharan Africa</td>\n",
       "      <td>None</td>\n",
       "      <td>POINT (34.31767 -19.33373)</td>\n",
       "      <td>None</td>\n",
       "    </tr>\n",
       "  </tbody>\n",
       "</table>\n",
       "</div>"
      ],
      "text/plain": [
       "                         UID source  iso     country  region  \\\n",
       "214  OSM-MOZ-SCHOOL-00000214    OSM  MOZ  Mozambique  Africa   \n",
       "3    OSM-MOZ-SCHOOL-00000003    OSM  MOZ  Mozambique  Africa   \n",
       "113  OSM-MOZ-SCHOOL-00000113    OSM  MOZ  Mozambique  Africa   \n",
       "\n",
       "              subregion                                               name  \\\n",
       "214  Sub-Saharan Africa                       Escola Comunitária São Paulo   \n",
       "3    Sub-Saharan Africa  Escola Industrial e Comercial Estrela do Mar -...   \n",
       "113  Sub-Saharan Africa                                               None   \n",
       "\n",
       "                       geometry giga_id_school  \n",
       "214  POINT (32.60260 -25.92490)           None  \n",
       "3    POINT (35.19532 -21.53630)           None  \n",
       "113  POINT (34.31767 -19.33373)           None  "
      ]
     },
     "execution_count": 5,
     "metadata": {},
     "output_type": "execute_result"
    }
   ],
   "source": [
    "osm_schools = download_utils.download_osm(config, category=\"school\")\n",
    "osm_schools.sample(3)"
   ]
  },
  {
   "cell_type": "code",
   "execution_count": 6,
   "id": "9120693a-ec23-4347-bacc-93178b4af087",
   "metadata": {
    "tags": []
   },
   "outputs": [
    {
     "name": "stderr",
     "output_type": "stream",
     "text": [
      "Processing MOZ:   0%|                    | 0/1 [00:00<?, ?it/s]                                                         WARNING:fiona._env:Several features with id = 251993180 have been found. Altering it to be unique. This warning will not be emitted anymore for this layer\n",
      "WARNING:fiona._env:Several features with id = 251993180 have been found. Altering it to be unique. This warning will not be emitted anymore for this layer\n",
      "Processing MOZ: 100%|████████████████████| 1/1 [00:49<00:00, 49.60s/it]                                                 \n"
     ]
    },
    {
     "data": {
      "text/html": [
       "<div>\n",
       "<style scoped>\n",
       "    .dataframe tbody tr th:only-of-type {\n",
       "        vertical-align: middle;\n",
       "    }\n",
       "\n",
       "    .dataframe tbody tr th {\n",
       "        vertical-align: top;\n",
       "    }\n",
       "\n",
       "    .dataframe thead th {\n",
       "        text-align: right;\n",
       "    }\n",
       "</style>\n",
       "<table border=\"1\" class=\"dataframe\">\n",
       "  <thead>\n",
       "    <tr style=\"text-align: right;\">\n",
       "      <th></th>\n",
       "      <th>UID</th>\n",
       "      <th>source</th>\n",
       "      <th>iso</th>\n",
       "      <th>country</th>\n",
       "      <th>region</th>\n",
       "      <th>subregion</th>\n",
       "      <th>name</th>\n",
       "      <th>geometry</th>\n",
       "      <th>giga_id_school</th>\n",
       "    </tr>\n",
       "  </thead>\n",
       "  <tbody>\n",
       "    <tr>\n",
       "      <th>738</th>\n",
       "      <td>OSM-MOZ-NON_SCHOOL-00000738</td>\n",
       "      <td>OSM</td>\n",
       "      <td>MOZ</td>\n",
       "      <td>Mozambique</td>\n",
       "      <td>Africa</td>\n",
       "      <td>Sub-Saharan Africa</td>\n",
       "      <td>Ecobank</td>\n",
       "      <td>POINT (32.58138 -25.97757)</td>\n",
       "      <td>None</td>\n",
       "    </tr>\n",
       "    <tr>\n",
       "      <th>745</th>\n",
       "      <td>OSM-MOZ-NON_SCHOOL-00000745</td>\n",
       "      <td>OSM</td>\n",
       "      <td>MOZ</td>\n",
       "      <td>Mozambique</td>\n",
       "      <td>Africa</td>\n",
       "      <td>Sub-Saharan Africa</td>\n",
       "      <td>posto policial</td>\n",
       "      <td>POINT (32.54402 -25.85358)</td>\n",
       "      <td>None</td>\n",
       "    </tr>\n",
       "    <tr>\n",
       "      <th>1231</th>\n",
       "      <td>OSM-MOZ-NON_SCHOOL-00001231</td>\n",
       "      <td>OSM</td>\n",
       "      <td>MOZ</td>\n",
       "      <td>Mozambique</td>\n",
       "      <td>Africa</td>\n",
       "      <td>Sub-Saharan Africa</td>\n",
       "      <td>PARÓQUIA NOSSA SENHORA DA ESPERANÇA</td>\n",
       "      <td>POINT (32.57085 -25.93172)</td>\n",
       "      <td>None</td>\n",
       "    </tr>\n",
       "  </tbody>\n",
       "</table>\n",
       "</div>"
      ],
      "text/plain": [
       "                              UID source  iso     country  region  \\\n",
       "738   OSM-MOZ-NON_SCHOOL-00000738    OSM  MOZ  Mozambique  Africa   \n",
       "745   OSM-MOZ-NON_SCHOOL-00000745    OSM  MOZ  Mozambique  Africa   \n",
       "1231  OSM-MOZ-NON_SCHOOL-00001231    OSM  MOZ  Mozambique  Africa   \n",
       "\n",
       "               subregion                                 name  \\\n",
       "738   Sub-Saharan Africa                              Ecobank   \n",
       "745   Sub-Saharan Africa                       posto policial   \n",
       "1231  Sub-Saharan Africa  PARÓQUIA NOSSA SENHORA DA ESPERANÇA   \n",
       "\n",
       "                        geometry giga_id_school  \n",
       "738   POINT (32.58138 -25.97757)           None  \n",
       "745   POINT (32.54402 -25.85358)           None  \n",
       "1231  POINT (32.57085 -25.93172)           None  "
      ]
     },
     "execution_count": 6,
     "metadata": {},
     "output_type": "execute_result"
    }
   ],
   "source": [
    "osm_nonschools = download_utils.download_osm(config, category=\"non_school\")\n",
    "osm_nonschools.sample(3)"
   ]
  },
  {
   "cell_type": "markdown",
   "id": "ee5e52a4-4ba1-418b-aaa9-0111670bf516",
   "metadata": {},
   "source": [
    "## Download Building Footprints"
   ]
  },
  {
   "cell_type": "code",
   "execution_count": null,
   "id": "387e5082-d066-47d3-8bb5-979ea5f72b3d",
   "metadata": {},
   "outputs": [],
   "source": [
    "download_utils.download_buildings(config, source=\"ms\", verbose=True)"
   ]
  },
  {
   "cell_type": "code",
   "execution_count": null,
   "id": "490b6b34-2f1e-440c-a7f6-fc36c756c9b6",
   "metadata": {},
   "outputs": [],
   "source": [
    "download_utils.download_buildings(config, source=\"google\", verbose=True)"
   ]
  },
  {
   "cell_type": "markdown",
   "id": "42c1634b-b8ac-4293-a3b3-01910c1b5f92",
   "metadata": {},
   "source": [
    "## Download Global Human Settlements Layer"
   ]
  },
  {
   "cell_type": "code",
   "execution_count": null,
   "id": "325ff415-fe12-40e3-abfa-17e3e161db81",
   "metadata": {},
   "outputs": [],
   "source": [
    "download_utils.download_ghsl(config, type=\"built_c\")"
   ]
  },
  {
   "cell_type": "code",
   "execution_count": null,
   "id": "788993b4-d620-459b-a453-4e51753c38a8",
   "metadata": {},
   "outputs": [],
   "source": [
    "download_utils.download_ghsl(config, type=\"smod\")"
   ]
  }
 ],
 "metadata": {
  "kernelspec": {
   "display_name": "giga2",
   "language": "python",
   "name": "giga2"
  },
  "language_info": {
   "codemirror_mode": {
    "name": "ipython",
    "version": 3
   },
   "file_extension": ".py",
   "mimetype": "text/x-python",
   "name": "python",
   "nbconvert_exporter": "python",
   "pygments_lexer": "ipython3",
   "version": "3.10.13"
  }
 },
 "nbformat": 4,
 "nbformat_minor": 5
}
