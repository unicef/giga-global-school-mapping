{
 "cells": [
  {
   "cell_type": "markdown",
   "id": "4b5894ba-126a-4eeb-8578-db256ba22177",
   "metadata": {},
   "source": [
    "# Data Download\n",
    "\n",
    "This notebook demonstrates how to download data across UNICEF, Overture Maps, and OpenStreetMap (OSM). \n",
    "\n",
    "Alternatively, you can also run `python src/data_download.py`: \n",
    "\n",
    "```s\n",
    "usage: data_download.py [-h] [--config CONFIG] [--profile PROFILE]\n",
    "\n",
    "Data Download\n",
    "options:\n",
    "  -h, --help         show this help message and exit\n",
    "  --config CONFIG    Path to the configuration file\n",
    "  --profile PROFILE  Path to the profile filele file\n",
    "```"
   ]
  },
  {
   "cell_type": "markdown",
   "id": "f8cf4143-2526-44f2-980d-27a390191008",
   "metadata": {},
   "source": [
    "## Imports and Setup"
   ]
  },
  {
   "cell_type": "code",
   "execution_count": 1,
   "id": "d2159d4d-fa6a-4f66-85b6-e3787fabd541",
   "metadata": {
    "tags": []
   },
   "outputs": [],
   "source": [
    "import pandas as pd\n",
    "import geopandas as gpd\n",
    "\n",
    "import os \n",
    "os.chdir('/home/itingzon.unicef/giga')\n",
    "from utils import download_utils\n",
    "from utils import config_utils\n",
    "\n",
    "import warnings\n",
    "warnings.filterwarnings('ignore')\n",
    "warnings.simplefilter('ignore')\n",
    "\n",
    "%load_ext autoreload\n",
    "%autoreload 2"
   ]
  },
  {
   "cell_type": "markdown",
   "id": "de83468e-d5da-48ae-a5f0-79a79dc83b49",
   "metadata": {},
   "source": [
    "## Data Configurations"
   ]
  },
  {
   "cell_type": "code",
   "execution_count": 13,
   "id": "a4a724d8-57da-4c7b-b964-60ae1f7e7eca",
   "metadata": {},
   "outputs": [],
   "source": [
    "profile_filename = \"configs/profile.share\"\n",
    "config_filename = \"configs/data_configs/data_config_ISO_SA.yaml\"\n",
    "profile_file = os.path.join(os.getcwd(), profile_filename)\n",
    "config_file = os.path.join(os.getcwd(), config_filename)\n",
    "config = config_utils.load_config(config_file)"
   ]
  },
  {
   "cell_type": "markdown",
   "id": "f2be6376-fc55-48bc-a3b6-5979a87014c8",
   "metadata": {},
   "source": [
    "## Download UNICEF"
   ]
  },
  {
   "cell_type": "code",
   "execution_count": 14,
   "id": "cb559f34-dcef-40d4-a45f-ba5a721d6926",
   "metadata": {},
   "outputs": [
    {
     "name": "stderr",
     "output_type": "stream",
     "text": [
      "Processing BRA: 100%|████████████████████| 1/1 [00:02<00:00,  2.66s/it]                                                              \n"
     ]
    },
    {
     "name": "stdout",
     "output_type": "stream",
     "text": [
      "(7658, 9)\n"
     ]
    },
    {
     "data": {
      "text/html": [
       "<div>\n",
       "<style scoped>\n",
       "    .dataframe tbody tr th:only-of-type {\n",
       "        vertical-align: middle;\n",
       "    }\n",
       "\n",
       "    .dataframe tbody tr th {\n",
       "        vertical-align: top;\n",
       "    }\n",
       "\n",
       "    .dataframe thead th {\n",
       "        text-align: right;\n",
       "    }\n",
       "</style>\n",
       "<table border=\"1\" class=\"dataframe\">\n",
       "  <thead>\n",
       "    <tr style=\"text-align: right;\">\n",
       "      <th></th>\n",
       "      <th>UID</th>\n",
       "      <th>source</th>\n",
       "      <th>iso</th>\n",
       "      <th>country</th>\n",
       "      <th>region</th>\n",
       "      <th>subregion</th>\n",
       "      <th>name</th>\n",
       "      <th>giga_id_school</th>\n",
       "      <th>geometry</th>\n",
       "    </tr>\n",
       "  </thead>\n",
       "  <tbody>\n",
       "    <tr>\n",
       "      <th>5638</th>\n",
       "      <td>UNICEF-BRA-SCHOOL-00005638</td>\n",
       "      <td>UNICEF</td>\n",
       "      <td>BRA</td>\n",
       "      <td>Brazil</td>\n",
       "      <td>Americas</td>\n",
       "      <td>Latin America and the Caribbean</td>\n",
       "      <td>ESCOLA ESTADUAL IRMA BRUNA</td>\n",
       "      <td>13006711</td>\n",
       "      <td>POINT (-66.76733 -2.74704)</td>\n",
       "    </tr>\n",
       "    <tr>\n",
       "      <th>3021</th>\n",
       "      <td>UNICEF-BRA-SCHOOL-00003021</td>\n",
       "      <td>UNICEF</td>\n",
       "      <td>BRA</td>\n",
       "      <td>Brazil</td>\n",
       "      <td>Americas</td>\n",
       "      <td>Latin America and the Caribbean</td>\n",
       "      <td>ESC MUN CRIANCA FELIZ</td>\n",
       "      <td>13003356</td>\n",
       "      <td>POINT (-65.33099 -2.35074)</td>\n",
       "    </tr>\n",
       "    <tr>\n",
       "      <th>6487</th>\n",
       "      <td>UNICEF-BRA-SCHOOL-00006487</td>\n",
       "      <td>UNICEF</td>\n",
       "      <td>BRA</td>\n",
       "      <td>Brazil</td>\n",
       "      <td>Americas</td>\n",
       "      <td>Latin America and the Caribbean</td>\n",
       "      <td>EMEI SANTA ANA</td>\n",
       "      <td>15175120</td>\n",
       "      <td>POINT (-52.22517 -3.18598)</td>\n",
       "    </tr>\n",
       "  </tbody>\n",
       "</table>\n",
       "</div>"
      ],
      "text/plain": [
       "                             UID  source  iso country    region  \\\n",
       "5638  UNICEF-BRA-SCHOOL-00005638  UNICEF  BRA  Brazil  Americas   \n",
       "3021  UNICEF-BRA-SCHOOL-00003021  UNICEF  BRA  Brazil  Americas   \n",
       "6487  UNICEF-BRA-SCHOOL-00006487  UNICEF  BRA  Brazil  Americas   \n",
       "\n",
       "                            subregion                        name  \\\n",
       "5638  Latin America and the Caribbean  ESCOLA ESTADUAL IRMA BRUNA   \n",
       "3021  Latin America and the Caribbean       ESC MUN CRIANCA FELIZ   \n",
       "6487  Latin America and the Caribbean              EMEI SANTA ANA   \n",
       "\n",
       "      giga_id_school                    geometry  \n",
       "5638        13006711  POINT (-66.76733 -2.74704)  \n",
       "3021        13003356  POINT (-65.33099 -2.35074)  \n",
       "6487        15175120  POINT (-52.22517 -3.18598)  "
      ]
     },
     "execution_count": 14,
     "metadata": {},
     "output_type": "execute_result"
    }
   ],
   "source": [
    "unicef = download_utils.download_unicef(config, profile_file, in_file=\"BRA_unicef.csv\")\n",
    "print(unicef.shape)\n",
    "unicef.sample(3)"
   ]
  },
  {
   "cell_type": "markdown",
   "id": "67680692-4ca8-46ae-89ff-5ed340fcd6f2",
   "metadata": {},
   "source": [
    "## Download Overture Maps Data"
   ]
  },
  {
   "cell_type": "code",
   "execution_count": 4,
   "id": "cd46674d-6d88-4642-9a8d-fc2533e56eb9",
   "metadata": {},
   "outputs": [
    {
     "name": "stderr",
     "output_type": "stream",
     "text": [
      "Processing MNG:   0%|                    | 0/1 [00:00<?, ?it/s]                                                                      "
     ]
    },
    {
     "data": {
      "application/vnd.jupyter.widget-view+json": {
       "model_id": "0187f08706ee464390044bca40a17a80",
       "version_major": 2,
       "version_minor": 0
      },
      "text/plain": [
       "FloatProgress(value=0.0, layout=Layout(width='auto'), style=ProgressStyle(bar_color='black'))"
      ]
     },
     "metadata": {},
     "output_type": "display_data"
    },
    {
     "name": "stderr",
     "output_type": "stream",
     "text": [
      "Processing MNG: 100%|████████████████████| 1/1 [16:31<00:00, 991.85s/it]                                                             \n"
     ]
    },
    {
     "name": "stdout",
     "output_type": "stream",
     "text": [
      "(500, 9)\n"
     ]
    },
    {
     "data": {
      "text/html": [
       "<div>\n",
       "<style scoped>\n",
       "    .dataframe tbody tr th:only-of-type {\n",
       "        vertical-align: middle;\n",
       "    }\n",
       "\n",
       "    .dataframe tbody tr th {\n",
       "        vertical-align: top;\n",
       "    }\n",
       "\n",
       "    .dataframe thead th {\n",
       "        text-align: right;\n",
       "    }\n",
       "</style>\n",
       "<table border=\"1\" class=\"dataframe\">\n",
       "  <thead>\n",
       "    <tr style=\"text-align: right;\">\n",
       "      <th></th>\n",
       "      <th>UID</th>\n",
       "      <th>source</th>\n",
       "      <th>iso</th>\n",
       "      <th>country</th>\n",
       "      <th>region</th>\n",
       "      <th>subregion</th>\n",
       "      <th>name</th>\n",
       "      <th>giga_id_school</th>\n",
       "      <th>geometry</th>\n",
       "    </tr>\n",
       "  </thead>\n",
       "  <tbody>\n",
       "    <tr>\n",
       "      <th>253</th>\n",
       "      <td>OVERTURE-MNG-SCHOOL-00000335</td>\n",
       "      <td>OVERTURE</td>\n",
       "      <td>MNG</td>\n",
       "      <td>Mongolia</td>\n",
       "      <td>Asia</td>\n",
       "      <td>Eastern Asia</td>\n",
       "      <td>NOOM academy</td>\n",
       "      <td>253</td>\n",
       "      <td>POINT (106.92396 47.91968)</td>\n",
       "    </tr>\n",
       "    <tr>\n",
       "      <th>367</th>\n",
       "      <td>OVERTURE-MNG-SCHOOL-00000481</td>\n",
       "      <td>OVERTURE</td>\n",
       "      <td>MNG</td>\n",
       "      <td>Mongolia</td>\n",
       "      <td>Asia</td>\n",
       "      <td>Eastern Asia</td>\n",
       "      <td>Нийслэлийн Ерөнхий Боловсролын Лаборатори  23 ...</td>\n",
       "      <td>367</td>\n",
       "      <td>POINT (106.90911 47.91893)</td>\n",
       "    </tr>\n",
       "    <tr>\n",
       "      <th>221</th>\n",
       "      <td>OVERTURE-MNG-SCHOOL-00000295</td>\n",
       "      <td>OVERTURE</td>\n",
       "      <td>MNG</td>\n",
       "      <td>Mongolia</td>\n",
       "      <td>Asia</td>\n",
       "      <td>Eastern Asia</td>\n",
       "      <td>Күнз Дунд Сургууль</td>\n",
       "      <td>221</td>\n",
       "      <td>POINT (106.90526 47.87154)</td>\n",
       "    </tr>\n",
       "  </tbody>\n",
       "</table>\n",
       "</div>"
      ],
      "text/plain": [
       "                              UID    source  iso   country region  \\\n",
       "253  OVERTURE-MNG-SCHOOL-00000335  OVERTURE  MNG  Mongolia   Asia   \n",
       "367  OVERTURE-MNG-SCHOOL-00000481  OVERTURE  MNG  Mongolia   Asia   \n",
       "221  OVERTURE-MNG-SCHOOL-00000295  OVERTURE  MNG  Mongolia   Asia   \n",
       "\n",
       "        subregion                                               name  \\\n",
       "253  Eastern Asia                                       NOOM academy   \n",
       "367  Eastern Asia  Нийслэлийн Ерөнхий Боловсролын Лаборатори  23 ...   \n",
       "221  Eastern Asia                                 Күнз Дунд Сургууль   \n",
       "\n",
       "     giga_id_school                    geometry  \n",
       "253             253  POINT (106.92396 47.91968)  \n",
       "367             367  POINT (106.90911 47.91893)  \n",
       "221             221  POINT (106.90526 47.87154)  "
      ]
     },
     "execution_count": 4,
     "metadata": {},
     "output_type": "execute_result"
    }
   ],
   "source": [
    "overture_schools = download_utils.download_overture(config, category=\"school\")\n",
    "print(overture_schools.shape)\n",
    "overture_schools.sample(3)"
   ]
  },
  {
   "cell_type": "code",
   "execution_count": 5,
   "id": "189c8518-d896-4472-88a5-971422aa7f3c",
   "metadata": {
    "tags": []
   },
   "outputs": [
    {
     "name": "stderr",
     "output_type": "stream",
     "text": [
      "Processing MNG:   0%|                    | 0/1 [00:00<?, ?it/s]                                                                      "
     ]
    },
    {
     "data": {
      "application/vnd.jupyter.widget-view+json": {
       "model_id": "d0b60047a11a41518ee35035173af8aa",
       "version_major": 2,
       "version_minor": 0
      },
      "text/plain": [
       "FloatProgress(value=0.0, layout=Layout(width='auto'), style=ProgressStyle(bar_color='black'))"
      ]
     },
     "metadata": {},
     "output_type": "display_data"
    },
    {
     "name": "stderr",
     "output_type": "stream",
     "text": [
      "Processing MNG: 100%|████████████████████| 1/1 [15:55<00:00, 955.30s/it]                                                             \n"
     ]
    },
    {
     "name": "stdout",
     "output_type": "stream",
     "text": [
      "(2189, 9)\n"
     ]
    },
    {
     "data": {
      "text/html": [
       "<div>\n",
       "<style scoped>\n",
       "    .dataframe tbody tr th:only-of-type {\n",
       "        vertical-align: middle;\n",
       "    }\n",
       "\n",
       "    .dataframe tbody tr th {\n",
       "        vertical-align: top;\n",
       "    }\n",
       "\n",
       "    .dataframe thead th {\n",
       "        text-align: right;\n",
       "    }\n",
       "</style>\n",
       "<table border=\"1\" class=\"dataframe\">\n",
       "  <thead>\n",
       "    <tr style=\"text-align: right;\">\n",
       "      <th></th>\n",
       "      <th>UID</th>\n",
       "      <th>source</th>\n",
       "      <th>iso</th>\n",
       "      <th>country</th>\n",
       "      <th>region</th>\n",
       "      <th>subregion</th>\n",
       "      <th>name</th>\n",
       "      <th>giga_id_school</th>\n",
       "      <th>geometry</th>\n",
       "    </tr>\n",
       "  </thead>\n",
       "  <tbody>\n",
       "    <tr>\n",
       "      <th>1808</th>\n",
       "      <td>OVERTURE-MNG-NON_SCHOOL-00002022</td>\n",
       "      <td>OVERTURE</td>\n",
       "      <td>MNG</td>\n",
       "      <td>Mongolia</td>\n",
       "      <td>Asia</td>\n",
       "      <td>Eastern Asia</td>\n",
       "      <td>ZAISAN APARTMENT Z</td>\n",
       "      <td>1808</td>\n",
       "      <td>POINT (106.89448 47.89105)</td>\n",
       "    </tr>\n",
       "    <tr>\n",
       "      <th>2043</th>\n",
       "      <td>OVERTURE-MNG-NON_SCHOOL-00002289</td>\n",
       "      <td>OVERTURE</td>\n",
       "      <td>MNG</td>\n",
       "      <td>Mongolia</td>\n",
       "      <td>Asia</td>\n",
       "      <td>Eastern Asia</td>\n",
       "      <td>Beautytech</td>\n",
       "      <td>2043</td>\n",
       "      <td>POINT (106.92013 47.90279)</td>\n",
       "    </tr>\n",
       "    <tr>\n",
       "      <th>2128</th>\n",
       "      <td>OVERTURE-MNG-NON_SCHOOL-00002383</td>\n",
       "      <td>OVERTURE</td>\n",
       "      <td>MNG</td>\n",
       "      <td>Mongolia</td>\n",
       "      <td>Asia</td>\n",
       "      <td>Eastern Asia</td>\n",
       "      <td>Khan Tower</td>\n",
       "      <td>2128</td>\n",
       "      <td>POINT (106.91071 47.90457)</td>\n",
       "    </tr>\n",
       "  </tbody>\n",
       "</table>\n",
       "</div>"
      ],
      "text/plain": [
       "                                   UID    source  iso   country region  \\\n",
       "1808  OVERTURE-MNG-NON_SCHOOL-00002022  OVERTURE  MNG  Mongolia   Asia   \n",
       "2043  OVERTURE-MNG-NON_SCHOOL-00002289  OVERTURE  MNG  Mongolia   Asia   \n",
       "2128  OVERTURE-MNG-NON_SCHOOL-00002383  OVERTURE  MNG  Mongolia   Asia   \n",
       "\n",
       "         subregion                name  giga_id_school  \\\n",
       "1808  Eastern Asia  ZAISAN APARTMENT Z            1808   \n",
       "2043  Eastern Asia          Beautytech            2043   \n",
       "2128  Eastern Asia          Khan Tower            2128   \n",
       "\n",
       "                        geometry  \n",
       "1808  POINT (106.89448 47.89105)  \n",
       "2043  POINT (106.92013 47.90279)  \n",
       "2128  POINT (106.91071 47.90457)  "
      ]
     },
     "execution_count": 5,
     "metadata": {},
     "output_type": "execute_result"
    }
   ],
   "source": [
    "overture_nonschools = download_utils.download_overture(\n",
    "    config, category=\"non_school\", exclude=\"school\"\n",
    ")\n",
    "print(overture_nonschools.shape)\n",
    "overture_nonschools.sample(3)"
   ]
  },
  {
   "cell_type": "markdown",
   "id": "90aa0884-c872-413f-b014-3b246dd6b321",
   "metadata": {},
   "source": [
    "## Download OpenStreetMap (OSM) Data"
   ]
  },
  {
   "cell_type": "code",
   "execution_count": 8,
   "id": "b999ce0c-567c-4c8b-91f1-32a44aa7752f",
   "metadata": {
    "tags": []
   },
   "outputs": [
    {
     "name": "stderr",
     "output_type": "stream",
     "text": [
      "Processing MNG: 100%|████████████████████| 1/1 [00:00<00:00,  2.47it/s]                                                              "
     ]
    },
    {
     "name": "stdout",
     "output_type": "stream",
     "text": [
      "(640, 9)\n"
     ]
    },
    {
     "name": "stderr",
     "output_type": "stream",
     "text": [
      "\n"
     ]
    },
    {
     "data": {
      "text/html": [
       "<div>\n",
       "<style scoped>\n",
       "    .dataframe tbody tr th:only-of-type {\n",
       "        vertical-align: middle;\n",
       "    }\n",
       "\n",
       "    .dataframe tbody tr th {\n",
       "        vertical-align: top;\n",
       "    }\n",
       "\n",
       "    .dataframe thead th {\n",
       "        text-align: right;\n",
       "    }\n",
       "</style>\n",
       "<table border=\"1\" class=\"dataframe\">\n",
       "  <thead>\n",
       "    <tr style=\"text-align: right;\">\n",
       "      <th></th>\n",
       "      <th>UID</th>\n",
       "      <th>source</th>\n",
       "      <th>iso</th>\n",
       "      <th>country</th>\n",
       "      <th>region</th>\n",
       "      <th>subregion</th>\n",
       "      <th>name</th>\n",
       "      <th>geometry</th>\n",
       "      <th>giga_id_school</th>\n",
       "    </tr>\n",
       "  </thead>\n",
       "  <tbody>\n",
       "    <tr>\n",
       "      <th>508</th>\n",
       "      <td>OSM-MNG-SCHOOL-00000508</td>\n",
       "      <td>OSM</td>\n",
       "      <td>MNG</td>\n",
       "      <td>Mongolia</td>\n",
       "      <td>Asia</td>\n",
       "      <td>Eastern Asia</td>\n",
       "      <td>Сургууль</td>\n",
       "      <td>POINT (93.77443 49.67040)</td>\n",
       "      <td>508</td>\n",
       "    </tr>\n",
       "    <tr>\n",
       "      <th>233</th>\n",
       "      <td>OSM-MNG-SCHOOL-00000233</td>\n",
       "      <td>OSM</td>\n",
       "      <td>MNG</td>\n",
       "      <td>Mongolia</td>\n",
       "      <td>Asia</td>\n",
       "      <td>Eastern Asia</td>\n",
       "      <td>УБЭИС-ийн</td>\n",
       "      <td>POINT (104.05137 49.02513)</td>\n",
       "      <td>233</td>\n",
       "    </tr>\n",
       "    <tr>\n",
       "      <th>586</th>\n",
       "      <td>OSM-MNG-SCHOOL-00000586</td>\n",
       "      <td>OSM</td>\n",
       "      <td>MNG</td>\n",
       "      <td>Mongolia</td>\n",
       "      <td>Asia</td>\n",
       "      <td>Eastern Asia</td>\n",
       "      <td>None</td>\n",
       "      <td>POINT (115.36491 45.90342)</td>\n",
       "      <td>586</td>\n",
       "    </tr>\n",
       "  </tbody>\n",
       "</table>\n",
       "</div>"
      ],
      "text/plain": [
       "                         UID source  iso   country region     subregion  \\\n",
       "508  OSM-MNG-SCHOOL-00000508    OSM  MNG  Mongolia   Asia  Eastern Asia   \n",
       "233  OSM-MNG-SCHOOL-00000233    OSM  MNG  Mongolia   Asia  Eastern Asia   \n",
       "586  OSM-MNG-SCHOOL-00000586    OSM  MNG  Mongolia   Asia  Eastern Asia   \n",
       "\n",
       "          name                    geometry  giga_id_school  \n",
       "508   Сургууль   POINT (93.77443 49.67040)             508  \n",
       "233  УБЭИС-ийн  POINT (104.05137 49.02513)             233  \n",
       "586       None  POINT (115.36491 45.90342)             586  "
      ]
     },
     "execution_count": 8,
     "metadata": {},
     "output_type": "execute_result"
    }
   ],
   "source": [
    "osm_schools = download_utils.download_osm(config, category=\"school\")\n",
    "print(osm_schools.shape)\n",
    "osm_schools.sample(3)"
   ]
  },
  {
   "cell_type": "code",
   "execution_count": 9,
   "id": "9120693a-ec23-4347-bacc-93178b4af087",
   "metadata": {
    "tags": []
   },
   "outputs": [
    {
     "name": "stderr",
     "output_type": "stream",
     "text": [
      "Processing MNG: 100%|████████████████████| 1/1 [00:02<00:00,  2.89s/it]                                                              \n"
     ]
    },
    {
     "name": "stdout",
     "output_type": "stream",
     "text": [
      "(11044, 9)\n"
     ]
    },
    {
     "data": {
      "text/html": [
       "<div>\n",
       "<style scoped>\n",
       "    .dataframe tbody tr th:only-of-type {\n",
       "        vertical-align: middle;\n",
       "    }\n",
       "\n",
       "    .dataframe tbody tr th {\n",
       "        vertical-align: top;\n",
       "    }\n",
       "\n",
       "    .dataframe thead th {\n",
       "        text-align: right;\n",
       "    }\n",
       "</style>\n",
       "<table border=\"1\" class=\"dataframe\">\n",
       "  <thead>\n",
       "    <tr style=\"text-align: right;\">\n",
       "      <th></th>\n",
       "      <th>UID</th>\n",
       "      <th>source</th>\n",
       "      <th>iso</th>\n",
       "      <th>country</th>\n",
       "      <th>region</th>\n",
       "      <th>subregion</th>\n",
       "      <th>name</th>\n",
       "      <th>geometry</th>\n",
       "      <th>giga_id_school</th>\n",
       "    </tr>\n",
       "  </thead>\n",
       "  <tbody>\n",
       "    <tr>\n",
       "      <th>5746</th>\n",
       "      <td>OSM-MNG-NON_SCHOOL-00005746</td>\n",
       "      <td>OSM</td>\n",
       "      <td>MNG</td>\n",
       "      <td>Mongolia</td>\n",
       "      <td>Asia</td>\n",
       "      <td>Eastern Asia</td>\n",
       "      <td>None</td>\n",
       "      <td>POINT (104.81124 45.23989)</td>\n",
       "      <td>5746</td>\n",
       "    </tr>\n",
       "    <tr>\n",
       "      <th>9579</th>\n",
       "      <td>OSM-MNG-NON_SCHOOL-00009579</td>\n",
       "      <td>OSM</td>\n",
       "      <td>MNG</td>\n",
       "      <td>Mongolia</td>\n",
       "      <td>Asia</td>\n",
       "      <td>Eastern Asia</td>\n",
       "      <td>None</td>\n",
       "      <td>POINT (99.86978 48.77406)</td>\n",
       "      <td>9579</td>\n",
       "    </tr>\n",
       "    <tr>\n",
       "      <th>4901</th>\n",
       "      <td>OSM-MNG-NON_SCHOOL-00004901</td>\n",
       "      <td>OSM</td>\n",
       "      <td>MNG</td>\n",
       "      <td>Mongolia</td>\n",
       "      <td>Asia</td>\n",
       "      <td>Eastern Asia</td>\n",
       "      <td>Хонгор Алтай</td>\n",
       "      <td>POINT (106.93886 47.92836)</td>\n",
       "      <td>4901</td>\n",
       "    </tr>\n",
       "  </tbody>\n",
       "</table>\n",
       "</div>"
      ],
      "text/plain": [
       "                              UID source  iso   country region     subregion  \\\n",
       "5746  OSM-MNG-NON_SCHOOL-00005746    OSM  MNG  Mongolia   Asia  Eastern Asia   \n",
       "9579  OSM-MNG-NON_SCHOOL-00009579    OSM  MNG  Mongolia   Asia  Eastern Asia   \n",
       "4901  OSM-MNG-NON_SCHOOL-00004901    OSM  MNG  Mongolia   Asia  Eastern Asia   \n",
       "\n",
       "              name                    geometry  giga_id_school  \n",
       "5746          None  POINT (104.81124 45.23989)            5746  \n",
       "9579          None   POINT (99.86978 48.77406)            9579  \n",
       "4901  Хонгор Алтай  POINT (106.93886 47.92836)            4901  "
      ]
     },
     "execution_count": 9,
     "metadata": {},
     "output_type": "execute_result"
    }
   ],
   "source": [
    "osm_nonschools = download_utils.download_osm(config, category=\"non_school\")\n",
    "print(osm_nonschools.shape)\n",
    "osm_nonschools.sample(3)"
   ]
  },
  {
   "cell_type": "markdown",
   "id": "ee5e52a4-4ba1-418b-aaa9-0111670bf516",
   "metadata": {},
   "source": [
    "## Download Building Footprints"
   ]
  },
  {
   "cell_type": "code",
   "execution_count": 10,
   "id": "387e5082-d066-47d3-8bb5-979ea5f72b3d",
   "metadata": {},
   "outputs": [
    {
     "name": "stderr",
     "output_type": "stream",
     "text": [
      "Processing MNG: 100%|████████████████████| 1/1 [00:00<00:00, 346.21it/s]                                                             \n"
     ]
    }
   ],
   "source": [
    "download_utils.download_buildings(config, source=\"ms\", verbose=True)"
   ]
  },
  {
   "cell_type": "code",
   "execution_count": null,
   "id": "024f9a0a-4b2e-49e8-bd64-e95a6dd805ac",
   "metadata": {},
   "outputs": [],
   "source": [
    "download_utils.download_buildings(config, source=\"google\", verbose=True)"
   ]
  },
  {
   "cell_type": "markdown",
   "id": "42c1634b-b8ac-4293-a3b3-01910c1b5f92",
   "metadata": {},
   "source": [
    "## Download Global Human Settlements Layer"
   ]
  },
  {
   "cell_type": "code",
   "execution_count": 11,
   "id": "325ff415-fe12-40e3-abfa-17e3e161db81",
   "metadata": {},
   "outputs": [],
   "source": [
    "download_utils.download_ghsl(config, type=\"built_c\")"
   ]
  },
  {
   "cell_type": "code",
   "execution_count": 12,
   "id": "788993b4-d620-459b-a453-4e51753c38a8",
   "metadata": {},
   "outputs": [],
   "source": [
    "download_utils.download_ghsl(config, type=\"smod\")"
   ]
  }
 ],
 "metadata": {
  "kernelspec": {
   "display_name": "giga2",
   "language": "python",
   "name": "giga2"
  },
  "language_info": {
   "codemirror_mode": {
    "name": "ipython",
    "version": 3
   },
   "file_extension": ".py",
   "mimetype": "text/x-python",
   "name": "python",
   "nbconvert_exporter": "python",
   "pygments_lexer": "ipython3",
   "version": "3.10.13"
  }
 },
 "nbformat": 4,
 "nbformat_minor": 5
}
