{
 "cells": [
  {
   "cell_type": "markdown",
   "id": "4b5894ba-126a-4eeb-8578-db256ba22177",
   "metadata": {},
   "source": [
    "# Data Download\n",
    "\n",
    "This notebook demonstrates how to download data across UNICEF, Overture Maps, and OpenStreetMap (OSM). \n",
    "\n",
    "Alternatively, you can also run `python src/data_download.py`: \n",
    "\n",
    "```s\n",
    "usage: data_download.py [-h] [--config CONFIG] [--profile PROFILE]\n",
    "\n",
    "Data Download\n",
    "options:\n",
    "  -h, --help         show this help message and exit\n",
    "  --config CONFIG    Path to the configuration file\n",
    "  --profile PROFILE  Path to the profile filele file\n",
    "```"
   ]
  },
  {
   "cell_type": "markdown",
   "id": "f8cf4143-2526-44f2-980d-27a390191008",
   "metadata": {},
   "source": [
    "## Imports and Setup"
   ]
  },
  {
   "cell_type": "code",
   "execution_count": 2,
   "id": "d2159d4d-fa6a-4f66-85b6-e3787fabd541",
   "metadata": {
    "tags": []
   },
   "outputs": [],
   "source": [
    "import pandas as pd\n",
    "import geopandas as gpd\n",
    "\n",
    "import os \n",
    "os.chdir('/home/itingzon.unicef/giga')\n",
    "from utils import download_utils\n",
    "from utils import config_utils\n",
    "\n",
    "import warnings\n",
    "warnings.filterwarnings('ignore')\n",
    "warnings.simplefilter('ignore')\n",
    "\n",
    "%load_ext autoreload\n",
    "%autoreload 2"
   ]
  },
  {
   "cell_type": "markdown",
   "id": "de83468e-d5da-48ae-a5f0-79a79dc83b49",
   "metadata": {},
   "source": [
    "## Data Configurations"
   ]
  },
  {
   "cell_type": "code",
   "execution_count": 3,
   "id": "a4a724d8-57da-4c7b-b964-60ae1f7e7eca",
   "metadata": {},
   "outputs": [],
   "source": [
    "profile_filename = \"configs/profile.share\"\n",
    "config_filename = \"configs/data_configs/data_config_ISO_AF.yaml\"\n",
    "profile_file = os.path.join(os.getcwd(), profile_filename)\n",
    "config_file = os.path.join(os.getcwd(), config_filename)\n",
    "config = config_utils.load_config(config_file)"
   ]
  },
  {
   "cell_type": "markdown",
   "id": "f2be6376-fc55-48bc-a3b6-5979a87014c8",
   "metadata": {},
   "source": [
    "## Download UNICEF"
   ]
  },
  {
   "cell_type": "code",
   "execution_count": 3,
   "id": "c595b7a9-93c6-4b62-a6a0-0a1e86113bc4",
   "metadata": {},
   "outputs": [
    {
     "name": "stderr",
     "output_type": "stream",
     "text": [
      "Processing ZWE: 100%|████████████████████| 10/10 [00:16<00:00,  1.61s/it]                                               \n"
     ]
    },
    {
     "data": {
      "text/html": [
       "<div>\n",
       "<style scoped>\n",
       "    .dataframe tbody tr th:only-of-type {\n",
       "        vertical-align: middle;\n",
       "    }\n",
       "\n",
       "    .dataframe tbody tr th {\n",
       "        vertical-align: top;\n",
       "    }\n",
       "\n",
       "    .dataframe thead th {\n",
       "        text-align: right;\n",
       "    }\n",
       "</style>\n",
       "<table border=\"1\" class=\"dataframe\">\n",
       "  <thead>\n",
       "    <tr style=\"text-align: right;\">\n",
       "      <th></th>\n",
       "      <th>UID</th>\n",
       "      <th>source</th>\n",
       "      <th>iso</th>\n",
       "      <th>country</th>\n",
       "      <th>region</th>\n",
       "      <th>subregion</th>\n",
       "      <th>name</th>\n",
       "      <th>giga_id_school</th>\n",
       "      <th>geometry</th>\n",
       "    </tr>\n",
       "  </thead>\n",
       "  <tbody>\n",
       "    <tr>\n",
       "      <th>2307</th>\n",
       "      <td>UNICEF-BEN-SCHOOL-00002307</td>\n",
       "      <td>UNICEF</td>\n",
       "      <td>BEN</td>\n",
       "      <td>Benin</td>\n",
       "      <td>Africa</td>\n",
       "      <td>Sub-Saharan Africa</td>\n",
       "      <td>None</td>\n",
       "      <td>2307</td>\n",
       "      <td>POINT (2.23717 7.22598)</td>\n",
       "    </tr>\n",
       "    <tr>\n",
       "      <th>9518</th>\n",
       "      <td>UNICEF-KEN-SCHOOL-00000823</td>\n",
       "      <td>UNICEF</td>\n",
       "      <td>KEN</td>\n",
       "      <td>Kenya</td>\n",
       "      <td>Africa</td>\n",
       "      <td>Sub-Saharan Africa</td>\n",
       "      <td>None</td>\n",
       "      <td>823</td>\n",
       "      <td>POINT (35.05000 2.03850)</td>\n",
       "    </tr>\n",
       "    <tr>\n",
       "      <th>14001</th>\n",
       "      <td>UNICEF-KEN-SCHOOL-00005306</td>\n",
       "      <td>UNICEF</td>\n",
       "      <td>KEN</td>\n",
       "      <td>Kenya</td>\n",
       "      <td>Africa</td>\n",
       "      <td>Sub-Saharan Africa</td>\n",
       "      <td>None</td>\n",
       "      <td>5306</td>\n",
       "      <td>POINT (37.28140 -0.94507)</td>\n",
       "    </tr>\n",
       "  </tbody>\n",
       "</table>\n",
       "</div>"
      ],
      "text/plain": [
       "                              UID  source  iso country  region  \\\n",
       "2307   UNICEF-BEN-SCHOOL-00002307  UNICEF  BEN   Benin  Africa   \n",
       "9518   UNICEF-KEN-SCHOOL-00000823  UNICEF  KEN   Kenya  Africa   \n",
       "14001  UNICEF-KEN-SCHOOL-00005306  UNICEF  KEN   Kenya  Africa   \n",
       "\n",
       "                subregion  name  giga_id_school                   geometry  \n",
       "2307   Sub-Saharan Africa  None            2307    POINT (2.23717 7.22598)  \n",
       "9518   Sub-Saharan Africa  None             823   POINT (35.05000 2.03850)  \n",
       "14001  Sub-Saharan Africa  None            5306  POINT (37.28140 -0.94507)  "
      ]
     },
     "execution_count": 3,
     "metadata": {},
     "output_type": "execute_result"
    }
   ],
   "source": [
    "unicef = download_utils.download_unicef(config, profile_file)\n",
    "unicef.sample(3)"
   ]
  },
  {
   "cell_type": "markdown",
   "id": "67680692-4ca8-46ae-89ff-5ed340fcd6f2",
   "metadata": {},
   "source": [
    "## Download Overture Maps Data"
   ]
  },
  {
   "cell_type": "code",
   "execution_count": 4,
   "id": "7e1c4152-5ef4-4cf9-b5a0-17f1ab031c53",
   "metadata": {},
   "outputs": [
    {
     "name": "stderr",
     "output_type": "stream",
     "text": [
      "Processing ZWE: 100%|████████████████████| 10/10 [00:02<00:00,  4.41it/s]                                               \n"
     ]
    },
    {
     "data": {
      "text/html": [
       "<div>\n",
       "<style scoped>\n",
       "    .dataframe tbody tr th:only-of-type {\n",
       "        vertical-align: middle;\n",
       "    }\n",
       "\n",
       "    .dataframe tbody tr th {\n",
       "        vertical-align: top;\n",
       "    }\n",
       "\n",
       "    .dataframe thead th {\n",
       "        text-align: right;\n",
       "    }\n",
       "</style>\n",
       "<table border=\"1\" class=\"dataframe\">\n",
       "  <thead>\n",
       "    <tr style=\"text-align: right;\">\n",
       "      <th></th>\n",
       "      <th>UID</th>\n",
       "      <th>source</th>\n",
       "      <th>iso</th>\n",
       "      <th>country</th>\n",
       "      <th>region</th>\n",
       "      <th>subregion</th>\n",
       "      <th>name</th>\n",
       "      <th>giga_id_school</th>\n",
       "      <th>geometry</th>\n",
       "    </tr>\n",
       "  </thead>\n",
       "  <tbody>\n",
       "    <tr>\n",
       "      <th>258</th>\n",
       "      <td>OVERTURE-BWA-SCHOOL-00000198</td>\n",
       "      <td>OVERTURE</td>\n",
       "      <td>BWA</td>\n",
       "      <td>Botswana</td>\n",
       "      <td>Africa</td>\n",
       "      <td>Sub-Saharan Africa</td>\n",
       "      <td>Bophirima Primary School</td>\n",
       "      <td>None</td>\n",
       "      <td>POINT (25.88333 -24.66206)</td>\n",
       "    </tr>\n",
       "    <tr>\n",
       "      <th>3973</th>\n",
       "      <td>OVERTURE-ZWE-SCHOOL-00000142</td>\n",
       "      <td>OVERTURE</td>\n",
       "      <td>ZWE</td>\n",
       "      <td>Zimbabwe</td>\n",
       "      <td>Africa</td>\n",
       "      <td>Sub-Saharan Africa</td>\n",
       "      <td>Murewa High School</td>\n",
       "      <td>None</td>\n",
       "      <td>POINT (31.04482 -17.83487)</td>\n",
       "    </tr>\n",
       "    <tr>\n",
       "      <th>1814</th>\n",
       "      <td>OVERTURE-GHA-SCHOOL-00001333</td>\n",
       "      <td>OVERTURE</td>\n",
       "      <td>GHA</td>\n",
       "      <td>Ghana</td>\n",
       "      <td>Africa</td>\n",
       "      <td>Sub-Saharan Africa</td>\n",
       "      <td>Jack And Jill School - Ghana</td>\n",
       "      <td>None</td>\n",
       "      <td>POINT (-0.19225 5.60520)</td>\n",
       "    </tr>\n",
       "  </tbody>\n",
       "</table>\n",
       "</div>"
      ],
      "text/plain": [
       "                               UID    source  iso   country  region  \\\n",
       "258   OVERTURE-BWA-SCHOOL-00000198  OVERTURE  BWA  Botswana  Africa   \n",
       "3973  OVERTURE-ZWE-SCHOOL-00000142  OVERTURE  ZWE  Zimbabwe  Africa   \n",
       "1814  OVERTURE-GHA-SCHOOL-00001333  OVERTURE  GHA     Ghana  Africa   \n",
       "\n",
       "               subregion                          name giga_id_school  \\\n",
       "258   Sub-Saharan Africa      Bophirima Primary School           None   \n",
       "3973  Sub-Saharan Africa            Murewa High School           None   \n",
       "1814  Sub-Saharan Africa  Jack And Jill School - Ghana           None   \n",
       "\n",
       "                        geometry  \n",
       "258   POINT (25.88333 -24.66206)  \n",
       "3973  POINT (31.04482 -17.83487)  \n",
       "1814    POINT (-0.19225 5.60520)  "
      ]
     },
     "execution_count": 4,
     "metadata": {},
     "output_type": "execute_result"
    }
   ],
   "source": [
    "overture_schools = download_utils.download_overture(config, category=\"school\")\n",
    "overture_schools.sample(3)"
   ]
  },
  {
   "cell_type": "code",
   "execution_count": 8,
   "id": "189c8518-d896-4472-88a5-971422aa7f3c",
   "metadata": {
    "tags": []
   },
   "outputs": [
    {
     "name": "stderr",
     "output_type": "stream",
     "text": [
      "Processing ZWE: 100%|████████████████████| 10/10 [00:08<00:00,  1.24it/s]                                               \n"
     ]
    },
    {
     "data": {
      "text/html": [
       "<div>\n",
       "<style scoped>\n",
       "    .dataframe tbody tr th:only-of-type {\n",
       "        vertical-align: middle;\n",
       "    }\n",
       "\n",
       "    .dataframe tbody tr th {\n",
       "        vertical-align: top;\n",
       "    }\n",
       "\n",
       "    .dataframe thead th {\n",
       "        text-align: right;\n",
       "    }\n",
       "</style>\n",
       "<table border=\"1\" class=\"dataframe\">\n",
       "  <thead>\n",
       "    <tr style=\"text-align: right;\">\n",
       "      <th></th>\n",
       "      <th>UID</th>\n",
       "      <th>source</th>\n",
       "      <th>iso</th>\n",
       "      <th>country</th>\n",
       "      <th>region</th>\n",
       "      <th>subregion</th>\n",
       "      <th>name</th>\n",
       "      <th>giga_id_school</th>\n",
       "      <th>geometry</th>\n",
       "    </tr>\n",
       "  </thead>\n",
       "  <tbody>\n",
       "    <tr>\n",
       "      <th>2264</th>\n",
       "      <td>OVERTURE-BWA-NON_SCHOOL-00001743</td>\n",
       "      <td>OVERTURE</td>\n",
       "      <td>BWA</td>\n",
       "      <td>Botswana</td>\n",
       "      <td>Africa</td>\n",
       "      <td>Sub-Saharan Africa</td>\n",
       "      <td>Segoditshane Police Camp</td>\n",
       "      <td>None</td>\n",
       "      <td>POINT (25.91226 -24.64141)</td>\n",
       "    </tr>\n",
       "    <tr>\n",
       "      <th>16829</th>\n",
       "      <td>OVERTURE-KEN-NON_SCHOOL-00007572</td>\n",
       "      <td>OVERTURE</td>\n",
       "      <td>KEN</td>\n",
       "      <td>Kenya</td>\n",
       "      <td>Africa</td>\n",
       "      <td>Sub-Saharan Africa</td>\n",
       "      <td>Inkpaste Printers &amp; Stationers Ltd</td>\n",
       "      <td>None</td>\n",
       "      <td>POINT (36.81671 -1.28334)</td>\n",
       "    </tr>\n",
       "    <tr>\n",
       "      <th>24399</th>\n",
       "      <td>OVERTURE-NAM-NON_SCHOOL-00001412</td>\n",
       "      <td>OVERTURE</td>\n",
       "      <td>NAM</td>\n",
       "      <td>Namibia</td>\n",
       "      <td>Africa</td>\n",
       "      <td>Sub-Saharan Africa</td>\n",
       "      <td>Namgate Guesthouse, Butchery &amp; Farmstead</td>\n",
       "      <td>None</td>\n",
       "      <td>POINT (18.08934 -27.88269)</td>\n",
       "    </tr>\n",
       "  </tbody>\n",
       "</table>\n",
       "</div>"
      ],
      "text/plain": [
       "                                    UID    source  iso   country  region  \\\n",
       "2264   OVERTURE-BWA-NON_SCHOOL-00001743  OVERTURE  BWA  Botswana  Africa   \n",
       "16829  OVERTURE-KEN-NON_SCHOOL-00007572  OVERTURE  KEN     Kenya  Africa   \n",
       "24399  OVERTURE-NAM-NON_SCHOOL-00001412  OVERTURE  NAM   Namibia  Africa   \n",
       "\n",
       "                subregion                                      name  \\\n",
       "2264   Sub-Saharan Africa                  Segoditshane Police Camp   \n",
       "16829  Sub-Saharan Africa        Inkpaste Printers & Stationers Ltd   \n",
       "24399  Sub-Saharan Africa  Namgate Guesthouse, Butchery & Farmstead   \n",
       "\n",
       "      giga_id_school                    geometry  \n",
       "2264            None  POINT (25.91226 -24.64141)  \n",
       "16829           None   POINT (36.81671 -1.28334)  \n",
       "24399           None  POINT (18.08934 -27.88269)  "
      ]
     },
     "execution_count": 8,
     "metadata": {},
     "output_type": "execute_result"
    }
   ],
   "source": [
    "overture_nonschools = download_utils.download_overture(\n",
    "    config, category=\"non_school\", exclude=\"school\"\n",
    ")\n",
    "overture_nonschools.sample(3)"
   ]
  },
  {
   "cell_type": "markdown",
   "id": "90aa0884-c872-413f-b014-3b246dd6b321",
   "metadata": {},
   "source": [
    "## Download OpenStreetMap (OSM) Data"
   ]
  },
  {
   "cell_type": "code",
   "execution_count": 5,
   "id": "b999ce0c-567c-4c8b-91f1-32a44aa7752f",
   "metadata": {
    "tags": []
   },
   "outputs": [
    {
     "name": "stderr",
     "output_type": "stream",
     "text": [
      "Processing ZWE: 100%|████████████████████| 10/10 [00:04<00:00,  2.24it/s]                                               \n"
     ]
    },
    {
     "data": {
      "text/html": [
       "<div>\n",
       "<style scoped>\n",
       "    .dataframe tbody tr th:only-of-type {\n",
       "        vertical-align: middle;\n",
       "    }\n",
       "\n",
       "    .dataframe tbody tr th {\n",
       "        vertical-align: top;\n",
       "    }\n",
       "\n",
       "    .dataframe thead th {\n",
       "        text-align: right;\n",
       "    }\n",
       "</style>\n",
       "<table border=\"1\" class=\"dataframe\">\n",
       "  <thead>\n",
       "    <tr style=\"text-align: right;\">\n",
       "      <th></th>\n",
       "      <th>UID</th>\n",
       "      <th>source</th>\n",
       "      <th>iso</th>\n",
       "      <th>country</th>\n",
       "      <th>region</th>\n",
       "      <th>subregion</th>\n",
       "      <th>name</th>\n",
       "      <th>geometry</th>\n",
       "      <th>giga_id_school</th>\n",
       "    </tr>\n",
       "  </thead>\n",
       "  <tbody>\n",
       "    <tr>\n",
       "      <th>11810</th>\n",
       "      <td>OSM-ZWE-SCHOOL-00000235</td>\n",
       "      <td>OSM</td>\n",
       "      <td>ZWE</td>\n",
       "      <td>Zimbabwe</td>\n",
       "      <td>Africa</td>\n",
       "      <td>Sub-Saharan Africa</td>\n",
       "      <td>Chesa Primary Sc</td>\n",
       "      <td>POINT (28.21029 -20.08364)</td>\n",
       "      <td>None</td>\n",
       "    </tr>\n",
       "    <tr>\n",
       "      <th>9361</th>\n",
       "      <td>OSM-KEN-SCHOOL-00004090</td>\n",
       "      <td>OSM</td>\n",
       "      <td>KEN</td>\n",
       "      <td>Kenya</td>\n",
       "      <td>Africa</td>\n",
       "      <td>Sub-Saharan Africa</td>\n",
       "      <td>Green Gate ECD</td>\n",
       "      <td>POINT (36.54422 -0.01595)</td>\n",
       "      <td>None</td>\n",
       "    </tr>\n",
       "    <tr>\n",
       "      <th>9850</th>\n",
       "      <td>OSM-KEN-SCHOOL-00004579</td>\n",
       "      <td>OSM</td>\n",
       "      <td>KEN</td>\n",
       "      <td>Kenya</td>\n",
       "      <td>Africa</td>\n",
       "      <td>Sub-Saharan Africa</td>\n",
       "      <td>Bungale junior secondary</td>\n",
       "      <td>POINT (39.84986 -3.10677)</td>\n",
       "      <td>None</td>\n",
       "    </tr>\n",
       "  </tbody>\n",
       "</table>\n",
       "</div>"
      ],
      "text/plain": [
       "                           UID source  iso   country  region  \\\n",
       "11810  OSM-ZWE-SCHOOL-00000235    OSM  ZWE  Zimbabwe  Africa   \n",
       "9361   OSM-KEN-SCHOOL-00004090    OSM  KEN     Kenya  Africa   \n",
       "9850   OSM-KEN-SCHOOL-00004579    OSM  KEN     Kenya  Africa   \n",
       "\n",
       "                subregion                      name  \\\n",
       "11810  Sub-Saharan Africa          Chesa Primary Sc   \n",
       "9361   Sub-Saharan Africa            Green Gate ECD   \n",
       "9850   Sub-Saharan Africa  Bungale junior secondary   \n",
       "\n",
       "                         geometry giga_id_school  \n",
       "11810  POINT (28.21029 -20.08364)           None  \n",
       "9361    POINT (36.54422 -0.01595)           None  \n",
       "9850    POINT (39.84986 -3.10677)           None  "
      ]
     },
     "execution_count": 5,
     "metadata": {},
     "output_type": "execute_result"
    }
   ],
   "source": [
    "osm_schools = download_utils.download_osm(config, category=\"school\")\n",
    "osm_schools.sample(3)"
   ]
  },
  {
   "cell_type": "code",
   "execution_count": 6,
   "id": "9120693a-ec23-4347-bacc-93178b4af087",
   "metadata": {
    "tags": []
   },
   "outputs": [
    {
     "name": "stderr",
     "output_type": "stream",
     "text": [
      "Processing ZWE: 100%|████████████████████| 10/10 [00:11<00:00,  1.17s/it]                                               \n"
     ]
    },
    {
     "data": {
      "text/html": [
       "<div>\n",
       "<style scoped>\n",
       "    .dataframe tbody tr th:only-of-type {\n",
       "        vertical-align: middle;\n",
       "    }\n",
       "\n",
       "    .dataframe tbody tr th {\n",
       "        vertical-align: top;\n",
       "    }\n",
       "\n",
       "    .dataframe thead th {\n",
       "        text-align: right;\n",
       "    }\n",
       "</style>\n",
       "<table border=\"1\" class=\"dataframe\">\n",
       "  <thead>\n",
       "    <tr style=\"text-align: right;\">\n",
       "      <th></th>\n",
       "      <th>UID</th>\n",
       "      <th>source</th>\n",
       "      <th>iso</th>\n",
       "      <th>country</th>\n",
       "      <th>region</th>\n",
       "      <th>subregion</th>\n",
       "      <th>name</th>\n",
       "      <th>geometry</th>\n",
       "      <th>giga_id_school</th>\n",
       "    </tr>\n",
       "  </thead>\n",
       "  <tbody>\n",
       "    <tr>\n",
       "      <th>41785</th>\n",
       "      <td>OSM-SEN-NON_SCHOOL-00004673</td>\n",
       "      <td>OSM</td>\n",
       "      <td>SEN</td>\n",
       "      <td>Senegal</td>\n",
       "      <td>Africa</td>\n",
       "      <td>Sub-Saharan Africa</td>\n",
       "      <td>poste de sante madina diathmbé</td>\n",
       "      <td>POINT (-14.14151 16.29168)</td>\n",
       "      <td>None</td>\n",
       "    </tr>\n",
       "    <tr>\n",
       "      <th>20244</th>\n",
       "      <td>OSM-GHA-NON_SCHOOL-00010406</td>\n",
       "      <td>OSM</td>\n",
       "      <td>GHA</td>\n",
       "      <td>Ghana</td>\n",
       "      <td>Africa</td>\n",
       "      <td>Sub-Saharan Africa</td>\n",
       "      <td>None</td>\n",
       "      <td>POINT (-0.17647 5.71702)</td>\n",
       "      <td>None</td>\n",
       "    </tr>\n",
       "    <tr>\n",
       "      <th>20226</th>\n",
       "      <td>OSM-GHA-NON_SCHOOL-00010388</td>\n",
       "      <td>OSM</td>\n",
       "      <td>GHA</td>\n",
       "      <td>Ghana</td>\n",
       "      <td>Africa</td>\n",
       "      <td>Sub-Saharan Africa</td>\n",
       "      <td>None</td>\n",
       "      <td>POINT (-2.02811 5.57206)</td>\n",
       "      <td>None</td>\n",
       "    </tr>\n",
       "  </tbody>\n",
       "</table>\n",
       "</div>"
      ],
      "text/plain": [
       "                               UID source  iso  country  region  \\\n",
       "41785  OSM-SEN-NON_SCHOOL-00004673    OSM  SEN  Senegal  Africa   \n",
       "20244  OSM-GHA-NON_SCHOOL-00010406    OSM  GHA    Ghana  Africa   \n",
       "20226  OSM-GHA-NON_SCHOOL-00010388    OSM  GHA    Ghana  Africa   \n",
       "\n",
       "                subregion                            name  \\\n",
       "41785  Sub-Saharan Africa  poste de sante madina diathmbé   \n",
       "20244  Sub-Saharan Africa                            None   \n",
       "20226  Sub-Saharan Africa                            None   \n",
       "\n",
       "                         geometry giga_id_school  \n",
       "41785  POINT (-14.14151 16.29168)           None  \n",
       "20244    POINT (-0.17647 5.71702)           None  \n",
       "20226    POINT (-2.02811 5.57206)           None  "
      ]
     },
     "execution_count": 6,
     "metadata": {},
     "output_type": "execute_result"
    }
   ],
   "source": [
    "osm_nonschools = download_utils.download_osm(config, category=\"non_school\")\n",
    "osm_nonschools.sample(3)"
   ]
  },
  {
   "cell_type": "markdown",
   "id": "ee5e52a4-4ba1-418b-aaa9-0111670bf516",
   "metadata": {},
   "source": [
    "## Download Building Footprints"
   ]
  },
  {
   "cell_type": "code",
   "execution_count": 9,
   "id": "387e5082-d066-47d3-8bb5-979ea5f72b3d",
   "metadata": {},
   "outputs": [
    {
     "name": "stderr",
     "output_type": "stream",
     "text": [
      "Processing ZWE: 100%|████████████████████| 10/10 [00:00<00:00, 847.13it/s]                                              \n"
     ]
    }
   ],
   "source": [
    "download_utils.download_buildings(config, source=\"ms\", verbose=True)"
   ]
  },
  {
   "cell_type": "code",
   "execution_count": 7,
   "id": "f90ceeb1-fa74-41d4-9ce3-7f40a26ce577",
   "metadata": {},
   "outputs": [
    {
     "name": "stderr",
     "output_type": "stream",
     "text": [
      "Processing ZWE: 100%|████████████████████| 10/10 [00:00<00:00, 818.54it/s]                                              \n"
     ]
    }
   ],
   "source": [
    "download_utils.download_buildings(config, source=\"google\", verbose=True)"
   ]
  },
  {
   "cell_type": "markdown",
   "id": "42c1634b-b8ac-4293-a3b3-01910c1b5f92",
   "metadata": {},
   "source": [
    "## Download Global Human Settlements Layer"
   ]
  },
  {
   "cell_type": "code",
   "execution_count": 11,
   "id": "325ff415-fe12-40e3-abfa-17e3e161db81",
   "metadata": {},
   "outputs": [],
   "source": [
    "download_utils.download_ghsl(config, type=\"built_c\")"
   ]
  },
  {
   "cell_type": "code",
   "execution_count": 12,
   "id": "788993b4-d620-459b-a453-4e51753c38a8",
   "metadata": {},
   "outputs": [],
   "source": [
    "download_utils.download_ghsl(config, type=\"smod\")"
   ]
  }
 ],
 "metadata": {
  "kernelspec": {
   "display_name": "giga2",
   "language": "python",
   "name": "giga2"
  },
  "language_info": {
   "codemirror_mode": {
    "name": "ipython",
    "version": 3
   },
   "file_extension": ".py",
   "mimetype": "text/x-python",
   "name": "python",
   "nbconvert_exporter": "python",
   "pygments_lexer": "ipython3",
   "version": "3.10.13"
  }
 },
 "nbformat": 4,
 "nbformat_minor": 5
}
