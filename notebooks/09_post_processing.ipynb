{
 "cells": [
  {
   "cell_type": "markdown",
   "id": "efe03daf-1aa8-488d-bdc0-13992d245b60",
   "metadata": {},
   "source": [
    "## Imports and Setup"
   ]
  },
  {
   "cell_type": "code",
   "execution_count": null,
   "id": "7f693fd3-02bc-4fbe-8750-0edb822e5c67",
   "metadata": {},
   "outputs": [],
   "source": [
    "import pandas as pd\n",
    "import geopandas as gpd\n",
    "import logging\n",
    "import joblib\n",
    "import torch\n",
    "\n",
    "import os \n",
    "os.chdir('/home/itingzon.unicef/giga')\n",
    "from src import sat_download\n",
    "from utils import post_utils\n",
    "from utils import calib_utils\n",
    "from utils import config_utils\n",
    "from utils import data_utils\n",
    "\n",
    "%load_ext autoreload\n",
    "%autoreload 2"
   ]
  },
  {
   "cell_type": "markdown",
   "id": "0b3de69b-a9c1-4787-ae2a-ab9cfa35f762",
   "metadata": {},
   "source": [
    "## Load Config Files"
   ]
  },
  {
   "cell_type": "code",
   "execution_count": 45,
   "id": "9d850c9b-1f07-441d-8196-5e1519e2107d",
   "metadata": {},
   "outputs": [],
   "source": [
    "iso_code = \"MOZ\"\n",
    "sum_threshold=-1\n",
    "buffer_size=25\n",
    "calibrator=None\n",
    "cam_method=\"gradcamelementwise\"\n",
    "\n",
    "data_config_file = os.path.join(os.getcwd(), \"configs/data_configs/data_config_ISO_AF.yaml\")\n",
    "model_config_file = os.path.join(os.getcwd(), \"configs/best_models.yaml\")\n",
    "data_config = config_utils.load_config(data_config_file)\n",
    "model_config = config_utils.load_config(model_config_file)"
   ]
  },
  {
   "cell_type": "markdown",
   "id": "889bd9ad-e558-4270-9ac6-74fbd536a28f",
   "metadata": {},
   "source": [
    "## Load Model Predictions"
   ]
  },
  {
   "cell_type": "code",
   "execution_count": 55,
   "id": "2dce598a-355a-4fba-b160-1fc21fd71f8f",
   "metadata": {},
   "outputs": [
    {
     "name": "stderr",
     "output_type": "stream",
     "text": [
      "Reading files for MOZ...: 100%|████████████████████| 159/159 [00:17<00:00,  9.17it/s]                                                \n",
      "INFO:root:Data dimensions: (39560, 9)\n"
     ]
    },
    {
     "data": {
      "text/html": [
       "<div>\n",
       "<style scoped>\n",
       "    .dataframe tbody tr th:only-of-type {\n",
       "        vertical-align: middle;\n",
       "    }\n",
       "\n",
       "    .dataframe tbody tr th {\n",
       "        vertical-align: top;\n",
       "    }\n",
       "\n",
       "    .dataframe thead th {\n",
       "        text-align: right;\n",
       "    }\n",
       "</style>\n",
       "<table border=\"1\" class=\"dataframe\">\n",
       "  <thead>\n",
       "    <tr style=\"text-align: right;\">\n",
       "      <th></th>\n",
       "      <th>prob</th>\n",
       "      <th>UID</th>\n",
       "      <th>sum</th>\n",
       "      <th>geometry</th>\n",
       "      <th>group</th>\n",
       "      <th>ADM1</th>\n",
       "      <th>ADM2</th>\n",
       "      <th>ADM3</th>\n",
       "      <th>PUID</th>\n",
       "    </tr>\n",
       "  </thead>\n",
       "  <tbody>\n",
       "    <tr>\n",
       "      <th>0</th>\n",
       "      <td>0.98088</td>\n",
       "      <td>7658</td>\n",
       "      <td>248.0</td>\n",
       "      <td>POINT (3725889.788 -2169592.396)</td>\n",
       "      <td>2731</td>\n",
       "      <td>Manica</td>\n",
       "      <td>Cidade De Chimoio</td>\n",
       "      <td>Cidade De Chimoio</td>\n",
       "      <td>Cidade De Chimoio_7658</td>\n",
       "    </tr>\n",
       "    <tr>\n",
       "      <th>1</th>\n",
       "      <td>0.98079</td>\n",
       "      <td>24801</td>\n",
       "      <td>209.0</td>\n",
       "      <td>POINT (3882453.658 -2246136.740)</td>\n",
       "      <td>19525</td>\n",
       "      <td>Sofala</td>\n",
       "      <td>Cidade Da Beira</td>\n",
       "      <td>Cidade Da Beira</td>\n",
       "      <td>Cidade Da Beira_24801</td>\n",
       "    </tr>\n",
       "  </tbody>\n",
       "</table>\n",
       "</div>"
      ],
      "text/plain": [
       "      prob    UID    sum                          geometry  group    ADM1  \\\n",
       "0  0.98088   7658  248.0  POINT (3725889.788 -2169592.396)   2731  Manica   \n",
       "1  0.98079  24801  209.0  POINT (3882453.658 -2246136.740)  19525  Sofala   \n",
       "\n",
       "                ADM2               ADM3                    PUID  \n",
       "0  Cidade De Chimoio  Cidade De Chimoio  Cidade De Chimoio_7658  \n",
       "1    Cidade Da Beira    Cidade Da Beira   Cidade Da Beira_24801  "
      ]
     },
     "execution_count": 55,
     "metadata": {},
     "output_type": "execute_result"
    }
   ],
   "source": [
    "preds = post_utils.load_preds(\n",
    "    iso_code, data_config, model_config, cam_method, sum_threshold, buffer_size, calibrator\n",
    ")\n",
    "preds.head(2)"
   ]
  },
  {
   "cell_type": "markdown",
   "id": "a69459d1-3a18-4e6d-906f-de6e20587056",
   "metadata": {},
   "source": [
    "## Load Government Data"
   ]
  },
  {
   "cell_type": "code",
   "execution_count": null,
   "id": "1bbc1b41-90da-4498-8808-334397657bfc",
   "metadata": {},
   "outputs": [],
   "source": [
    "master = post_utils.load_master(iso_code, data_config)\n",
    "master.head(2)"
   ]
  },
  {
   "cell_type": "markdown",
   "id": "4671a88a-3c8e-48b3-81a1-e888ad76ba15",
   "metadata": {},
   "source": [
    "## Load OSM and Overture Data"
   ]
  },
  {
   "cell_type": "code",
   "execution_count": 5,
   "id": "8c87bc01-5970-4c3f-ae80-df0a0709aad6",
   "metadata": {},
   "outputs": [
    {
     "name": "stderr",
     "output_type": "stream",
     "text": [
      "INFO:root:clean\n",
      "0    784\n",
      "Name: count, dtype: int64\n",
      "INFO:root:Data dimensions: (784, 13)\n"
     ]
    },
    {
     "data": {
      "text/html": [
       "<div>\n",
       "<style scoped>\n",
       "    .dataframe tbody tr th:only-of-type {\n",
       "        vertical-align: middle;\n",
       "    }\n",
       "\n",
       "    .dataframe tbody tr th {\n",
       "        vertical-align: top;\n",
       "    }\n",
       "\n",
       "    .dataframe thead th {\n",
       "        text-align: right;\n",
       "    }\n",
       "</style>\n",
       "<table border=\"1\" class=\"dataframe\">\n",
       "  <thead>\n",
       "    <tr style=\"text-align: right;\">\n",
       "      <th></th>\n",
       "      <th>SUID</th>\n",
       "      <th>source</th>\n",
       "      <th>iso</th>\n",
       "      <th>country</th>\n",
       "      <th>region</th>\n",
       "      <th>subregion</th>\n",
       "      <th>name</th>\n",
       "      <th>giga_id_school</th>\n",
       "      <th>clean</th>\n",
       "      <th>geometry</th>\n",
       "      <th>ADM1</th>\n",
       "      <th>ADM2</th>\n",
       "      <th>ADM3</th>\n",
       "    </tr>\n",
       "  </thead>\n",
       "  <tbody>\n",
       "    <tr>\n",
       "      <th>0</th>\n",
       "      <td>OSM-SEN-SCHOOL-00000000</td>\n",
       "      <td>OSM</td>\n",
       "      <td>SEN</td>\n",
       "      <td>Senegal</td>\n",
       "      <td>Africa</td>\n",
       "      <td>Sub-Saharan Africa</td>\n",
       "      <td>Ecole Nationale de Police</td>\n",
       "      <td>None</td>\n",
       "      <td>0</td>\n",
       "      <td>POINT (-17.44890 14.68903)</td>\n",
       "      <td>Dakar</td>\n",
       "      <td>Dakar</td>\n",
       "      <td>Plateau</td>\n",
       "    </tr>\n",
       "    <tr>\n",
       "      <th>1</th>\n",
       "      <td>OSM-SEN-SCHOOL-00000001</td>\n",
       "      <td>OSM</td>\n",
       "      <td>SEN</td>\n",
       "      <td>Senegal</td>\n",
       "      <td>Africa</td>\n",
       "      <td>Sub-Saharan Africa</td>\n",
       "      <td>CIFOP</td>\n",
       "      <td>None</td>\n",
       "      <td>0</td>\n",
       "      <td>POINT (-16.90105 15.16665)</td>\n",
       "      <td>Thies</td>\n",
       "      <td>Tivaoune</td>\n",
       "      <td>Meouane</td>\n",
       "    </tr>\n",
       "  </tbody>\n",
       "</table>\n",
       "</div>"
      ],
      "text/plain": [
       "                      SUID source  iso  country  region           subregion  \\\n",
       "0  OSM-SEN-SCHOOL-00000000    OSM  SEN  Senegal  Africa  Sub-Saharan Africa   \n",
       "1  OSM-SEN-SCHOOL-00000001    OSM  SEN  Senegal  Africa  Sub-Saharan Africa   \n",
       "\n",
       "                        name giga_id_school  clean  \\\n",
       "0  Ecole Nationale de Police           None      0   \n",
       "1                      CIFOP           None      0   \n",
       "\n",
       "                     geometry   ADM1      ADM2     ADM3  \n",
       "0  POINT (-17.44890 14.68903)  Dakar     Dakar  Plateau  \n",
       "1  POINT (-16.90105 15.16665)  Thies  Tivaoune  Meouane  "
      ]
     },
     "execution_count": 5,
     "metadata": {},
     "output_type": "execute_result"
    }
   ],
   "source": [
    "osm_overture = post_utils.load_osm_overture(iso_code, data_config)\n",
    "osm_overture.head(2)"
   ]
  },
  {
   "cell_type": "markdown",
   "id": "a0e4f8b7-684c-4106-9a87-0bd22147bb48",
   "metadata": {},
   "source": [
    "## Calculate Distances"
   ]
  },
  {
   "cell_type": "code",
   "execution_count": 6,
   "id": "2552df69-5667-410d-a975-614a33e83e1e",
   "metadata": {},
   "outputs": [
    {
     "data": {
      "text/html": [
       "<div>\n",
       "<style scoped>\n",
       "    .dataframe tbody tr th:only-of-type {\n",
       "        vertical-align: middle;\n",
       "    }\n",
       "\n",
       "    .dataframe tbody tr th {\n",
       "        vertical-align: top;\n",
       "    }\n",
       "\n",
       "    .dataframe thead th {\n",
       "        text-align: right;\n",
       "    }\n",
       "</style>\n",
       "<table border=\"1\" class=\"dataframe\">\n",
       "  <thead>\n",
       "    <tr style=\"text-align: right;\">\n",
       "      <th></th>\n",
       "      <th>prob</th>\n",
       "      <th>UID</th>\n",
       "      <th>sum</th>\n",
       "      <th>group</th>\n",
       "      <th>geometry</th>\n",
       "      <th>ADM1</th>\n",
       "      <th>ADM2</th>\n",
       "      <th>ADM3</th>\n",
       "      <th>PUID</th>\n",
       "      <th>distance_to_nearest_master</th>\n",
       "      <th>MUID</th>\n",
       "      <th>distance_to_nearest_osm_overture</th>\n",
       "      <th>SUID</th>\n",
       "    </tr>\n",
       "  </thead>\n",
       "  <tbody>\n",
       "    <tr>\n",
       "      <th>0</th>\n",
       "      <td>0.966634</td>\n",
       "      <td>23507</td>\n",
       "      <td>22.0</td>\n",
       "      <td>8567</td>\n",
       "      <td>POINT (-16.30077 14.79800)</td>\n",
       "      <td>Diourbel</td>\n",
       "      <td>Diourbel</td>\n",
       "      <td>Ndindy</td>\n",
       "      <td>Diourbel_23507</td>\n",
       "      <td>23.830582</td>\n",
       "      <td>UNICEF-SEN-SCHOOL-00006044</td>\n",
       "      <td>20329.970076</td>\n",
       "      <td>OSM-SEN-SCHOOL-00000627</td>\n",
       "    </tr>\n",
       "    <tr>\n",
       "      <th>1</th>\n",
       "      <td>0.966054</td>\n",
       "      <td>178498</td>\n",
       "      <td>15.0</td>\n",
       "      <td>14124</td>\n",
       "      <td>POINT (-16.27630 13.03738)</td>\n",
       "      <td>Ziguinchor</td>\n",
       "      <td>Bignona</td>\n",
       "      <td>Sindian</td>\n",
       "      <td>Bignona_178498</td>\n",
       "      <td>18.696889</td>\n",
       "      <td>UNICEF-SEN-SCHOOL-00001335</td>\n",
       "      <td>12728.227840</td>\n",
       "      <td>OSM-SEN-SCHOOL-00000081</td>\n",
       "    </tr>\n",
       "  </tbody>\n",
       "</table>\n",
       "</div>"
      ],
      "text/plain": [
       "       prob     UID   sum  group                    geometry        ADM1  \\\n",
       "0  0.966634   23507  22.0   8567  POINT (-16.30077 14.79800)    Diourbel   \n",
       "1  0.966054  178498  15.0  14124  POINT (-16.27630 13.03738)  Ziguinchor   \n",
       "\n",
       "       ADM2     ADM3            PUID  distance_to_nearest_master  \\\n",
       "0  Diourbel   Ndindy  Diourbel_23507                   23.830582   \n",
       "1   Bignona  Sindian  Bignona_178498                   18.696889   \n",
       "\n",
       "                         MUID  distance_to_nearest_osm_overture  \\\n",
       "0  UNICEF-SEN-SCHOOL-00006044                      20329.970076   \n",
       "1  UNICEF-SEN-SCHOOL-00001335                      12728.227840   \n",
       "\n",
       "                      SUID  \n",
       "0  OSM-SEN-SCHOOL-00000627  \n",
       "1  OSM-SEN-SCHOOL-00000081  "
      ]
     },
     "execution_count": 6,
     "metadata": {},
     "output_type": "execute_result"
    }
   ],
   "source": [
    "preds, master, osm_overture = post_utils.calculate_nearest_distances(preds, master, osm_overture)\n",
    "preds.head(2)"
   ]
  },
  {
   "cell_type": "markdown",
   "id": "f1cdb875-2897-4160-bb6b-170054edeacd",
   "metadata": {},
   "source": [
    "## Save Results"
   ]
  },
  {
   "cell_type": "code",
   "execution_count": 57,
   "id": "5d37b83c-a820-42e3-aaa4-db2a4565101e",
   "metadata": {},
   "outputs": [],
   "source": [
    "post_utils.save_results(iso_code, preds, model_config, cam_method=cam_method, source=\"preds\")"
   ]
  },
  {
   "cell_type": "code",
   "execution_count": 7,
   "id": "10d0aac4-7b5b-46e1-9ac4-21598c388151",
   "metadata": {},
   "outputs": [],
   "source": [
    "post_utils.save_results(iso_code, preds, model_config, cam_method=cam_method, source=\"preds\")\n",
    "post_utils.save_results(iso_code, master, model_config, source=\"master\")\n",
    "post_utils.save_results(iso_code, osm_overture, model_config, source=\"osm_overture\")"
   ]
  }
 ],
 "metadata": {
  "kernelspec": {
   "display_name": "giga2",
   "language": "python",
   "name": "giga2"
  },
  "language_info": {
   "codemirror_mode": {
    "name": "ipython",
    "version": 3
   },
   "file_extension": ".py",
   "mimetype": "text/x-python",
   "name": "python",
   "nbconvert_exporter": "python",
   "pygments_lexer": "ipython3",
   "version": "3.10.13"
  }
 },
 "nbformat": 4,
 "nbformat_minor": 5
}
