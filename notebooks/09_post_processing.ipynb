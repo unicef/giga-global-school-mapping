{
 "cells": [
  {
   "cell_type": "markdown",
   "id": "efe03daf-1aa8-488d-bdc0-13992d245b60",
   "metadata": {},
   "source": [
    "## Imports and Setup"
   ]
  },
  {
   "cell_type": "code",
   "execution_count": 1,
   "id": "c163cefd-6c26-4523-973d-3ca594b50c1b",
   "metadata": {},
   "outputs": [],
   "source": [
    "import pandas as pd\n",
    "import geopandas as gpd\n",
    "import logging\n",
    "import joblib\n",
    "import torch\n",
    "\n",
    "import os \n",
    "os.chdir('/home/itingzon.unicef/giga')\n",
    "from src import sat_download\n",
    "from utils import post_utils\n",
    "from utils import calib_utils\n",
    "from utils import config_utils\n",
    "from utils import data_utils\n",
    "\n",
    "%load_ext autoreload\n",
    "%autoreload 2"
   ]
  },
  {
   "cell_type": "markdown",
   "id": "0b3de69b-a9c1-4787-ae2a-ab9cfa35f762",
   "metadata": {},
   "source": [
    "## Load Config Files"
   ]
  },
  {
   "cell_type": "code",
   "execution_count": 10,
   "id": "f1478de6-7056-4261-aa6d-e6ac3b353de9",
   "metadata": {},
   "outputs": [],
   "source": [
    "iso_code=\"SEN\"\n",
    "sum_threshold=0\n",
    "buffer_size=50\n",
    "calibrator=\"LogisticCalibration\"\n",
    "\n",
    "data_config_file = os.path.join(os.getcwd(), \"configs/data_configs/data_config_ISO_AF.yaml\")\n",
    "model_config_file = os.path.join(os.getcwd(), \"configs/cnn_configs/convnext_large_v01.yaml\")\n",
    "data_config = config_utils.load_config(data_config_file)\n",
    "model_config = config_utils.load_config(model_config_file)"
   ]
  },
  {
   "cell_type": "markdown",
   "id": "889bd9ad-e558-4270-9ac6-74fbd536a28f",
   "metadata": {},
   "source": [
    "## Load Model Predictions"
   ]
  },
  {
   "cell_type": "code",
   "execution_count": 11,
   "id": "b8700602-096c-4247-8475-12f051a118c7",
   "metadata": {},
   "outputs": [
    {
     "name": "stderr",
     "output_type": "stream",
     "text": [
      "Reading files for SEN...: 100%|████████████████████| 45/45 [00:03<00:00, 14.20it/s]                                     \n",
      "INFO:root:Data dimensions: (14021, 10)\n"
     ]
    },
    {
     "data": {
      "text/html": [
       "<div>\n",
       "<style scoped>\n",
       "    .dataframe tbody tr th:only-of-type {\n",
       "        vertical-align: middle;\n",
       "    }\n",
       "\n",
       "    .dataframe tbody tr th {\n",
       "        vertical-align: top;\n",
       "    }\n",
       "\n",
       "    .dataframe thead th {\n",
       "        text-align: right;\n",
       "    }\n",
       "</style>\n",
       "<table border=\"1\" class=\"dataframe\">\n",
       "  <thead>\n",
       "    <tr style=\"text-align: right;\">\n",
       "      <th></th>\n",
       "      <th>prob</th>\n",
       "      <th>UID</th>\n",
       "      <th>sum</th>\n",
       "      <th>group</th>\n",
       "      <th>geometry</th>\n",
       "      <th>ADM1</th>\n",
       "      <th>ADM2</th>\n",
       "      <th>ADM3</th>\n",
       "      <th>PUID</th>\n",
       "      <th>prob_cal</th>\n",
       "    </tr>\n",
       "  </thead>\n",
       "  <tbody>\n",
       "    <tr>\n",
       "      <th>8484</th>\n",
       "      <td>0.982964</td>\n",
       "      <td>44707</td>\n",
       "      <td>38.0</td>\n",
       "      <td>7282</td>\n",
       "      <td>POINT (-1766669.174 1444139.279)</td>\n",
       "      <td>Sedhiou</td>\n",
       "      <td>Sedhiou</td>\n",
       "      <td>Djibabouya</td>\n",
       "      <td>Sedhiou_44707</td>\n",
       "      <td>0.983596</td>\n",
       "    </tr>\n",
       "    <tr>\n",
       "      <th>11449</th>\n",
       "      <td>0.982403</td>\n",
       "      <td>131374</td>\n",
       "      <td>28.0</td>\n",
       "      <td>9804</td>\n",
       "      <td>POINT (-1686689.864 1574843.369)</td>\n",
       "      <td>Kaffrine</td>\n",
       "      <td>Malem Hodar</td>\n",
       "      <td>Sagna</td>\n",
       "      <td>Malem Hodar_131374</td>\n",
       "      <td>0.982973</td>\n",
       "    </tr>\n",
       "  </tbody>\n",
       "</table>\n",
       "</div>"
      ],
      "text/plain": [
       "           prob     UID   sum  group                          geometry  \\\n",
       "8484   0.982964   44707  38.0   7282  POINT (-1766669.174 1444139.279)   \n",
       "11449  0.982403  131374  28.0   9804  POINT (-1686689.864 1574843.369)   \n",
       "\n",
       "           ADM1         ADM2        ADM3                PUID  prob_cal  \n",
       "8484    Sedhiou      Sedhiou  Djibabouya       Sedhiou_44707  0.983596  \n",
       "11449  Kaffrine  Malem Hodar       Sagna  Malem Hodar_131374  0.982973  "
      ]
     },
     "execution_count": 11,
     "metadata": {},
     "output_type": "execute_result"
    }
   ],
   "source": [
    "preds = post_utils.load_preds(\n",
    "    iso_code, data_config, model_config, sum_threshold, buffer_size, calibrator\n",
    ")\n",
    "preds.head(2)"
   ]
  },
  {
   "cell_type": "markdown",
   "id": "a69459d1-3a18-4e6d-906f-de6e20587056",
   "metadata": {},
   "source": [
    "## Load Government Data"
   ]
  },
  {
   "cell_type": "code",
   "execution_count": 12,
   "id": "d43ffbb3-1f1d-46c6-a58a-7a6574e61595",
   "metadata": {},
   "outputs": [
    {
     "name": "stderr",
     "output_type": "stream",
     "text": [
      "INFO:root:clean\n",
      "0    9033\n",
      "2     794\n",
      "1     238\n",
      "Name: count, dtype: int64\n",
      "INFO:root:Data dimensions: (10065, 13)\n"
     ]
    },
    {
     "data": {
      "text/html": [
       "<div>\n",
       "<style scoped>\n",
       "    .dataframe tbody tr th:only-of-type {\n",
       "        vertical-align: middle;\n",
       "    }\n",
       "\n",
       "    .dataframe tbody tr th {\n",
       "        vertical-align: top;\n",
       "    }\n",
       "\n",
       "    .dataframe thead th {\n",
       "        text-align: right;\n",
       "    }\n",
       "</style>\n",
       "<table border=\"1\" class=\"dataframe\">\n",
       "  <thead>\n",
       "    <tr style=\"text-align: right;\">\n",
       "      <th></th>\n",
       "      <th>MUID</th>\n",
       "      <th>source</th>\n",
       "      <th>iso</th>\n",
       "      <th>country</th>\n",
       "      <th>region</th>\n",
       "      <th>subregion</th>\n",
       "      <th>name</th>\n",
       "      <th>giga_id_school</th>\n",
       "      <th>clean</th>\n",
       "      <th>geometry</th>\n",
       "      <th>ADM1</th>\n",
       "      <th>ADM2</th>\n",
       "      <th>ADM3</th>\n",
       "    </tr>\n",
       "  </thead>\n",
       "  <tbody>\n",
       "    <tr>\n",
       "      <th>0</th>\n",
       "      <td>UNICEF-SEN-SCHOOL-00000000</td>\n",
       "      <td>UNICEF</td>\n",
       "      <td>SEN</td>\n",
       "      <td>Senegal</td>\n",
       "      <td>Africa</td>\n",
       "      <td>Sub-Saharan Africa</td>\n",
       "      <td>EE ALIEU SAMB</td>\n",
       "      <td>7614c6c6-9aca-36ff-978b-22bfca59916a</td>\n",
       "      <td>0</td>\n",
       "      <td>POINT (-17.51261 14.74680)</td>\n",
       "      <td>Dakar</td>\n",
       "      <td>Dakar</td>\n",
       "      <td>Almadies</td>\n",
       "    </tr>\n",
       "    <tr>\n",
       "      <th>1</th>\n",
       "      <td>UNICEF-SEN-SCHOOL-00000001</td>\n",
       "      <td>UNICEF</td>\n",
       "      <td>SEN</td>\n",
       "      <td>Senegal</td>\n",
       "      <td>Africa</td>\n",
       "      <td>Sub-Saharan Africa</td>\n",
       "      <td>EE EL HADJI BAYTIR SAMB</td>\n",
       "      <td>350fb172-bfef-331d-bd55-5c51139b9f48</td>\n",
       "      <td>0</td>\n",
       "      <td>POINT (-17.51196 14.74951)</td>\n",
       "      <td>Dakar</td>\n",
       "      <td>Dakar</td>\n",
       "      <td>Almadies</td>\n",
       "    </tr>\n",
       "  </tbody>\n",
       "</table>\n",
       "</div>"
      ],
      "text/plain": [
       "                         MUID  source  iso  country  region  \\\n",
       "0  UNICEF-SEN-SCHOOL-00000000  UNICEF  SEN  Senegal  Africa   \n",
       "1  UNICEF-SEN-SCHOOL-00000001  UNICEF  SEN  Senegal  Africa   \n",
       "\n",
       "            subregion                     name  \\\n",
       "0  Sub-Saharan Africa            EE ALIEU SAMB   \n",
       "1  Sub-Saharan Africa  EE EL HADJI BAYTIR SAMB   \n",
       "\n",
       "                         giga_id_school  clean                    geometry  \\\n",
       "0  7614c6c6-9aca-36ff-978b-22bfca59916a      0  POINT (-17.51261 14.74680)   \n",
       "1  350fb172-bfef-331d-bd55-5c51139b9f48      0  POINT (-17.51196 14.74951)   \n",
       "\n",
       "    ADM1   ADM2      ADM3  \n",
       "0  Dakar  Dakar  Almadies  \n",
       "1  Dakar  Dakar  Almadies  "
      ]
     },
     "execution_count": 12,
     "metadata": {},
     "output_type": "execute_result"
    }
   ],
   "source": [
    "master = post_utils.load_master(iso_code, data_config)\n",
    "master.head(2)"
   ]
  },
  {
   "cell_type": "markdown",
   "id": "4671a88a-3c8e-48b3-81a1-e888ad76ba15",
   "metadata": {},
   "source": [
    "## Load OSM and Overture Data"
   ]
  },
  {
   "cell_type": "code",
   "execution_count": 13,
   "id": "ff7ebc8b-da37-4823-8d76-0d746e6a877b",
   "metadata": {},
   "outputs": [
    {
     "name": "stderr",
     "output_type": "stream",
     "text": [
      "INFO:root:clean\n",
      "0    784\n",
      "Name: count, dtype: int64\n",
      "INFO:root:Data dimensions: (784, 13)\n"
     ]
    },
    {
     "data": {
      "text/html": [
       "<div>\n",
       "<style scoped>\n",
       "    .dataframe tbody tr th:only-of-type {\n",
       "        vertical-align: middle;\n",
       "    }\n",
       "\n",
       "    .dataframe tbody tr th {\n",
       "        vertical-align: top;\n",
       "    }\n",
       "\n",
       "    .dataframe thead th {\n",
       "        text-align: right;\n",
       "    }\n",
       "</style>\n",
       "<table border=\"1\" class=\"dataframe\">\n",
       "  <thead>\n",
       "    <tr style=\"text-align: right;\">\n",
       "      <th></th>\n",
       "      <th>SUID</th>\n",
       "      <th>source</th>\n",
       "      <th>iso</th>\n",
       "      <th>country</th>\n",
       "      <th>region</th>\n",
       "      <th>subregion</th>\n",
       "      <th>name</th>\n",
       "      <th>giga_id_school</th>\n",
       "      <th>clean</th>\n",
       "      <th>geometry</th>\n",
       "      <th>ADM1</th>\n",
       "      <th>ADM2</th>\n",
       "      <th>ADM3</th>\n",
       "    </tr>\n",
       "  </thead>\n",
       "  <tbody>\n",
       "    <tr>\n",
       "      <th>0</th>\n",
       "      <td>OSM-SEN-SCHOOL-00000000</td>\n",
       "      <td>OSM</td>\n",
       "      <td>SEN</td>\n",
       "      <td>Senegal</td>\n",
       "      <td>Africa</td>\n",
       "      <td>Sub-Saharan Africa</td>\n",
       "      <td>Ecole Nationale de Police</td>\n",
       "      <td>None</td>\n",
       "      <td>0</td>\n",
       "      <td>POINT (-17.44890 14.68903)</td>\n",
       "      <td>Dakar</td>\n",
       "      <td>Dakar</td>\n",
       "      <td>Plateau</td>\n",
       "    </tr>\n",
       "    <tr>\n",
       "      <th>1</th>\n",
       "      <td>OSM-SEN-SCHOOL-00000001</td>\n",
       "      <td>OSM</td>\n",
       "      <td>SEN</td>\n",
       "      <td>Senegal</td>\n",
       "      <td>Africa</td>\n",
       "      <td>Sub-Saharan Africa</td>\n",
       "      <td>CIFOP</td>\n",
       "      <td>None</td>\n",
       "      <td>0</td>\n",
       "      <td>POINT (-16.90105 15.16665)</td>\n",
       "      <td>Thies</td>\n",
       "      <td>Tivaoune</td>\n",
       "      <td>Meouane</td>\n",
       "    </tr>\n",
       "  </tbody>\n",
       "</table>\n",
       "</div>"
      ],
      "text/plain": [
       "                      SUID source  iso  country  region           subregion  \\\n",
       "0  OSM-SEN-SCHOOL-00000000    OSM  SEN  Senegal  Africa  Sub-Saharan Africa   \n",
       "1  OSM-SEN-SCHOOL-00000001    OSM  SEN  Senegal  Africa  Sub-Saharan Africa   \n",
       "\n",
       "                        name giga_id_school  clean  \\\n",
       "0  Ecole Nationale de Police           None      0   \n",
       "1                      CIFOP           None      0   \n",
       "\n",
       "                     geometry   ADM1      ADM2     ADM3  \n",
       "0  POINT (-17.44890 14.68903)  Dakar     Dakar  Plateau  \n",
       "1  POINT (-16.90105 15.16665)  Thies  Tivaoune  Meouane  "
      ]
     },
     "execution_count": 13,
     "metadata": {},
     "output_type": "execute_result"
    }
   ],
   "source": [
    "osm_overture = post_utils.load_osm_overture(iso_code, data_config)\n",
    "osm_overture.head(2)"
   ]
  },
  {
   "cell_type": "markdown",
   "id": "a0e4f8b7-684c-4106-9a87-0bd22147bb48",
   "metadata": {},
   "source": [
    "## Calculate Distances"
   ]
  },
  {
   "cell_type": "code",
   "execution_count": 14,
   "id": "2552df69-5667-410d-a975-614a33e83e1e",
   "metadata": {},
   "outputs": [
    {
     "data": {
      "text/html": [
       "<div>\n",
       "<style scoped>\n",
       "    .dataframe tbody tr th:only-of-type {\n",
       "        vertical-align: middle;\n",
       "    }\n",
       "\n",
       "    .dataframe tbody tr th {\n",
       "        vertical-align: top;\n",
       "    }\n",
       "\n",
       "    .dataframe thead th {\n",
       "        text-align: right;\n",
       "    }\n",
       "</style>\n",
       "<table border=\"1\" class=\"dataframe\">\n",
       "  <thead>\n",
       "    <tr style=\"text-align: right;\">\n",
       "      <th></th>\n",
       "      <th>prob</th>\n",
       "      <th>UID</th>\n",
       "      <th>sum</th>\n",
       "      <th>group</th>\n",
       "      <th>geometry</th>\n",
       "      <th>ADM1</th>\n",
       "      <th>ADM2</th>\n",
       "      <th>ADM3</th>\n",
       "      <th>PUID</th>\n",
       "      <th>prob_cal</th>\n",
       "      <th>distance_to_nearest_master</th>\n",
       "      <th>MUID</th>\n",
       "      <th>distance_to_nearest_osm_overture</th>\n",
       "      <th>SUID</th>\n",
       "    </tr>\n",
       "  </thead>\n",
       "  <tbody>\n",
       "    <tr>\n",
       "      <th>8484</th>\n",
       "      <td>0.982964</td>\n",
       "      <td>44707</td>\n",
       "      <td>38.0</td>\n",
       "      <td>7282</td>\n",
       "      <td>POINT (-15.87026 12.86348)</td>\n",
       "      <td>Sedhiou</td>\n",
       "      <td>Sedhiou</td>\n",
       "      <td>Djibabouya</td>\n",
       "      <td>Sedhiou_44707</td>\n",
       "      <td>0.983596</td>\n",
       "      <td>31.647240</td>\n",
       "      <td>UNICEF-SEN-SCHOOL-00001558</td>\n",
       "      <td>8003.396762</td>\n",
       "      <td>OSM-SEN-SCHOOL-00000457</td>\n",
       "    </tr>\n",
       "    <tr>\n",
       "      <th>11449</th>\n",
       "      <td>0.982403</td>\n",
       "      <td>131374</td>\n",
       "      <td>28.0</td>\n",
       "      <td>9804</td>\n",
       "      <td>POINT (-15.15179 14.00546)</td>\n",
       "      <td>Kaffrine</td>\n",
       "      <td>Malem Hodar</td>\n",
       "      <td>Sagna</td>\n",
       "      <td>Malem Hodar_131374</td>\n",
       "      <td>0.982973</td>\n",
       "      <td>28.146039</td>\n",
       "      <td>UNICEF-SEN-SCHOOL-00003603</td>\n",
       "      <td>17292.290044</td>\n",
       "      <td>OSM-SEN-SCHOOL-00000456</td>\n",
       "    </tr>\n",
       "  </tbody>\n",
       "</table>\n",
       "</div>"
      ],
      "text/plain": [
       "           prob     UID   sum  group                    geometry      ADM1  \\\n",
       "8484   0.982964   44707  38.0   7282  POINT (-15.87026 12.86348)   Sedhiou   \n",
       "11449  0.982403  131374  28.0   9804  POINT (-15.15179 14.00546)  Kaffrine   \n",
       "\n",
       "              ADM2        ADM3                PUID  prob_cal  \\\n",
       "8484       Sedhiou  Djibabouya       Sedhiou_44707  0.983596   \n",
       "11449  Malem Hodar       Sagna  Malem Hodar_131374  0.982973   \n",
       "\n",
       "       distance_to_nearest_master                        MUID  \\\n",
       "8484                    31.647240  UNICEF-SEN-SCHOOL-00001558   \n",
       "11449                   28.146039  UNICEF-SEN-SCHOOL-00003603   \n",
       "\n",
       "       distance_to_nearest_osm_overture                     SUID  \n",
       "8484                        8003.396762  OSM-SEN-SCHOOL-00000457  \n",
       "11449                      17292.290044  OSM-SEN-SCHOOL-00000456  "
      ]
     },
     "execution_count": 14,
     "metadata": {},
     "output_type": "execute_result"
    }
   ],
   "source": [
    "preds, master, osm_overture = post_utils.calculate_nearest_distances(preds, master, osm_overture)\n",
    "preds.head(2)"
   ]
  },
  {
   "cell_type": "markdown",
   "id": "f1cdb875-2897-4160-bb6b-170054edeacd",
   "metadata": {},
   "source": [
    "## Save Results"
   ]
  },
  {
   "cell_type": "code",
   "execution_count": 15,
   "id": "10d0aac4-7b5b-46e1-9ac4-21598c388151",
   "metadata": {},
   "outputs": [],
   "source": [
    "post_utils.save_results(iso_code, preds, model_config, source=\"preds\")\n",
    "post_utils.save_results(iso_code, master, model_config, source=\"master\")\n",
    "post_utils.save_results(iso_code, osm_overture, model_config, source=\"osm_overture\")"
   ]
  }
 ],
 "metadata": {
  "kernelspec": {
   "display_name": "giga2",
   "language": "python",
   "name": "giga2"
  },
  "language_info": {
   "codemirror_mode": {
    "name": "ipython",
    "version": 3
   },
   "file_extension": ".py",
   "mimetype": "text/x-python",
   "name": "python",
   "nbconvert_exporter": "python",
   "pygments_lexer": "ipython3",
   "version": "3.10.13"
  }
 },
 "nbformat": 4,
 "nbformat_minor": 5
}
