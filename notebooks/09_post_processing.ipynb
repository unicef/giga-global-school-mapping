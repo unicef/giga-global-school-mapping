{
  "cells": [
    {
      "cell_type": "markdown",
      "source": [
        "## Imports and Setup"
      ],
      "metadata": {},
      "id": "efe03daf-1aa8-488d-bdc0-13992d245b60"
    },
    {
      "cell_type": "code",
      "source": [
        "import pandas as pd\n",
        "import geopandas as gpd\n",
        "import logging\n",
        "import joblib\n",
        "import torch\n",
        "\n",
        "import os \n",
        "os.chdir('../')\n",
        "from src import sat_download\n",
        "from utils import post_utils\n",
        "from utils import calib_utils\n",
        "from utils import config_utils\n",
        "from utils import data_utils\n",
        "from utils import model_utils\n",
        "from utils import plot_utils\n",
        "\n",
        "%load_ext autoreload\n",
        "%autoreload 2"
      ],
      "outputs": [
        {
          "output_type": "stream",
          "name": "stderr",
          "text": "/anaconda/envs/gigav3/lib/python3.10/site-packages/torch/cuda/__init__.py:138: UserWarning: CUDA initialization: The NVIDIA driver on your system is too old (found version 11040). Please update your GPU driver by downloading and installing a new version from the URL: http://www.nvidia.com/Download/index.aspx Alternatively, go to: https://pytorch.org to install a PyTorch version that has been compiled with your version of the CUDA driver. (Triggered internally at ../c10/cuda/CUDAFunctions.cpp:108.)\n  return torch._C._cuda_getDeviceCount() > 0\n"
        }
      ],
      "execution_count": 1,
      "metadata": {
        "gather": {
          "logged": 1731277689329
        }
      },
      "id": "8dca47f6-f51a-4138-a1de-f220b0850968"
    },
    {
      "cell_type": "markdown",
      "source": [
        "## Load Config Files"
      ],
      "metadata": {},
      "id": "0b3de69b-a9c1-4787-ae2a-ab9cfa35f762"
    },
    {
      "cell_type": "code",
      "source": [
        "iso_code = \"MNG\"\n",
        "sum_threshold=-1\n",
        "buffer_size=25\n",
        "calibrator=None\n",
        "cam_method=\"hirescam\"\n",
        "\n",
        "data_config_file = os.path.join(os.getcwd(), \"configs/data_configs/data_config_ISO_AF.yaml\")\n",
        "model_config_file = os.path.join(os.getcwd(), \"configs/best_models.yaml\")\n",
        "data_config = config_utils.load_config(data_config_file)\n",
        "model_config = config_utils.load_config(model_config_file)"
      ],
      "outputs": [],
      "execution_count": 2,
      "metadata": {
        "gather": {
          "logged": 1731277695866
        }
      },
      "id": "9d850c9b-1f07-441d-8196-5e1519e2107d"
    },
    {
      "cell_type": "markdown",
      "source": [
        "## Load Model Predictions"
      ],
      "metadata": {},
      "id": "889bd9ad-e558-4270-9ac6-74fbd536a28f"
    },
    {
      "cell_type": "code",
      "source": [
        "preds = post_utils.load_preds(\n",
        "    iso_code, data_config, model_config, cam_method, sum_threshold, buffer_size, calibrator\n",
        ")\n",
        "preds.head(2)"
      ],
      "outputs": [
        {
          "output_type": "stream",
          "name": "stderr",
          "text": "Reading files for MNG...:   0%|                    | 0/4 [00:00<?, ?it/s]ERROR:fiona._env:`/mnt/batch/tasks/shared/LS_root/mounts/clusters/itingzon-compute/code/Users/itingzon/20241011_dell_hpc_env/giga-global-school-mapping/output/MNG/results/GIGAv2/cams/ensemble/vit_b_16/hirescam/.amlignore' not recognized as a supported file format.\nReading files for MNG...:   0%|                    | 0/4 [00:00<?, ?it/s]\n"
        },
        {
          "output_type": "error",
          "ename": "DriverError",
          "evalue": "'/mnt/batch/tasks/shared/LS_root/mounts/clusters/itingzon-compute/code/Users/itingzon/20241011_dell_hpc_env/giga-global-school-mapping/output/MNG/results/GIGAv2/cams/ensemble/vit_b_16/hirescam/.amlignore' not recognized as a supported file format.",
          "traceback": [
            "\u001b[0;31m---------------------------------------------------------------------------\u001b[0m",
            "\u001b[0;31mCPLE_OpenFailedError\u001b[0m                      Traceback (most recent call last)",
            "File \u001b[0;32mfiona/ogrext.pyx:136\u001b[0m, in \u001b[0;36mfiona.ogrext.gdal_open_vector\u001b[0;34m()\u001b[0m\n",
            "File \u001b[0;32mfiona/_err.pyx:291\u001b[0m, in \u001b[0;36mfiona._err.exc_wrap_pointer\u001b[0;34m()\u001b[0m\n",
            "\u001b[0;31mCPLE_OpenFailedError\u001b[0m: '/mnt/batch/tasks/shared/LS_root/mounts/clusters/itingzon-compute/code/Users/itingzon/20241011_dell_hpc_env/giga-global-school-mapping/output/MNG/results/GIGAv2/cams/ensemble/vit_b_16/hirescam/.amlignore' not recognized as a supported file format.",
            "\nDuring handling of the above exception, another exception occurred:\n",
            "\u001b[0;31mDriverError\u001b[0m                               Traceback (most recent call last)",
            "Cell \u001b[0;32mIn[3], line 1\u001b[0m\n\u001b[0;32m----> 1\u001b[0m preds \u001b[38;5;241m=\u001b[39m \u001b[43mpost_utils\u001b[49m\u001b[38;5;241;43m.\u001b[39;49m\u001b[43mload_preds\u001b[49m\u001b[43m(\u001b[49m\n\u001b[1;32m      2\u001b[0m \u001b[43m    \u001b[49m\u001b[43miso_code\u001b[49m\u001b[43m,\u001b[49m\u001b[43m \u001b[49m\u001b[43mdata_config\u001b[49m\u001b[43m,\u001b[49m\u001b[43m \u001b[49m\u001b[43mmodel_config\u001b[49m\u001b[43m,\u001b[49m\u001b[43m \u001b[49m\u001b[43mcam_method\u001b[49m\u001b[43m,\u001b[49m\u001b[43m \u001b[49m\u001b[43msum_threshold\u001b[49m\u001b[43m,\u001b[49m\u001b[43m \u001b[49m\u001b[43mbuffer_size\u001b[49m\u001b[43m,\u001b[49m\u001b[43m \u001b[49m\u001b[43mcalibrator\u001b[49m\n\u001b[1;32m      3\u001b[0m \u001b[43m)\u001b[49m\n\u001b[1;32m      4\u001b[0m preds\u001b[38;5;241m.\u001b[39mhead(\u001b[38;5;241m2\u001b[39m)\n",
            "File \u001b[0;32m/mnt/batch/tasks/shared/LS_root/mounts/clusters/itingzon-compute/code/Users/itingzon/20241011_dell_hpc_env/giga-global-school-mapping/utils/post_utils.py:587\u001b[0m, in \u001b[0;36mload_preds\u001b[0;34m(iso_code, data_config, model_config, cam_method, sum_threshold, buffer_size, calibrator, source, colname)\u001b[0m\n\u001b[1;32m    585\u001b[0m \u001b[38;5;28;01mfor\u001b[39;00m filename \u001b[38;5;129;01min\u001b[39;00m (pbar \u001b[38;5;241m:=\u001b[39m data_utils\u001b[38;5;241m.\u001b[39mcreate_progress_bar(filenames)):\n\u001b[1;32m    586\u001b[0m     pbar\u001b[38;5;241m.\u001b[39mset_description(\u001b[38;5;124mf\u001b[39m\u001b[38;5;124m\"\u001b[39m\u001b[38;5;124mReading files for \u001b[39m\u001b[38;5;132;01m{\u001b[39;00miso_code\u001b[38;5;132;01m}\u001b[39;00m\u001b[38;5;124m...\u001b[39m\u001b[38;5;124m\"\u001b[39m)\n\u001b[0;32m--> 587\u001b[0m     subdata \u001b[38;5;241m=\u001b[39m \u001b[43mgpd\u001b[49m\u001b[38;5;241;43m.\u001b[39;49m\u001b[43mread_file\u001b[49m\u001b[43m(\u001b[49m\u001b[43mos\u001b[49m\u001b[38;5;241;43m.\u001b[39;49m\u001b[43mpath\u001b[49m\u001b[38;5;241;43m.\u001b[39;49m\u001b[43mjoin\u001b[49m\u001b[43m(\u001b[49m\u001b[43mout_dir\u001b[49m\u001b[43m,\u001b[49m\u001b[43m \u001b[49m\u001b[43mfilename\u001b[49m\u001b[43m)\u001b[49m\u001b[43m)\u001b[49m\n\u001b[1;32m    588\u001b[0m     subdata \u001b[38;5;241m=\u001b[39m subdata[subdata[\u001b[38;5;124m\"\u001b[39m\u001b[38;5;124msum\u001b[39m\u001b[38;5;124m\"\u001b[39m] \u001b[38;5;241m>\u001b[39m sum_threshold]\n\u001b[1;32m    589\u001b[0m     data\u001b[38;5;241m.\u001b[39mappend(subdata)\n",
            "File \u001b[0;32m/anaconda/envs/gigav3/lib/python3.10/site-packages/geopandas/io/file.py:297\u001b[0m, in \u001b[0;36m_read_file\u001b[0;34m(filename, bbox, mask, rows, engine, **kwargs)\u001b[0m\n\u001b[1;32m    294\u001b[0m     \u001b[38;5;28;01melse\u001b[39;00m:\n\u001b[1;32m    295\u001b[0m         path_or_bytes \u001b[38;5;241m=\u001b[39m filename\n\u001b[0;32m--> 297\u001b[0m     \u001b[38;5;28;01mreturn\u001b[39;00m \u001b[43m_read_file_fiona\u001b[49m\u001b[43m(\u001b[49m\n\u001b[1;32m    298\u001b[0m \u001b[43m        \u001b[49m\u001b[43mpath_or_bytes\u001b[49m\u001b[43m,\u001b[49m\u001b[43m \u001b[49m\u001b[43mfrom_bytes\u001b[49m\u001b[43m,\u001b[49m\u001b[43m \u001b[49m\u001b[43mbbox\u001b[49m\u001b[38;5;241;43m=\u001b[39;49m\u001b[43mbbox\u001b[49m\u001b[43m,\u001b[49m\u001b[43m \u001b[49m\u001b[43mmask\u001b[49m\u001b[38;5;241;43m=\u001b[39;49m\u001b[43mmask\u001b[49m\u001b[43m,\u001b[49m\u001b[43m \u001b[49m\u001b[43mrows\u001b[49m\u001b[38;5;241;43m=\u001b[39;49m\u001b[43mrows\u001b[49m\u001b[43m,\u001b[49m\u001b[43m \u001b[49m\u001b[38;5;241;43m*\u001b[39;49m\u001b[38;5;241;43m*\u001b[39;49m\u001b[43mkwargs\u001b[49m\n\u001b[1;32m    299\u001b[0m \u001b[43m    \u001b[49m\u001b[43m)\u001b[49m\n\u001b[1;32m    301\u001b[0m \u001b[38;5;28;01melse\u001b[39;00m:\n\u001b[1;32m    302\u001b[0m     \u001b[38;5;28;01mraise\u001b[39;00m \u001b[38;5;167;01mValueError\u001b[39;00m(\u001b[38;5;124mf\u001b[39m\u001b[38;5;124m\"\u001b[39m\u001b[38;5;124munknown engine \u001b[39m\u001b[38;5;124m'\u001b[39m\u001b[38;5;132;01m{\u001b[39;00mengine\u001b[38;5;132;01m}\u001b[39;00m\u001b[38;5;124m'\u001b[39m\u001b[38;5;124m\"\u001b[39m)\n",
            "File \u001b[0;32m/anaconda/envs/gigav3/lib/python3.10/site-packages/geopandas/io/file.py:338\u001b[0m, in \u001b[0;36m_read_file_fiona\u001b[0;34m(path_or_bytes, from_bytes, bbox, mask, rows, where, **kwargs)\u001b[0m\n\u001b[1;32m    335\u001b[0m     reader \u001b[38;5;241m=\u001b[39m fiona\u001b[38;5;241m.\u001b[39mopen\n\u001b[1;32m    337\u001b[0m \u001b[38;5;28;01mwith\u001b[39;00m fiona_env():\n\u001b[0;32m--> 338\u001b[0m     \u001b[38;5;28;01mwith\u001b[39;00m \u001b[43mreader\u001b[49m\u001b[43m(\u001b[49m\u001b[43mpath_or_bytes\u001b[49m\u001b[43m,\u001b[49m\u001b[43m \u001b[49m\u001b[38;5;241;43m*\u001b[39;49m\u001b[38;5;241;43m*\u001b[39;49m\u001b[43mkwargs\u001b[49m\u001b[43m)\u001b[49m \u001b[38;5;28;01mas\u001b[39;00m features:\n\u001b[1;32m    339\u001b[0m         crs \u001b[38;5;241m=\u001b[39m features\u001b[38;5;241m.\u001b[39mcrs_wkt\n\u001b[1;32m    340\u001b[0m         \u001b[38;5;66;03m# attempt to get EPSG code\u001b[39;00m\n",
            "File \u001b[0;32m/anaconda/envs/gigav3/lib/python3.10/site-packages/fiona/env.py:457\u001b[0m, in \u001b[0;36mensure_env_with_credentials.<locals>.wrapper\u001b[0;34m(*args, **kwds)\u001b[0m\n\u001b[1;32m    454\u001b[0m     session \u001b[38;5;241m=\u001b[39m DummySession()\n\u001b[1;32m    456\u001b[0m \u001b[38;5;28;01mwith\u001b[39;00m env_ctor(session\u001b[38;5;241m=\u001b[39msession):\n\u001b[0;32m--> 457\u001b[0m     \u001b[38;5;28;01mreturn\u001b[39;00m \u001b[43mf\u001b[49m\u001b[43m(\u001b[49m\u001b[38;5;241;43m*\u001b[39;49m\u001b[43margs\u001b[49m\u001b[43m,\u001b[49m\u001b[43m \u001b[49m\u001b[38;5;241;43m*\u001b[39;49m\u001b[38;5;241;43m*\u001b[39;49m\u001b[43mkwds\u001b[49m\u001b[43m)\u001b[49m\n",
            "File \u001b[0;32m/anaconda/envs/gigav3/lib/python3.10/site-packages/fiona/__init__.py:292\u001b[0m, in \u001b[0;36mopen\u001b[0;34m(fp, mode, driver, schema, crs, encoding, layer, vfs, enabled_drivers, crs_wkt, allow_unsupported_drivers, **kwargs)\u001b[0m\n\u001b[1;32m    289\u001b[0m     path \u001b[38;5;241m=\u001b[39m parse_path(fp)\n\u001b[1;32m    291\u001b[0m \u001b[38;5;28;01mif\u001b[39;00m mode \u001b[38;5;129;01min\u001b[39;00m (\u001b[38;5;124m\"\u001b[39m\u001b[38;5;124ma\u001b[39m\u001b[38;5;124m\"\u001b[39m, \u001b[38;5;124m\"\u001b[39m\u001b[38;5;124mr\u001b[39m\u001b[38;5;124m\"\u001b[39m):\n\u001b[0;32m--> 292\u001b[0m     colxn \u001b[38;5;241m=\u001b[39m \u001b[43mCollection\u001b[49m\u001b[43m(\u001b[49m\n\u001b[1;32m    293\u001b[0m \u001b[43m        \u001b[49m\u001b[43mpath\u001b[49m\u001b[43m,\u001b[49m\n\u001b[1;32m    294\u001b[0m \u001b[43m        \u001b[49m\u001b[43mmode\u001b[49m\u001b[43m,\u001b[49m\n\u001b[1;32m    295\u001b[0m \u001b[43m        \u001b[49m\u001b[43mdriver\u001b[49m\u001b[38;5;241;43m=\u001b[39;49m\u001b[43mdriver\u001b[49m\u001b[43m,\u001b[49m\n\u001b[1;32m    296\u001b[0m \u001b[43m        \u001b[49m\u001b[43mencoding\u001b[49m\u001b[38;5;241;43m=\u001b[39;49m\u001b[43mencoding\u001b[49m\u001b[43m,\u001b[49m\n\u001b[1;32m    297\u001b[0m \u001b[43m        \u001b[49m\u001b[43mlayer\u001b[49m\u001b[38;5;241;43m=\u001b[39;49m\u001b[43mlayer\u001b[49m\u001b[43m,\u001b[49m\n\u001b[1;32m    298\u001b[0m \u001b[43m        \u001b[49m\u001b[43menabled_drivers\u001b[49m\u001b[38;5;241;43m=\u001b[39;49m\u001b[43menabled_drivers\u001b[49m\u001b[43m,\u001b[49m\n\u001b[1;32m    299\u001b[0m \u001b[43m        \u001b[49m\u001b[43mallow_unsupported_drivers\u001b[49m\u001b[38;5;241;43m=\u001b[39;49m\u001b[43mallow_unsupported_drivers\u001b[49m\u001b[43m,\u001b[49m\n\u001b[1;32m    300\u001b[0m \u001b[43m        \u001b[49m\u001b[38;5;241;43m*\u001b[39;49m\u001b[38;5;241;43m*\u001b[39;49m\u001b[43mkwargs\u001b[49m\n\u001b[1;32m    301\u001b[0m \u001b[43m    \u001b[49m\u001b[43m)\u001b[49m\n\u001b[1;32m    302\u001b[0m \u001b[38;5;28;01melif\u001b[39;00m mode \u001b[38;5;241m==\u001b[39m \u001b[38;5;124m\"\u001b[39m\u001b[38;5;124mw\u001b[39m\u001b[38;5;124m\"\u001b[39m:\n\u001b[1;32m    303\u001b[0m     colxn \u001b[38;5;241m=\u001b[39m Collection(\n\u001b[1;32m    304\u001b[0m         path,\n\u001b[1;32m    305\u001b[0m         mode,\n\u001b[0;32m   (...)\u001b[0m\n\u001b[1;32m    314\u001b[0m         \u001b[38;5;241m*\u001b[39m\u001b[38;5;241m*\u001b[39mkwargs\n\u001b[1;32m    315\u001b[0m     )\n",
            "File \u001b[0;32m/anaconda/envs/gigav3/lib/python3.10/site-packages/fiona/collection.py:243\u001b[0m, in \u001b[0;36mCollection.__init__\u001b[0;34m(self, path, mode, driver, schema, crs, encoding, layer, vsi, archive, enabled_drivers, crs_wkt, ignore_fields, ignore_geometry, include_fields, wkt_version, allow_unsupported_drivers, **kwargs)\u001b[0m\n\u001b[1;32m    241\u001b[0m \u001b[38;5;28;01mif\u001b[39;00m \u001b[38;5;28mself\u001b[39m\u001b[38;5;241m.\u001b[39mmode \u001b[38;5;241m==\u001b[39m \u001b[38;5;124m\"\u001b[39m\u001b[38;5;124mr\u001b[39m\u001b[38;5;124m\"\u001b[39m:\n\u001b[1;32m    242\u001b[0m     \u001b[38;5;28mself\u001b[39m\u001b[38;5;241m.\u001b[39msession \u001b[38;5;241m=\u001b[39m Session()\n\u001b[0;32m--> 243\u001b[0m     \u001b[38;5;28;43mself\u001b[39;49m\u001b[38;5;241;43m.\u001b[39;49m\u001b[43msession\u001b[49m\u001b[38;5;241;43m.\u001b[39;49m\u001b[43mstart\u001b[49m\u001b[43m(\u001b[49m\u001b[38;5;28;43mself\u001b[39;49m\u001b[43m,\u001b[49m\u001b[43m \u001b[49m\u001b[38;5;241;43m*\u001b[39;49m\u001b[38;5;241;43m*\u001b[39;49m\u001b[43mkwargs\u001b[49m\u001b[43m)\u001b[49m\n\u001b[1;32m    244\u001b[0m \u001b[38;5;28;01melif\u001b[39;00m \u001b[38;5;28mself\u001b[39m\u001b[38;5;241m.\u001b[39mmode \u001b[38;5;129;01min\u001b[39;00m (\u001b[38;5;124m\"\u001b[39m\u001b[38;5;124ma\u001b[39m\u001b[38;5;124m\"\u001b[39m, \u001b[38;5;124m\"\u001b[39m\u001b[38;5;124mw\u001b[39m\u001b[38;5;124m\"\u001b[39m):\n\u001b[1;32m    245\u001b[0m     \u001b[38;5;28mself\u001b[39m\u001b[38;5;241m.\u001b[39msession \u001b[38;5;241m=\u001b[39m WritingSession()\n",
            "File \u001b[0;32mfiona/ogrext.pyx:588\u001b[0m, in \u001b[0;36mfiona.ogrext.Session.start\u001b[0;34m()\u001b[0m\n",
            "File \u001b[0;32mfiona/ogrext.pyx:143\u001b[0m, in \u001b[0;36mfiona.ogrext.gdal_open_vector\u001b[0;34m()\u001b[0m\n",
            "\u001b[0;31mDriverError\u001b[0m: '/mnt/batch/tasks/shared/LS_root/mounts/clusters/itingzon-compute/code/Users/itingzon/20241011_dell_hpc_env/giga-global-school-mapping/output/MNG/results/GIGAv2/cams/ensemble/vit_b_16/hirescam/.amlignore' not recognized as a supported file format."
          ]
        }
      ],
      "execution_count": 3,
      "metadata": {
        "gather": {
          "logged": 1731277707019
        }
      },
      "id": "2dce598a-355a-4fba-b160-1fc21fd71f8f"
    },
    {
      "cell_type": "markdown",
      "source": [
        "## Load Government Data"
      ],
      "metadata": {},
      "id": "a69459d1-3a18-4e6d-906f-de6e20587056"
    },
    {
      "cell_type": "code",
      "source": [
        "master = post_utils.load_master(iso_code, data_config)\n",
        "master.head(2)"
      ],
      "outputs": [
        {
          "output_type": "stream",
          "name": "stderr",
          "text": "INFO:root:clean\n0    9958\n1    1771\n2     722\nName: count, dtype: int64\nINFO:root:Data dimensions: (12451, 13)\n"
        },
        {
          "output_type": "execute_result",
          "execution_count": 259,
          "data": {
            "text/html": "<div>\n<style scoped>\n    .dataframe tbody tr th:only-of-type {\n        vertical-align: middle;\n    }\n\n    .dataframe tbody tr th {\n        vertical-align: top;\n    }\n\n    .dataframe thead th {\n        text-align: right;\n    }\n</style>\n<table border=\"1\" class=\"dataframe\">\n  <thead>\n    <tr style=\"text-align: right;\">\n      <th></th>\n      <th>MUID</th>\n      <th>source</th>\n      <th>iso</th>\n      <th>country</th>\n      <th>region</th>\n      <th>subregion</th>\n      <th>name</th>\n      <th>giga_id_school</th>\n      <th>clean</th>\n      <th>geometry</th>\n      <th>ADM1</th>\n      <th>ADM2</th>\n      <th>ADM3</th>\n    </tr>\n  </thead>\n  <tbody>\n    <tr>\n      <th>0</th>\n      <td>UNICEF-MOZ-SCHOOL-00000000</td>\n      <td>UNICEF</td>\n      <td>MOZ</td>\n      <td>Mozambique</td>\n      <td>Africa</td>\n      <td>Sub-Saharan Africa</td>\n      <td>None</td>\n      <td>0</td>\n      <td>0</td>\n      <td>POINT (35.10153 -17.41236)</td>\n      <td>Tete</td>\n      <td>Mutarara</td>\n      <td>Nhamayabue</td>\n    </tr>\n    <tr>\n      <th>1</th>\n      <td>UNICEF-MOZ-SCHOOL-00000001</td>\n      <td>UNICEF</td>\n      <td>MOZ</td>\n      <td>Mozambique</td>\n      <td>Africa</td>\n      <td>Sub-Saharan Africa</td>\n      <td>None</td>\n      <td>1</td>\n      <td>0</td>\n      <td>POINT (36.91100 -14.50489)</td>\n      <td>Niassa</td>\n      <td>Metarica</td>\n      <td>Nacumua</td>\n    </tr>\n  </tbody>\n</table>\n</div>",
            "text/plain": "                         MUID  source  iso     country  region  \\\n0  UNICEF-MOZ-SCHOOL-00000000  UNICEF  MOZ  Mozambique  Africa   \n1  UNICEF-MOZ-SCHOOL-00000001  UNICEF  MOZ  Mozambique  Africa   \n\n            subregion  name  giga_id_school  clean  \\\n0  Sub-Saharan Africa  None               0      0   \n1  Sub-Saharan Africa  None               1      0   \n\n                     geometry    ADM1      ADM2        ADM3  \n0  POINT (35.10153 -17.41236)    Tete  Mutarara  Nhamayabue  \n1  POINT (36.91100 -14.50489)  Niassa  Metarica     Nacumua  "
          },
          "metadata": {}
        }
      ],
      "execution_count": 259,
      "metadata": {
        "scrolled": true
      },
      "id": "1bbc1b41-90da-4498-8808-334397657bfc"
    },
    {
      "cell_type": "markdown",
      "source": [
        "## Load OSM and Overture Data"
      ],
      "metadata": {},
      "id": "4671a88a-3c8e-48b3-81a1-e888ad76ba15"
    },
    {
      "cell_type": "code",
      "source": [
        "osm_overture = post_utils.load_osm_overture(iso_code, data_config)\n",
        "osm_overture.head(2)"
      ],
      "outputs": [
        {
          "output_type": "stream",
          "name": "stderr",
          "text": "INFO:root:clean\n0    487\nName: count, dtype: int64\nINFO:root:Data dimensions: (487, 13)\n"
        },
        {
          "output_type": "execute_result",
          "execution_count": 260,
          "data": {
            "text/html": "<div>\n<style scoped>\n    .dataframe tbody tr th:only-of-type {\n        vertical-align: middle;\n    }\n\n    .dataframe tbody tr th {\n        vertical-align: top;\n    }\n\n    .dataframe thead th {\n        text-align: right;\n    }\n</style>\n<table border=\"1\" class=\"dataframe\">\n  <thead>\n    <tr style=\"text-align: right;\">\n      <th></th>\n      <th>SUID</th>\n      <th>source</th>\n      <th>iso</th>\n      <th>country</th>\n      <th>region</th>\n      <th>subregion</th>\n      <th>name</th>\n      <th>giga_id_school</th>\n      <th>clean</th>\n      <th>geometry</th>\n      <th>ADM1</th>\n      <th>ADM2</th>\n      <th>ADM3</th>\n    </tr>\n  </thead>\n  <tbody>\n    <tr>\n      <th>0</th>\n      <td>OSM-MOZ-SCHOOL-00000000</td>\n      <td>OSM</td>\n      <td>MOZ</td>\n      <td>Mozambique</td>\n      <td>Africa</td>\n      <td>Sub-Saharan Africa</td>\n      <td>primary school</td>\n      <td>0</td>\n      <td>0</td>\n      <td>POINT (34.75546 -19.64221)</td>\n      <td>Sofala</td>\n      <td>Dondo</td>\n      <td>Dondo</td>\n    </tr>\n    <tr>\n      <th>1</th>\n      <td>OSM-MOZ-SCHOOL-00000001</td>\n      <td>OSM</td>\n      <td>MOZ</td>\n      <td>Mozambique</td>\n      <td>Africa</td>\n      <td>Sub-Saharan Africa</td>\n      <td>Maputo International School</td>\n      <td>1</td>\n      <td>0</td>\n      <td>POINT (32.58823 -25.97934)</td>\n      <td>Maputo City</td>\n      <td>Cidade De Maputo</td>\n      <td>Cidade De Maputo</td>\n    </tr>\n  </tbody>\n</table>\n</div>",
            "text/plain": "                      SUID source  iso     country  region  \\\n0  OSM-MOZ-SCHOOL-00000000    OSM  MOZ  Mozambique  Africa   \n1  OSM-MOZ-SCHOOL-00000001    OSM  MOZ  Mozambique  Africa   \n\n            subregion                         name  giga_id_school  clean  \\\n0  Sub-Saharan Africa               primary school               0      0   \n1  Sub-Saharan Africa  Maputo International School               1      0   \n\n                     geometry         ADM1              ADM2              ADM3  \n0  POINT (34.75546 -19.64221)       Sofala             Dondo             Dondo  \n1  POINT (32.58823 -25.97934)  Maputo City  Cidade De Maputo  Cidade De Maputo  "
          },
          "metadata": {}
        }
      ],
      "execution_count": 260,
      "metadata": {},
      "id": "e31bfd31-a0bc-4502-bcfb-a501204cbc52"
    },
    {
      "cell_type": "markdown",
      "source": [
        "## Save Results"
      ],
      "metadata": {},
      "id": "f1cdb875-2897-4160-bb6b-170054edeacd"
    },
    {
      "cell_type": "code",
      "source": [
        "post_utils.save_results(iso_code, preds, model_config, cam_method=cam_method, source=\"preds\")\n",
        "post_utils.save_results(iso_code, master, model_config, source=\"master\")\n",
        "post_utils.save_results(iso_code, osm_overture, model_config, source=\"osm_overture\")"
      ],
      "outputs": [],
      "execution_count": 262,
      "metadata": {},
      "id": "10d0aac4-7b5b-46e1-9ac4-21598c388151"
    },
    {
      "cell_type": "markdown",
      "source": [
        "## Standardize Data"
      ],
      "metadata": {},
      "id": "79e8ee58-ee72-4ae6-9177-bb78c9357dc7"
    },
    {
      "cell_type": "code",
      "source": [
        "preds = post_utils.standardize_data(model_config, iso_code, cam_method=cam_method, source=\"preds\", uid=\"UID\")\n",
        "master = post_utils.standardize_data(model_config, iso_code, source=\"master\", uid=\"MUID\")\n",
        "osm = post_utils.standardize_data(model_config, iso_code, source=\"osm_overture\", uid=\"SUID\")\n",
        "preds.head(3)"
      ],
      "outputs": [
        {
          "output_type": "execute_result",
          "execution_count": 270,
          "data": {
            "text/html": "<div>\n<style scoped>\n    .dataframe tbody tr th:only-of-type {\n        vertical-align: middle;\n    }\n\n    .dataframe tbody tr th {\n        vertical-align: top;\n    }\n\n    .dataframe thead th {\n        text-align: right;\n    }\n</style>\n<table border=\"1\" class=\"dataframe\">\n  <thead>\n    <tr style=\"text-align: right;\">\n      <th></th>\n      <th>giga_id_school</th>\n      <th>school_id</th>\n      <th>name</th>\n      <th>lat</th>\n      <th>lon</th>\n      <th>admin1</th>\n      <th>admin1_id_giga</th>\n      <th>admin2</th>\n      <th>admin2_id_giga</th>\n      <th>education_level</th>\n      <th>source</th>\n      <th>uninhabited</th>\n      <th>is_duplicated</th>\n      <th>predicted_proba</th>\n      <th>rurban</th>\n    </tr>\n  </thead>\n  <tbody>\n    <tr>\n      <th>0</th>\n      <td>ML-MOZ-SCHOOL-76580000</td>\n      <td>ML-MOZ-SCHOOL-76580000</td>\n      <td>Unknown</td>\n      <td>-19.124442</td>\n      <td>33.470237</td>\n      <td>Manica</td>\n      <td>MOZ006</td>\n      <td>Cidade de Chimoio</td>\n      <td>MOZ006001</td>\n      <td>None</td>\n      <td>ML</td>\n      <td>None</td>\n      <td>None</td>\n      <td>0.980880</td>\n      <td>urban</td>\n    </tr>\n    <tr>\n      <th>1</th>\n      <td>ML-MOZ-SCHOOL-24801000</td>\n      <td>ML-MOZ-SCHOOL-24801000</td>\n      <td>Unknown</td>\n      <td>-19.772812</td>\n      <td>34.876675</td>\n      <td>Sofala</td>\n      <td>MOZ007</td>\n      <td>Cidade da Beira</td>\n      <td>MOZ007001</td>\n      <td>None</td>\n      <td>ML</td>\n      <td>None</td>\n      <td>None</td>\n      <td>0.980790</td>\n      <td>urban</td>\n    </tr>\n    <tr>\n      <th>2</th>\n      <td>ML-MOZ-SCHOOL-21286000</td>\n      <td>ML-MOZ-SCHOOL-21286000</td>\n      <td>Unknown</td>\n      <td>-19.748836</td>\n      <td>34.851200</td>\n      <td>Sofala</td>\n      <td>MOZ007</td>\n      <td>Cidade da Beira</td>\n      <td>MOZ007001</td>\n      <td>None</td>\n      <td>ML</td>\n      <td>None</td>\n      <td>None</td>\n      <td>0.979622</td>\n      <td>urban</td>\n    </tr>\n  </tbody>\n</table>\n</div>",
            "text/plain": "           giga_id_school               school_id     name        lat  \\\n0  ML-MOZ-SCHOOL-76580000  ML-MOZ-SCHOOL-76580000  Unknown -19.124442   \n1  ML-MOZ-SCHOOL-24801000  ML-MOZ-SCHOOL-24801000  Unknown -19.772812   \n2  ML-MOZ-SCHOOL-21286000  ML-MOZ-SCHOOL-21286000  Unknown -19.748836   \n\n         lon  admin1 admin1_id_giga             admin2 admin2_id_giga  \\\n0  33.470237  Manica         MOZ006  Cidade de Chimoio      MOZ006001   \n1  34.876675  Sofala         MOZ007    Cidade da Beira      MOZ007001   \n2  34.851200  Sofala         MOZ007    Cidade da Beira      MOZ007001   \n\n  education_level source uninhabited is_duplicated  predicted_proba rurban  \n0            None     ML        None          None         0.980880  urban  \n1            None     ML        None          None         0.980790  urban  \n2            None     ML        None          None         0.979622  urban  "
          },
          "metadata": {}
        }
      ],
      "execution_count": 270,
      "metadata": {
        "scrolled": true
      },
      "id": "19d5eafc-a222-4ec9-a416-5f8acf0217a2"
    },
    {
      "cell_type": "code",
      "source": [
        "data = pd.concat([preds, master, osm])\n",
        "data = data.reset_index(drop=True)\n",
        "data.to_parquet(f'{iso_code}_validator_meta.parquet')"
      ],
      "outputs": [
        {
          "output_type": "stream",
          "name": "stderr",
          "text": "/tmp/ipykernel_675940/205928062.py:1: FutureWarning: The behavior of DataFrame concatenation with empty or all-NA entries is deprecated. In a future version, this will no longer exclude empty or all-NA columns when determining the result dtypes. To retain the old behavior, exclude the relevant entries before the concat operation.\n  data = pd.concat([preds, master, osm])\n"
        }
      ],
      "execution_count": 264,
      "metadata": {},
      "id": "45a623af-9cd3-4ac8-9026-60fb95dbe977"
    }
  ],
  "metadata": {
    "kernelspec": {
      "name": "gigav3",
      "language": "python",
      "display_name": "gigav3"
    },
    "language_info": {
      "name": "python",
      "version": "3.10.13",
      "mimetype": "text/x-python",
      "codemirror_mode": {
        "name": "ipython",
        "version": 3
      },
      "pygments_lexer": "ipython3",
      "nbconvert_exporter": "python",
      "file_extension": ".py"
    },
    "microsoft": {
      "ms_spell_check": {
        "ms_spell_check_language": "en"
      }
    },
    "kernel_info": {
      "name": "gigav3"
    },
    "nteract": {
      "version": "nteract-front-end@1.0.0"
    }
  },
  "nbformat": 4,
  "nbformat_minor": 5
}