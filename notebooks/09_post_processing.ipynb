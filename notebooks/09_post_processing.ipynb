{
 "cells": [
  {
   "cell_type": "markdown",
   "id": "efe03daf-1aa8-488d-bdc0-13992d245b60",
   "metadata": {},
   "source": [
    "## Imports and Setup"
   ]
  },
  {
   "cell_type": "code",
   "execution_count": null,
   "id": "8dca47f6-f51a-4138-a1de-f220b0850968",
   "metadata": {},
   "outputs": [],
   "source": [
    "import pandas as pd\n",
    "import geopandas as gpd\n",
    "import logging\n",
    "import joblib\n",
    "import torch\n",
    "\n",
    "import os \n",
    "os.chdir('/home/itingzon.unicef/giga')\n",
    "from src import sat_download\n",
    "from utils import post_utils\n",
    "from utils import calib_utils\n",
    "from utils import config_utils\n",
    "from utils import data_utils\n",
    "from utils import model_utils\n",
    "from utils import plot_utils\n",
    "\n",
    "%load_ext autoreload\n",
    "%autoreload 2"
   ]
  },
  {
   "cell_type": "markdown",
   "id": "0b3de69b-a9c1-4787-ae2a-ab9cfa35f762",
   "metadata": {},
   "source": [
    "## Load Config Files"
   ]
  },
  {
   "cell_type": "code",
   "execution_count": 253,
   "id": "9d850c9b-1f07-441d-8196-5e1519e2107d",
   "metadata": {},
   "outputs": [],
   "source": [
    "iso_code = \"MOZ\"\n",
    "sum_threshold=-1\n",
    "buffer_size=25\n",
    "calibrator=None\n",
    "cam_method=\"gradcamelementwise\"\n",
    "\n",
    "data_config_file = os.path.join(os.getcwd(), \"configs/data_configs/data_config_ISO_AF.yaml\")\n",
    "model_config_file = os.path.join(os.getcwd(), \"configs/best_models.yaml\")\n",
    "data_config = config_utils.load_config(data_config_file)\n",
    "model_config = config_utils.load_config(model_config_file)"
   ]
  },
  {
   "cell_type": "markdown",
   "id": "889bd9ad-e558-4270-9ac6-74fbd536a28f",
   "metadata": {},
   "source": [
    "## Load Model Predictions"
   ]
  },
  {
   "cell_type": "code",
   "execution_count": 258,
   "id": "2dce598a-355a-4fba-b160-1fc21fd71f8f",
   "metadata": {},
   "outputs": [
    {
     "name": "stderr",
     "output_type": "stream",
     "text": [
      "Reading files for MOZ...: 100%|████████████████████| 159/159 [00:14<00:00, 10.71it/s]                                                \n",
      "INFO:root:Data dimensions: (43420, 9)\n"
     ]
    },
    {
     "data": {
      "text/html": [
       "<div>\n",
       "<style scoped>\n",
       "    .dataframe tbody tr th:only-of-type {\n",
       "        vertical-align: middle;\n",
       "    }\n",
       "\n",
       "    .dataframe tbody tr th {\n",
       "        vertical-align: top;\n",
       "    }\n",
       "\n",
       "    .dataframe thead th {\n",
       "        text-align: right;\n",
       "    }\n",
       "</style>\n",
       "<table border=\"1\" class=\"dataframe\">\n",
       "  <thead>\n",
       "    <tr style=\"text-align: right;\">\n",
       "      <th></th>\n",
       "      <th>prob</th>\n",
       "      <th>UID</th>\n",
       "      <th>sum</th>\n",
       "      <th>geometry</th>\n",
       "      <th>group</th>\n",
       "      <th>ADM1</th>\n",
       "      <th>ADM2</th>\n",
       "      <th>ADM3</th>\n",
       "      <th>PUID</th>\n",
       "    </tr>\n",
       "  </thead>\n",
       "  <tbody>\n",
       "    <tr>\n",
       "      <th>0</th>\n",
       "      <td>0.98088</td>\n",
       "      <td>7658</td>\n",
       "      <td>62.0</td>\n",
       "      <td>POINT (3725889.788 -2169592.396)</td>\n",
       "      <td>3041</td>\n",
       "      <td>Manica</td>\n",
       "      <td>Cidade De Chimoio</td>\n",
       "      <td>Cidade De Chimoio</td>\n",
       "      <td>Cidade De Chimoio_7658</td>\n",
       "    </tr>\n",
       "    <tr>\n",
       "      <th>1</th>\n",
       "      <td>0.98079</td>\n",
       "      <td>24801</td>\n",
       "      <td>50.0</td>\n",
       "      <td>POINT (3882453.658 -2246136.740)</td>\n",
       "      <td>21603</td>\n",
       "      <td>Sofala</td>\n",
       "      <td>Cidade Da Beira</td>\n",
       "      <td>Cidade Da Beira</td>\n",
       "      <td>Cidade Da Beira_24801</td>\n",
       "    </tr>\n",
       "  </tbody>\n",
       "</table>\n",
       "</div>"
      ],
      "text/plain": [
       "      prob    UID   sum                          geometry  group    ADM1  \\\n",
       "0  0.98088   7658  62.0  POINT (3725889.788 -2169592.396)   3041  Manica   \n",
       "1  0.98079  24801  50.0  POINT (3882453.658 -2246136.740)  21603  Sofala   \n",
       "\n",
       "                ADM2               ADM3                    PUID  \n",
       "0  Cidade De Chimoio  Cidade De Chimoio  Cidade De Chimoio_7658  \n",
       "1    Cidade Da Beira    Cidade Da Beira   Cidade Da Beira_24801  "
      ]
     },
     "execution_count": 258,
     "metadata": {},
     "output_type": "execute_result"
    }
   ],
   "source": [
    "preds = post_utils.load_preds(\n",
    "    iso_code, data_config, model_config, cam_method, sum_threshold, buffer_size, calibrator\n",
    ")\n",
    "preds.head(2)"
   ]
  },
  {
   "cell_type": "markdown",
   "id": "a69459d1-3a18-4e6d-906f-de6e20587056",
   "metadata": {},
   "source": [
    "## Load Government Data"
   ]
  },
  {
   "cell_type": "code",
   "execution_count": 259,
   "id": "1bbc1b41-90da-4498-8808-334397657bfc",
   "metadata": {
    "scrolled": true
   },
   "outputs": [
    {
     "name": "stderr",
     "output_type": "stream",
     "text": [
      "INFO:root:clean\n",
      "0    9958\n",
      "1    1771\n",
      "2     722\n",
      "Name: count, dtype: int64\n",
      "INFO:root:Data dimensions: (12451, 13)\n"
     ]
    },
    {
     "data": {
      "text/html": [
       "<div>\n",
       "<style scoped>\n",
       "    .dataframe tbody tr th:only-of-type {\n",
       "        vertical-align: middle;\n",
       "    }\n",
       "\n",
       "    .dataframe tbody tr th {\n",
       "        vertical-align: top;\n",
       "    }\n",
       "\n",
       "    .dataframe thead th {\n",
       "        text-align: right;\n",
       "    }\n",
       "</style>\n",
       "<table border=\"1\" class=\"dataframe\">\n",
       "  <thead>\n",
       "    <tr style=\"text-align: right;\">\n",
       "      <th></th>\n",
       "      <th>MUID</th>\n",
       "      <th>source</th>\n",
       "      <th>iso</th>\n",
       "      <th>country</th>\n",
       "      <th>region</th>\n",
       "      <th>subregion</th>\n",
       "      <th>name</th>\n",
       "      <th>giga_id_school</th>\n",
       "      <th>clean</th>\n",
       "      <th>geometry</th>\n",
       "      <th>ADM1</th>\n",
       "      <th>ADM2</th>\n",
       "      <th>ADM3</th>\n",
       "    </tr>\n",
       "  </thead>\n",
       "  <tbody>\n",
       "    <tr>\n",
       "      <th>0</th>\n",
       "      <td>UNICEF-MOZ-SCHOOL-00000000</td>\n",
       "      <td>UNICEF</td>\n",
       "      <td>MOZ</td>\n",
       "      <td>Mozambique</td>\n",
       "      <td>Africa</td>\n",
       "      <td>Sub-Saharan Africa</td>\n",
       "      <td>None</td>\n",
       "      <td>0</td>\n",
       "      <td>0</td>\n",
       "      <td>POINT (35.10153 -17.41236)</td>\n",
       "      <td>Tete</td>\n",
       "      <td>Mutarara</td>\n",
       "      <td>Nhamayabue</td>\n",
       "    </tr>\n",
       "    <tr>\n",
       "      <th>1</th>\n",
       "      <td>UNICEF-MOZ-SCHOOL-00000001</td>\n",
       "      <td>UNICEF</td>\n",
       "      <td>MOZ</td>\n",
       "      <td>Mozambique</td>\n",
       "      <td>Africa</td>\n",
       "      <td>Sub-Saharan Africa</td>\n",
       "      <td>None</td>\n",
       "      <td>1</td>\n",
       "      <td>0</td>\n",
       "      <td>POINT (36.91100 -14.50489)</td>\n",
       "      <td>Niassa</td>\n",
       "      <td>Metarica</td>\n",
       "      <td>Nacumua</td>\n",
       "    </tr>\n",
       "  </tbody>\n",
       "</table>\n",
       "</div>"
      ],
      "text/plain": [
       "                         MUID  source  iso     country  region  \\\n",
       "0  UNICEF-MOZ-SCHOOL-00000000  UNICEF  MOZ  Mozambique  Africa   \n",
       "1  UNICEF-MOZ-SCHOOL-00000001  UNICEF  MOZ  Mozambique  Africa   \n",
       "\n",
       "            subregion  name  giga_id_school  clean  \\\n",
       "0  Sub-Saharan Africa  None               0      0   \n",
       "1  Sub-Saharan Africa  None               1      0   \n",
       "\n",
       "                     geometry    ADM1      ADM2        ADM3  \n",
       "0  POINT (35.10153 -17.41236)    Tete  Mutarara  Nhamayabue  \n",
       "1  POINT (36.91100 -14.50489)  Niassa  Metarica     Nacumua  "
      ]
     },
     "execution_count": 259,
     "metadata": {},
     "output_type": "execute_result"
    }
   ],
   "source": [
    "master = post_utils.load_master(iso_code, data_config)\n",
    "master.head(2)"
   ]
  },
  {
   "cell_type": "markdown",
   "id": "4671a88a-3c8e-48b3-81a1-e888ad76ba15",
   "metadata": {},
   "source": [
    "## Load OSM and Overture Data"
   ]
  },
  {
   "cell_type": "code",
   "execution_count": 260,
   "id": "e31bfd31-a0bc-4502-bcfb-a501204cbc52",
   "metadata": {},
   "outputs": [
    {
     "name": "stderr",
     "output_type": "stream",
     "text": [
      "INFO:root:clean\n",
      "0    487\n",
      "Name: count, dtype: int64\n",
      "INFO:root:Data dimensions: (487, 13)\n"
     ]
    },
    {
     "data": {
      "text/html": [
       "<div>\n",
       "<style scoped>\n",
       "    .dataframe tbody tr th:only-of-type {\n",
       "        vertical-align: middle;\n",
       "    }\n",
       "\n",
       "    .dataframe tbody tr th {\n",
       "        vertical-align: top;\n",
       "    }\n",
       "\n",
       "    .dataframe thead th {\n",
       "        text-align: right;\n",
       "    }\n",
       "</style>\n",
       "<table border=\"1\" class=\"dataframe\">\n",
       "  <thead>\n",
       "    <tr style=\"text-align: right;\">\n",
       "      <th></th>\n",
       "      <th>SUID</th>\n",
       "      <th>source</th>\n",
       "      <th>iso</th>\n",
       "      <th>country</th>\n",
       "      <th>region</th>\n",
       "      <th>subregion</th>\n",
       "      <th>name</th>\n",
       "      <th>giga_id_school</th>\n",
       "      <th>clean</th>\n",
       "      <th>geometry</th>\n",
       "      <th>ADM1</th>\n",
       "      <th>ADM2</th>\n",
       "      <th>ADM3</th>\n",
       "    </tr>\n",
       "  </thead>\n",
       "  <tbody>\n",
       "    <tr>\n",
       "      <th>0</th>\n",
       "      <td>OSM-MOZ-SCHOOL-00000000</td>\n",
       "      <td>OSM</td>\n",
       "      <td>MOZ</td>\n",
       "      <td>Mozambique</td>\n",
       "      <td>Africa</td>\n",
       "      <td>Sub-Saharan Africa</td>\n",
       "      <td>primary school</td>\n",
       "      <td>0</td>\n",
       "      <td>0</td>\n",
       "      <td>POINT (34.75546 -19.64221)</td>\n",
       "      <td>Sofala</td>\n",
       "      <td>Dondo</td>\n",
       "      <td>Dondo</td>\n",
       "    </tr>\n",
       "    <tr>\n",
       "      <th>1</th>\n",
       "      <td>OSM-MOZ-SCHOOL-00000001</td>\n",
       "      <td>OSM</td>\n",
       "      <td>MOZ</td>\n",
       "      <td>Mozambique</td>\n",
       "      <td>Africa</td>\n",
       "      <td>Sub-Saharan Africa</td>\n",
       "      <td>Maputo International School</td>\n",
       "      <td>1</td>\n",
       "      <td>0</td>\n",
       "      <td>POINT (32.58823 -25.97934)</td>\n",
       "      <td>Maputo City</td>\n",
       "      <td>Cidade De Maputo</td>\n",
       "      <td>Cidade De Maputo</td>\n",
       "    </tr>\n",
       "  </tbody>\n",
       "</table>\n",
       "</div>"
      ],
      "text/plain": [
       "                      SUID source  iso     country  region  \\\n",
       "0  OSM-MOZ-SCHOOL-00000000    OSM  MOZ  Mozambique  Africa   \n",
       "1  OSM-MOZ-SCHOOL-00000001    OSM  MOZ  Mozambique  Africa   \n",
       "\n",
       "            subregion                         name  giga_id_school  clean  \\\n",
       "0  Sub-Saharan Africa               primary school               0      0   \n",
       "1  Sub-Saharan Africa  Maputo International School               1      0   \n",
       "\n",
       "                     geometry         ADM1              ADM2              ADM3  \n",
       "0  POINT (34.75546 -19.64221)       Sofala             Dondo             Dondo  \n",
       "1  POINT (32.58823 -25.97934)  Maputo City  Cidade De Maputo  Cidade De Maputo  "
      ]
     },
     "execution_count": 260,
     "metadata": {},
     "output_type": "execute_result"
    }
   ],
   "source": [
    "osm_overture = post_utils.load_osm_overture(iso_code, data_config)\n",
    "osm_overture.head(2)"
   ]
  },
  {
   "cell_type": "markdown",
   "id": "f1cdb875-2897-4160-bb6b-170054edeacd",
   "metadata": {},
   "source": [
    "## Save Results"
   ]
  },
  {
   "cell_type": "code",
   "execution_count": 262,
   "id": "10d0aac4-7b5b-46e1-9ac4-21598c388151",
   "metadata": {},
   "outputs": [],
   "source": [
    "post_utils.save_results(iso_code, preds, model_config, cam_method=cam_method, source=\"preds\")\n",
    "post_utils.save_results(iso_code, master, model_config, source=\"master\")\n",
    "post_utils.save_results(iso_code, osm_overture, model_config, source=\"osm_overture\")"
   ]
  },
  {
   "cell_type": "markdown",
   "id": "79e8ee58-ee72-4ae6-9177-bb78c9357dc7",
   "metadata": {},
   "source": [
    "## Standardize Data"
   ]
  },
  {
   "cell_type": "code",
   "execution_count": 270,
   "id": "19d5eafc-a222-4ec9-a416-5f8acf0217a2",
   "metadata": {
    "scrolled": true
   },
   "outputs": [
    {
     "data": {
      "text/html": [
       "<div>\n",
       "<style scoped>\n",
       "    .dataframe tbody tr th:only-of-type {\n",
       "        vertical-align: middle;\n",
       "    }\n",
       "\n",
       "    .dataframe tbody tr th {\n",
       "        vertical-align: top;\n",
       "    }\n",
       "\n",
       "    .dataframe thead th {\n",
       "        text-align: right;\n",
       "    }\n",
       "</style>\n",
       "<table border=\"1\" class=\"dataframe\">\n",
       "  <thead>\n",
       "    <tr style=\"text-align: right;\">\n",
       "      <th></th>\n",
       "      <th>giga_id_school</th>\n",
       "      <th>school_id</th>\n",
       "      <th>name</th>\n",
       "      <th>lat</th>\n",
       "      <th>lon</th>\n",
       "      <th>admin1</th>\n",
       "      <th>admin1_id_giga</th>\n",
       "      <th>admin2</th>\n",
       "      <th>admin2_id_giga</th>\n",
       "      <th>education_level</th>\n",
       "      <th>source</th>\n",
       "      <th>uninhabited</th>\n",
       "      <th>is_duplicated</th>\n",
       "      <th>predicted_proba</th>\n",
       "      <th>rurban</th>\n",
       "    </tr>\n",
       "  </thead>\n",
       "  <tbody>\n",
       "    <tr>\n",
       "      <th>0</th>\n",
       "      <td>ML-MOZ-SCHOOL-76580000</td>\n",
       "      <td>ML-MOZ-SCHOOL-76580000</td>\n",
       "      <td>Unknown</td>\n",
       "      <td>-19.124442</td>\n",
       "      <td>33.470237</td>\n",
       "      <td>Manica</td>\n",
       "      <td>MOZ006</td>\n",
       "      <td>Cidade de Chimoio</td>\n",
       "      <td>MOZ006001</td>\n",
       "      <td>None</td>\n",
       "      <td>ML</td>\n",
       "      <td>None</td>\n",
       "      <td>None</td>\n",
       "      <td>0.980880</td>\n",
       "      <td>urban</td>\n",
       "    </tr>\n",
       "    <tr>\n",
       "      <th>1</th>\n",
       "      <td>ML-MOZ-SCHOOL-24801000</td>\n",
       "      <td>ML-MOZ-SCHOOL-24801000</td>\n",
       "      <td>Unknown</td>\n",
       "      <td>-19.772812</td>\n",
       "      <td>34.876675</td>\n",
       "      <td>Sofala</td>\n",
       "      <td>MOZ007</td>\n",
       "      <td>Cidade da Beira</td>\n",
       "      <td>MOZ007001</td>\n",
       "      <td>None</td>\n",
       "      <td>ML</td>\n",
       "      <td>None</td>\n",
       "      <td>None</td>\n",
       "      <td>0.980790</td>\n",
       "      <td>urban</td>\n",
       "    </tr>\n",
       "    <tr>\n",
       "      <th>2</th>\n",
       "      <td>ML-MOZ-SCHOOL-21286000</td>\n",
       "      <td>ML-MOZ-SCHOOL-21286000</td>\n",
       "      <td>Unknown</td>\n",
       "      <td>-19.748836</td>\n",
       "      <td>34.851200</td>\n",
       "      <td>Sofala</td>\n",
       "      <td>MOZ007</td>\n",
       "      <td>Cidade da Beira</td>\n",
       "      <td>MOZ007001</td>\n",
       "      <td>None</td>\n",
       "      <td>ML</td>\n",
       "      <td>None</td>\n",
       "      <td>None</td>\n",
       "      <td>0.979622</td>\n",
       "      <td>urban</td>\n",
       "    </tr>\n",
       "  </tbody>\n",
       "</table>\n",
       "</div>"
      ],
      "text/plain": [
       "           giga_id_school               school_id     name        lat  \\\n",
       "0  ML-MOZ-SCHOOL-76580000  ML-MOZ-SCHOOL-76580000  Unknown -19.124442   \n",
       "1  ML-MOZ-SCHOOL-24801000  ML-MOZ-SCHOOL-24801000  Unknown -19.772812   \n",
       "2  ML-MOZ-SCHOOL-21286000  ML-MOZ-SCHOOL-21286000  Unknown -19.748836   \n",
       "\n",
       "         lon  admin1 admin1_id_giga             admin2 admin2_id_giga  \\\n",
       "0  33.470237  Manica         MOZ006  Cidade de Chimoio      MOZ006001   \n",
       "1  34.876675  Sofala         MOZ007    Cidade da Beira      MOZ007001   \n",
       "2  34.851200  Sofala         MOZ007    Cidade da Beira      MOZ007001   \n",
       "\n",
       "  education_level source uninhabited is_duplicated  predicted_proba rurban  \n",
       "0            None     ML        None          None         0.980880  urban  \n",
       "1            None     ML        None          None         0.980790  urban  \n",
       "2            None     ML        None          None         0.979622  urban  "
      ]
     },
     "execution_count": 270,
     "metadata": {},
     "output_type": "execute_result"
    }
   ],
   "source": [
    "preds = post_utils.standardize_data(model_config, iso_code, cam_method=cam_method, source=\"preds\", uid=\"UID\")\n",
    "master = post_utils.standardize_data(model_config, iso_code, source=\"master\", uid=\"MUID\")\n",
    "osm = post_utils.standardize_data(model_config, iso_code, source=\"osm_overture\", uid=\"SUID\")\n",
    "preds.head(3)"
   ]
  },
  {
   "cell_type": "code",
   "execution_count": 264,
   "id": "45a623af-9cd3-4ac8-9026-60fb95dbe977",
   "metadata": {},
   "outputs": [
    {
     "name": "stderr",
     "output_type": "stream",
     "text": [
      "/tmp/ipykernel_675940/205928062.py:1: FutureWarning: The behavior of DataFrame concatenation with empty or all-NA entries is deprecated. In a future version, this will no longer exclude empty or all-NA columns when determining the result dtypes. To retain the old behavior, exclude the relevant entries before the concat operation.\n",
      "  data = pd.concat([preds, master, osm])\n"
     ]
    }
   ],
   "source": [
    "data = pd.concat([preds, master, osm])\n",
    "data = data.reset_index(drop=True)\n",
    "data.to_parquet(f'{iso_code}_validator_meta.parquet')"
   ]
  }
 ],
 "metadata": {
  "kernelspec": {
   "display_name": "giga2",
   "language": "python",
   "name": "giga2"
  },
  "language_info": {
   "codemirror_mode": {
    "name": "ipython",
    "version": 3
   },
   "file_extension": ".py",
   "mimetype": "text/x-python",
   "name": "python",
   "nbconvert_exporter": "python",
   "pygments_lexer": "ipython3",
   "version": "3.10.13"
  }
 },
 "nbformat": 4,
 "nbformat_minor": 5
}
