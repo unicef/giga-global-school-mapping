{
  "cells": [
    {
      "cell_type": "markdown",
      "source": [
        "## Imports and Setup"
      ],
      "metadata": {},
      "id": "efe03daf-1aa8-488d-bdc0-13992d245b60"
    },
    {
      "cell_type": "code",
      "source": [
        "import pandas as pd\n",
        "import geopandas as gpd\n",
        "import logging\n",
        "import joblib\n",
        "import torch\n",
        "\n",
        "import os \n",
        "os.chdir('../')\n",
        "from src import sat_download\n",
        "from utils import post_utils\n",
        "from utils import calib_utils\n",
        "from utils import config_utils\n",
        "from utils import data_utils\n",
        "from utils import model_utils\n",
        "from utils import plot_utils\n",
        "\n",
        "%load_ext autoreload\n",
        "%autoreload 2"
      ],
      "outputs": [
        {
          "output_type": "stream",
          "name": "stderr",
          "text": "/anaconda/envs/gigav3/lib/python3.10/site-packages/torch/cuda/__init__.py:138: UserWarning: CUDA initialization: The NVIDIA driver on your system is too old (found version 11040). Please update your GPU driver by downloading and installing a new version from the URL: http://www.nvidia.com/Download/index.aspx Alternatively, go to: https://pytorch.org to install a PyTorch version that has been compiled with your version of the CUDA driver. (Triggered internally at ../c10/cuda/CUDAFunctions.cpp:108.)\n  return torch._C._cuda_getDeviceCount() > 0\n"
        }
      ],
      "execution_count": 1,
      "metadata": {
        "gather": {
          "logged": 1732439518395
        }
      },
      "id": "8dca47f6-f51a-4138-a1de-f220b0850968"
    },
    {
      "cell_type": "markdown",
      "source": [
        "## Load Config Files"
      ],
      "metadata": {},
      "id": "0b3de69b-a9c1-4787-ae2a-ab9cfa35f762"
    },
    {
      "cell_type": "code",
      "source": [
        "iso_code = \"TJK\"\n",
        "sum_threshold=-1\n",
        "buffer_size=25\n",
        "calibrator=None\n",
        "\n",
        "data_config_file = os.path.join(os.getcwd(), \"configs/data_configs/data_config_ISO_AS.yaml\")\n",
        "data_config = config_utils.load_config(data_config_file)"
      ],
      "outputs": [],
      "execution_count": 2,
      "metadata": {
        "gather": {
          "logged": 1732439520936
        }
      },
      "id": "9d850c9b-1f07-441d-8196-5e1519e2107d"
    },
    {
      "cell_type": "markdown",
      "source": [
        "## Load Model Predictions"
      ],
      "metadata": {},
      "id": "889bd9ad-e558-4270-9ac6-74fbd536a28f"
    },
    {
      "cell_type": "code",
      "source": [
        "preds = post_utils.load_preds(\n",
        "    iso_code, data_config, sum_threshold, buffer_size, calibrator\n",
        ")\n",
        "preds.head(2)"
      ],
      "outputs": [
        {
          "output_type": "stream",
          "name": "stderr",
          "text": "Reading TJK_Zafarobod District_convnext_large_gradcam.geojson...: 100%|████████████████████| 14/14 [00:04<00:00,  3.01it/s]        \nINFO:root:Expecting value: line 1 column 1 (char 0)\nINFO:root:https://www.geoboundaries.org/api/current/gbHumanitarian/TJK/ADM3/\nINFO:root:Data dimensions: (6228, 8)\n"
        },
        {
          "output_type": "execute_result",
          "execution_count": 3,
          "data": {
            "text/plain": "       prob     UID           sum                         geometry  group  \\\n0  0.978781   99911  17112.441033  POINT (7838136.418 4907515.151)   4108   \n1  0.977980  102661   9690.999426  POINT (7839487.618 4909615.151)   4132   \n\n           ADM1                ADM2                       PUID  \n0  Sughd Region  Konibodom District   Konibodom District_99911  \n1  Sughd Region  Konibodom District  Konibodom District_102661  ",
            "text/html": "<div>\n<style scoped>\n    .dataframe tbody tr th:only-of-type {\n        vertical-align: middle;\n    }\n\n    .dataframe tbody tr th {\n        vertical-align: top;\n    }\n\n    .dataframe thead th {\n        text-align: right;\n    }\n</style>\n<table border=\"1\" class=\"dataframe\">\n  <thead>\n    <tr style=\"text-align: right;\">\n      <th></th>\n      <th>prob</th>\n      <th>UID</th>\n      <th>sum</th>\n      <th>geometry</th>\n      <th>group</th>\n      <th>ADM1</th>\n      <th>ADM2</th>\n      <th>PUID</th>\n    </tr>\n  </thead>\n  <tbody>\n    <tr>\n      <th>0</th>\n      <td>0.978781</td>\n      <td>99911</td>\n      <td>17112.441033</td>\n      <td>POINT (7838136.418 4907515.151)</td>\n      <td>4108</td>\n      <td>Sughd Region</td>\n      <td>Konibodom District</td>\n      <td>Konibodom District_99911</td>\n    </tr>\n    <tr>\n      <th>1</th>\n      <td>0.977980</td>\n      <td>102661</td>\n      <td>9690.999426</td>\n      <td>POINT (7839487.618 4909615.151)</td>\n      <td>4132</td>\n      <td>Sughd Region</td>\n      <td>Konibodom District</td>\n      <td>Konibodom District_102661</td>\n    </tr>\n  </tbody>\n</table>\n</div>"
          },
          "metadata": {}
        }
      ],
      "execution_count": 3,
      "metadata": {
        "gather": {
          "logged": 1732439550602
        }
      },
      "id": "2dce598a-355a-4fba-b160-1fc21fd71f8f"
    },
    {
      "cell_type": "code",
      "source": [
        "post_utils.save_results(iso_code, preds, source=\"preds\")"
      ],
      "outputs": [],
      "execution_count": null,
      "metadata": {
        "jupyter": {
          "source_hidden": false,
          "outputs_hidden": false
        },
        "nteract": {
          "transient": {
            "deleting": false
          }
        }
      },
      "id": "67988bdb-82f7-407d-aff9-7ce6040ee089"
    },
    {
      "cell_type": "markdown",
      "source": [
        "## Load Government Data"
      ],
      "metadata": {},
      "id": "a69459d1-3a18-4e6d-906f-de6e20587056"
    },
    {
      "cell_type": "code",
      "source": [
        "master = post_utils.load_master(iso_code, data_config)\n",
        "master.head(2)"
      ],
      "outputs": [
        {
          "output_type": "stream",
          "name": "stderr",
          "text": "INFO:root:clean\n0    9958\n1    1771\n2     722\nName: count, dtype: int64\nINFO:root:Data dimensions: (12451, 13)\n"
        },
        {
          "output_type": "execute_result",
          "execution_count": 259,
          "data": {
            "text/html": "<div>\n<style scoped>\n    .dataframe tbody tr th:only-of-type {\n        vertical-align: middle;\n    }\n\n    .dataframe tbody tr th {\n        vertical-align: top;\n    }\n\n    .dataframe thead th {\n        text-align: right;\n    }\n</style>\n<table border=\"1\" class=\"dataframe\">\n  <thead>\n    <tr style=\"text-align: right;\">\n      <th></th>\n      <th>MUID</th>\n      <th>source</th>\n      <th>iso</th>\n      <th>country</th>\n      <th>region</th>\n      <th>subregion</th>\n      <th>name</th>\n      <th>giga_id_school</th>\n      <th>clean</th>\n      <th>geometry</th>\n      <th>ADM1</th>\n      <th>ADM2</th>\n      <th>ADM3</th>\n    </tr>\n  </thead>\n  <tbody>\n    <tr>\n      <th>0</th>\n      <td>UNICEF-MOZ-SCHOOL-00000000</td>\n      <td>UNICEF</td>\n      <td>MOZ</td>\n      <td>Mozambique</td>\n      <td>Africa</td>\n      <td>Sub-Saharan Africa</td>\n      <td>None</td>\n      <td>0</td>\n      <td>0</td>\n      <td>POINT (35.10153 -17.41236)</td>\n      <td>Tete</td>\n      <td>Mutarara</td>\n      <td>Nhamayabue</td>\n    </tr>\n    <tr>\n      <th>1</th>\n      <td>UNICEF-MOZ-SCHOOL-00000001</td>\n      <td>UNICEF</td>\n      <td>MOZ</td>\n      <td>Mozambique</td>\n      <td>Africa</td>\n      <td>Sub-Saharan Africa</td>\n      <td>None</td>\n      <td>1</td>\n      <td>0</td>\n      <td>POINT (36.91100 -14.50489)</td>\n      <td>Niassa</td>\n      <td>Metarica</td>\n      <td>Nacumua</td>\n    </tr>\n  </tbody>\n</table>\n</div>",
            "text/plain": "                         MUID  source  iso     country  region  \\\n0  UNICEF-MOZ-SCHOOL-00000000  UNICEF  MOZ  Mozambique  Africa   \n1  UNICEF-MOZ-SCHOOL-00000001  UNICEF  MOZ  Mozambique  Africa   \n\n            subregion  name  giga_id_school  clean  \\\n0  Sub-Saharan Africa  None               0      0   \n1  Sub-Saharan Africa  None               1      0   \n\n                     geometry    ADM1      ADM2        ADM3  \n0  POINT (35.10153 -17.41236)    Tete  Mutarara  Nhamayabue  \n1  POINT (36.91100 -14.50489)  Niassa  Metarica     Nacumua  "
          },
          "metadata": {}
        }
      ],
      "execution_count": 259,
      "metadata": {
        "scrolled": true
      },
      "id": "1bbc1b41-90da-4498-8808-334397657bfc"
    },
    {
      "cell_type": "code",
      "source": [
        "post_utils.save_results(iso_code, master, source=\"master\")"
      ],
      "outputs": [],
      "execution_count": null,
      "metadata": {
        "jupyter": {
          "source_hidden": false,
          "outputs_hidden": false
        },
        "nteract": {
          "transient": {
            "deleting": false
          }
        }
      },
      "id": "e24ca71f-3f34-4dd4-ba5d-fb5c5ce0a42c"
    },
    {
      "cell_type": "markdown",
      "source": [
        "## Load OSM and Overture Data"
      ],
      "metadata": {},
      "id": "4671a88a-3c8e-48b3-81a1-e888ad76ba15"
    },
    {
      "cell_type": "code",
      "source": [
        "osm_overture = post_utils.load_osm_overture(iso_code, data_config)\n",
        "osm_overture.head(2)"
      ],
      "outputs": [
        {
          "output_type": "stream",
          "name": "stderr",
          "text": "INFO:root:clean\n0    487\nName: count, dtype: int64\nINFO:root:Data dimensions: (487, 13)\n"
        },
        {
          "output_type": "execute_result",
          "execution_count": 260,
          "data": {
            "text/html": "<div>\n<style scoped>\n    .dataframe tbody tr th:only-of-type {\n        vertical-align: middle;\n    }\n\n    .dataframe tbody tr th {\n        vertical-align: top;\n    }\n\n    .dataframe thead th {\n        text-align: right;\n    }\n</style>\n<table border=\"1\" class=\"dataframe\">\n  <thead>\n    <tr style=\"text-align: right;\">\n      <th></th>\n      <th>SUID</th>\n      <th>source</th>\n      <th>iso</th>\n      <th>country</th>\n      <th>region</th>\n      <th>subregion</th>\n      <th>name</th>\n      <th>giga_id_school</th>\n      <th>clean</th>\n      <th>geometry</th>\n      <th>ADM1</th>\n      <th>ADM2</th>\n      <th>ADM3</th>\n    </tr>\n  </thead>\n  <tbody>\n    <tr>\n      <th>0</th>\n      <td>OSM-MOZ-SCHOOL-00000000</td>\n      <td>OSM</td>\n      <td>MOZ</td>\n      <td>Mozambique</td>\n      <td>Africa</td>\n      <td>Sub-Saharan Africa</td>\n      <td>primary school</td>\n      <td>0</td>\n      <td>0</td>\n      <td>POINT (34.75546 -19.64221)</td>\n      <td>Sofala</td>\n      <td>Dondo</td>\n      <td>Dondo</td>\n    </tr>\n    <tr>\n      <th>1</th>\n      <td>OSM-MOZ-SCHOOL-00000001</td>\n      <td>OSM</td>\n      <td>MOZ</td>\n      <td>Mozambique</td>\n      <td>Africa</td>\n      <td>Sub-Saharan Africa</td>\n      <td>Maputo International School</td>\n      <td>1</td>\n      <td>0</td>\n      <td>POINT (32.58823 -25.97934)</td>\n      <td>Maputo City</td>\n      <td>Cidade De Maputo</td>\n      <td>Cidade De Maputo</td>\n    </tr>\n  </tbody>\n</table>\n</div>",
            "text/plain": "                      SUID source  iso     country  region  \\\n0  OSM-MOZ-SCHOOL-00000000    OSM  MOZ  Mozambique  Africa   \n1  OSM-MOZ-SCHOOL-00000001    OSM  MOZ  Mozambique  Africa   \n\n            subregion                         name  giga_id_school  clean  \\\n0  Sub-Saharan Africa               primary school               0      0   \n1  Sub-Saharan Africa  Maputo International School               1      0   \n\n                     geometry         ADM1              ADM2              ADM3  \n0  POINT (34.75546 -19.64221)       Sofala             Dondo             Dondo  \n1  POINT (32.58823 -25.97934)  Maputo City  Cidade De Maputo  Cidade De Maputo  "
          },
          "metadata": {}
        }
      ],
      "execution_count": 260,
      "metadata": {},
      "id": "e31bfd31-a0bc-4502-bcfb-a501204cbc52"
    },
    {
      "cell_type": "code",
      "source": [
        "post_utils.save_results(iso_code, osm_overture, source=\"osm_overture\")"
      ],
      "outputs": [],
      "execution_count": null,
      "metadata": {
        "jupyter": {
          "source_hidden": false,
          "outputs_hidden": false
        },
        "nteract": {
          "transient": {
            "deleting": false
          }
        }
      },
      "id": "627d7634-4211-4871-9440-0f182ae00724"
    },
    {
      "cell_type": "markdown",
      "source": [
        "## Standardize Data"
      ],
      "metadata": {},
      "id": "79e8ee58-ee72-4ae6-9177-bb78c9357dc7"
    },
    {
      "cell_type": "code",
      "source": [
        "preds = post_utils.standardize_data(iso_code, source=\"preds\", uid=\"UID\")\n",
        "master = post_utils.standardize_data(iso_code, source=\"master\", uid=\"MUID\")\n",
        "osm = post_utils.standardize_data(iso_code, source=\"osm_overture\", uid=\"SUID\")\n",
        "preds.head(3)"
      ],
      "outputs": [
        {
          "output_type": "execute_result",
          "execution_count": 270,
          "data": {
            "text/html": "<div>\n<style scoped>\n    .dataframe tbody tr th:only-of-type {\n        vertical-align: middle;\n    }\n\n    .dataframe tbody tr th {\n        vertical-align: top;\n    }\n\n    .dataframe thead th {\n        text-align: right;\n    }\n</style>\n<table border=\"1\" class=\"dataframe\">\n  <thead>\n    <tr style=\"text-align: right;\">\n      <th></th>\n      <th>giga_id_school</th>\n      <th>school_id</th>\n      <th>name</th>\n      <th>lat</th>\n      <th>lon</th>\n      <th>admin1</th>\n      <th>admin1_id_giga</th>\n      <th>admin2</th>\n      <th>admin2_id_giga</th>\n      <th>education_level</th>\n      <th>source</th>\n      <th>uninhabited</th>\n      <th>is_duplicated</th>\n      <th>predicted_proba</th>\n      <th>rurban</th>\n    </tr>\n  </thead>\n  <tbody>\n    <tr>\n      <th>0</th>\n      <td>ML-MOZ-SCHOOL-76580000</td>\n      <td>ML-MOZ-SCHOOL-76580000</td>\n      <td>Unknown</td>\n      <td>-19.124442</td>\n      <td>33.470237</td>\n      <td>Manica</td>\n      <td>MOZ006</td>\n      <td>Cidade de Chimoio</td>\n      <td>MOZ006001</td>\n      <td>None</td>\n      <td>ML</td>\n      <td>None</td>\n      <td>None</td>\n      <td>0.980880</td>\n      <td>urban</td>\n    </tr>\n    <tr>\n      <th>1</th>\n      <td>ML-MOZ-SCHOOL-24801000</td>\n      <td>ML-MOZ-SCHOOL-24801000</td>\n      <td>Unknown</td>\n      <td>-19.772812</td>\n      <td>34.876675</td>\n      <td>Sofala</td>\n      <td>MOZ007</td>\n      <td>Cidade da Beira</td>\n      <td>MOZ007001</td>\n      <td>None</td>\n      <td>ML</td>\n      <td>None</td>\n      <td>None</td>\n      <td>0.980790</td>\n      <td>urban</td>\n    </tr>\n    <tr>\n      <th>2</th>\n      <td>ML-MOZ-SCHOOL-21286000</td>\n      <td>ML-MOZ-SCHOOL-21286000</td>\n      <td>Unknown</td>\n      <td>-19.748836</td>\n      <td>34.851200</td>\n      <td>Sofala</td>\n      <td>MOZ007</td>\n      <td>Cidade da Beira</td>\n      <td>MOZ007001</td>\n      <td>None</td>\n      <td>ML</td>\n      <td>None</td>\n      <td>None</td>\n      <td>0.979622</td>\n      <td>urban</td>\n    </tr>\n  </tbody>\n</table>\n</div>",
            "text/plain": "           giga_id_school               school_id     name        lat  \\\n0  ML-MOZ-SCHOOL-76580000  ML-MOZ-SCHOOL-76580000  Unknown -19.124442   \n1  ML-MOZ-SCHOOL-24801000  ML-MOZ-SCHOOL-24801000  Unknown -19.772812   \n2  ML-MOZ-SCHOOL-21286000  ML-MOZ-SCHOOL-21286000  Unknown -19.748836   \n\n         lon  admin1 admin1_id_giga             admin2 admin2_id_giga  \\\n0  33.470237  Manica         MOZ006  Cidade de Chimoio      MOZ006001   \n1  34.876675  Sofala         MOZ007    Cidade da Beira      MOZ007001   \n2  34.851200  Sofala         MOZ007    Cidade da Beira      MOZ007001   \n\n  education_level source uninhabited is_duplicated  predicted_proba rurban  \n0            None     ML        None          None         0.980880  urban  \n1            None     ML        None          None         0.980790  urban  \n2            None     ML        None          None         0.979622  urban  "
          },
          "metadata": {}
        }
      ],
      "execution_count": 270,
      "metadata": {
        "scrolled": true
      },
      "id": "19d5eafc-a222-4ec9-a416-5f8acf0217a2"
    },
    {
      "cell_type": "code",
      "source": [
        "data = pd.concat([preds, master, osm])\n",
        "data = data.reset_index(drop=True)\n",
        "data.to_parquet(f'{iso_code}_validator_meta.parquet')"
      ],
      "outputs": [],
      "execution_count": null,
      "metadata": {},
      "id": "45a623af-9cd3-4ac8-9026-60fb95dbe977"
    }
  ],
  "metadata": {
    "kernelspec": {
      "name": "gigav3",
      "language": "python",
      "display_name": "gigav3"
    },
    "language_info": {
      "name": "python",
      "version": "3.10.13",
      "mimetype": "text/x-python",
      "codemirror_mode": {
        "name": "ipython",
        "version": 3
      },
      "pygments_lexer": "ipython3",
      "nbconvert_exporter": "python",
      "file_extension": ".py"
    },
    "microsoft": {
      "ms_spell_check": {
        "ms_spell_check_language": "en"
      }
    },
    "kernel_info": {
      "name": "gigav3"
    },
    "nteract": {
      "version": "nteract-front-end@1.0.0"
    }
  },
  "nbformat": 4,
  "nbformat_minor": 5
}