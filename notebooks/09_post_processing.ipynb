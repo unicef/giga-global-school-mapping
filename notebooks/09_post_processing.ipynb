{
 "cells": [
  {
   "cell_type": "markdown",
   "id": "efe03daf-1aa8-488d-bdc0-13992d245b60",
   "metadata": {},
   "source": [
    "## Imports and Setup"
   ]
  },
  {
   "cell_type": "code",
   "execution_count": null,
   "id": "8dca47f6-f51a-4138-a1de-f220b0850968",
   "metadata": {},
   "outputs": [],
   "source": [
    "import pandas as pd\n",
    "import geopandas as gpd\n",
    "import logging\n",
    "import joblib\n",
    "import torch\n",
    "\n",
    "import os \n",
    "os.chdir('/home/itingzon.unicef/giga')\n",
    "from src import sat_download\n",
    "from utils import post_utils\n",
    "from utils import calib_utils\n",
    "from utils import config_utils\n",
    "from utils import data_utils\n",
    "from utils import model_utils\n",
    "from utils import plot_utils\n",
    "\n",
    "%load_ext autoreload\n",
    "%autoreload 2"
   ]
  },
  {
   "cell_type": "markdown",
   "id": "0b3de69b-a9c1-4787-ae2a-ab9cfa35f762",
   "metadata": {},
   "source": [
    "## Load Config Files"
   ]
  },
  {
   "cell_type": "code",
   "execution_count": 168,
   "id": "9d850c9b-1f07-441d-8196-5e1519e2107d",
   "metadata": {},
   "outputs": [],
   "source": [
    "iso_code = \"SEN\"\n",
    "sum_threshold=-1\n",
    "buffer_size=25\n",
    "calibrator=None\n",
    "cam_method=\"gradcam\"\n",
    "\n",
    "data_config_file = os.path.join(os.getcwd(), \"configs/data_configs/data_config_ISO_AF.yaml\")\n",
    "model_config_file = os.path.join(os.getcwd(), \"configs/best_models.yaml\")\n",
    "data_config = config_utils.load_config(data_config_file)\n",
    "model_config = config_utils.load_config(model_config_file)"
   ]
  },
  {
   "cell_type": "markdown",
   "id": "889bd9ad-e558-4270-9ac6-74fbd536a28f",
   "metadata": {},
   "source": [
    "## Load Model Predictions"
   ]
  },
  {
   "cell_type": "code",
   "execution_count": 186,
   "id": "2dce598a-355a-4fba-b160-1fc21fd71f8f",
   "metadata": {},
   "outputs": [
    {
     "name": "stderr",
     "output_type": "stream",
     "text": [
      "Reading files for SEN...: 100%|████████████████████| 45/45 [00:07<00:00,  6.42it/s]                                                  \n",
      "INFO:root:Data dimensions: (15967, 9)\n"
     ]
    },
    {
     "data": {
      "text/html": [
       "<div>\n",
       "<style scoped>\n",
       "    .dataframe tbody tr th:only-of-type {\n",
       "        vertical-align: middle;\n",
       "    }\n",
       "\n",
       "    .dataframe tbody tr th {\n",
       "        vertical-align: top;\n",
       "    }\n",
       "\n",
       "    .dataframe thead th {\n",
       "        text-align: right;\n",
       "    }\n",
       "</style>\n",
       "<table border=\"1\" class=\"dataframe\">\n",
       "  <thead>\n",
       "    <tr style=\"text-align: right;\">\n",
       "      <th></th>\n",
       "      <th>prob</th>\n",
       "      <th>UID</th>\n",
       "      <th>sum</th>\n",
       "      <th>geometry</th>\n",
       "      <th>group</th>\n",
       "      <th>ADM1</th>\n",
       "      <th>ADM2</th>\n",
       "      <th>ADM3</th>\n",
       "      <th>PUID</th>\n",
       "    </tr>\n",
       "  </thead>\n",
       "  <tbody>\n",
       "    <tr>\n",
       "      <th>0</th>\n",
       "      <td>0.966634</td>\n",
       "      <td>23507</td>\n",
       "      <td>22.0</td>\n",
       "      <td>POINT (-1814593.415 1665931.749)</td>\n",
       "      <td>7367</td>\n",
       "      <td>Diourbel</td>\n",
       "      <td>Diourbel</td>\n",
       "      <td>Ndindy</td>\n",
       "      <td>Diourbel_23507</td>\n",
       "    </tr>\n",
       "    <tr>\n",
       "      <th>1</th>\n",
       "      <td>0.966054</td>\n",
       "      <td>178498</td>\n",
       "      <td>15.0</td>\n",
       "      <td>POINT (-1811869.892 1464003.347)</td>\n",
       "      <td>12109</td>\n",
       "      <td>Ziguinchor</td>\n",
       "      <td>Bignona</td>\n",
       "      <td>Sindian</td>\n",
       "      <td>Bignona_178498</td>\n",
       "    </tr>\n",
       "  </tbody>\n",
       "</table>\n",
       "</div>"
      ],
      "text/plain": [
       "       prob     UID   sum                          geometry  group  \\\n",
       "0  0.966634   23507  22.0  POINT (-1814593.415 1665931.749)   7367   \n",
       "1  0.966054  178498  15.0  POINT (-1811869.892 1464003.347)  12109   \n",
       "\n",
       "         ADM1      ADM2     ADM3            PUID  \n",
       "0    Diourbel  Diourbel   Ndindy  Diourbel_23507  \n",
       "1  Ziguinchor   Bignona  Sindian  Bignona_178498  "
      ]
     },
     "execution_count": 186,
     "metadata": {},
     "output_type": "execute_result"
    }
   ],
   "source": [
    "preds = post_utils.load_preds(\n",
    "    iso_code, data_config, model_config, cam_method, sum_threshold, buffer_size, calibrator\n",
    ")\n",
    "preds.head(2)"
   ]
  },
  {
   "cell_type": "markdown",
   "id": "a69459d1-3a18-4e6d-906f-de6e20587056",
   "metadata": {},
   "source": [
    "## Load Government Data"
   ]
  },
  {
   "cell_type": "code",
   "execution_count": 93,
   "id": "1bbc1b41-90da-4498-8808-334397657bfc",
   "metadata": {},
   "outputs": [
    {
     "name": "stderr",
     "output_type": "stream",
     "text": [
      "INFO:root:clean\n",
      "0    9033\n",
      "2     794\n",
      "1     238\n",
      "Name: count, dtype: int64\n",
      "INFO:root:Data dimensions: (10065, 13)\n"
     ]
    },
    {
     "data": {
      "text/html": [
       "<div>\n",
       "<style scoped>\n",
       "    .dataframe tbody tr th:only-of-type {\n",
       "        vertical-align: middle;\n",
       "    }\n",
       "\n",
       "    .dataframe tbody tr th {\n",
       "        vertical-align: top;\n",
       "    }\n",
       "\n",
       "    .dataframe thead th {\n",
       "        text-align: right;\n",
       "    }\n",
       "</style>\n",
       "<table border=\"1\" class=\"dataframe\">\n",
       "  <thead>\n",
       "    <tr style=\"text-align: right;\">\n",
       "      <th></th>\n",
       "      <th>MUID</th>\n",
       "      <th>source</th>\n",
       "      <th>iso</th>\n",
       "      <th>country</th>\n",
       "      <th>region</th>\n",
       "      <th>subregion</th>\n",
       "      <th>name</th>\n",
       "      <th>giga_id_school</th>\n",
       "      <th>clean</th>\n",
       "      <th>geometry</th>\n",
       "      <th>ADM1</th>\n",
       "      <th>ADM2</th>\n",
       "      <th>ADM3</th>\n",
       "    </tr>\n",
       "  </thead>\n",
       "  <tbody>\n",
       "    <tr>\n",
       "      <th>0</th>\n",
       "      <td>UNICEF-SEN-SCHOOL-00000000</td>\n",
       "      <td>UNICEF</td>\n",
       "      <td>SEN</td>\n",
       "      <td>Senegal</td>\n",
       "      <td>Africa</td>\n",
       "      <td>Sub-Saharan Africa</td>\n",
       "      <td>EE ALIEU SAMB</td>\n",
       "      <td>7614c6c6-9aca-36ff-978b-22bfca59916a</td>\n",
       "      <td>0</td>\n",
       "      <td>POINT (-17.51261 14.74680)</td>\n",
       "      <td>Dakar</td>\n",
       "      <td>Dakar</td>\n",
       "      <td>Almadies</td>\n",
       "    </tr>\n",
       "    <tr>\n",
       "      <th>1</th>\n",
       "      <td>UNICEF-SEN-SCHOOL-00000001</td>\n",
       "      <td>UNICEF</td>\n",
       "      <td>SEN</td>\n",
       "      <td>Senegal</td>\n",
       "      <td>Africa</td>\n",
       "      <td>Sub-Saharan Africa</td>\n",
       "      <td>EE EL HADJI BAYTIR SAMB</td>\n",
       "      <td>350fb172-bfef-331d-bd55-5c51139b9f48</td>\n",
       "      <td>0</td>\n",
       "      <td>POINT (-17.51196 14.74951)</td>\n",
       "      <td>Dakar</td>\n",
       "      <td>Dakar</td>\n",
       "      <td>Almadies</td>\n",
       "    </tr>\n",
       "  </tbody>\n",
       "</table>\n",
       "</div>"
      ],
      "text/plain": [
       "                         MUID  source  iso  country  region  \\\n",
       "0  UNICEF-SEN-SCHOOL-00000000  UNICEF  SEN  Senegal  Africa   \n",
       "1  UNICEF-SEN-SCHOOL-00000001  UNICEF  SEN  Senegal  Africa   \n",
       "\n",
       "            subregion                     name  \\\n",
       "0  Sub-Saharan Africa            EE ALIEU SAMB   \n",
       "1  Sub-Saharan Africa  EE EL HADJI BAYTIR SAMB   \n",
       "\n",
       "                         giga_id_school  clean                    geometry  \\\n",
       "0  7614c6c6-9aca-36ff-978b-22bfca59916a      0  POINT (-17.51261 14.74680)   \n",
       "1  350fb172-bfef-331d-bd55-5c51139b9f48      0  POINT (-17.51196 14.74951)   \n",
       "\n",
       "    ADM1   ADM2      ADM3  \n",
       "0  Dakar  Dakar  Almadies  \n",
       "1  Dakar  Dakar  Almadies  "
      ]
     },
     "execution_count": 93,
     "metadata": {},
     "output_type": "execute_result"
    }
   ],
   "source": [
    "master = post_utils.load_master(iso_code, data_config)\n",
    "master.head(2)"
   ]
  },
  {
   "cell_type": "markdown",
   "id": "4671a88a-3c8e-48b3-81a1-e888ad76ba15",
   "metadata": {},
   "source": [
    "## Load OSM and Overture Data"
   ]
  },
  {
   "cell_type": "code",
   "execution_count": 94,
   "id": "8c87bc01-5970-4c3f-ae80-df0a0709aad6",
   "metadata": {},
   "outputs": [
    {
     "name": "stderr",
     "output_type": "stream",
     "text": [
      "INFO:root:clean\n",
      "0    784\n",
      "Name: count, dtype: int64\n",
      "INFO:root:Data dimensions: (784, 13)\n"
     ]
    },
    {
     "data": {
      "text/html": [
       "<div>\n",
       "<style scoped>\n",
       "    .dataframe tbody tr th:only-of-type {\n",
       "        vertical-align: middle;\n",
       "    }\n",
       "\n",
       "    .dataframe tbody tr th {\n",
       "        vertical-align: top;\n",
       "    }\n",
       "\n",
       "    .dataframe thead th {\n",
       "        text-align: right;\n",
       "    }\n",
       "</style>\n",
       "<table border=\"1\" class=\"dataframe\">\n",
       "  <thead>\n",
       "    <tr style=\"text-align: right;\">\n",
       "      <th></th>\n",
       "      <th>SUID</th>\n",
       "      <th>source</th>\n",
       "      <th>iso</th>\n",
       "      <th>country</th>\n",
       "      <th>region</th>\n",
       "      <th>subregion</th>\n",
       "      <th>name</th>\n",
       "      <th>giga_id_school</th>\n",
       "      <th>clean</th>\n",
       "      <th>geometry</th>\n",
       "      <th>ADM1</th>\n",
       "      <th>ADM2</th>\n",
       "      <th>ADM3</th>\n",
       "    </tr>\n",
       "  </thead>\n",
       "  <tbody>\n",
       "    <tr>\n",
       "      <th>0</th>\n",
       "      <td>OSM-SEN-SCHOOL-00000000</td>\n",
       "      <td>OSM</td>\n",
       "      <td>SEN</td>\n",
       "      <td>Senegal</td>\n",
       "      <td>Africa</td>\n",
       "      <td>Sub-Saharan Africa</td>\n",
       "      <td>Ecole Nationale de Police</td>\n",
       "      <td>None</td>\n",
       "      <td>0</td>\n",
       "      <td>POINT (-17.44890 14.68903)</td>\n",
       "      <td>Dakar</td>\n",
       "      <td>Dakar</td>\n",
       "      <td>Plateau</td>\n",
       "    </tr>\n",
       "    <tr>\n",
       "      <th>1</th>\n",
       "      <td>OSM-SEN-SCHOOL-00000001</td>\n",
       "      <td>OSM</td>\n",
       "      <td>SEN</td>\n",
       "      <td>Senegal</td>\n",
       "      <td>Africa</td>\n",
       "      <td>Sub-Saharan Africa</td>\n",
       "      <td>CIFOP</td>\n",
       "      <td>None</td>\n",
       "      <td>0</td>\n",
       "      <td>POINT (-16.90105 15.16665)</td>\n",
       "      <td>Thies</td>\n",
       "      <td>Tivaoune</td>\n",
       "      <td>Meouane</td>\n",
       "    </tr>\n",
       "  </tbody>\n",
       "</table>\n",
       "</div>"
      ],
      "text/plain": [
       "                      SUID source  iso  country  region           subregion  \\\n",
       "0  OSM-SEN-SCHOOL-00000000    OSM  SEN  Senegal  Africa  Sub-Saharan Africa   \n",
       "1  OSM-SEN-SCHOOL-00000001    OSM  SEN  Senegal  Africa  Sub-Saharan Africa   \n",
       "\n",
       "                        name giga_id_school  clean  \\\n",
       "0  Ecole Nationale de Police           None      0   \n",
       "1                      CIFOP           None      0   \n",
       "\n",
       "                     geometry   ADM1      ADM2     ADM3  \n",
       "0  POINT (-17.44890 14.68903)  Dakar     Dakar  Plateau  \n",
       "1  POINT (-16.90105 15.16665)  Thies  Tivaoune  Meouane  "
      ]
     },
     "execution_count": 94,
     "metadata": {},
     "output_type": "execute_result"
    }
   ],
   "source": [
    "osm_overture = post_utils.load_osm_overture(iso_code, data_config)\n",
    "osm_overture.head(2)"
   ]
  },
  {
   "cell_type": "markdown",
   "id": "f1cdb875-2897-4160-bb6b-170054edeacd",
   "metadata": {},
   "source": [
    "## Save Results"
   ]
  },
  {
   "cell_type": "code",
   "execution_count": 7,
   "id": "10d0aac4-7b5b-46e1-9ac4-21598c388151",
   "metadata": {},
   "outputs": [],
   "source": [
    "post_utils.save_results(iso_code, preds, model_config, cam_method=cam_method, source=\"preds\")\n",
    "post_utils.save_results(iso_code, master, model_config, source=\"master\")\n",
    "post_utils.save_results(iso_code, osm_overture, model_config, source=\"osm_overture\")"
   ]
  },
  {
   "cell_type": "markdown",
   "id": "79e8ee58-ee72-4ae6-9177-bb78c9357dc7",
   "metadata": {},
   "source": [
    "## Standardize Data"
   ]
  },
  {
   "cell_type": "code",
   "execution_count": 193,
   "id": "19d5eafc-a222-4ec9-a416-5f8acf0217a2",
   "metadata": {
    "scrolled": true
   },
   "outputs": [
    {
     "data": {
      "text/html": [
       "<div>\n",
       "<style scoped>\n",
       "    .dataframe tbody tr th:only-of-type {\n",
       "        vertical-align: middle;\n",
       "    }\n",
       "\n",
       "    .dataframe tbody tr th {\n",
       "        vertical-align: top;\n",
       "    }\n",
       "\n",
       "    .dataframe thead th {\n",
       "        text-align: right;\n",
       "    }\n",
       "</style>\n",
       "<table border=\"1\" class=\"dataframe\">\n",
       "  <thead>\n",
       "    <tr style=\"text-align: right;\">\n",
       "      <th></th>\n",
       "      <th>giga_id_school</th>\n",
       "      <th>school_id</th>\n",
       "      <th>name</th>\n",
       "      <th>lat</th>\n",
       "      <th>lon</th>\n",
       "      <th>admin1</th>\n",
       "      <th>admin1_id_giga</th>\n",
       "      <th>admin2</th>\n",
       "      <th>admin2_id_giga</th>\n",
       "      <th>education_level</th>\n",
       "      <th>source</th>\n",
       "      <th>uninhabited</th>\n",
       "      <th>is_duplicated</th>\n",
       "      <th>predicted_proba</th>\n",
       "      <th>rurban</th>\n",
       "    </tr>\n",
       "  </thead>\n",
       "  <tbody>\n",
       "    <tr>\n",
       "      <th>0</th>\n",
       "      <td>7614c6c6-9aca-36ff-978b-22bfca59916a</td>\n",
       "      <td>UNICEF-SEN-SCHOOL-00000000</td>\n",
       "      <td>EE ALIEU SAMB</td>\n",
       "      <td>14.746802</td>\n",
       "      <td>-17.512605</td>\n",
       "      <td>Dakar</td>\n",
       "      <td>SEN001</td>\n",
       "      <td>Dakar</td>\n",
       "      <td>SEN001001</td>\n",
       "      <td>None</td>\n",
       "      <td>MASTER</td>\n",
       "      <td>False</td>\n",
       "      <td>False</td>\n",
       "      <td>None</td>\n",
       "      <td>urban</td>\n",
       "    </tr>\n",
       "    <tr>\n",
       "      <th>1</th>\n",
       "      <td>350fb172-bfef-331d-bd55-5c51139b9f48</td>\n",
       "      <td>UNICEF-SEN-SCHOOL-00000001</td>\n",
       "      <td>EE EL HADJI BAYTIR SAMB</td>\n",
       "      <td>14.749510</td>\n",
       "      <td>-17.511958</td>\n",
       "      <td>Dakar</td>\n",
       "      <td>SEN001</td>\n",
       "      <td>Dakar</td>\n",
       "      <td>SEN001001</td>\n",
       "      <td>None</td>\n",
       "      <td>MASTER</td>\n",
       "      <td>False</td>\n",
       "      <td>False</td>\n",
       "      <td>None</td>\n",
       "      <td>urban</td>\n",
       "    </tr>\n",
       "    <tr>\n",
       "      <th>2</th>\n",
       "      <td>b1a38b2d-0a27-33bf-8155-2ce84433d07a</td>\n",
       "      <td>UNICEF-SEN-SCHOOL-00000002</td>\n",
       "      <td>EE CASTORS ASECNA</td>\n",
       "      <td>14.730140</td>\n",
       "      <td>-17.488706</td>\n",
       "      <td>Dakar</td>\n",
       "      <td>SEN001</td>\n",
       "      <td>Dakar</td>\n",
       "      <td>SEN001001</td>\n",
       "      <td>None</td>\n",
       "      <td>MASTER</td>\n",
       "      <td>False</td>\n",
       "      <td>False</td>\n",
       "      <td>None</td>\n",
       "      <td>urban</td>\n",
       "    </tr>\n",
       "  </tbody>\n",
       "</table>\n",
       "</div>"
      ],
      "text/plain": [
       "                         giga_id_school                   school_id  \\\n",
       "0  7614c6c6-9aca-36ff-978b-22bfca59916a  UNICEF-SEN-SCHOOL-00000000   \n",
       "1  350fb172-bfef-331d-bd55-5c51139b9f48  UNICEF-SEN-SCHOOL-00000001   \n",
       "2  b1a38b2d-0a27-33bf-8155-2ce84433d07a  UNICEF-SEN-SCHOOL-00000002   \n",
       "\n",
       "                      name        lat        lon admin1 admin1_id_giga admin2  \\\n",
       "0            EE ALIEU SAMB  14.746802 -17.512605  Dakar         SEN001  Dakar   \n",
       "1  EE EL HADJI BAYTIR SAMB  14.749510 -17.511958  Dakar         SEN001  Dakar   \n",
       "2        EE CASTORS ASECNA  14.730140 -17.488706  Dakar         SEN001  Dakar   \n",
       "\n",
       "  admin2_id_giga education_level  source  uninhabited  is_duplicated  \\\n",
       "0      SEN001001            None  MASTER        False          False   \n",
       "1      SEN001001            None  MASTER        False          False   \n",
       "2      SEN001001            None  MASTER        False          False   \n",
       "\n",
       "  predicted_proba rurban  \n",
       "0            None  urban  \n",
       "1            None  urban  \n",
       "2            None  urban  "
      ]
     },
     "execution_count": 193,
     "metadata": {},
     "output_type": "execute_result"
    }
   ],
   "source": [
    "preds = post_utils.standardize_data(model_config, iso_code, source=\"preds\", uid=\"UID\")\n",
    "master = post_utils.standardize_data(model_config, iso_code, source=\"master\", uid=\"MUID\")\n",
    "osm = post_utils.standardize_data(model_config, iso_code, source=\"osm_overture\", uid=\"SUID\")\n",
    "master.head(3)"
   ]
  },
  {
   "cell_type": "code",
   "execution_count": 194,
   "id": "45a623af-9cd3-4ac8-9026-60fb95dbe977",
   "metadata": {},
   "outputs": [
    {
     "name": "stderr",
     "output_type": "stream",
     "text": [
      "/tmp/ipykernel_675940/586807400.py:1: FutureWarning: The behavior of DataFrame concatenation with empty or all-NA entries is deprecated. In a future version, this will no longer exclude empty or all-NA columns when determining the result dtypes. To retain the old behavior, exclude the relevant entries before the concat operation.\n",
      "  data = pd.concat([preds, master, osm])\n"
     ]
    }
   ],
   "source": [
    "data = pd.concat([preds, master, osm])\n",
    "data.to_parquet('SEN_validator_meta.parquet')"
   ]
  }
 ],
 "metadata": {
  "kernelspec": {
   "display_name": "giga2",
   "language": "python",
   "name": "giga2"
  },
  "language_info": {
   "codemirror_mode": {
    "name": "ipython",
    "version": 3
   },
   "file_extension": ".py",
   "mimetype": "text/x-python",
   "name": "python",
   "nbconvert_exporter": "python",
   "pygments_lexer": "ipython3",
   "version": "3.10.13"
  }
 },
 "nbformat": 4,
 "nbformat_minor": 5
}
