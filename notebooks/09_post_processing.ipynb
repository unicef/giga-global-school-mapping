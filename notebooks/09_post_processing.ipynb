{
  "cells": [
    {
      "cell_type": "markdown",
      "source": [
        "## Imports and Setup"
      ],
      "metadata": {},
      "id": "efe03daf-1aa8-488d-bdc0-13992d245b60"
    },
    {
      "cell_type": "code",
      "source": [
        "import pandas as pd\n",
        "import geopandas as gpd\n",
        "import logging\n",
        "import joblib\n",
        "import torch\n",
        "\n",
        "import os \n",
        "os.chdir('../')\n",
        "from src import sat_download\n",
        "from utils import post_utils\n",
        "from utils import calib_utils\n",
        "from utils import config_utils\n",
        "from utils import data_utils\n",
        "from utils import model_utils\n",
        "from utils import plot_utils\n",
        "\n",
        "%load_ext autoreload\n",
        "%autoreload 2"
      ],
      "outputs": [],
      "execution_count": 1,
      "metadata": {
        "gather": {
          "logged": 1733394257511
        }
      },
      "id": "8dca47f6-f51a-4138-a1de-f220b0850968"
    },
    {
      "cell_type": "markdown",
      "source": [
        "## Load Config Files"
      ],
      "metadata": {},
      "id": "0b3de69b-a9c1-4787-ae2a-ab9cfa35f762"
    },
    {
      "cell_type": "code",
      "source": [
        "iso_code = \"MNG\"\n",
        "buffer_size = 25\n",
        "calibrator = None\n",
        "\n",
        "data_config_file = os.path.join(os.getcwd(), \"configs/data_configs/data_config_ISO_AS.yaml\")\n",
        "data_config = config_utils.load_config(data_config_file)"
      ],
      "outputs": [],
      "execution_count": 13,
      "metadata": {
        "gather": {
          "logged": 1733406067902
        }
      },
      "id": "9d850c9b-1f07-441d-8196-5e1519e2107d"
    },
    {
      "cell_type": "markdown",
      "source": [
        "## Load Model Predictions"
      ],
      "metadata": {},
      "id": "889bd9ad-e558-4270-9ac6-74fbd536a28f"
    },
    {
      "cell_type": "code",
      "source": [
        "preds = post_utils.load_preds(iso_code, data_config, buffer_size, calibrator)\n",
        "post_utils.save_results(iso_code, preds, source=\"preds\", config=data_config)\n",
        "print(preds.shape) \n",
        "preds.head(2)"
      ],
      "outputs": [
        {
          "output_type": "stream",
          "name": "stderr",
          "text": "Reading MNG_Zuunmod_vit_b_16_hirescam.geojson...: 100%|████████████████████| 103/103 [00:06<00:00, 15.57it/s]        \nINFO:root:Data dimensions: (1013, 9)\n"
        },
        {
          "output_type": "stream",
          "name": "stdout",
          "text": "Best cam method: hirescam\nOutput saved to /mnt/batch/tasks/shared/LS_root/mounts/clusters/model-deployment3/code/Users/itingzon/20241011_dell_hpc_env/giga-global-school-mapping/output/MNG/results/GIGAv2/cams/MNG_vit_b_16_hirescam.geojson\n(1013, 9)\n"
        },
        {
          "output_type": "execute_result",
          "execution_count": 14,
          "data": {
            "text/plain": "       prob     UID        sum                          geometry  group  \\\n0  0.990309  571812  39.885009  POINT (12620396.624 6316454.945)    171   \n1  0.988910    2463  47.791966  POINT (11441719.257 5823001.876)     42   \n\n          ADM1       ADM2      ADM3             PUID  \n0       Dornod   Bayandun  Mongolia  Bayandun_571812  \n1  Ovorkhangai  Arvaixeer  Mongolia   Arvaixeer_2463  ",
            "text/html": "<div>\n<style scoped>\n    .dataframe tbody tr th:only-of-type {\n        vertical-align: middle;\n    }\n\n    .dataframe tbody tr th {\n        vertical-align: top;\n    }\n\n    .dataframe thead th {\n        text-align: right;\n    }\n</style>\n<table border=\"1\" class=\"dataframe\">\n  <thead>\n    <tr style=\"text-align: right;\">\n      <th></th>\n      <th>prob</th>\n      <th>UID</th>\n      <th>sum</th>\n      <th>geometry</th>\n      <th>group</th>\n      <th>ADM1</th>\n      <th>ADM2</th>\n      <th>ADM3</th>\n      <th>PUID</th>\n    </tr>\n  </thead>\n  <tbody>\n    <tr>\n      <th>0</th>\n      <td>0.990309</td>\n      <td>571812</td>\n      <td>39.885009</td>\n      <td>POINT (12620396.624 6316454.945)</td>\n      <td>171</td>\n      <td>Dornod</td>\n      <td>Bayandun</td>\n      <td>Mongolia</td>\n      <td>Bayandun_571812</td>\n    </tr>\n    <tr>\n      <th>1</th>\n      <td>0.988910</td>\n      <td>2463</td>\n      <td>47.791966</td>\n      <td>POINT (11441719.257 5823001.876)</td>\n      <td>42</td>\n      <td>Ovorkhangai</td>\n      <td>Arvaixeer</td>\n      <td>Mongolia</td>\n      <td>Arvaixeer_2463</td>\n    </tr>\n  </tbody>\n</table>\n</div>"
          },
          "metadata": {}
        }
      ],
      "execution_count": 14,
      "metadata": {
        "gather": {
          "logged": 1733406092455
        }
      },
      "id": "2dce598a-355a-4fba-b160-1fc21fd71f8f"
    },
    {
      "cell_type": "markdown",
      "source": [
        "## Standardize Data"
      ],
      "metadata": {},
      "id": "79e8ee58-ee72-4ae6-9177-bb78c9357dc7"
    },
    {
      "cell_type": "code",
      "source": [
        "preds = post_utils.standardize_data(data_config, iso_code, source=\"preds\", uid=\"UID\")\n",
        "preds = preds.reset_index(drop=True)\n",
        "preds.to_parquet(f'{iso_code}_validator_meta.parquet')\n",
        "preds.head(3)"
      ],
      "outputs": [],
      "execution_count": null,
      "metadata": {
        "scrolled": true,
        "gather": {
          "logged": 1733316541029
        }
      },
      "id": "19d5eafc-a222-4ec9-a416-5f8acf0217a2"
    }
  ],
  "metadata": {
    "kernelspec": {
      "name": "gigav3",
      "language": "python",
      "display_name": "gigav3"
    },
    "language_info": {
      "name": "python",
      "version": "3.10.13",
      "mimetype": "text/x-python",
      "codemirror_mode": {
        "name": "ipython",
        "version": 3
      },
      "pygments_lexer": "ipython3",
      "nbconvert_exporter": "python",
      "file_extension": ".py"
    },
    "microsoft": {
      "ms_spell_check": {
        "ms_spell_check_language": "en"
      },
      "host": {
        "AzureML": {
          "notebookHasBeenCompleted": true
        }
      }
    },
    "kernel_info": {
      "name": "gigav3"
    },
    "nteract": {
      "version": "nteract-front-end@1.0.0"
    }
  },
  "nbformat": 4,
  "nbformat_minor": 5
}