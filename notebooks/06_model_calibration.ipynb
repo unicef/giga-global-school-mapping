{
 "cells": [
  {
   "cell_type": "markdown",
   "id": "10270359-5c8e-4c58-8caf-bd6ae49f17e0",
   "metadata": {},
   "source": [
    "## Imports and Setup"
   ]
  },
  {
   "cell_type": "code",
   "execution_count": null,
   "id": "d0c8b317-49f4-4969-bcfb-7a9aad3c6994",
   "metadata": {},
   "outputs": [],
   "source": [
    "import os\n",
    "import sys\n",
    "sys.path.insert(0, \"../utils/\")\n",
    "import config_utils\n",
    "import calib_utils\n",
    "import post_utils\n",
    "import calibrators\n",
    "\n",
    "import pandas as pd\n",
    "import numpy as np\n",
    "import geopandas as gpd\n",
    "\n",
    "pd.set_option('mode.chained_assignment', None)\n",
    "%load_ext autoreload\n",
    "%autoreload 2"
   ]
  },
  {
   "cell_type": "markdown",
   "id": "bee1edd9-48d2-4d61-9a38-7d8b52fde6d8",
   "metadata": {},
   "source": [
    "## Load Configuration"
   ]
  },
  {
   "cell_type": "code",
   "execution_count": 42,
   "id": "90a7bfbd-59fb-414f-a091-afa75347f3a1",
   "metadata": {},
   "outputs": [],
   "source": [
    "iso_code = \"RWA\"\n",
    "config_file = \"configs/cnn_configs/convnext_base_v01.yaml\"\n",
    "\n",
    "cwd = os.path.dirname(os.getcwd())\n",
    "config = config_utils.load_config(os.path.join(cwd, config_file))\n",
    "config[\"iso_codes\"] = [iso_code]\n",
    "\n",
    "config_name = f\"{iso_code}_{config['config_name']}\"\n",
    "exp_dir = os.path.join(cwd, config[\"exp_dir\"], config[\"project\"], config_name)"
   ]
  },
  {
   "cell_type": "markdown",
   "id": "2e2ff5fa-566d-4e32-86d4-b182419fb995",
   "metadata": {},
   "source": [
    "## Temperature Scaling"
   ]
  },
  {
   "cell_type": "code",
   "execution_count": 43,
   "id": "0e465126-f8d1-429a-88c8-748d81b32952",
   "metadata": {},
   "outputs": [
    {
     "name": "stderr",
     "output_type": "stream",
     "text": [
      "INFO:root:Calibrating the model...\n",
      "100%|███████████████████████████████████████████████████████████████████████████████████| 23/23 [00:28<00:00,  1.25s/it]\n"
     ]
    },
    {
     "name": "stdout",
     "output_type": "stream",
     "text": [
      "Before temperature (val) - NLL: 0.1463, ECE: 0.0364\n"
     ]
    },
    {
     "name": "stderr",
     "output_type": "stream",
     "text": [
      "100%|███████████████████████████████████████████████████████████████████████████████████| 23/23 [00:24<00:00,  1.06s/it]\n"
     ]
    },
    {
     "name": "stdout",
     "output_type": "stream",
     "text": [
      "Before temperature (test) - NLL: 0.1386, ECE: 0.0457\n"
     ]
    },
    {
     "name": "stderr",
     "output_type": "stream",
     "text": [
      "INFO:root:Device: cpu\n",
      "INFO:root:Model file /home/itingzon.unicef/giga/exp/GIGAv4/RWA_convnext_base_v01/RWA_convnext_base_v01_tempscaling.pth successfully loaded.\n"
     ]
    },
    {
     "name": "stdout",
     "output_type": "stream",
     "text": [
      "Optimal temperature: 0.825\n",
      "After temperature (val) - NLL: 0.1401, ECE: 0.0182\n",
      "After temperature (test) - NLL: 0.1291, ECE: 0.0234\n"
     ]
    },
    {
     "name": "stderr",
     "output_type": "stream",
     "text": [
      "100%|███████████████████████████████████████████████████████████████████████████████████| 23/23 [00:19<00:00,  1.17it/s]\n",
      "INFO:root:Val Loss: 9.747790979302447 {'val_ap': 0.9845563712412786, 'val_auprc': 0.9845563712412786, 'val_roc_auc': 0.9880501192537655, 'val_brier_score': 0.035101471593153445, 'val_p_auprc': 0.0908203022591636, 'val_optim_threshold': 0.04534527286887169, 'val_fbeta_score_optim': 94.79409479409479, 'val_precision_score_optim': 90.03690036900369, 'val_recall_score_optim': 96.06299212598425, 'val_f1_score_optim': 92.95238095238095, 'val_overall_accuracy_optim': 94.97282608695652, 'val_balanced_accuracy_optim': 95.23066618747345, 'val_fbeta_score': 92.10526315789474, 'val_precision_score': 97.05882352941177, 'val_recall_score': 90.94488188976378, 'val_f1_score': 93.90243902439023, 'val_overall_accuracy': 95.92391304347827, 'val_balanced_accuracy': 94.74629986604373, 'val_loss': 9.747790979302447}\n",
      "100%|███████████████████████████████████████████████████████████████████████████████████| 23/23 [00:17<00:00,  1.32it/s]\n",
      "INFO:root:Test Loss: 9.2043573545373 {'test_ap': 0.9858114322536515, 'test_auprc': 0.9858114322536515, 'test_roc_auc': 0.9931003090486572, 'test_brier_score': 0.031640810944701385, 'test_p_auprc': 0.08637710703402257, 'test_optim_threshold': 0.08630973845720291, 'test_fbeta_score_optim': 96.7503692762186, 'test_precision_score_optim': 91.6083916083916, 'test_recall_score_optim': 98.12734082397003, 'test_f1_score_optim': 94.75587703435804, 'test_overall_accuracy_optim': 96.05978260869566, 'test_balanced_accuracy_optim': 96.50503501752873, 'test_fbeta_score': 94.21921921921921, 'test_precision_score': 95.07575757575758, 'test_recall_score': 94.00749063670412, 'test_f1_score': 94.53860640301318, 'test_overall_accuracy': 96.05978260869566, 'test_balanced_accuracy': 95.61781781302156, 'test_loss': 9.2043573545373}\n"
     ]
    }
   ],
   "source": [
    "calibrator = calib_utils.temperature_check(\n",
    "    iso_code, config, exp_dir, lr=0.01, save_model=False\n",
    ")\n",
    "calib_utils.save_results(\n",
    "    calibrator, iso_code, config, exp_dir, beta=2, calibration=\"tempscaling\"\n",
    ")"
   ]
  },
  {
   "cell_type": "markdown",
   "id": "bc4465d7-65a8-43d1-9c62-22a0d21bc001",
   "metadata": {},
   "source": [
    "## Isotonic Regression"
   ]
  },
  {
   "cell_type": "code",
   "execution_count": 44,
   "id": "a8262d1f-47b4-4958-9bf4-557c98300285",
   "metadata": {},
   "outputs": [
    {
     "name": "stderr",
     "output_type": "stream",
     "text": [
      "INFO:root:Model saved to /home/itingzon.unicef/giga/exp/GIGAv4/RWA_convnext_base_v01/RWA_convnext_base_v01_isoreg.pkl\n"
     ]
    }
   ],
   "source": [
    "calibrator = calibrators.isotonic_regressor(\n",
    "    iso_code, config, output=None, n_bins=10\n",
    ")\n",
    "calib_utils.save_results(\n",
    "    calibrator, iso_code, config, exp_dir, beta=2, calibration=\"isoreg\"\n",
    ")"
   ]
  }
 ],
 "metadata": {
  "kernelspec": {
   "display_name": "giga2",
   "language": "python",
   "name": "giga2"
  },
  "language_info": {
   "codemirror_mode": {
    "name": "ipython",
    "version": 3
   },
   "file_extension": ".py",
   "mimetype": "text/x-python",
   "name": "python",
   "nbconvert_exporter": "python",
   "pygments_lexer": "ipython3",
   "version": "3.10.13"
  }
 },
 "nbformat": 4,
 "nbformat_minor": 5
}
