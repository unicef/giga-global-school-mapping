{
 "cells": [
  {
   "cell_type": "markdown",
   "id": "25978520-4859-4a1c-82c4-29e85c398716",
   "metadata": {},
   "source": [
    "## Imports and Setup"
   ]
  },
  {
   "cell_type": "code",
   "execution_count": 1,
   "id": "d221a95c-e89a-4475-bef7-ed9531e4d002",
   "metadata": {},
   "outputs": [],
   "source": [
    "import matplotlib.pyplot as plt\n",
    "import numpy as np\n",
    "import pandas as pd\n",
    "import geopandas as gpd\n",
    "import logging\n",
    "import joblib\n",
    "import torch\n",
    "\n",
    "import os \n",
    "os.chdir('/home/itingzon.unicef/giga')\n",
    "from utils import calib_utils\n",
    "from utils import post_utils\n",
    "from utils import config_utils\n",
    "from utils import eval_utils\n",
    "from utils import model_utils\n",
    "\n",
    "%load_ext autoreload\n",
    "%autoreload 2"
   ]
  },
  {
   "cell_type": "markdown",
   "id": "2a34ee8e-4d86-4283-a3e3-e39342dd4b6e",
   "metadata": {},
   "source": [
    "## Load Config Files"
   ]
  },
  {
   "cell_type": "code",
   "execution_count": 40,
   "id": "b94ba1b8-3d61-4d2e-9513-28062c03cf35",
   "metadata": {},
   "outputs": [],
   "source": [
    "iso_code = \"AF\"\n",
    "data_config_file = os.path.join(os.getcwd(), \"configs/data_configs/data_config_ISO_AF.yaml\")\n",
    "config_file = os.path.join(os.getcwd(), \"configs/best_models.yaml\")\n",
    "data_config = config_utils.load_config(data_config_file)\n",
    "config = config_utils.create_config(config_file)"
   ]
  },
  {
   "cell_type": "markdown",
   "id": "9837ba20-2bde-4c86-b01a-fde08dd2777f",
   "metadata": {},
   "source": [
    "## Load Validation Results"
   ]
  },
  {
   "cell_type": "code",
   "execution_count": 41,
   "id": "14d71530-2e6f-44fb-8767-c1608bbcdd22",
   "metadata": {},
   "outputs": [
    {
     "name": "stdout",
     "output_type": "stream",
     "text": [
      "(10976, 20)\n"
     ]
    },
    {
     "data": {
      "text/html": [
       "<div>\n",
       "<style scoped>\n",
       "    .dataframe tbody tr th:only-of-type {\n",
       "        vertical-align: middle;\n",
       "    }\n",
       "\n",
       "    .dataframe tbody tr th {\n",
       "        vertical-align: top;\n",
       "    }\n",
       "\n",
       "    .dataframe thead th {\n",
       "        text-align: right;\n",
       "    }\n",
       "</style>\n",
       "<table border=\"1\" class=\"dataframe\">\n",
       "  <thead>\n",
       "    <tr style=\"text-align: right;\">\n",
       "      <th></th>\n",
       "      <th>UID</th>\n",
       "      <th>source</th>\n",
       "      <th>iso</th>\n",
       "      <th>country</th>\n",
       "      <th>region</th>\n",
       "      <th>subregion</th>\n",
       "      <th>name</th>\n",
       "      <th>giga_id_school</th>\n",
       "      <th>clean</th>\n",
       "      <th>validated</th>\n",
       "      <th>class</th>\n",
       "      <th>ghsl_smod</th>\n",
       "      <th>rurban</th>\n",
       "      <th>dataset</th>\n",
       "      <th>geometry</th>\n",
       "      <th>validated_x</th>\n",
       "      <th>validated_y</th>\n",
       "      <th>y_true</th>\n",
       "      <th>y_preds</th>\n",
       "      <th>y_probs</th>\n",
       "    </tr>\n",
       "  </thead>\n",
       "  <tbody>\n",
       "    <tr>\n",
       "      <th>0</th>\n",
       "      <td>UNICEF-BEN-SCHOOL-00000042</td>\n",
       "      <td>UNICEF</td>\n",
       "      <td>BEN</td>\n",
       "      <td>Benin</td>\n",
       "      <td>Africa</td>\n",
       "      <td>Sub-Saharan Africa</td>\n",
       "      <td>NaN</td>\n",
       "      <td>42</td>\n",
       "      <td>0</td>\n",
       "      <td>0.0</td>\n",
       "      <td>school</td>\n",
       "      <td>13</td>\n",
       "      <td>rural</td>\n",
       "      <td>test</td>\n",
       "      <td>POINT (212257.24947241327 921729.4117069786)</td>\n",
       "      <td>NaN</td>\n",
       "      <td>NaN</td>\n",
       "      <td>1</td>\n",
       "      <td>1</td>\n",
       "      <td>0.954234</td>\n",
       "    </tr>\n",
       "    <tr>\n",
       "      <th>1</th>\n",
       "      <td>UNICEF-BEN-SCHOOL-00000044</td>\n",
       "      <td>UNICEF</td>\n",
       "      <td>BEN</td>\n",
       "      <td>Benin</td>\n",
       "      <td>Africa</td>\n",
       "      <td>Sub-Saharan Africa</td>\n",
       "      <td>NaN</td>\n",
       "      <td>44</td>\n",
       "      <td>0</td>\n",
       "      <td>0.0</td>\n",
       "      <td>school</td>\n",
       "      <td>12</td>\n",
       "      <td>rural</td>\n",
       "      <td>test</td>\n",
       "      <td>POINT (102457.09995953638 1270201.0789103)</td>\n",
       "      <td>NaN</td>\n",
       "      <td>NaN</td>\n",
       "      <td>1</td>\n",
       "      <td>1</td>\n",
       "      <td>0.963906</td>\n",
       "    </tr>\n",
       "    <tr>\n",
       "      <th>2</th>\n",
       "      <td>UNICEF-BEN-SCHOOL-00000049</td>\n",
       "      <td>UNICEF</td>\n",
       "      <td>BEN</td>\n",
       "      <td>Benin</td>\n",
       "      <td>Africa</td>\n",
       "      <td>Sub-Saharan Africa</td>\n",
       "      <td>NaN</td>\n",
       "      <td>49</td>\n",
       "      <td>0</td>\n",
       "      <td>0.0</td>\n",
       "      <td>school</td>\n",
       "      <td>12</td>\n",
       "      <td>rural</td>\n",
       "      <td>test</td>\n",
       "      <td>POINT (165572.35879668887 1267371.8041139916)</td>\n",
       "      <td>NaN</td>\n",
       "      <td>NaN</td>\n",
       "      <td>1</td>\n",
       "      <td>1</td>\n",
       "      <td>0.953684</td>\n",
       "    </tr>\n",
       "  </tbody>\n",
       "</table>\n",
       "</div>"
      ],
      "text/plain": [
       "                          UID  source  iso country  region  \\\n",
       "0  UNICEF-BEN-SCHOOL-00000042  UNICEF  BEN   Benin  Africa   \n",
       "1  UNICEF-BEN-SCHOOL-00000044  UNICEF  BEN   Benin  Africa   \n",
       "2  UNICEF-BEN-SCHOOL-00000049  UNICEF  BEN   Benin  Africa   \n",
       "\n",
       "            subregion name giga_id_school  clean  validated   class  \\\n",
       "0  Sub-Saharan Africa  NaN             42      0        0.0  school   \n",
       "1  Sub-Saharan Africa  NaN             44      0        0.0  school   \n",
       "2  Sub-Saharan Africa  NaN             49      0        0.0  school   \n",
       "\n",
       "   ghsl_smod rurban dataset                                       geometry  \\\n",
       "0         13  rural    test   POINT (212257.24947241327 921729.4117069786)   \n",
       "1         12  rural    test     POINT (102457.09995953638 1270201.0789103)   \n",
       "2         12  rural    test  POINT (165572.35879668887 1267371.8041139916)   \n",
       "\n",
       "   validated_x  validated_y  y_true  y_preds   y_probs  \n",
       "0          NaN          NaN       1        1  0.954234  \n",
       "1          NaN          NaN       1        1  0.963906  \n",
       "2          NaN          NaN       1        1  0.953684  "
      ]
     },
     "execution_count": 41,
     "metadata": {},
     "output_type": "execute_result"
    }
   ],
   "source": [
    "val_output = model_utils.ensemble_models(iso_code, config, phase=\"val\")\n",
    "test_output = model_utils.ensemble_models(iso_code, config, phase=\"test\")\n",
    "print(test_output.shape)\n",
    "test_output.head(3)"
   ]
  },
  {
   "cell_type": "markdown",
   "id": "fa1095cb-1d49-46ba-b839-0069296f0219",
   "metadata": {},
   "source": [
    "## Load Evaluation"
   ]
  },
  {
   "cell_type": "code",
   "execution_count": 42,
   "id": "67a4b575-1b0a-401b-9743-8f6fdffc96a2",
   "metadata": {},
   "outputs": [
    {
     "data": {
      "text/plain": [
       "{'auprc': 0.9840082448249253,\n",
       " 'ap': 0.9840082448249253,\n",
       " 'roc_auc': 0.9910365109843396,\n",
       " 'brier_score': 0.03671234263664824,\n",
       " 'precision_scores_': array([0.33928571, 0.33931663, 0.33934755, ..., 1.        , 1.        ,\n",
       "        1.        ]),\n",
       " 'recall_scores_': array([1.00000000e+00, 1.00000000e+00, 1.00000000e+00, ...,\n",
       "        5.37056928e-04, 2.68528464e-04, 0.00000000e+00]),\n",
       " 'thresholds_': array([0.04527209, 0.04611682, 0.04631152, ..., 0.96759715, 0.9684817 ,\n",
       "        0.96898731]),\n",
       " 'optim_threshold': 0.6060754756132761,\n",
       " 'fbeta_score': 94.58681649993147,\n",
       " 'precision_score': 96.58550237895327,\n",
       " 'recall_score': 92.66917293233082,\n",
       " 'overall_accuracy': 96.40123906705539,\n",
       " 'balanced_accuracy': 95.4934391964467}"
      ]
     },
     "execution_count": 42,
     "metadata": {},
     "output_type": "execute_result"
    }
   ],
   "source": [
    "val_results = eval_utils.evaluate(\n",
    "    y_true=val_output[\"y_true\"], \n",
    "    y_pred=val_output[\"y_preds\"], \n",
    "    y_prob=val_output[\"y_probs\"], \n",
    "    pos_label=1, \n",
    "    neg_label=0,\n",
    "    beta=1\n",
    ")\n",
    "test_results = eval_utils.evaluate(\n",
    "    y_true=test_output[\"y_true\"], \n",
    "    y_pred=test_output[\"y_preds\"], \n",
    "    y_prob=test_output[\"y_probs\"], \n",
    "    pos_label=1, \n",
    "    neg_label=0,\n",
    "    beta=1,\n",
    "    optim_threshold=val_results[\"optim_threshold\"]\n",
    ")\n",
    "test_results"
   ]
  },
  {
   "cell_type": "code",
   "execution_count": 43,
   "id": "b8e15b92-0d5e-410f-96e3-5e78f295f1d4",
   "metadata": {},
   "outputs": [
    {
     "data": {
      "text/plain": [
       "{'auprc': 0.9931281956403224,\n",
       " 'ap': 0.9931281956403224,\n",
       " 'roc_auc': 0.9966697382672939,\n",
       " 'brier_score': 0.031659480039514146,\n",
       " 'precision_scores_': array([0.33531409, 0.33559898, 0.33588435, ..., 1.        , 1.        ,\n",
       "        1.        ]),\n",
       " 'recall_scores_': array([1.        , 1.        , 1.        , ..., 0.00506329, 0.00253165,\n",
       "        0.        ]),\n",
       " 'thresholds_': array([0.04631152, 0.050191  , 0.05019632, ..., 0.9628817 , 0.96293869,\n",
       "        0.96325119]),\n",
       " 'optim_threshold': 0.6060754756132761,\n",
       " 'fbeta_score': 95.11698880976603,\n",
       " 'precision_score': 96.89119170984456,\n",
       " 'recall_score': 94.68354430379748,\n",
       " 'overall_accuracy': 97.19864176570458,\n",
       " 'balanced_accuracy': 96.57548862699453}"
      ]
     },
     "execution_count": 43,
     "metadata": {},
     "output_type": "execute_result"
    }
   ],
   "source": [
    "test_output_sub = test_output[test_output[\"iso\"] == \"ZWE\"]\n",
    "test_results = eval_utils.evaluate(\n",
    "    y_true=test_output_sub[\"y_true\"], \n",
    "    y_pred=test_output_sub[\"y_preds\"], \n",
    "    y_prob=test_output_sub[\"y_probs\"], \n",
    "    pos_label=1, \n",
    "    neg_label=0,\n",
    "    beta=2,\n",
    "    optim_threshold=val_results[\"optim_threshold\"]\n",
    ")\n",
    "test_results"
   ]
  },
  {
   "cell_type": "markdown",
   "id": "b6aea9d4-ffbf-435a-9475-101d01ee6299",
   "metadata": {},
   "source": [
    "## Plot Results"
   ]
  },
  {
   "cell_type": "code",
   "execution_count": 44,
   "id": "5a95add6-082a-46d9-8f32-aec2dd46fb86",
   "metadata": {},
   "outputs": [
    {
     "data": {
      "image/png": "[encoded data removed]",
      "text/plain": [
       "<Figure size 500x300 with 1 Axes>"
      ]
     },
     "metadata": {},
     "output_type": "display_data"
    }
   ],
   "source": [
    "from sklearn.metrics import PrecisionRecallDisplay\n",
    "fig, ax = plt.subplots(1, 1, figsize=(5, 3))\n",
    "disp = PrecisionRecallDisplay(\n",
    "    precision=test_results['precision_scores_'], \n",
    "    recall=test_results['recall_scores_']\n",
    ")\n",
    "disp.plot(ax=ax);"
   ]
  },
  {
   "cell_type": "code",
   "execution_count": 45,
   "id": "305b7ecb-8120-46e6-9ea1-0fb92d67dde5",
   "metadata": {},
   "outputs": [
    {
     "data": {
      "image/png": "[encoded data removed]",
      "text/plain": [
       "<Figure size 500x300 with 1 Axes>"
      ]
     },
     "metadata": {},
     "output_type": "display_data"
    }
   ],
   "source": [
    "_, test_fscores = eval_utils.get_optimal_threshold(\n",
    "    test_results['precision_scores_'], \n",
    "    test_results['recall_scores_'], \n",
    "    test_results['thresholds_'], \n",
    "    beta=1\n",
    ")\n",
    "fig, ax = plt.subplots(figsize=(5, 3))\n",
    "ax.plot(test_results['thresholds_'], test_fscores[:-1], \"b--\");"
   ]
  },
  {
   "cell_type": "code",
   "execution_count": 46,
   "id": "9c5fda77-ce1e-4591-ad07-967244a64efa",
   "metadata": {},
   "outputs": [
    {
     "data": {
      "image/png": "[encoded data removed]",
      "text/plain": [
       "<Figure size 500x300 with 1 Axes>"
      ]
     },
     "metadata": {},
     "output_type": "display_data"
    }
   ],
   "source": [
    "fig, ax = plt.subplots(figsize=(5, 3))\n",
    "ax.plot(test_results['thresholds_'], test_results['precision_scores_'][:-1], \"b--\")\n",
    "ax.plot(test_results['thresholds_'], test_results['recall_scores_'][:-1], \"g--\");"
   ]
  }
 ],
 "metadata": {
  "kernelspec": {
   "display_name": "giga2",
   "language": "python",
   "name": "giga2"
  },
  "language_info": {
   "codemirror_mode": {
    "name": "ipython",
    "version": 3
   },
   "file_extension": ".py",
   "mimetype": "text/x-python",
   "name": "python",
   "nbconvert_exporter": "python",
   "pygments_lexer": "ipython3",
   "version": "3.10.13"
  }
 },
 "nbformat": 4,
 "nbformat_minor": 5
}
