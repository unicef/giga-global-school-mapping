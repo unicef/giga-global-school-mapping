{
 "cells": [
  {
   "cell_type": "markdown",
   "id": "25978520-4859-4a1c-82c4-29e85c398716",
   "metadata": {},
   "source": [
    "## Imports and Setup"
   ]
  },
  {
   "cell_type": "code",
   "execution_count": null,
   "id": "91daab15-1f6c-48c0-a5d8-a40ef3b8bf82",
   "metadata": {},
   "outputs": [],
   "source": [
    "import matplotlib.pyplot as plt\n",
    "import numpy as np\n",
    "import pandas as pd\n",
    "import geopandas as gpd\n",
    "import logging\n",
    "import joblib\n",
    "import torch\n",
    "\n",
    "import os \n",
    "os.chdir('/home/itingzon.unicef/giga')\n",
    "from utils import calib_utils\n",
    "from utils import post_utils\n",
    "from utils import config_utils\n",
    "from utils import eval_utils\n",
    "from utils import model_utils\n",
    "\n",
    "%load_ext autoreload\n",
    "%autoreload 2"
   ]
  },
  {
   "cell_type": "markdown",
   "id": "2a34ee8e-4d86-4283-a3e3-e39342dd4b6e",
   "metadata": {},
   "source": [
    "## Load Config Files"
   ]
  },
  {
   "cell_type": "code",
   "execution_count": 113,
   "id": "b94ba1b8-3d61-4d2e-9513-28062c03cf35",
   "metadata": {},
   "outputs": [],
   "source": [
    "iso_code = \"SEN\"\n",
    "data_config_file = os.path.join(os.getcwd(), \"configs/data_configs/data_config_ISO_AS.yaml\")\n",
    "config_file = os.path.join(os.getcwd(), \"configs/best_models.yaml\")\n",
    "data_config = config_utils.load_config(data_config_file)\n",
    "config = config_utils.create_config(config_file)"
   ]
  },
  {
   "cell_type": "markdown",
   "id": "9837ba20-2bde-4c86-b01a-fde08dd2777f",
   "metadata": {},
   "source": [
    "## Load Validation Results"
   ]
  },
  {
   "cell_type": "code",
   "execution_count": 114,
   "id": "82fadf04-d38c-4249-89fd-f7ac17e0bbc6",
   "metadata": {},
   "outputs": [
    {
     "name": "stdout",
     "output_type": "stream",
     "text": [
      "(1888, 18)\n"
     ]
    },
    {
     "data": {
      "text/html": [
       "<div>\n",
       "<style scoped>\n",
       "    .dataframe tbody tr th:only-of-type {\n",
       "        vertical-align: middle;\n",
       "    }\n",
       "\n",
       "    .dataframe tbody tr th {\n",
       "        vertical-align: top;\n",
       "    }\n",
       "\n",
       "    .dataframe thead th {\n",
       "        text-align: right;\n",
       "    }\n",
       "</style>\n",
       "<table border=\"1\" class=\"dataframe\">\n",
       "  <thead>\n",
       "    <tr style=\"text-align: right;\">\n",
       "      <th></th>\n",
       "      <th>UID</th>\n",
       "      <th>source</th>\n",
       "      <th>iso</th>\n",
       "      <th>country</th>\n",
       "      <th>region</th>\n",
       "      <th>subregion</th>\n",
       "      <th>name</th>\n",
       "      <th>giga_id_school</th>\n",
       "      <th>clean</th>\n",
       "      <th>validated</th>\n",
       "      <th>class</th>\n",
       "      <th>ghsl_smod</th>\n",
       "      <th>rurban</th>\n",
       "      <th>dataset</th>\n",
       "      <th>geometry</th>\n",
       "      <th>y_true</th>\n",
       "      <th>y_preds</th>\n",
       "      <th>y_probs</th>\n",
       "    </tr>\n",
       "  </thead>\n",
       "  <tbody>\n",
       "    <tr>\n",
       "      <th>0</th>\n",
       "      <td>OSM-SEN-SCHOOL-00000075</td>\n",
       "      <td>OSM</td>\n",
       "      <td>SEN</td>\n",
       "      <td>Senegal</td>\n",
       "      <td>Africa</td>\n",
       "      <td>Sub-Saharan Africa</td>\n",
       "      <td>Ecole d'Elinkine</td>\n",
       "      <td>NaN</td>\n",
       "      <td>0</td>\n",
       "      <td>0.0</td>\n",
       "      <td>school</td>\n",
       "      <td>13</td>\n",
       "      <td>rural</td>\n",
       "      <td>test</td>\n",
       "      <td>POINT (-1645442.8880473897 1541725.5277999148)</td>\n",
       "      <td>1</td>\n",
       "      <td>1</td>\n",
       "      <td>0.953690</td>\n",
       "    </tr>\n",
       "    <tr>\n",
       "      <th>1</th>\n",
       "      <td>OSM-SEN-SCHOOL-00000161</td>\n",
       "      <td>OSM</td>\n",
       "      <td>SEN</td>\n",
       "      <td>Senegal</td>\n",
       "      <td>Africa</td>\n",
       "      <td>Sub-Saharan Africa</td>\n",
       "      <td>Ecole 1</td>\n",
       "      <td>NaN</td>\n",
       "      <td>0</td>\n",
       "      <td>0.0</td>\n",
       "      <td>school</td>\n",
       "      <td>23</td>\n",
       "      <td>urban</td>\n",
       "      <td>test</td>\n",
       "      <td>POINT (-1319954.9528390914 1954650.5035527328)</td>\n",
       "      <td>1</td>\n",
       "      <td>1</td>\n",
       "      <td>0.960500</td>\n",
       "    </tr>\n",
       "    <tr>\n",
       "      <th>2</th>\n",
       "      <td>OSM-SEN-SCHOOL-00000185</td>\n",
       "      <td>OSM</td>\n",
       "      <td>SEN</td>\n",
       "      <td>Senegal</td>\n",
       "      <td>Africa</td>\n",
       "      <td>Sub-Saharan Africa</td>\n",
       "      <td>Ecole Elémentaire Tivaouane 13</td>\n",
       "      <td>NaN</td>\n",
       "      <td>0</td>\n",
       "      <td>0.0</td>\n",
       "      <td>school</td>\n",
       "      <td>30</td>\n",
       "      <td>urban</td>\n",
       "      <td>test</td>\n",
       "      <td>POINT (-1648856.406144037 1841900.0392739468)</td>\n",
       "      <td>1</td>\n",
       "      <td>1</td>\n",
       "      <td>0.941142</td>\n",
       "    </tr>\n",
       "  </tbody>\n",
       "</table>\n",
       "</div>"
      ],
      "text/plain": [
       "                       UID source  iso  country  region           subregion  \\\n",
       "0  OSM-SEN-SCHOOL-00000075    OSM  SEN  Senegal  Africa  Sub-Saharan Africa   \n",
       "1  OSM-SEN-SCHOOL-00000161    OSM  SEN  Senegal  Africa  Sub-Saharan Africa   \n",
       "2  OSM-SEN-SCHOOL-00000185    OSM  SEN  Senegal  Africa  Sub-Saharan Africa   \n",
       "\n",
       "                             name giga_id_school  clean  validated   class  \\\n",
       "0                Ecole d'Elinkine            NaN      0        0.0  school   \n",
       "1                         Ecole 1            NaN      0        0.0  school   \n",
       "2  Ecole Elémentaire Tivaouane 13            NaN      0        0.0  school   \n",
       "\n",
       "   ghsl_smod rurban dataset                                        geometry  \\\n",
       "0         13  rural    test  POINT (-1645442.8880473897 1541725.5277999148)   \n",
       "1         23  urban    test  POINT (-1319954.9528390914 1954650.5035527328)   \n",
       "2         30  urban    test   POINT (-1648856.406144037 1841900.0392739468)   \n",
       "\n",
       "   y_true  y_preds   y_probs  \n",
       "0       1        1  0.953690  \n",
       "1       1        1  0.960500  \n",
       "2       1        1  0.941142  "
      ]
     },
     "execution_count": 114,
     "metadata": {},
     "output_type": "execute_result"
    }
   ],
   "source": [
    "val_output = model_utils.ensemble_models(iso_code, config, phase=\"val\")\n",
    "test_output = model_utils.ensemble_models(iso_code, config, phase=\"test\")\n",
    "print(test_output.shape)\n",
    "test_output.head(3)"
   ]
  },
  {
   "cell_type": "markdown",
   "id": "fa1095cb-1d49-46ba-b839-0069296f0219",
   "metadata": {},
   "source": [
    "## Load Evaluation"
   ]
  },
  {
   "cell_type": "code",
   "execution_count": 115,
   "id": "67a4b575-1b0a-401b-9743-8f6fdffc96a2",
   "metadata": {},
   "outputs": [],
   "source": [
    "val_results = eval_utils.evaluate(\n",
    "    y_true=val_output[\"y_true\"], \n",
    "    y_pred=val_output[\"y_preds\"], \n",
    "    y_prob=val_output[\"y_probs\"], \n",
    "    pos_label=1, \n",
    "    neg_label=0,\n",
    "    beta=2\n",
    ")\n",
    "test_results = eval_utils.evaluate(\n",
    "    y_true=test_output[\"y_true\"], \n",
    "    y_pred=test_output[\"y_preds\"], \n",
    "    y_prob=test_output[\"y_probs\"], \n",
    "    pos_label=1, \n",
    "    neg_label=0,\n",
    "    beta=2,\n",
    "    optim_threshold=val_results[\"optim_threshold\"]\n",
    ")\n",
    "test_results;"
   ]
  },
  {
   "cell_type": "code",
   "execution_count": 64,
   "id": "5f421c40-f0b2-4fda-b5fb-b60617909d09",
   "metadata": {},
   "outputs": [
    {
     "data": {
      "text/plain": [
       "{'auprc': 0.9942724347749214,\n",
       " 'ap': 0.9942724347749214,\n",
       " 'roc_auc': 0.996959187363369,\n",
       " 'brier_score': 0.027327664079277038,\n",
       " 'precision_scores_': array([0.34188433, 0.34204386, 0.34220355, ..., 1.        , 1.        ,\n",
       "        1.        ]),\n",
       " 'recall_scores_': array([1.        , 1.        , 1.        , ..., 0.00272851, 0.00136426,\n",
       "        0.        ]),\n",
       " 'thresholds_': array([0.03351351, 0.03559736, 0.03569594, ..., 0.97537426, 0.9766132 ,\n",
       "        0.9781913 ]),\n",
       " 'optim_threshold': 0.5,\n",
       " 'fbeta_score': 95.50408719346049,\n",
       " 'precision_score': 95.37414965986395,\n",
       " 'recall_score': 95.63437926330151,\n",
       " 'overall_accuracy': 96.92164179104478,\n",
       " 'balanced_accuracy': 96.61237035454232}"
      ]
     },
     "execution_count": 64,
     "metadata": {},
     "output_type": "execute_result"
    }
   ],
   "source": [
    "test_results = eval_utils.evaluate(\n",
    "    y_true=test_output[\"y_true\"], \n",
    "    y_pred=test_output[\"y_preds\"], \n",
    "    y_prob=test_output[\"y_probs\"], \n",
    "    pos_label=1, \n",
    "    neg_label=0,\n",
    "    beta=1,\n",
    "    optim_threshold=0.5\n",
    ")\n",
    "test_results"
   ]
  },
  {
   "cell_type": "code",
   "execution_count": 65,
   "id": "b3ff587d-dd91-4654-835c-4ca1560a14b1",
   "metadata": {},
   "outputs": [
    {
     "data": {
      "text/html": [
       "<div>\n",
       "<style scoped>\n",
       "    .dataframe tbody tr th:only-of-type {\n",
       "        vertical-align: middle;\n",
       "    }\n",
       "\n",
       "    .dataframe tbody tr th {\n",
       "        vertical-align: top;\n",
       "    }\n",
       "\n",
       "    .dataframe thead th {\n",
       "        text-align: right;\n",
       "    }\n",
       "</style>\n",
       "<table border=\"1\" class=\"dataframe\">\n",
       "  <thead>\n",
       "    <tr style=\"text-align: right;\">\n",
       "      <th></th>\n",
       "      <th>1</th>\n",
       "      <th>0</th>\n",
       "    </tr>\n",
       "  </thead>\n",
       "  <tbody>\n",
       "    <tr>\n",
       "      <th>1</th>\n",
       "      <td>701</td>\n",
       "      <td>32</td>\n",
       "    </tr>\n",
       "    <tr>\n",
       "      <th>0</th>\n",
       "      <td>34</td>\n",
       "      <td>1377</td>\n",
       "    </tr>\n",
       "  </tbody>\n",
       "</table>\n",
       "</div>"
      ],
      "text/plain": [
       "     1     0\n",
       "1  701    32\n",
       "0   34  1377"
      ]
     },
     "execution_count": 65,
     "metadata": {},
     "output_type": "execute_result"
    }
   ],
   "source": [
    "preds = [int(x) for x in list(test_output['y_probs'] > 0.5)]\n",
    "cm, cm_metrics, cm_report = eval_utils.get_confusion_matrix(\n",
    "    test_output['y_true'], preds, [1, 0]\n",
    ")\n",
    "cm"
   ]
  },
  {
   "cell_type": "code",
   "execution_count": 68,
   "id": "9273f46f-64a7-45fc-8a64-3246c7568122",
   "metadata": {},
   "outputs": [
    {
     "data": {
      "text/plain": [
       "(733, 19)"
      ]
     },
     "execution_count": 68,
     "metadata": {},
     "output_type": "execute_result"
    }
   ],
   "source": [
    "test_output[test_output['class'] == \"school\"].shape"
   ]
  },
  {
   "cell_type": "code",
   "execution_count": 43,
   "id": "a1d0224c-477d-4079-bb3a-97fd30f3d7a4",
   "metadata": {},
   "outputs": [
    {
     "name": "stdout",
     "output_type": "stream",
     "text": [
      "   precision     recall   f1_score\n",
      "0  97.728886  97.590361  97.659574\n",
      "1  95.374150  95.634379  95.504087\n"
     ]
    }
   ],
   "source": [
    "print(cm_metrics)"
   ]
  },
  {
   "cell_type": "markdown",
   "id": "1b46b7b6-ecc8-4d52-82fb-f728527364c0",
   "metadata": {},
   "source": [
    "### Per-country Regional Model Results"
   ]
  },
  {
   "cell_type": "code",
   "execution_count": null,
   "id": "41c67f7e-ebde-4485-8149-3045aedca416",
   "metadata": {},
   "outputs": [],
   "source": [
    "test_output_sub = test_output[test_output[\"iso\"] == \"ZWE\"]\n",
    "test_results = eval_utils.evaluate(\n",
    "    y_true=test_output_sub[\"y_true\"], \n",
    "    y_pred=test_output_sub[\"y_preds\"], \n",
    "    y_prob=test_output_sub[\"y_probs\"], \n",
    "    pos_label=1, \n",
    "    neg_label=0,\n",
    "    beta=2,\n",
    "    optim_threshold=val_results[\"optim_threshold\"]\n",
    ")\n",
    "test_results"
   ]
  },
  {
   "cell_type": "markdown",
   "id": "b6aea9d4-ffbf-435a-9475-101d01ee6299",
   "metadata": {},
   "source": [
    "## Plot Results"
   ]
  },
  {
   "cell_type": "code",
   "execution_count": 124,
   "id": "5a95add6-082a-46d9-8f32-aec2dd46fb86",
   "metadata": {},
   "outputs": [
    {
     "data": {
      "image/png": "[encoded data removed]",
      "text/plain": [
       "<Figure size 500x300 with 1 Axes>"
      ]
     },
     "metadata": {},
     "output_type": "display_data"
    }
   ],
   "source": [
    "from sklearn.metrics import PrecisionRecallDisplay\n",
    "fig, ax = plt.subplots(1, 1, figsize=(5, 3))\n",
    "disp = PrecisionRecallDisplay(\n",
    "    precision=test_results['precision_scores_'], \n",
    "    recall=test_results['recall_scores_']\n",
    ")\n",
    "disp.plot(ax=ax);"
   ]
  },
  {
   "cell_type": "code",
   "execution_count": 123,
   "id": "305b7ecb-8120-46e6-9ea1-0fb92d67dde5",
   "metadata": {},
   "outputs": [
    {
     "data": {
      "image/png": "[encoded data removed]",
      "text/plain": [
       "<Figure size 500x300 with 1 Axes>"
      ]
     },
     "metadata": {},
     "output_type": "display_data"
    }
   ],
   "source": [
    "_, test_fscores = eval_utils.get_optimal_threshold(\n",
    "    test_results['precision_scores_'], \n",
    "    test_results['recall_scores_'], \n",
    "    test_results['pr_thresholds'], \n",
    "    beta=1\n",
    ")\n",
    "fig, ax = plt.subplots(figsize=(5, 3))\n",
    "ax.plot(test_results['pr_thresholds'], test_fscores[:-1], \"b--\");"
   ]
  },
  {
   "cell_type": "code",
   "execution_count": 158,
   "id": "715e53ed-fa0c-4127-a6cd-b2ced6f723af",
   "metadata": {},
   "outputs": [
    {
     "data": {
      "image/png": "[encoded data removed]",
      "text/plain": [
       "<Figure size 600x400 with 2 Axes>"
      ]
     },
     "metadata": {},
     "output_type": "display_data"
    }
   ],
   "source": [
    "fig, ax = plt.subplots(figsize=(6, 4))\n",
    "ax.plot(test_results['pr_thresholds'], test_results['precision_scores_'][:-1], \"b--\")\n",
    "ax.plot(test_results['pr_thresholds'], test_results['recall_scores_'][:-1], \"g--\");\n",
    "ax.set_ylabel(\"Recall\")\n",
    "ax.yaxis.label.set_color('green')\n",
    "ax2 = ax.twinx()\n",
    "l = ax.get_ylim()\n",
    "l2 = ax2.get_ylim()\n",
    "f = lambda x : l2[0]+(x-l[0])/(l[1]-l[0])*(l2[1]-l2[0])\n",
    "ticks = f(ax.get_yticks())\n",
    "ax2.yaxis.set_major_locator(matplotlib.ticker.FixedLocator(ticks))\n",
    "ax2.set_yticklabels(ax.get_yticklabels())\n",
    "ax2.set_ylabel(\"Precision\", rotation=270, labelpad=15)\n",
    "ax2.yaxis.label.set_color('blue')\n",
    "ax2.yaxis.set_label_position(\"right\")\n",
    "ax2.yaxis.tick_right()\n",
    "ax.set_xlabel(\"Probability Threshold\")\n",
    "loc = plticker.MultipleLocator(base=0.1) # this locator puts ticks at regular intervals\n",
    "ax.xaxis.set_major_locator(loc)"
   ]
  },
  {
   "cell_type": "code",
   "execution_count": 159,
   "id": "14e92e59-d8c9-4146-8b1d-73eae89c872d",
   "metadata": {},
   "outputs": [
    {
     "data": {
      "image/png": "[encoded data removed]",
      "text/plain": [
       "<Figure size 600x400 with 2 Axes>"
      ]
     },
     "metadata": {},
     "output_type": "display_data"
    }
   ],
   "source": [
    "import matplotlib\n",
    "import matplotlib.ticker as plticker\n",
    "\n",
    "fig, ax = plt.subplots(figsize=(6, 4))\n",
    "ax.plot(test_results['det_thresholds'], test_results['fnr'], \"b--\")\n",
    "ax.plot(test_results['det_thresholds'], test_results['fpr'], \"g--\");\n",
    "\n",
    "ax.set_ylabel(\"False Positive Rate (FPR)\")\n",
    "ax.yaxis.label.set_color('green')\n",
    "ax2 = ax.twinx()\n",
    "l = ax.get_ylim()\n",
    "l2 = ax2.get_ylim()\n",
    "f = lambda x : l2[0]+(x-l[0])/(l[1]-l[0])*(l2[1]-l2[0])\n",
    "ticks = f(ax.get_yticks())\n",
    "ax2.yaxis.set_major_locator(matplotlib.ticker.FixedLocator(ticks))\n",
    "ax2.set_yticklabels(ax.get_yticklabels())\n",
    "ax2.set_ylabel(\"False Negative Rate (FNR)\", rotation=270, labelpad=15)\n",
    "ax2.yaxis.label.set_color('blue')\n",
    "ax2.yaxis.set_label_position(\"right\")\n",
    "ax2.yaxis.tick_right()\n",
    "ax.set_xlabel(\"Probability Threshold\")\n",
    "\n",
    "loc = plticker.MultipleLocator(base=0.1) # this locator puts ticks at regular intervals\n",
    "ax.set_xticks([x*0.1 for x in range(0, 11)])\n",
    "ax.xaxis.set_major_locator(loc)"
   ]
  }
 ],
 "metadata": {
  "kernelspec": {
   "display_name": "giga2",
   "language": "python",
   "name": "giga2"
  },
  "language_info": {
   "codemirror_mode": {
    "name": "ipython",
    "version": 3
   },
   "file_extension": ".py",
   "mimetype": "text/x-python",
   "name": "python",
   "nbconvert_exporter": "python",
   "pygments_lexer": "ipython3",
   "version": "3.10.13"
  }
 },
 "nbformat": 4,
 "nbformat_minor": 5
}
