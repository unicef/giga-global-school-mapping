{
 "cells": [
  {
   "cell_type": "markdown",
   "id": "25978520-4859-4a1c-82c4-29e85c398716",
   "metadata": {},
   "source": [
    "## Imports and Setup"
   ]
  },
  {
   "cell_type": "code",
   "execution_count": 1,
   "id": "7bd24232-7fb9-44fd-ac73-2c76ab267a28",
   "metadata": {},
   "outputs": [],
   "source": [
    "import matplotlib.pyplot as plt\n",
    "import numpy as np\n",
    "import pandas as pd\n",
    "import geopandas as gpd\n",
    "import logging\n",
    "import joblib\n",
    "import torch\n",
    "\n",
    "import os \n",
    "os.chdir('/home/itingzon.unicef/giga')\n",
    "from utils import calib_utils\n",
    "from utils import post_utils\n",
    "from utils import config_utils\n",
    "\n",
    "%load_ext autoreload\n",
    "%autoreload 2"
   ]
  },
  {
   "cell_type": "markdown",
   "id": "2a34ee8e-4d86-4283-a3e3-e39342dd4b6e",
   "metadata": {},
   "source": [
    "## Load Config Files"
   ]
  },
  {
   "cell_type": "code",
   "execution_count": 3,
   "id": "b94ba1b8-3d61-4d2e-9513-28062c03cf35",
   "metadata": {},
   "outputs": [],
   "source": [
    "iso_code = \"SEN\"\n",
    "data_config_file = os.path.join(os.getcwd(), \"configs/data_configs/data_config_ISO_AF.yaml\")\n",
    "model_config_file = os.path.join(os.getcwd(), \"configs/cnn_configs/convnext_large_v01.yaml\")\n",
    "data_config = config_utils.load_config(data_config_file)\n",
    "model_config = config_utils.load_config(model_config_file)"
   ]
  },
  {
   "cell_type": "markdown",
   "id": "9837ba20-2bde-4c86-b01a-fde08dd2777f",
   "metadata": {},
   "source": [
    "## Load Validation Results"
   ]
  },
  {
   "cell_type": "code",
   "execution_count": 7,
   "id": "d6ea28e7-eb28-46f0-8897-2f78767a649a",
   "metadata": {},
   "outputs": [
    {
     "data": {
      "text/html": [
       "<div>\n",
       "<style scoped>\n",
       "    .dataframe tbody tr th:only-of-type {\n",
       "        vertical-align: middle;\n",
       "    }\n",
       "\n",
       "    .dataframe tbody tr th {\n",
       "        vertical-align: top;\n",
       "    }\n",
       "\n",
       "    .dataframe thead th {\n",
       "        text-align: right;\n",
       "    }\n",
       "</style>\n",
       "<table border=\"1\" class=\"dataframe\">\n",
       "  <thead>\n",
       "    <tr style=\"text-align: right;\">\n",
       "      <th></th>\n",
       "      <th>UID</th>\n",
       "      <th>source</th>\n",
       "      <th>iso</th>\n",
       "      <th>country</th>\n",
       "      <th>region</th>\n",
       "      <th>subregion</th>\n",
       "      <th>name</th>\n",
       "      <th>giga_id_school</th>\n",
       "      <th>clean</th>\n",
       "      <th>validated</th>\n",
       "      <th>class</th>\n",
       "      <th>ghsl_smod</th>\n",
       "      <th>rurban</th>\n",
       "      <th>dataset</th>\n",
       "      <th>geometry</th>\n",
       "      <th>y_true</th>\n",
       "      <th>y_preds</th>\n",
       "      <th>y_probs</th>\n",
       "    </tr>\n",
       "  </thead>\n",
       "  <tbody>\n",
       "    <tr>\n",
       "      <th>0</th>\n",
       "      <td>OSM-SEN-SCHOOL-00000075</td>\n",
       "      <td>OSM</td>\n",
       "      <td>SEN</td>\n",
       "      <td>Senegal</td>\n",
       "      <td>Africa</td>\n",
       "      <td>Sub-Saharan Africa</td>\n",
       "      <td>Ecole d'Elinkine</td>\n",
       "      <td>NaN</td>\n",
       "      <td>0</td>\n",
       "      <td>0.0</td>\n",
       "      <td>school</td>\n",
       "      <td>13</td>\n",
       "      <td>rural</td>\n",
       "      <td>test</td>\n",
       "      <td>POINT (-1645442.8880473897 1541725.5277999148)</td>\n",
       "      <td>1</td>\n",
       "      <td>1</td>\n",
       "      <td>0.972682</td>\n",
       "    </tr>\n",
       "    <tr>\n",
       "      <th>1</th>\n",
       "      <td>OSM-SEN-SCHOOL-00000161</td>\n",
       "      <td>OSM</td>\n",
       "      <td>SEN</td>\n",
       "      <td>Senegal</td>\n",
       "      <td>Africa</td>\n",
       "      <td>Sub-Saharan Africa</td>\n",
       "      <td>Ecole 1</td>\n",
       "      <td>NaN</td>\n",
       "      <td>0</td>\n",
       "      <td>0.0</td>\n",
       "      <td>school</td>\n",
       "      <td>23</td>\n",
       "      <td>urban</td>\n",
       "      <td>test</td>\n",
       "      <td>POINT (-1319954.9528390914 1954650.5035527328)</td>\n",
       "      <td>1</td>\n",
       "      <td>1</td>\n",
       "      <td>0.979420</td>\n",
       "    </tr>\n",
       "    <tr>\n",
       "      <th>2</th>\n",
       "      <td>OSM-SEN-SCHOOL-00000185</td>\n",
       "      <td>OSM</td>\n",
       "      <td>SEN</td>\n",
       "      <td>Senegal</td>\n",
       "      <td>Africa</td>\n",
       "      <td>Sub-Saharan Africa</td>\n",
       "      <td>Ecole Elémentaire Tivaouane 13</td>\n",
       "      <td>NaN</td>\n",
       "      <td>0</td>\n",
       "      <td>0.0</td>\n",
       "      <td>school</td>\n",
       "      <td>30</td>\n",
       "      <td>urban</td>\n",
       "      <td>test</td>\n",
       "      <td>POINT (-1648856.406144037 1841900.0392739468)</td>\n",
       "      <td>1</td>\n",
       "      <td>1</td>\n",
       "      <td>0.952310</td>\n",
       "    </tr>\n",
       "  </tbody>\n",
       "</table>\n",
       "</div>"
      ],
      "text/plain": [
       "                       UID source  iso  country  region           subregion  \\\n",
       "0  OSM-SEN-SCHOOL-00000075    OSM  SEN  Senegal  Africa  Sub-Saharan Africa   \n",
       "1  OSM-SEN-SCHOOL-00000161    OSM  SEN  Senegal  Africa  Sub-Saharan Africa   \n",
       "2  OSM-SEN-SCHOOL-00000185    OSM  SEN  Senegal  Africa  Sub-Saharan Africa   \n",
       "\n",
       "                             name giga_id_school  clean  validated   class  \\\n",
       "0                Ecole d'Elinkine            NaN      0        0.0  school   \n",
       "1                         Ecole 1            NaN      0        0.0  school   \n",
       "2  Ecole Elémentaire Tivaouane 13            NaN      0        0.0  school   \n",
       "\n",
       "   ghsl_smod rurban dataset                                        geometry  \\\n",
       "0         13  rural    test  POINT (-1645442.8880473897 1541725.5277999148)   \n",
       "1         23  urban    test  POINT (-1319954.9528390914 1954650.5035527328)   \n",
       "2         30  urban    test   POINT (-1648856.406144037 1841900.0392739468)   \n",
       "\n",
       "   y_true  y_preds   y_probs  \n",
       "0       1        1  0.972682  \n",
       "1       1        1  0.979420  \n",
       "2       1        1  0.952310  "
      ]
     },
     "execution_count": 7,
     "metadata": {},
     "output_type": "execute_result"
    }
   ],
   "source": [
    "val_output = calib_utils.get_model_output(iso_code, model_config, phase=\"val\")\n",
    "test_output = calib_utils.get_model_output(iso_code, model_config, phase=\"test\")\n",
    "test_output.head(3)"
   ]
  },
  {
   "cell_type": "markdown",
   "id": "fa1095cb-1d49-46ba-b839-0069296f0219",
   "metadata": {},
   "source": [
    "## Load Evaluation"
   ]
  },
  {
   "cell_type": "code",
   "execution_count": 10,
   "id": "67a4b575-1b0a-401b-9743-8f6fdffc96a2",
   "metadata": {},
   "outputs": [
    {
     "name": "stdout",
     "output_type": "stream",
     "text": [
      "optim_threshold: 0.3089\n",
      "fbeta_score_optim: 94.9407\n",
      "precision_score_optim: 89.1496\n",
      "recall_score_optim: 96.5079\n",
      "f1_score_optim: 92.6829\n",
      "overall_accuracy_optim: 94.9153\n",
      "balanced_accuracy_optim: 95.3128\n"
     ]
    }
   ],
   "source": [
    "val_results = post_utils.get_evaluation(val_output, beta=2, optim_threshold=None)\n",
    "test_results = post_utils.get_evaluation(\n",
    "    test_output, beta=2, optim_threshold=val_results['optim_threshold']\n",
    ")\n",
    "for key, value in test_results.items():\n",
    "    if 'optim' in key: print(f\"{key}: {value:.4f}\")"
   ]
  },
  {
   "cell_type": "markdown",
   "id": "b6aea9d4-ffbf-435a-9475-101d01ee6299",
   "metadata": {},
   "source": [
    "## Plot Results"
   ]
  },
  {
   "cell_type": "code",
   "execution_count": 11,
   "id": "5a95add6-082a-46d9-8f32-aec2dd46fb86",
   "metadata": {},
   "outputs": [
    {
     "data": {
      "image/png": "[encoded data removed]",
      "text/plain": [
       "<Figure size 500x300 with 1 Axes>"
      ]
     },
     "metadata": {},
     "output_type": "display_data"
    }
   ],
   "source": [
    "from sklearn.metrics import PrecisionRecallDisplay\n",
    "fig, ax = plt.subplots(1, 1, figsize=(5, 3))\n",
    "disp = PrecisionRecallDisplay(\n",
    "    precision=test_results['precision_scores_'], \n",
    "    recall=test_results['recall_scores_']\n",
    ")\n",
    "disp.plot(ax=ax);"
   ]
  },
  {
   "cell_type": "code",
   "execution_count": 15,
   "id": "305b7ecb-8120-46e6-9ea1-0fb92d67dde5",
   "metadata": {},
   "outputs": [
    {
     "data": {
      "image/png": "[encoded data removed]",
      "text/plain": [
       "<Figure size 500x300 with 1 Axes>"
      ]
     },
     "metadata": {},
     "output_type": "display_data"
    }
   ],
   "source": [
    "_, test_fscores = eval_utils.get_optimal_threshold(\n",
    "    test_results['precision_scores_'], \n",
    "    test_results['recall_scores_'], \n",
    "    test_results['thresholds_'], \n",
    "    beta=1\n",
    ")\n",
    "fig, ax = plt.subplots(figsize=(5, 3))\n",
    "ax.plot(test_results['thresholds_'], test_fscores[:-1], \"b--\");"
   ]
  },
  {
   "cell_type": "code",
   "execution_count": 13,
   "id": "9c5fda77-ce1e-4591-ad07-967244a64efa",
   "metadata": {},
   "outputs": [
    {
     "data": {
      "image/png": "[encoded data removed]",
      "text/plain": [
       "<Figure size 500x300 with 1 Axes>"
      ]
     },
     "metadata": {},
     "output_type": "display_data"
    }
   ],
   "source": [
    "fig, ax = plt.subplots(figsize=(5, 3))\n",
    "ax.plot(test_results['thresholds_'], test_results['precision_scores_'][:-1], \"b--\")\n",
    "ax.plot(test_results['thresholds_'], test_results['recall_scores_'][:-1], \"g--\");"
   ]
  }
 ],
 "metadata": {
  "kernelspec": {
   "display_name": "giga2",
   "language": "python",
   "name": "giga2"
  },
  "language_info": {
   "codemirror_mode": {
    "name": "ipython",
    "version": 3
   },
   "file_extension": ".py",
   "mimetype": "text/x-python",
   "name": "python",
   "nbconvert_exporter": "python",
   "pygments_lexer": "ipython3",
   "version": "3.10.13"
  }
 },
 "nbformat": 4,
 "nbformat_minor": 5
}
