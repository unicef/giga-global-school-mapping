{
 "cells": [
  {
   "cell_type": "markdown",
   "id": "25978520-4859-4a1c-82c4-29e85c398716",
   "metadata": {},
   "source": [
    "## Imports and Setup"
   ]
  },
  {
   "cell_type": "code",
   "execution_count": 1,
   "id": "d221a95c-e89a-4475-bef7-ed9531e4d002",
   "metadata": {},
   "outputs": [],
   "source": [
    "import matplotlib.pyplot as plt\n",
    "import numpy as np\n",
    "import pandas as pd\n",
    "import geopandas as gpd\n",
    "import logging\n",
    "import joblib\n",
    "import torch\n",
    "\n",
    "import os \n",
    "os.chdir('/home/itingzon.unicef/giga')\n",
    "from utils import calib_utils\n",
    "from utils import post_utils\n",
    "from utils import config_utils\n",
    "from utils import eval_utils\n",
    "from utils import model_utils\n",
    "\n",
    "%load_ext autoreload\n",
    "%autoreload 2"
   ]
  },
  {
   "cell_type": "markdown",
   "id": "2a34ee8e-4d86-4283-a3e3-e39342dd4b6e",
   "metadata": {},
   "source": [
    "## Load Config Files"
   ]
  },
  {
   "cell_type": "code",
   "execution_count": 33,
   "id": "b94ba1b8-3d61-4d2e-9513-28062c03cf35",
   "metadata": {},
   "outputs": [],
   "source": [
    "iso_code = \"ZWE\"\n",
    "data_config_file = os.path.join(os.getcwd(), \"configs/data_configs/data_config_ISO_AF.yaml\")\n",
    "config_file = os.path.join(os.getcwd(), \"configs/best_models.yaml\")\n",
    "data_config = config_utils.load_config(data_config_file)\n",
    "config = config_utils.create_config(config_file)"
   ]
  },
  {
   "cell_type": "markdown",
   "id": "9837ba20-2bde-4c86-b01a-fde08dd2777f",
   "metadata": {},
   "source": [
    "## Load Validation Results"
   ]
  },
  {
   "cell_type": "code",
   "execution_count": 34,
   "id": "d6ea28e7-eb28-46f0-8897-2f78767a649a",
   "metadata": {},
   "outputs": [
    {
     "data": {
      "text/html": [
       "<div>\n",
       "<style scoped>\n",
       "    .dataframe tbody tr th:only-of-type {\n",
       "        vertical-align: middle;\n",
       "    }\n",
       "\n",
       "    .dataframe tbody tr th {\n",
       "        vertical-align: top;\n",
       "    }\n",
       "\n",
       "    .dataframe thead th {\n",
       "        text-align: right;\n",
       "    }\n",
       "</style>\n",
       "<table border=\"1\" class=\"dataframe\">\n",
       "  <thead>\n",
       "    <tr style=\"text-align: right;\">\n",
       "      <th></th>\n",
       "      <th>UID</th>\n",
       "      <th>source</th>\n",
       "      <th>iso</th>\n",
       "      <th>country</th>\n",
       "      <th>region</th>\n",
       "      <th>subregion</th>\n",
       "      <th>name</th>\n",
       "      <th>giga_id_school</th>\n",
       "      <th>clean</th>\n",
       "      <th>validated</th>\n",
       "      <th>class</th>\n",
       "      <th>ghsl_smod</th>\n",
       "      <th>rurban</th>\n",
       "      <th>dataset</th>\n",
       "      <th>geometry</th>\n",
       "      <th>y_true</th>\n",
       "      <th>y_preds</th>\n",
       "      <th>y_probs</th>\n",
       "    </tr>\n",
       "  </thead>\n",
       "  <tbody>\n",
       "    <tr>\n",
       "      <th>0</th>\n",
       "      <td>OSM-ZWE-SCHOOL-00000004</td>\n",
       "      <td>OSM</td>\n",
       "      <td>ZWE</td>\n",
       "      <td>Zimbabwe</td>\n",
       "      <td>Africa</td>\n",
       "      <td>Sub-Saharan Africa</td>\n",
       "      <td>NaN</td>\n",
       "      <td>NaN</td>\n",
       "      <td>0</td>\n",
       "      <td>0.0</td>\n",
       "      <td>school</td>\n",
       "      <td>12</td>\n",
       "      <td>rural</td>\n",
       "      <td>test</td>\n",
       "      <td>POINT (2704069.5261203847 -2219565.275443977)</td>\n",
       "      <td>1</td>\n",
       "      <td>1</td>\n",
       "      <td>0.943400</td>\n",
       "    </tr>\n",
       "    <tr>\n",
       "      <th>1</th>\n",
       "      <td>OSM-ZWE-SCHOOL-00000011</td>\n",
       "      <td>OSM</td>\n",
       "      <td>ZWE</td>\n",
       "      <td>Zimbabwe</td>\n",
       "      <td>Africa</td>\n",
       "      <td>Sub-Saharan Africa</td>\n",
       "      <td>NaN</td>\n",
       "      <td>NaN</td>\n",
       "      <td>0</td>\n",
       "      <td>0.0</td>\n",
       "      <td>school</td>\n",
       "      <td>12</td>\n",
       "      <td>rural</td>\n",
       "      <td>test</td>\n",
       "      <td>POINT (2715275.2840541867 -2249114.3491961244)</td>\n",
       "      <td>1</td>\n",
       "      <td>1</td>\n",
       "      <td>0.949903</td>\n",
       "    </tr>\n",
       "    <tr>\n",
       "      <th>2</th>\n",
       "      <td>OSM-ZWE-SCHOOL-00000015</td>\n",
       "      <td>OSM</td>\n",
       "      <td>ZWE</td>\n",
       "      <td>Zimbabwe</td>\n",
       "      <td>Africa</td>\n",
       "      <td>Sub-Saharan Africa</td>\n",
       "      <td>NaN</td>\n",
       "      <td>NaN</td>\n",
       "      <td>0</td>\n",
       "      <td>0.0</td>\n",
       "      <td>school</td>\n",
       "      <td>12</td>\n",
       "      <td>rural</td>\n",
       "      <td>test</td>\n",
       "      <td>POINT (2689064.291227972 -2273314.611955284)</td>\n",
       "      <td>1</td>\n",
       "      <td>1</td>\n",
       "      <td>0.946239</td>\n",
       "    </tr>\n",
       "  </tbody>\n",
       "</table>\n",
       "</div>"
      ],
      "text/plain": [
       "                       UID source  iso   country  region           subregion  \\\n",
       "0  OSM-ZWE-SCHOOL-00000004    OSM  ZWE  Zimbabwe  Africa  Sub-Saharan Africa   \n",
       "1  OSM-ZWE-SCHOOL-00000011    OSM  ZWE  Zimbabwe  Africa  Sub-Saharan Africa   \n",
       "2  OSM-ZWE-SCHOOL-00000015    OSM  ZWE  Zimbabwe  Africa  Sub-Saharan Africa   \n",
       "\n",
       "  name giga_id_school  clean  validated   class  ghsl_smod rurban dataset  \\\n",
       "0  NaN            NaN      0        0.0  school         12  rural    test   \n",
       "1  NaN            NaN      0        0.0  school         12  rural    test   \n",
       "2  NaN            NaN      0        0.0  school         12  rural    test   \n",
       "\n",
       "                                         geometry  y_true  y_preds   y_probs  \n",
       "0   POINT (2704069.5261203847 -2219565.275443977)       1        1  0.943400  \n",
       "1  POINT (2715275.2840541867 -2249114.3491961244)       1        1  0.949903  \n",
       "2    POINT (2689064.291227972 -2273314.611955284)       1        1  0.946239  "
      ]
     },
     "execution_count": 34,
     "metadata": {},
     "output_type": "execute_result"
    }
   ],
   "source": [
    "val_output = model_utils.ensemble_models(iso_code, config, phase=\"val\")\n",
    "test_output = model_utils.ensemble_models(iso_code, config, phase=\"test\")\n",
    "test_output.head(3)"
   ]
  },
  {
   "cell_type": "markdown",
   "id": "fa1095cb-1d49-46ba-b839-0069296f0219",
   "metadata": {},
   "source": [
    "## Load Evaluation"
   ]
  },
  {
   "cell_type": "code",
   "execution_count": 35,
   "id": "67a4b575-1b0a-401b-9743-8f6fdffc96a2",
   "metadata": {},
   "outputs": [
    {
     "data": {
      "text/plain": [
       "{'auprc': 0.9957214092495752,\n",
       " 'ap': 0.9957214092495752,\n",
       " 'roc_auc': 0.9976318346197443,\n",
       " 'brier_score': 0.026836262613505472,\n",
       " 'precision_scores_': array([0.33680556, 0.33709818, 0.3373913 , ..., 1.        , 1.        ,\n",
       "        1.        ]),\n",
       " 'recall_scores_': array([1.        , 1.        , 1.        , ..., 0.00515464, 0.00257732,\n",
       "        0.        ]),\n",
       " 'thresholds_': array([0.044674  , 0.04503037, 0.04561864, ..., 0.95999597, 0.96014363,\n",
       "        0.96213575]),\n",
       " 'optim_threshold': 0.32652765884995455,\n",
       " 'fbeta_score': 97.66615930999492,\n",
       " 'precision_score': 91.8854415274463,\n",
       " 'recall_score': 99.22680412371135,\n",
       " 'overall_accuracy': 96.78819444444444,\n",
       " 'balanced_accuracy': 97.38827117180331}"
      ]
     },
     "execution_count": 35,
     "metadata": {},
     "output_type": "execute_result"
    }
   ],
   "source": [
    "val_results = eval_utils.evaluate(\n",
    "    y_true=val_output[\"y_true\"], \n",
    "    y_pred=val_output[\"y_preds\"], \n",
    "    y_prob=val_output[\"y_probs\"], \n",
    "    pos_label=1, \n",
    "    neg_label=0,\n",
    "    beta=2\n",
    ")\n",
    "test_results = eval_utils.evaluate(\n",
    "    y_true=test_output[\"y_true\"], \n",
    "    y_pred=test_output[\"y_preds\"], \n",
    "    y_prob=test_output[\"y_probs\"], \n",
    "    pos_label=1, \n",
    "    neg_label=0,\n",
    "    beta=2,\n",
    "    optim_threshold=val_results[\"optim_threshold\"]\n",
    ")\n",
    "test_results"
   ]
  },
  {
   "cell_type": "markdown",
   "id": "b6aea9d4-ffbf-435a-9475-101d01ee6299",
   "metadata": {},
   "source": [
    "## Plot Results"
   ]
  },
  {
   "cell_type": "code",
   "execution_count": 149,
   "id": "5a95add6-082a-46d9-8f32-aec2dd46fb86",
   "metadata": {},
   "outputs": [
    {
     "data": {
      "image/png": "[encoded data removed]",
      "text/plain": [
       "<Figure size 500x300 with 1 Axes>"
      ]
     },
     "metadata": {},
     "output_type": "display_data"
    }
   ],
   "source": [
    "from sklearn.metrics import PrecisionRecallDisplay\n",
    "fig, ax = plt.subplots(1, 1, figsize=(5, 3))\n",
    "disp = PrecisionRecallDisplay(\n",
    "    precision=test_results['precision_scores_'], \n",
    "    recall=test_results['recall_scores_']\n",
    ")\n",
    "disp.plot(ax=ax);"
   ]
  },
  {
   "cell_type": "code",
   "execution_count": 152,
   "id": "305b7ecb-8120-46e6-9ea1-0fb92d67dde5",
   "metadata": {},
   "outputs": [
    {
     "data": {
      "image/png": "[encoded data removed]",
      "text/plain": [
       "<Figure size 500x300 with 1 Axes>"
      ]
     },
     "metadata": {},
     "output_type": "display_data"
    }
   ],
   "source": [
    "_, test_fscores = eval_utils.get_optimal_threshold(\n",
    "    test_results['precision_scores_'], \n",
    "    test_results['recall_scores_'], \n",
    "    test_results['thresholds_'], \n",
    "    beta=1\n",
    ")\n",
    "fig, ax = plt.subplots(figsize=(5, 3))\n",
    "ax.plot(test_results['thresholds_'], test_fscores[:-1], \"b--\");"
   ]
  },
  {
   "cell_type": "code",
   "execution_count": 153,
   "id": "9c5fda77-ce1e-4591-ad07-967244a64efa",
   "metadata": {},
   "outputs": [
    {
     "data": {
      "image/png": "[encoded data removed]",
      "text/plain": [
       "<Figure size 500x300 with 1 Axes>"
      ]
     },
     "metadata": {},
     "output_type": "display_data"
    }
   ],
   "source": [
    "fig, ax = plt.subplots(figsize=(5, 3))\n",
    "ax.plot(test_results['thresholds_'], test_results['precision_scores_'][:-1], \"b--\")\n",
    "ax.plot(test_results['thresholds_'], test_results['recall_scores_'][:-1], \"g--\");"
   ]
  }
 ],
 "metadata": {
  "kernelspec": {
   "display_name": "giga2",
   "language": "python",
   "name": "giga2"
  },
  "language_info": {
   "codemirror_mode": {
    "name": "ipython",
    "version": 3
   },
   "file_extension": ".py",
   "mimetype": "text/x-python",
   "name": "python",
   "nbconvert_exporter": "python",
   "pygments_lexer": "ipython3",
   "version": "3.10.13"
  }
 },
 "nbformat": 4,
 "nbformat_minor": 5
}
