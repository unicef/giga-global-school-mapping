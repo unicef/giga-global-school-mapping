{
 "cells": [
  {
   "cell_type": "markdown",
   "id": "25978520-4859-4a1c-82c4-29e85c398716",
   "metadata": {},
   "source": [
    "## Imports and Setup"
   ]
  },
  {
   "cell_type": "code",
   "execution_count": null,
   "id": "7d2888f0-5ea4-46bf-995b-0ce4a6a2b74e",
   "metadata": {},
   "outputs": [],
   "source": [
    "import os\n",
    "import pandas as pd\n",
    "import geopandas as gpd\n",
    "import logging\n",
    "import joblib\n",
    "import torch\n",
    "\n",
    "import sys\n",
    "sys.path.insert(0, \"../utils/\")\n",
    "import eval_utils\n",
    "import config_utils\n",
    "\n",
    "%load_ext autoreload\n",
    "%autoreload 2"
   ]
  },
  {
   "cell_type": "markdown",
   "id": "2a34ee8e-4d86-4283-a3e3-e39342dd4b6e",
   "metadata": {},
   "source": [
    "## Load Config Files"
   ]
  },
  {
   "cell_type": "code",
   "execution_count": 145,
   "id": "b94ba1b8-3d61-4d2e-9513-28062c03cf35",
   "metadata": {},
   "outputs": [],
   "source": [
    "iso_code = \"GHA\"\n",
    "cwd = os.path.dirname(os.getcwd())\n",
    "data_config_file = os.path.join(cwd, \"configs/AF_config.yaml\")\n",
    "data_config = config_utils.load_config(data_config_file)\n",
    "\n",
    "model_config_file = os.path.join(cwd, \"configs/cnn_configs/convnext_small_v01.yaml\")\n",
    "model_config = config_utils.load_config(model_config_file)"
   ]
  },
  {
   "cell_type": "markdown",
   "id": "9837ba20-2bde-4c86-b01a-fde08dd2777f",
   "metadata": {},
   "source": [
    "## Load Results"
   ]
  },
  {
   "cell_type": "code",
   "execution_count": 146,
   "id": "d6ea28e7-eb28-46f0-8897-2f78767a649a",
   "metadata": {},
   "outputs": [
    {
     "data": {
      "text/html": [
       "<div>\n",
       "<style scoped>\n",
       "    .dataframe tbody tr th:only-of-type {\n",
       "        vertical-align: middle;\n",
       "    }\n",
       "\n",
       "    .dataframe tbody tr th {\n",
       "        vertical-align: top;\n",
       "    }\n",
       "\n",
       "    .dataframe thead th {\n",
       "        text-align: right;\n",
       "    }\n",
       "</style>\n",
       "<table border=\"1\" class=\"dataframe\">\n",
       "  <thead>\n",
       "    <tr style=\"text-align: right;\">\n",
       "      <th></th>\n",
       "      <th>UID</th>\n",
       "      <th>source</th>\n",
       "      <th>iso</th>\n",
       "      <th>country</th>\n",
       "      <th>region</th>\n",
       "      <th>subregion</th>\n",
       "      <th>name</th>\n",
       "      <th>giga_id_school</th>\n",
       "      <th>clean</th>\n",
       "      <th>validated</th>\n",
       "      <th>class</th>\n",
       "      <th>ghsl_smod</th>\n",
       "      <th>rurban</th>\n",
       "      <th>dataset</th>\n",
       "      <th>geometry</th>\n",
       "      <th>y_true</th>\n",
       "      <th>y_preds</th>\n",
       "      <th>y_probs</th>\n",
       "    </tr>\n",
       "  </thead>\n",
       "  <tbody>\n",
       "    <tr>\n",
       "      <th>0</th>\n",
       "      <td>OVERTURE-GHA-SCHOOL-00000014</td>\n",
       "      <td>OVERTURE</td>\n",
       "      <td>GHA</td>\n",
       "      <td>Ghana</td>\n",
       "      <td>Africa</td>\n",
       "      <td>Sub-Saharan Africa</td>\n",
       "      <td>Presby Primary School Komfourkrom-A</td>\n",
       "      <td>NaN</td>\n",
       "      <td>0</td>\n",
       "      <td>0.0</td>\n",
       "      <td>school</td>\n",
       "      <td>22</td>\n",
       "      <td>urban</td>\n",
       "      <td>test</td>\n",
       "      <td>POINT (-125479.69839610334 981718.2290214166)</td>\n",
       "      <td>1</td>\n",
       "      <td>1</td>\n",
       "      <td>0.758218</td>\n",
       "    </tr>\n",
       "    <tr>\n",
       "      <th>1</th>\n",
       "      <td>OVERTURE-GHA-SCHOOL-00000037</td>\n",
       "      <td>OVERTURE</td>\n",
       "      <td>GHA</td>\n",
       "      <td>Ghana</td>\n",
       "      <td>Africa</td>\n",
       "      <td>Sub-Saharan Africa</td>\n",
       "      <td>Sefwi Bekwai Senior High School - Sebess</td>\n",
       "      <td>NaN</td>\n",
       "      <td>0</td>\n",
       "      <td>0.0</td>\n",
       "      <td>school</td>\n",
       "      <td>12</td>\n",
       "      <td>rural</td>\n",
       "      <td>test</td>\n",
       "      <td>POINT (-230938.83421113284 766390.0024152958)</td>\n",
       "      <td>1</td>\n",
       "      <td>1</td>\n",
       "      <td>0.931291</td>\n",
       "    </tr>\n",
       "    <tr>\n",
       "      <th>2</th>\n",
       "      <td>OVERTURE-GHA-SCHOOL-00000077</td>\n",
       "      <td>OVERTURE</td>\n",
       "      <td>GHA</td>\n",
       "      <td>Ghana</td>\n",
       "      <td>Africa</td>\n",
       "      <td>Sub-Saharan Africa</td>\n",
       "      <td>Beverly Hills Academy Hohoe</td>\n",
       "      <td>NaN</td>\n",
       "      <td>0</td>\n",
       "      <td>0.0</td>\n",
       "      <td>school</td>\n",
       "      <td>30</td>\n",
       "      <td>urban</td>\n",
       "      <td>test</td>\n",
       "      <td>POINT (46935.65844086759 883156.8575174323)</td>\n",
       "      <td>1</td>\n",
       "      <td>1</td>\n",
       "      <td>0.831925</td>\n",
       "    </tr>\n",
       "  </tbody>\n",
       "</table>\n",
       "</div>"
      ],
      "text/plain": [
       "                            UID    source  iso country  region  \\\n",
       "0  OVERTURE-GHA-SCHOOL-00000014  OVERTURE  GHA   Ghana  Africa   \n",
       "1  OVERTURE-GHA-SCHOOL-00000037  OVERTURE  GHA   Ghana  Africa   \n",
       "2  OVERTURE-GHA-SCHOOL-00000077  OVERTURE  GHA   Ghana  Africa   \n",
       "\n",
       "            subregion                                      name  \\\n",
       "0  Sub-Saharan Africa       Presby Primary School Komfourkrom-A   \n",
       "1  Sub-Saharan Africa  Sefwi Bekwai Senior High School - Sebess   \n",
       "2  Sub-Saharan Africa               Beverly Hills Academy Hohoe   \n",
       "\n",
       "  giga_id_school  clean  validated   class  ghsl_smod rurban dataset  \\\n",
       "0            NaN      0        0.0  school         22  urban    test   \n",
       "1            NaN      0        0.0  school         12  rural    test   \n",
       "2            NaN      0        0.0  school         30  urban    test   \n",
       "\n",
       "                                        geometry  y_true  y_preds   y_probs  \n",
       "0  POINT (-125479.69839610334 981718.2290214166)       1        1  0.758218  \n",
       "1  POINT (-230938.83421113284 766390.0024152958)       1        1  0.931291  \n",
       "2    POINT (46935.65844086759 883156.8575174323)       1        1  0.831925  "
      ]
     },
     "execution_count": 146,
     "metadata": {},
     "output_type": "execute_result"
    }
   ],
   "source": [
    "exp_name = f\"{iso_code}_{model_config['config_name']}\"\n",
    "output_path = os.path.join(\n",
    "    cwd,  model_config[\"exp_dir\"], model_config[\"project\"], exp_name, f\"{exp_name}_test.csv\"\n",
    ")\n",
    "output = pd.read_csv(output_path)\n",
    "output.head(3)"
   ]
  },
  {
   "cell_type": "markdown",
   "id": "ee6fc13b-3cb7-4b47-b7e9-f735138b94af",
   "metadata": {},
   "source": [
    "## Run Evaluation"
   ]
  },
  {
   "cell_type": "code",
   "execution_count": 147,
   "id": "c9895dc3-5334-41b2-82b8-af913db0aece",
   "metadata": {},
   "outputs": [],
   "source": [
    "results = eval_utils.evaluate(\n",
    "    y_true=output[\"y_true\"], \n",
    "    y_pred=output[\"y_preds\"], \n",
    "    y_prob=output[\"y_probs\"], \n",
    "    pos_label=1, \n",
    "    neg_label=0, \n",
    ")\n",
    "optim_threshold, fscores = eval_utils.get_optimal_threshold(\n",
    "    results['precision_scores_50_'],  \n",
    "    results['recall_scores_50_'], \n",
    "    results['thresholds_50_'], \n",
    "    beta=0.5\n",
    ")\n",
    "recalls = results['recall_scores_50_'][1:]\n",
    "precisions = results['precision_scores_50_'][1:]\n",
    "thresholds = results['thresholds_50_'][1:]"
   ]
  },
  {
   "cell_type": "code",
   "execution_count": 148,
   "id": "55401fb4-2e31-415f-a7f4-8f1fd396200a",
   "metadata": {},
   "outputs": [
    {
     "data": {
      "image/png": "[encoded data removed]",
      "text/plain": [
       "<Figure size 800x500 with 1 Axes>"
      ]
     },
     "metadata": {},
     "output_type": "display_data"
    }
   ],
   "source": [
    "import matplotlib.pyplot as plt\n",
    "import numpy as np\n",
    "\n",
    "BLUE = \"#3D85F7\"\n",
    "BLUE_LIGHT = \"#5490FF\"\n",
    "PINK = \"#d43139ff\"\n",
    "PINK_LIGHT = \"#D34068\"\n",
    "\n",
    "fig, ax = plt.subplots(figsize=(8, 5))\n",
    "ix = np.argmax(fscores[:-1])\n",
    "ax.scatter(\n",
    "    recalls[ix], \n",
    "    precisions[ix], \n",
    "    marker='o', \n",
    "    color=PINK,\n",
    "    zorder=10\n",
    ")\n",
    "ax.plot(\n",
    "    recalls, \n",
    "    precisions, \n",
    "    linestyle='-',\n",
    "    color=BLUE\n",
    ")\n",
    "ymin = np.min(precisions)\n",
    "ax.fill_between(\n",
    "    recalls, \n",
    "    ymin,\n",
    "    precisions, \n",
    "    interpolate=True, \n",
    "    color=BLUE_LIGHT, \n",
    "    alpha=0.3\n",
    ")\n",
    "ax.plot(\n",
    "    [0, 1], \n",
    "    [precisions[ix], precisions[ix]], \n",
    "    linestyle='--',\n",
    "    color=PINK_LIGHT\n",
    ")\n",
    "ax.plot(\n",
    "    [recalls[ix], recalls[ix]],\n",
    "    [1, np.min(precisions)],  \n",
    "    linestyle='--',\n",
    "    color=PINK_LIGHT\n",
    ")\n",
    "ax.set_ylabel(\"Precision\")\n",
    "ax.set_xlabel(\"Recall\");"
   ]
  }
 ],
 "metadata": {
  "kernelspec": {
   "display_name": "giga2",
   "language": "python",
   "name": "giga2"
  },
  "language_info": {
   "codemirror_mode": {
    "name": "ipython",
    "version": 3
   },
   "file_extension": ".py",
   "mimetype": "text/x-python",
   "name": "python",
   "nbconvert_exporter": "python",
   "pygments_lexer": "ipython3",
   "version": "3.10.13"
  }
 },
 "nbformat": 4,
 "nbformat_minor": 5
}
