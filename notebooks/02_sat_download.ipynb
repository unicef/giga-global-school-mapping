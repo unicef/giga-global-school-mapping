{
 "cells": [
  {
   "cell_type": "markdown",
   "id": "2f88ab39-d9e7-4363-baef-c08a3cb6f7e1",
   "metadata": {},
   "source": [
    "# Download Maxar Satellite Images\n",
    "\n",
    "This notebook demonstrates how to download Maxar satellite images.\n",
    "\n",
    "However, we recommend that you download the satellite images using `python src/sat_download.py`:\n",
    "\n",
    "```s\n",
    "usage: sat_download.py [-h] [--config CONFIG] [--creds CREDS] [--category CATEGORY] [--iso_code ISO_CODE] [--filename FILENAME]\n",
    "\n",
    "Satellite Image Download\n",
    "options:\n",
    "  -h, --help           show this help message and exit\n",
    "  --config CONFIG      Path to the configuration file\n",
    "  --creds CREDS        Path to the credentials file\n",
    "  --category CATEGORY  Category (e.g. school or non_school)\n",
    "  --iso_code ISO_CODE  ISO 3166-1 alpha-3 code\n",
    "  --filename FILENAME  Filename of data (optional)\n",
    "```"
   ]
  },
  {
   "cell_type": "markdown",
   "id": "6148df28-c45e-47de-aebc-90314bf098a6",
   "metadata": {},
   "source": [
    "## Imports and Setup"
   ]
  },
  {
   "cell_type": "code",
   "execution_count": 2,
   "id": "99191a61-e81e-416b-b703-bbc957f7a782",
   "metadata": {
    "editable": true,
    "slideshow": {
     "slide_type": ""
    },
    "tags": []
   },
   "outputs": [],
   "source": [
    "import geopandas as gpd\n",
    "import pandas as pd\n",
    "\n",
    "import os \n",
    "os.chdir('/home/itingzon.unicef/giga')\n",
    "from src import sat_download\n",
    "from utils import config_utils\n",
    "from utils import data_utils\n",
    "\n",
    "%load_ext autoreload\n",
    "%autoreload 2"
   ]
  },
  {
   "cell_type": "markdown",
   "id": "95c83265-3702-439c-9ea5-5e6593d086b0",
   "metadata": {},
   "source": [
    "## File Locations"
   ]
  },
  {
   "cell_type": "code",
   "execution_count": 8,
   "id": "009328db-1720-4b88-87b7-1778f491c1a5",
   "metadata": {
    "tags": []
   },
   "outputs": [],
   "source": [
    "iso_code = \"BEN\"\n",
    "config_file = os.path.join(os.getcwd(), \"configs/sat_configs/sat_config_500x500_60cm.yaml\")\n",
    "creds_file = os.path.join(os.getcwd(), \"configs/sat_configs/issa_sat_creds.yaml\")\n",
    "config = config_utils.load_config(config_file)\n",
    "creds = config_utils.create_config(creds_file)"
   ]
  },
  {
   "cell_type": "markdown",
   "id": "db842671-9d4f-483c-8f9b-f9aa5be2256b",
   "metadata": {},
   "source": [
    "## Download Dataset"
   ]
  },
  {
   "cell_type": "code",
   "execution_count": 9,
   "id": "f494fa47-a0a1-416c-b0cb-031fe06262cb",
   "metadata": {
    "scrolled": true,
    "tags": []
   },
   "outputs": [
    {
     "name": "stderr",
     "output_type": "stream",
     "text": [
      " 39%|███████▊            | 1990/5125 [51:47<1:34:21,  1.81s/it]                                                         INFO:root:Could not load image.\n",
      " 40%|████████            | 2069/5125 [54:01<1:17:14,  1.52s/it]                                                         INFO:root:Could not load image.\n",
      " 41%|████████▏           | 2105/5125 [55:02<1:24:49,  1.69s/it]                                                         INFO:root:Could not load image.\n",
      " 41%|████████▏           | 2106/5125 [55:04<1:35:04,  1.89s/it]                                                         INFO:root:Could not load image.\n",
      " 82%|████████████████▍   | 4205/5125 [1:51:48<30:53,  2.01s/it]                                                         INFO:root:Could not load image.\n",
      " 83%|████████████████▌   | 4250/5125 [1:53:05<22:19,  1.53s/it]                                                         INFO:root:Could not load image.\n",
      " 83%|████████████████▌   | 4251/5125 [1:53:08<25:09,  1.73s/it]                                                         INFO:root:Could not load image.\n",
      " 83%|████████████████▋   | 4265/5125 [1:53:29<21:27,  1.50s/it]                                                         INFO:root:Could not load image.\n",
      " 83%|████████████████▋   | 4278/5125 [1:53:52<20:40,  1.46s/it]                                                         INFO:root:Could not load image.\n",
      "INFO:root:Could not load image.\n",
      " 84%|████████████████▋   | 4281/5125 [1:53:57<22:18,  1.59s/it]                                                         INFO:root:Could not load image.\n",
      "100%|████████████████████| 5125/5125 [2:15:21<00:00,  1.58s/it]                                                         \n"
     ]
    }
   ],
   "source": [
    "sat_download.download_sat_images(\n",
    "    creds, config, category=\"school\", iso_code=iso_code, download_validated=True\n",
    ")"
   ]
  },
  {
   "cell_type": "code",
   "execution_count": 27,
   "id": "683e86eb-3c12-4987-b747-51eba60ed7f2",
   "metadata": {
    "tags": []
   },
   "outputs": [
    {
     "name": "stderr",
     "output_type": "stream",
     "text": [
      "INFO:root:Data dimensions: (1736, 12), CRS: EPSG:3857\n",
      "INFO:root:/home/itingzon.unicef/giga/data/rasters/maxar/500x500_60cm/GIGAv4/BWA/non_school\n"
     ]
    }
   ],
   "source": [
    "sat_download.download_sat_images(\n",
    "    creds, config, category=\"non_school\", iso_code=iso_code, download_validated=True\n",
    ")"
   ]
  }
 ],
 "metadata": {
  "kernelspec": {
   "display_name": "giga2",
   "language": "python",
   "name": "giga2"
  },
  "language_info": {
   "codemirror_mode": {
    "name": "ipython",
    "version": 3
   },
   "file_extension": ".py",
   "mimetype": "text/x-python",
   "name": "python",
   "nbconvert_exporter": "python",
   "pygments_lexer": "ipython3",
   "version": "3.10.13"
  }
 },
 "nbformat": 4,
 "nbformat_minor": 5
}
