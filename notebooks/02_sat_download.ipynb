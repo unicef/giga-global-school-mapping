{
  "cells": [
    {
      "cell_type": "markdown",
      "source": [
        "# Download Maxar Satellite Images\n",
        "\n",
        "This notebook demonstrates how to download Maxar satellite images."
      ],
      "metadata": {},
      "id": "2f88ab39-d9e7-4363-baef-c08a3cb6f7e1"
    },
    {
      "cell_type": "markdown",
      "source": [
        "## Imports and Setup"
      ],
      "metadata": {},
      "id": "6148df28-c45e-47de-aebc-90314bf098a6"
    },
    {
      "cell_type": "code",
      "source": [
        "import geopandas as gpd\n",
        "import pandas as pd\n",
        "\n",
        "import os \n",
        "os.chdir('../')\n",
        "from src import sat_download\n",
        "from utils import config_utils\n",
        "from utils import data_utils\n",
        "\n",
        "%load_ext autoreload\n",
        "%autoreload 2"
      ],
      "outputs": [],
      "execution_count": 1,
      "metadata": {
        "editable": true,
        "slideshow": {
          "slide_type": ""
        },
        "tags": [],
        "gather": {
          "logged": 1732665004567
        }
      },
      "id": "99191a61-e81e-416b-b703-bbc957f7a782"
    },
    {
      "cell_type": "markdown",
      "source": [
        "## File Locations"
      ],
      "metadata": {},
      "id": "95c83265-3702-439c-9ea5-5e6593d086b0"
    },
    {
      "cell_type": "code",
      "source": [
        "iso_code = \"TJK\"\n",
        "config_file = os.path.join(os.getcwd(), \"configs/sat_configs/sat_config_500x500_60cm.yaml\")\n",
        "creds_file = os.path.join(os.getcwd(), \"configs/sat_configs/ivan_sat_creds.yaml\")\n",
        "config = config_utils.load_config(config_file)\n",
        "creds = config_utils.create_config(creds_file)"
      ],
      "outputs": [],
      "execution_count": 2,
      "metadata": {
        "tags": [],
        "gather": {
          "logged": 1732665008642
        }
      },
      "id": "009328db-1720-4b88-87b7-1778f491c1a5"
    },
    {
      "cell_type": "markdown",
      "source": [
        "## Download School Satellite Images"
      ],
      "metadata": {},
      "id": "db842671-9d4f-483c-8f9b-f9aa5be2256b"
    },
    {
      "cell_type": "code",
      "source": [
        "sat_download.download_sat_images(\n",
        "    creds, config, category=\"school\", iso_code=iso_code, download_validated=True\n",
        ")"
      ],
      "outputs": [
        {
          "output_type": "stream",
          "name": "stderr",
          "text": "INFO:root:Data dimensions: (3522, 14), CRS: EPSG:3857\n"
        }
      ],
      "execution_count": 6,
      "metadata": {
        "scrolled": true,
        "tags": [],
        "gather": {
          "logged": 1732630540154
        }
      },
      "id": "ab908fcf-e488-4e5b-9f31-869af649ad81"
    },
    {
      "cell_type": "markdown",
      "source": [
        "## Download Non-school Satellite Images"
      ],
      "metadata": {
        "nteract": {
          "transient": {
            "deleting": false
          }
        }
      },
      "id": "01f7e72a-146d-4dae-9391-6bdf725f9741"
    },
    {
      "cell_type": "code",
      "source": [
        "sat_download.download_sat_images(\n",
        "    creds, config, category=\"non_school\", iso_code=iso_code, download_validated=True\n",
        ")"
      ],
      "outputs": [
        {
          "output_type": "stream",
          "name": "stderr",
          "text": "INFO:root:Data dimensions: (5750, 12), CRS: EPSG:3857\n100%|████████████████████| 5750/5750 [00:34<00:00, 166.68it/s]\n"
        }
      ],
      "execution_count": 3,
      "metadata": {
        "tags": [],
        "gather": {
          "logged": 1732665050582
        }
      },
      "id": "28975742-b751-44ff-86ca-384c5afab798"
    }
  ],
  "metadata": {
    "kernelspec": {
      "name": "gigav3",
      "language": "python",
      "display_name": "gigav3"
    },
    "language_info": {
      "name": "python",
      "version": "3.10.13",
      "mimetype": "text/x-python",
      "codemirror_mode": {
        "name": "ipython",
        "version": 3
      },
      "pygments_lexer": "ipython3",
      "nbconvert_exporter": "python",
      "file_extension": ".py"
    },
    "microsoft": {
      "ms_spell_check": {
        "ms_spell_check_language": "en"
      },
      "host": {
        "AzureML": {
          "notebookHasBeenCompleted": true
        }
      }
    },
    "kernel_info": {
      "name": "gigav3"
    },
    "nteract": {
      "version": "nteract-front-end@1.0.0"
    }
  },
  "nbformat": 4,
  "nbformat_minor": 5
}