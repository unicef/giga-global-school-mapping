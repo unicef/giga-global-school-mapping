{
 "cells": [
  {
   "cell_type": "markdown",
   "id": "6148df28-c45e-47de-aebc-90314bf098a6",
   "metadata": {},
   "source": [
    "## Imports and Setup"
   ]
  },
  {
   "cell_type": "code",
   "execution_count": 1,
   "id": "99191a61-e81e-416b-b703-bbc957f7a782",
   "metadata": {
    "editable": true,
    "slideshow": {
     "slide_type": ""
    },
    "tags": []
   },
   "outputs": [],
   "source": [
    "import os\n",
    "import sys\n",
    "sys.path.insert(0, \"../src\")\n",
    "import sat_download\n",
    "\n",
    "sys.path.insert(0, \"../utils/\")\n",
    "import config_utils\n",
    "import data_utils\n",
    "import geopandas as gpd\n",
    "import pandas as pd\n",
    "\n",
    "%load_ext autoreload\n",
    "%autoreload 2"
   ]
  },
  {
   "cell_type": "markdown",
   "id": "95c83265-3702-439c-9ea5-5e6593d086b0",
   "metadata": {},
   "source": [
    "## File Locations"
   ]
  },
  {
   "cell_type": "code",
   "execution_count": 2,
   "id": "009328db-1720-4b88-87b7-1778f491c1a5",
   "metadata": {
    "tags": []
   },
   "outputs": [],
   "source": [
    "iso = \"BEN\"\n",
    "cwd = os.path.dirname(os.getcwd())\n",
    "\n",
    "# Credential config file\n",
    "config_file = os.path.join(cwd, \"configs/sat_configs/sat_config_500x500_60cm.yaml\")\n",
    "creds_file = os.path.join(cwd, \"configs/sat_configs/issa_sat_creds.yaml\")\n",
    "\n",
    "config = config_utils.load_config(config_file)\n",
    "creds = config_utils.create_config(creds_file)"
   ]
  },
  {
   "cell_type": "markdown",
   "id": "db842671-9d4f-483c-8f9b-f9aa5be2256b",
   "metadata": {},
   "source": [
    "## Download Dataset"
   ]
  },
  {
   "cell_type": "code",
   "execution_count": null,
   "id": "856c70e0-39c0-4180-a09b-ac33bf392ddd",
   "metadata": {
    "tags": []
   },
   "outputs": [
    {
     "name": "stderr",
     "output_type": "stream",
     "text": [
      "INFO:root:Data dimensions: (6054, 12), CRS: EPSG:3857\n",
      "INFO:root:Image file directory: /home/itingzon.unicef/giga/data/rasters/maxar/500x500_60cm/GIGAv4/BEN/school\n",
      " 24%|████▊               | 1473/6054 [1:39:51<6:33:28,  5.15s/it]                                                       "
     ]
    }
   ],
   "source": [
    "sat_download.download_sat_images(creds, config, category=\"school\", iso=iso, download_validated=False)"
   ]
  },
  {
   "cell_type": "code",
   "execution_count": 48,
   "id": "683e86eb-3c12-4987-b747-51eba60ed7f2",
   "metadata": {
    "tags": []
   },
   "outputs": [
    {
     "name": "stderr",
     "output_type": "stream",
     "text": [
      "INFO:root:Data dimensions: (7862, 12), CRS: EPSG:3857\n",
      "INFO:root:Image file directory: /home/itingzon.unicef/giga/data/rasters/maxar/500x500_60cm/GIGAv4/ZWE/non_school\n"
     ]
    }
   ],
   "source": [
    "sat_download.download_sat_images(creds, config, category=\"non_school\", iso=iso, download_validated=True)"
   ]
  },
  {
   "cell_type": "markdown",
   "id": "3ed2206b-ca12-42b7-a6d5-8bcf0f2c26d5",
   "metadata": {},
   "source": [
    "## Data Inspection"
   ]
  },
  {
   "cell_type": "code",
   "execution_count": 20,
   "id": "ab4bdac3-b8f4-474c-a9fe-10c9538f0f4c",
   "metadata": {},
   "outputs": [
    {
     "name": "stderr",
     "output_type": "stream",
     "text": [
      "Reading counts for KEN: 100%|████████████████████| 9/9 [00:23<00:00,  2.63s/it]                                         \n"
     ]
    },
    {
     "data": {
      "text/html": [
       "<div>\n",
       "<style scoped>\n",
       "    .dataframe tbody tr th:only-of-type {\n",
       "        vertical-align: middle;\n",
       "    }\n",
       "\n",
       "    .dataframe tbody tr th {\n",
       "        vertical-align: top;\n",
       "    }\n",
       "\n",
       "    .dataframe thead th {\n",
       "        text-align: right;\n",
       "    }\n",
       "</style>\n",
       "<table border=\"1\" class=\"dataframe\">\n",
       "  <thead>\n",
       "    <tr style=\"text-align: right;\">\n",
       "      <th></th>\n",
       "      <th>school</th>\n",
       "      <th>non_school</th>\n",
       "    </tr>\n",
       "    <tr>\n",
       "      <th>iso</th>\n",
       "      <th></th>\n",
       "      <th></th>\n",
       "    </tr>\n",
       "  </thead>\n",
       "  <tbody>\n",
       "    <tr>\n",
       "      <th>GHA</th>\n",
       "      <td>7425</td>\n",
       "      <td>14850</td>\n",
       "    </tr>\n",
       "    <tr>\n",
       "      <th>SEN</th>\n",
       "      <td>6398</td>\n",
       "      <td>12796</td>\n",
       "    </tr>\n",
       "    <tr>\n",
       "      <th>KEN</th>\n",
       "      <td>5074</td>\n",
       "      <td>10148</td>\n",
       "    </tr>\n",
       "    <tr>\n",
       "      <th>ZWE</th>\n",
       "      <td>3931</td>\n",
       "      <td>7862</td>\n",
       "    </tr>\n",
       "    <tr>\n",
       "      <th>MWI</th>\n",
       "      <td>3111</td>\n",
       "      <td>6222</td>\n",
       "    </tr>\n",
       "    <tr>\n",
       "      <th>RWA</th>\n",
       "      <td>2551</td>\n",
       "      <td>5102</td>\n",
       "    </tr>\n",
       "    <tr>\n",
       "      <th>NAM</th>\n",
       "      <td>1692</td>\n",
       "      <td>3384</td>\n",
       "    </tr>\n",
       "    <tr>\n",
       "      <th>SSD</th>\n",
       "      <td>1580</td>\n",
       "      <td>3160</td>\n",
       "    </tr>\n",
       "    <tr>\n",
       "      <th>BWA</th>\n",
       "      <td>868</td>\n",
       "      <td>1736</td>\n",
       "    </tr>\n",
       "  </tbody>\n",
       "</table>\n",
       "</div>"
      ],
      "text/plain": [
       "     school  non_school\n",
       "iso                    \n",
       "GHA    7425       14850\n",
       "SEN    6398       12796\n",
       "KEN    5074       10148\n",
       "ZWE    3931        7862\n",
       "MWI    3111        6222\n",
       "RWA    2551        5102\n",
       "NAM    1692        3384\n",
       "SSD    1580        3160\n",
       "BWA     868        1736"
      ]
     },
     "execution_count": 20,
     "metadata": {},
     "output_type": "execute_result"
    }
   ],
   "source": [
    "config = config_utils.load_config(os.path.join(cwd, \"configs/data_configs/data_config_ISO_AF.yaml\"))\n",
    "counts = data_utils.get_counts(config, column='iso')\n",
    "counts"
   ]
  }
 ],
 "metadata": {
  "kernelspec": {
   "display_name": "giga2",
   "language": "python",
   "name": "giga2"
  },
  "language_info": {
   "codemirror_mode": {
    "name": "ipython",
    "version": 3
   },
   "file_extension": ".py",
   "mimetype": "text/x-python",
   "name": "python",
   "nbconvert_exporter": "python",
   "pygments_lexer": "ipython3",
   "version": "3.10.13"
  }
 },
 "nbformat": 4,
 "nbformat_minor": 5
}
