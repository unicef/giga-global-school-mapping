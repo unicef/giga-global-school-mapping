{
  "cells": [
    {
      "cell_type": "markdown",
      "source": [
        "## Imports and Setup"
      ],
      "metadata": {},
      "id": "59f30888-f40c-41d1-863a-8ecd460a58c2"
    },
    {
      "cell_type": "code",
      "source": [
        "import pandas as pd\n",
        "import geopandas as gpd\n",
        "import logging\n",
        "import joblib\n",
        "import torch\n",
        "\n",
        "import os \n",
        "os.chdir('../')\n",
        "from src import sat_download\n",
        "from utils import data_utils\n",
        "from utils import config_utils\n",
        "from utils import pred_utils\n",
        "\n",
        "%load_ext autoreload\n",
        "%autoreload 2"
      ],
      "outputs": [
        {
          "output_type": "stream",
          "name": "stderr",
          "text": "/anaconda/envs/gigav3/lib/python3.10/site-packages/torch/cuda/__init__.py:138: UserWarning: CUDA initialization: The NVIDIA driver on your system is too old (found version 11040). Please update your GPU driver by downloading and installing a new version from the URL: http://www.nvidia.com/Download/index.aspx Alternatively, go to: https://pytorch.org to install a PyTorch version that has been compiled with your version of the CUDA driver. (Triggered internally at ../c10/cuda/CUDAFunctions.cpp:108.)\n  return torch._C._cuda_getDeviceCount() > 0\n"
        }
      ],
      "execution_count": 1,
      "metadata": {
        "gather": {
          "logged": 1732289651528
        }
      },
      "id": "ea81ddd9-eccc-4e76-a303-a93323f0260d"
    },
    {
      "cell_type": "markdown",
      "source": [
        "## Load Config Files"
      ],
      "metadata": {},
      "id": "43efdc61-1b10-4da4-b1f0-6d1c9af9ba07"
    },
    {
      "cell_type": "code",
      "source": [
        "iso_code=\"TJK\"\n",
        "adm_level=\"ADM2\"\n",
        "sum_threshold=5\n",
        "buffer_size=150\n",
        "spacing=150\n",
        "\n",
        "config_file = os.path.join(os.getcwd(), \"configs/data_configs/data_config_ISO_AS.yaml\")\n",
        "sat_config_file = os.path.join(os.getcwd(), \"configs/sat_configs/sat_config_500x500_60cm.yaml\")\n",
        "sat_creds_file = os.path.join(os.getcwd(), \"configs/sat_configs/issa_sat_creds.yaml\")\n",
        "\n",
        "config = config_utils.load_config(config_file)\n",
        "sat_config = config_utils.load_config(sat_config_file)\n",
        "sat_creds = config_utils.create_config(sat_creds_file)"
      ],
      "outputs": [],
      "execution_count": 9,
      "metadata": {
        "gather": {
          "logged": 1732290650221
        }
      },
      "id": "bdd16025-5f66-45fa-adfc-f85b013de003"
    },
    {
      "cell_type": "markdown",
      "source": [
        "## Generate Prediction Tiles"
      ],
      "metadata": {},
      "id": "a86dc38f-094b-43eb-b003-0e0f478abec9"
    },
    {
      "cell_type": "code",
      "source": [
        "tiles = pred_utils.batch_process_tiles(\n",
        "    config, iso_code, spacing, buffer_size, sum_threshold, adm_level\n",
        ")"
      ],
      "outputs": [],
      "execution_count": null,
      "metadata": {
        "gather": {
          "logged": 1732291617853
        }
      },
      "id": "0f1f2a2b-c278-437b-a982-e5e2ba5be96a"
    },
    {
      "cell_type": "markdown",
      "source": [
        "## Download Satellite Images"
      ],
      "metadata": {},
      "id": "c92170dc-0a4a-46d0-b319-b74ceff6cf1d"
    },
    {
      "cell_type": "code",
      "source": [
        "pred_utils.batch_download_sat_images(\n",
        "    sat_config, sat_creds, config, iso_code, spacing, buffer_size, sum_threshold, adm_level\n",
        ")"
      ],
      "outputs": [],
      "execution_count": null,
      "metadata": {
        "scrolled": true
      },
      "id": "68adddf3-4454-4f72-bb69-158228c38f72"
    }
  ],
  "metadata": {
    "kernelspec": {
      "name": "gigav3",
      "language": "python",
      "display_name": "gigav3"
    },
    "language_info": {
      "name": "python",
      "version": "3.10.13",
      "mimetype": "text/x-python",
      "codemirror_mode": {
        "name": "ipython",
        "version": 3
      },
      "pygments_lexer": "ipython3",
      "nbconvert_exporter": "python",
      "file_extension": ".py"
    },
    "microsoft": {
      "ms_spell_check": {
        "ms_spell_check_language": "en"
      },
      "host": {
        "AzureML": {
          "notebookHasBeenCompleted": true
        }
      }
    },
    "kernel_info": {
      "name": "gigav3"
    },
    "nteract": {
      "version": "nteract-front-end@1.0.0"
    }
  },
  "nbformat": 4,
  "nbformat_minor": 5
}