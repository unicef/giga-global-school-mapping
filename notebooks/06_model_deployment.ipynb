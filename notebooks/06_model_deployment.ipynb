{
 "cells": [
  {
   "cell_type": "markdown",
   "id": "59f30888-f40c-41d1-863a-8ecd460a58c2",
   "metadata": {},
   "source": [
    "## Imports and Setup"
   ]
  },
  {
   "cell_type": "code",
   "execution_count": 1,
   "id": "28af0717-1750-4d1c-884c-a44aa0c7c04a",
   "metadata": {},
   "outputs": [
    {
     "name": "stderr",
     "output_type": "stream",
     "text": [
      "Intel(R) Extension for Scikit-learn* enabled (https://github.com/intel/scikit-learn-intelex)\n"
     ]
    }
   ],
   "source": [
    "import os\n",
    "import pandas as pd\n",
    "import geopandas as gpd\n",
    "import logging\n",
    "import joblib\n",
    "import torch\n",
    "\n",
    "import sys\n",
    "sys.path.insert(0, \"../src\")\n",
    "import sat_download\n",
    "\n",
    "sys.path.insert(0, \"../utils/\")\n",
    "import data_utils\n",
    "import config_utils\n",
    "import pred_utils\n",
    "import embed_utils\n",
    "\n",
    "%load_ext autoreload\n",
    "%autoreload 2"
   ]
  },
  {
   "cell_type": "markdown",
   "id": "43efdc61-1b10-4da4-b1f0-6d1c9af9ba07",
   "metadata": {},
   "source": [
    "## Load Config Files"
   ]
  },
  {
   "cell_type": "code",
   "execution_count": 4,
   "id": "ca7440cb-3df9-49cf-ab2e-458b459865b1",
   "metadata": {},
   "outputs": [],
   "source": [
    "iso_code = \"BWA\"\n",
    "adm_level = \"ADM2\"\n",
    "sum_threshold = 5\n",
    "spacing = 150\n",
    "buffer_size = 150\n",
    "\n",
    "cwd = os.path.dirname(os.getcwd())\n",
    "data_config_file = os.path.join(cwd, \"configs/data_config.yaml\")\n",
    "data_config = config_utils.load_config(data_config_file)\n",
    "\n",
    "sat_config_file = os.path.join(cwd, \"configs/sat_configs/sat_config_500x500_60cm.yaml\")\n",
    "sat_creds_file = os.path.join(cwd, \"configs/sat_configs/issa_sat_creds.yaml\")\n",
    "\n",
    "sat_config = config_utils.load_config(sat_config_file)\n",
    "sat_creds = config_utils.create_config(sat_creds_file)"
   ]
  },
  {
   "cell_type": "markdown",
   "id": "a86dc38f-094b-43eb-b003-0e0f478abec9",
   "metadata": {},
   "source": [
    "## Generate Prediction Tiles"
   ]
  },
  {
   "cell_type": "code",
   "execution_count": null,
   "id": "ccb49a5d-4b55-4c13-a717-4e8162021912",
   "metadata": {},
   "outputs": [
    {
     "name": "stderr",
     "output_type": "stream",
     "text": [
      "INFO:root:Kweneng East\n",
      " 24%|████▊               | 94538/392708 [2:16:42<163:48:01,  1.98s/it]                                                  "
     ]
    }
   ],
   "source": [
    "geoboundary = data_utils._get_geoboundaries(data_config, iso_code, adm_level=adm_level)\n",
    "for shapename in geoboundary.shapeName.unique():\n",
    "    tiles = pred_utils.generate_pred_tiles(\n",
    "        data_config, iso_code, spacing, buffer_size, adm_level, shapename\n",
    "    ).reset_index(drop=True)\n",
    "print(f\"Total tiles: {tiles.shape}\")\n",
    "tiles.head(3)"
   ]
  },
  {
   "cell_type": "markdown",
   "id": "c92170dc-0a4a-46d0-b319-b74ceff6cf1d",
   "metadata": {},
   "source": [
    "## Download Satellite Images"
   ]
  },
  {
   "cell_type": "code",
   "execution_count": null,
   "id": "ae3bb562-77d9-459c-b5e9-a65ee62b6d79",
   "metadata": {},
   "outputs": [],
   "source": [
    "geoboundary = data_utils._get_geoboundaries(data_config, iso_code, adm_level=\"ADM2\")\n",
    "for shapename in geoboundary.shapeName.unique():\n",
    "    print(shapename)\n",
    "    tiles = pred_utils.generate_pred_tiles(\n",
    "        data_config, iso_code, spacing, buffer_size, adm_level, shapename\n",
    "    ).reset_index(drop=True)\n",
    "    tiles[\"points\"] = tiles[\"geometry\"].centroid\n",
    "    tiles = tiles[tiles[\"sum\"] > sum_threshold].reset_index(drop=True)\n",
    "    print(f\"Total tiles: {tiles.shape}\")\n",
    "    \n",
    "    data = tiles.copy()\n",
    "    data[\"geometry\"] = data[\"points\"]\n",
    "    sat_dir = os.path.join(cwd, \"output\", iso_code, \"images\", shapename)\n",
    "    sat_download.download_sat_images(sat_creds, sat_config, data=data, out_dir=sat_dir)"
   ]
  },
  {
   "cell_type": "markdown",
   "id": "7932aee9-7308-4736-93fd-8bd0c91475ae",
   "metadata": {},
   "source": [
    "## CNN Model"
   ]
  },
  {
   "cell_type": "code",
   "execution_count": null,
   "id": "758e96e0-3318-4845-9510-84587589eeac",
   "metadata": {},
   "outputs": [],
   "source": [
    "model_config_file = os.path.join(cwd, f\"configs/cnn_configs/vgg16.yaml\")\n",
    "model_config = config_utils.load_config(model_config_file)\n",
    "result = pred_utils.cnn_predict(tiles, iso_code, shapename, model_config, sat_dir, n_classes=2)"
   ]
  },
  {
   "cell_type": "markdown",
   "id": "a0ae9e20-6425-491e-99ee-2ae80ddf7044",
   "metadata": {},
   "source": [
    "## ViT Model"
   ]
  },
  {
   "cell_type": "code",
   "execution_count": 13,
   "id": "44dbcf6b-3bfa-4759-add7-601f878ed777",
   "metadata": {
    "scrolled": true
   },
   "outputs": [
    {
     "name": "stderr",
     "output_type": "stream",
     "text": [
      "Using cache found in /home/itingzon.unicef/.cache/torch/hub/facebookresearch_dinov2_main\n",
      "INFO:dinov2:using MLP layer as FFN\n",
      "INFO:root:Device: cpu\n",
      "INFO:root:Generating embeddings...\n",
      "INFO:root:Reading file /home/itingzon.unicef/giga/output/SEN/embeddings/SEN_Foundiougne_dinov2_vitl14_embeds.csv\n",
      "INFO:root:Loaded /home/itingzon.unicef/giga/exp/SEN-dinov2_vitl14-LR/SEN-dinov2_vitl14-LR.pkl\n",
      "INFO:sklearnex: sklearn.utils.validation._assert_all_finite: running accelerated version on CPU\n",
      "INFO:sklearnex:sklearn.utils.validation._assert_all_finite: running accelerated version on CPU\n",
      "INFO:root:Generated /home/itingzon.unicef/giga/output/SEN/results/SEN_Foundiougne_dinov2_vitl14-LR_results.gpkg\n"
     ]
    }
   ],
   "source": [
    "model_config_file = os.path.join(cwd, f\"configs/model_configs/dinov2_vitl14-LR.yaml\")\n",
    "model_config = config_utils.load_config(model_config_file)\n",
    "result = pred_utils.vit_pred(tiles, model_config, iso_code, shapename, sat_dir)"
   ]
  }
 ],
 "metadata": {
  "kernelspec": {
   "display_name": "giga2",
   "language": "python",
   "name": "giga2"
  },
  "language_info": {
   "codemirror_mode": {
    "name": "ipython",
    "version": 3
   },
   "file_extension": ".py",
   "mimetype": "text/x-python",
   "name": "python",
   "nbconvert_exporter": "python",
   "pygments_lexer": "ipython3",
   "version": "3.10.13"
  }
 },
 "nbformat": 4,
 "nbformat_minor": 5
}
