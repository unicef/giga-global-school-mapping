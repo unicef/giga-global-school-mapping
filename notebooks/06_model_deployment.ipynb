{
 "cells": [
  {
   "cell_type": "markdown",
   "id": "59f30888-f40c-41d1-863a-8ecd460a58c2",
   "metadata": {},
   "source": [
    "## Imports and Setup"
   ]
  },
  {
   "cell_type": "code",
   "execution_count": 1,
   "id": "e63b2f5a-6fa1-4a10-b24c-e8b366a4d831",
   "metadata": {},
   "outputs": [],
   "source": [
    "import pandas as pd\n",
    "import geopandas as gpd\n",
    "import logging\n",
    "import joblib\n",
    "import torch\n",
    "\n",
    "import os \n",
    "os.chdir('/home/itingzon.unicef/giga')\n",
    "from src import sat_download\n",
    "from utils import data_utils\n",
    "from utils import config_utils\n",
    "from utils import pred_utils\n",
    "\n",
    "%load_ext autoreload\n",
    "%autoreload 2"
   ]
  },
  {
   "cell_type": "markdown",
   "id": "43efdc61-1b10-4da4-b1f0-6d1c9af9ba07",
   "metadata": {},
   "source": [
    "## Load Config Files"
   ]
  },
  {
   "cell_type": "code",
   "execution_count": null,
   "id": "e6ea2f50-edfc-4fbc-8ea8-22152a497bc7",
   "metadata": {},
   "outputs": [],
   "source": [
    "iso_code=\"KEN\"\n",
    "adm_level=\"ADM2\"\n",
    "sum_threshold=5\n",
    "buffer_size=150\n",
    "spacing=150\n",
    "\n",
    "config_file = os.path.join(os.getcwd(), \"configs/data_configs/data_config_ISO_AF.yaml\")\n",
    "sat_config_file = os.path.join(os.getcwd(), \"configs/sat_configs/sat_config_500x500_60cm.yaml\")\n",
    "sat_creds_file = os.path.join(os.getcwd(), \"configs/sat_configs/issa_sat_creds.yaml\")\n",
    "\n",
    "config = config_utils.load_config(config_file)\n",
    "sat_config = config_utils.load_config(sat_config_file)\n",
    "sat_creds = config_utils.create_config(sat_creds_file)"
   ]
  },
  {
   "cell_type": "markdown",
   "id": "a86dc38f-094b-43eb-b003-0e0f478abec9",
   "metadata": {},
   "source": [
    "## Generate Prediction Tiles"
   ]
  },
  {
   "cell_type": "code",
   "execution_count": null,
   "id": "99079de8-b1f8-4b28-a469-fd315c1deef9",
   "metadata": {},
   "outputs": [],
   "source": [
    "tiles = pred_utils.batch_process_tiles(\n",
    "    data_config, iso_code, spacing, buffer_size, sum_threshold, adm_level\n",
    ")"
   ]
  },
  {
   "cell_type": "markdown",
   "id": "c92170dc-0a4a-46d0-b319-b74ceff6cf1d",
   "metadata": {},
   "source": [
    "## Download Satellite Images"
   ]
  },
  {
   "cell_type": "code",
   "execution_count": null,
   "id": "ee86b434-3a38-4130-8b4e-7f72beef847c",
   "metadata": {
    "scrolled": true
   },
   "outputs": [
    {
     "name": "stdout",
     "output_type": "stream",
     "text": [
      "Gachoka 0/290 total tiles: (34337, 5)\n",
      "Siakago 1/290 total tiles: (20121, 5)\n",
      "Mwingi North 2/290 total tiles: (32835, 5)\n"
     ]
    },
    {
     "name": "stderr",
     "output_type": "stream",
     "text": [
      "100%|████████████████████| 32835/32835 [2:11:54<00:00,  4.15it/s]                                                       \n"
     ]
    },
    {
     "name": "stdout",
     "output_type": "stream",
     "text": [
      "Mwingi West 3/290 total tiles: (28527, 5)\n"
     ]
    },
    {
     "name": "stderr",
     "output_type": "stream",
     "text": [
      "100%|████████████████████| 28527/28527 [9:00:42<00:00,  1.14s/it]                                                       \n"
     ]
    },
    {
     "name": "stdout",
     "output_type": "stream",
     "text": [
      "Mwingi East 4/290 total tiles: (30893, 5)\n"
     ]
    },
    {
     "name": "stderr",
     "output_type": "stream",
     "text": [
      " 28%|█████▌              | 8655/30893 [3:27:22<6:41:26,  1.08s/it]                                                      "
     ]
    }
   ],
   "source": [
    "pred_utils.batch_download_sat_images(\n",
    "    sat_config, sat_creds, config, iso_code, spacing, buffer_size, sum_threshold, adm_level\n",
    ")"
   ]
  },
  {
   "cell_type": "markdown",
   "id": "7932aee9-7308-4736-93fd-8bd0c91475ae",
   "metadata": {},
   "source": [
    "## Run Model"
   ]
  },
  {
   "cell_type": "code",
   "execution_count": null,
   "id": "758e96e0-3318-4845-9510-84587589eeac",
   "metadata": {},
   "outputs": [],
   "source": [
    "model_config_file = os.path.join(cwd, f\"configs/cnn_configs/vgg16.yaml\")\n",
    "model_config = config_utils.load_config(model_config_file)\n",
    "result = pred_utils.cnn_predict(tiles, iso_code, shapename, model_config, sat_dir, n_classes=2)"
   ]
  }
 ],
 "metadata": {
  "kernelspec": {
   "display_name": "giga2",
   "language": "python",
   "name": "giga2"
  },
  "language_info": {
   "codemirror_mode": {
    "name": "ipython",
    "version": 3
   },
   "file_extension": ".py",
   "mimetype": "text/x-python",
   "name": "python",
   "nbconvert_exporter": "python",
   "pygments_lexer": "ipython3",
   "version": "3.10.13"
  }
 },
 "nbformat": 4,
 "nbformat_minor": 5
}
