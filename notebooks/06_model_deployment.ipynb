{
 "cells": [
  {
   "cell_type": "markdown",
   "id": "59f30888-f40c-41d1-863a-8ecd460a58c2",
   "metadata": {},
   "source": [
    "## Imports and Setup"
   ]
  },
  {
   "cell_type": "code",
   "execution_count": 1,
   "id": "e63b2f5a-6fa1-4a10-b24c-e8b366a4d831",
   "metadata": {},
   "outputs": [],
   "source": [
    "import os\n",
    "import pandas as pd\n",
    "import geopandas as gpd\n",
    "import logging\n",
    "import joblib\n",
    "import torch\n",
    "\n",
    "import sys\n",
    "sys.path.insert(0, \"../src\")\n",
    "import sat_download\n",
    "\n",
    "sys.path.insert(0, \"../utils/\")\n",
    "import data_utils\n",
    "import config_utils\n",
    "import pred_utils\n",
    "import embed_utils\n",
    "\n",
    "%load_ext autoreload\n",
    "%autoreload 2"
   ]
  },
  {
   "cell_type": "markdown",
   "id": "43efdc61-1b10-4da4-b1f0-6d1c9af9ba07",
   "metadata": {},
   "source": [
    "## Load Config Files"
   ]
  },
  {
   "cell_type": "code",
   "execution_count": 2,
   "id": "e6ea2f50-edfc-4fbc-8ea8-22152a497bc7",
   "metadata": {},
   "outputs": [],
   "source": [
    "iso_code = \"KEN\"\n",
    "adm_level = \"ADM2\"\n",
    "sum_threshold = 5\n",
    "spacing = 150\n",
    "buffer_size = 150\n",
    "\n",
    "cwd = os.path.dirname(os.getcwd())\n",
    "data_config_file = os.path.join(cwd, \"configs/data_configs/data_config_ISO_AF.yaml\")\n",
    "data_config = config_utils.load_config(data_config_file)\n",
    "\n",
    "sat_config_file = os.path.join(cwd, \"configs/sat_configs/sat_config_500x500_60cm.yaml\")\n",
    "sat_creds_file = os.path.join(cwd, \"configs/sat_configs/issa_sat_creds.yaml\")\n",
    "\n",
    "sat_config = config_utils.load_config(sat_config_file)\n",
    "sat_creds = config_utils.create_config(sat_creds_file)"
   ]
  },
  {
   "cell_type": "markdown",
   "id": "a86dc38f-094b-43eb-b003-0e0f478abec9",
   "metadata": {},
   "source": [
    "## Generate Prediction Tiles"
   ]
  },
  {
   "cell_type": "code",
   "execution_count": null,
   "id": "5ef05445-1772-47a8-871e-f8105465e377",
   "metadata": {},
   "outputs": [],
   "source": [
    "geoboundary = data_utils._get_geoboundaries(data_config, iso_code, adm_level=adm_level)\n",
    "for i, shapename in enumerate(geoboundary.shapeName.unique()):\n",
    "    print(f\"{shapename} {i}/{len(geoboundary.shapeName.unique())}\")\n",
    "    tiles = pred_utils.generate_pred_tiles(\n",
    "        data_config, iso_code, spacing, buffer_size, adm_level, shapename\n",
    "    ).reset_index(drop=True)\n",
    "    tiles[\"points\"] = tiles[\"geometry\"].centroid\n",
    "    tiles = tiles[tiles[\"sum\"] > sum_threshold].reset_index(drop=True)\n",
    "    print(f\"Total tiles: {tiles.shape}\")\n",
    "tiles.head(3)"
   ]
  },
  {
   "cell_type": "markdown",
   "id": "c92170dc-0a4a-46d0-b319-b74ceff6cf1d",
   "metadata": {},
   "source": [
    "## Download Satellite Images"
   ]
  },
  {
   "cell_type": "code",
   "execution_count": null,
   "id": "571f570c-c7d6-4b81-af2f-f30c1b244251",
   "metadata": {
    "scrolled": true
   },
   "outputs": [
    {
     "name": "stdout",
     "output_type": "stream",
     "text": [
      "Changamwe 0/290\n",
      "Total tiles: (866, 5)\n"
     ]
    },
    {
     "name": "stderr",
     "output_type": "stream",
     "text": [
      "INFO:root:Data dimensions: (866, 7), CRS: EPSG:3857\n",
      "INFO:root:Image file directory: /home/itingzon.unicef/giga/output/KEN/images/Changamwe\n"
     ]
    },
    {
     "name": "stdout",
     "output_type": "stream",
     "text": [
      "Jomvu 1/290\n",
      "Total tiles: (1056, 5)\n"
     ]
    },
    {
     "name": "stderr",
     "output_type": "stream",
     "text": [
      "INFO:root:Data dimensions: (1056, 7), CRS: EPSG:3857\n",
      "INFO:root:Image file directory: /home/itingzon.unicef/giga/output/KEN/images/Jomvu\n"
     ]
    },
    {
     "name": "stdout",
     "output_type": "stream",
     "text": [
      "Kisauni 2/290\n",
      "Total tiles: (3131, 5)\n"
     ]
    },
    {
     "name": "stderr",
     "output_type": "stream",
     "text": [
      "INFO:root:Data dimensions: (3131, 7), CRS: EPSG:3857\n",
      "INFO:root:Image file directory: /home/itingzon.unicef/giga/output/KEN/images/Kisauni\n"
     ]
    },
    {
     "name": "stdout",
     "output_type": "stream",
     "text": [
      "Nyali 3/290\n",
      "Total tiles: (985, 5)\n"
     ]
    },
    {
     "name": "stderr",
     "output_type": "stream",
     "text": [
      "INFO:root:Data dimensions: (985, 7), CRS: EPSG:3857\n",
      "INFO:root:Image file directory: /home/itingzon.unicef/giga/output/KEN/images/Nyali\n"
     ]
    },
    {
     "name": "stdout",
     "output_type": "stream",
     "text": [
      "Likoni 4/290\n",
      "Total tiles: (1915, 5)\n"
     ]
    },
    {
     "name": "stderr",
     "output_type": "stream",
     "text": [
      "INFO:root:Data dimensions: (1915, 7), CRS: EPSG:3857\n",
      "INFO:root:Image file directory: /home/itingzon.unicef/giga/output/KEN/images/Likoni\n"
     ]
    },
    {
     "name": "stdout",
     "output_type": "stream",
     "text": [
      "Mvita 5/290\n",
      "Total tiles: (639, 5)\n"
     ]
    },
    {
     "name": "stderr",
     "output_type": "stream",
     "text": [
      "INFO:root:Data dimensions: (639, 7), CRS: EPSG:3857\n",
      "INFO:root:Image file directory: /home/itingzon.unicef/giga/output/KEN/images/Mvita\n"
     ]
    },
    {
     "name": "stdout",
     "output_type": "stream",
     "text": [
      "Msambweni 6/290\n",
      "Total tiles: (9880, 5)\n"
     ]
    },
    {
     "name": "stderr",
     "output_type": "stream",
     "text": [
      "INFO:root:Data dimensions: (9880, 7), CRS: EPSG:3857\n",
      "INFO:root:Image file directory: /home/itingzon.unicef/giga/output/KEN/images/Msambweni\n"
     ]
    },
    {
     "name": "stdout",
     "output_type": "stream",
     "text": [
      "Lunga Lunga 7/290\n",
      "Total tiles: (24186, 5)\n"
     ]
    },
    {
     "name": "stderr",
     "output_type": "stream",
     "text": [
      "INFO:root:Data dimensions: (24186, 7), CRS: EPSG:3857\n",
      "INFO:root:Image file directory: /home/itingzon.unicef/giga/output/KEN/images/Lunga Lunga\n"
     ]
    },
    {
     "name": "stdout",
     "output_type": "stream",
     "text": [
      "Matuga 8/290\n",
      "Total tiles: (22551, 5)\n"
     ]
    },
    {
     "name": "stderr",
     "output_type": "stream",
     "text": [
      "INFO:root:Data dimensions: (22551, 7), CRS: EPSG:3857\n",
      "INFO:root:Image file directory: /home/itingzon.unicef/giga/output/KEN/images/Matuga\n"
     ]
    },
    {
     "name": "stdout",
     "output_type": "stream",
     "text": [
      "Kinango 9/290\n",
      "Total tiles: (34509, 5)\n"
     ]
    },
    {
     "name": "stderr",
     "output_type": "stream",
     "text": [
      "INFO:root:Data dimensions: (34509, 7), CRS: EPSG:3857\n",
      "INFO:root:Image file directory: /home/itingzon.unicef/giga/output/KEN/images/Kinango\n"
     ]
    },
    {
     "name": "stdout",
     "output_type": "stream",
     "text": [
      "Kilifi North 10/290\n",
      "Total tiles: (18388, 5)\n"
     ]
    },
    {
     "name": "stderr",
     "output_type": "stream",
     "text": [
      "INFO:root:Data dimensions: (18388, 7), CRS: EPSG:3857\n",
      "INFO:root:Image file directory: /home/itingzon.unicef/giga/output/KEN/images/Kilifi North\n"
     ]
    },
    {
     "name": "stdout",
     "output_type": "stream",
     "text": [
      "Kilifi South 11/290\n",
      "Total tiles: (10244, 5)\n"
     ]
    },
    {
     "name": "stderr",
     "output_type": "stream",
     "text": [
      "INFO:root:Data dimensions: (10244, 7), CRS: EPSG:3857\n",
      "INFO:root:Image file directory: /home/itingzon.unicef/giga/output/KEN/images/Kilifi South\n"
     ]
    },
    {
     "name": "stdout",
     "output_type": "stream",
     "text": [
      "Kaloleni 12/290\n",
      "Total tiles: (15799, 5)\n"
     ]
    },
    {
     "name": "stderr",
     "output_type": "stream",
     "text": [
      "INFO:root:Data dimensions: (15799, 7), CRS: EPSG:3857\n",
      "INFO:root:Image file directory: /home/itingzon.unicef/giga/output/KEN/images/Kaloleni\n"
     ]
    },
    {
     "name": "stdout",
     "output_type": "stream",
     "text": [
      "Rabai 13/290\n",
      "Total tiles: (6940, 5)\n"
     ]
    },
    {
     "name": "stderr",
     "output_type": "stream",
     "text": [
      "INFO:root:Data dimensions: (6940, 7), CRS: EPSG:3857\n",
      "INFO:root:Image file directory: /home/itingzon.unicef/giga/output/KEN/images/Rabai\n"
     ]
    },
    {
     "name": "stdout",
     "output_type": "stream",
     "text": [
      "Ganze 14/290\n",
      "Total tiles: (25716, 5)\n"
     ]
    },
    {
     "name": "stderr",
     "output_type": "stream",
     "text": [
      "INFO:root:Data dimensions: (25716, 7), CRS: EPSG:3857\n",
      "INFO:root:Image file directory: /home/itingzon.unicef/giga/output/KEN/images/Ganze\n"
     ]
    },
    {
     "name": "stdout",
     "output_type": "stream",
     "text": [
      "Malindi 15/290\n",
      "Total tiles: (8459, 5)\n"
     ]
    },
    {
     "name": "stderr",
     "output_type": "stream",
     "text": [
      "INFO:root:Data dimensions: (8459, 7), CRS: EPSG:3857\n",
      "INFO:root:Image file directory: /home/itingzon.unicef/giga/output/KEN/images/Malindi\n"
     ]
    },
    {
     "name": "stdout",
     "output_type": "stream",
     "text": [
      "Magarini 16/290\n",
      "Total tiles: (24302, 5)\n"
     ]
    },
    {
     "name": "stderr",
     "output_type": "stream",
     "text": [
      "INFO:root:Data dimensions: (24302, 7), CRS: EPSG:3857\n",
      "INFO:root:Image file directory: /home/itingzon.unicef/giga/output/KEN/images/Magarini\n"
     ]
    },
    {
     "name": "stdout",
     "output_type": "stream",
     "text": [
      "Garsen 17/290\n",
      "Total tiles: (9016, 5)\n"
     ]
    },
    {
     "name": "stderr",
     "output_type": "stream",
     "text": [
      "INFO:root:Data dimensions: (9016, 7), CRS: EPSG:3857\n",
      "INFO:root:Image file directory: /home/itingzon.unicef/giga/output/KEN/images/Garsen\n"
     ]
    },
    {
     "name": "stdout",
     "output_type": "stream",
     "text": [
      "Galole 18/290\n",
      "Total tiles: (4537, 5)\n"
     ]
    },
    {
     "name": "stderr",
     "output_type": "stream",
     "text": [
      "INFO:root:Data dimensions: (4537, 7), CRS: EPSG:3857\n",
      "INFO:root:Image file directory: /home/itingzon.unicef/giga/output/KEN/images/Galole\n"
     ]
    },
    {
     "name": "stdout",
     "output_type": "stream",
     "text": [
      "Bura 19/290\n",
      "Total tiles: (6457, 5)\n"
     ]
    },
    {
     "name": "stderr",
     "output_type": "stream",
     "text": [
      "INFO:root:Data dimensions: (6457, 7), CRS: EPSG:3857\n",
      "INFO:root:Image file directory: /home/itingzon.unicef/giga/output/KEN/images/Bura\n"
     ]
    },
    {
     "name": "stdout",
     "output_type": "stream",
     "text": [
      "Lamu East 20/290\n",
      "Total tiles: (594, 5)\n"
     ]
    },
    {
     "name": "stderr",
     "output_type": "stream",
     "text": [
      "INFO:root:Data dimensions: (594, 7), CRS: EPSG:3857\n",
      "INFO:root:Image file directory: /home/itingzon.unicef/giga/output/KEN/images/Lamu East\n"
     ]
    },
    {
     "name": "stdout",
     "output_type": "stream",
     "text": [
      "Lamu West 21/290\n",
      "Total tiles: (19370, 5)\n"
     ]
    },
    {
     "name": "stderr",
     "output_type": "stream",
     "text": [
      "INFO:root:Data dimensions: (19370, 7), CRS: EPSG:3857\n",
      "INFO:root:Image file directory: /home/itingzon.unicef/giga/output/KEN/images/Lamu West\n"
     ]
    },
    {
     "name": "stdout",
     "output_type": "stream",
     "text": [
      "Taveta 22/290\n",
      "Total tiles: (9918, 5)\n"
     ]
    },
    {
     "name": "stderr",
     "output_type": "stream",
     "text": [
      "INFO:root:Data dimensions: (9918, 7), CRS: EPSG:3857\n",
      "INFO:root:Image file directory: /home/itingzon.unicef/giga/output/KEN/images/Taveta\n"
     ]
    },
    {
     "name": "stdout",
     "output_type": "stream",
     "text": [
      "Wundanyi 23/290\n",
      "Total tiles: (7845, 5)\n"
     ]
    },
    {
     "name": "stderr",
     "output_type": "stream",
     "text": [
      "INFO:root:Data dimensions: (7845, 7), CRS: EPSG:3857\n",
      "INFO:root:Image file directory: /home/itingzon.unicef/giga/output/KEN/images/Wundanyi\n"
     ]
    },
    {
     "name": "stdout",
     "output_type": "stream",
     "text": [
      "Mwatate 24/290\n",
      "Total tiles: (13835, 5)\n"
     ]
    },
    {
     "name": "stderr",
     "output_type": "stream",
     "text": [
      "INFO:root:Data dimensions: (13835, 7), CRS: EPSG:3857\n",
      "INFO:root:Image file directory: /home/itingzon.unicef/giga/output/KEN/images/Mwatate\n"
     ]
    },
    {
     "name": "stdout",
     "output_type": "stream",
     "text": [
      "Voi 25/290\n",
      "Total tiles: (14757, 5)\n"
     ]
    },
    {
     "name": "stderr",
     "output_type": "stream",
     "text": [
      "INFO:root:Data dimensions: (14757, 7), CRS: EPSG:3857\n",
      "INFO:root:Image file directory: /home/itingzon.unicef/giga/output/KEN/images/Voi\n"
     ]
    },
    {
     "name": "stdout",
     "output_type": "stream",
     "text": [
      "Dujis 26/290\n",
      "Total tiles: (2305, 5)\n"
     ]
    },
    {
     "name": "stderr",
     "output_type": "stream",
     "text": [
      "INFO:root:Data dimensions: (2305, 7), CRS: EPSG:3857\n",
      "INFO:root:Image file directory: /home/itingzon.unicef/giga/output/KEN/images/Dujis\n"
     ]
    },
    {
     "name": "stdout",
     "output_type": "stream",
     "text": [
      "Balambala 27/290\n",
      "Total tiles: (1382, 5)\n"
     ]
    },
    {
     "name": "stderr",
     "output_type": "stream",
     "text": [
      "INFO:root:Data dimensions: (1382, 7), CRS: EPSG:3857\n",
      "INFO:root:Image file directory: /home/itingzon.unicef/giga/output/KEN/images/Balambala\n"
     ]
    },
    {
     "name": "stdout",
     "output_type": "stream",
     "text": [
      "Lagdera 28/290\n",
      "Total tiles: (1789, 5)\n"
     ]
    },
    {
     "name": "stderr",
     "output_type": "stream",
     "text": [
      "INFO:root:Data dimensions: (1789, 7), CRS: EPSG:3857\n",
      "INFO:root:Image file directory: /home/itingzon.unicef/giga/output/KEN/images/Lagdera\n"
     ]
    },
    {
     "name": "stdout",
     "output_type": "stream",
     "text": [
      "Dadaab 29/290\n",
      "Total tiles: (3238, 5)\n"
     ]
    },
    {
     "name": "stderr",
     "output_type": "stream",
     "text": [
      "INFO:root:Data dimensions: (3238, 7), CRS: EPSG:3857\n",
      "INFO:root:Image file directory: /home/itingzon.unicef/giga/output/KEN/images/Dadaab\n"
     ]
    },
    {
     "name": "stdout",
     "output_type": "stream",
     "text": [
      "Fafi 30/290\n",
      "Total tiles: (2346, 5)\n"
     ]
    },
    {
     "name": "stderr",
     "output_type": "stream",
     "text": [
      "INFO:root:Data dimensions: (2346, 7), CRS: EPSG:3857\n",
      "INFO:root:Image file directory: /home/itingzon.unicef/giga/output/KEN/images/Fafi\n"
     ]
    },
    {
     "name": "stdout",
     "output_type": "stream",
     "text": [
      "Ijara 31/290\n",
      "Total tiles: (2554, 5)\n"
     ]
    },
    {
     "name": "stderr",
     "output_type": "stream",
     "text": [
      "INFO:root:Data dimensions: (2554, 7), CRS: EPSG:3857\n",
      "INFO:root:Image file directory: /home/itingzon.unicef/giga/output/KEN/images/Ijara\n"
     ]
    },
    {
     "name": "stdout",
     "output_type": "stream",
     "text": [
      "Wajir North 32/290\n",
      "Total tiles: (2761, 5)\n"
     ]
    },
    {
     "name": "stderr",
     "output_type": "stream",
     "text": [
      "INFO:root:Data dimensions: (2761, 7), CRS: EPSG:3857\n",
      "INFO:root:Image file directory: /home/itingzon.unicef/giga/output/KEN/images/Wajir North\n"
     ]
    },
    {
     "name": "stdout",
     "output_type": "stream",
     "text": [
      "Wajir East 33/290\n",
      "Total tiles: (3929, 5)\n"
     ]
    },
    {
     "name": "stderr",
     "output_type": "stream",
     "text": [
      "INFO:root:Data dimensions: (3929, 7), CRS: EPSG:3857\n",
      "INFO:root:Image file directory: /home/itingzon.unicef/giga/output/KEN/images/Wajir East\n"
     ]
    },
    {
     "name": "stdout",
     "output_type": "stream",
     "text": [
      "Tarbaj 34/290\n",
      "Total tiles: (2200, 5)\n"
     ]
    },
    {
     "name": "stderr",
     "output_type": "stream",
     "text": [
      "INFO:root:Data dimensions: (2200, 7), CRS: EPSG:3857\n",
      "INFO:root:Image file directory: /home/itingzon.unicef/giga/output/KEN/images/Tarbaj\n"
     ]
    },
    {
     "name": "stdout",
     "output_type": "stream",
     "text": [
      "Wajir West 35/290\n",
      "Total tiles: (3019, 5)\n"
     ]
    },
    {
     "name": "stderr",
     "output_type": "stream",
     "text": [
      "INFO:root:Data dimensions: (3019, 7), CRS: EPSG:3857\n",
      "INFO:root:Image file directory: /home/itingzon.unicef/giga/output/KEN/images/Wajir West\n"
     ]
    },
    {
     "name": "stdout",
     "output_type": "stream",
     "text": [
      "Eldas 36/290\n",
      "Total tiles: (2518, 5)\n"
     ]
    },
    {
     "name": "stderr",
     "output_type": "stream",
     "text": [
      "INFO:root:Data dimensions: (2518, 7), CRS: EPSG:3857\n",
      "INFO:root:Image file directory: /home/itingzon.unicef/giga/output/KEN/images/Eldas\n"
     ]
    },
    {
     "name": "stdout",
     "output_type": "stream",
     "text": [
      "Wajir South 37/290\n",
      "Total tiles: (4963, 5)\n"
     ]
    },
    {
     "name": "stderr",
     "output_type": "stream",
     "text": [
      "INFO:root:Data dimensions: (4963, 7), CRS: EPSG:3857\n",
      "INFO:root:Image file directory: /home/itingzon.unicef/giga/output/KEN/images/Wajir South\n"
     ]
    },
    {
     "name": "stdout",
     "output_type": "stream",
     "text": [
      "Mandera West 38/290\n",
      "Total tiles: (3454, 5)\n"
     ]
    },
    {
     "name": "stderr",
     "output_type": "stream",
     "text": [
      "INFO:root:Data dimensions: (3454, 7), CRS: EPSG:3857\n",
      "INFO:root:Image file directory: /home/itingzon.unicef/giga/output/KEN/images/Mandera West\n"
     ]
    },
    {
     "name": "stdout",
     "output_type": "stream",
     "text": [
      "Banissa 39/290\n",
      "Total tiles: (2053, 5)\n"
     ]
    },
    {
     "name": "stderr",
     "output_type": "stream",
     "text": [
      "INFO:root:Data dimensions: (2053, 7), CRS: EPSG:3857\n",
      "INFO:root:Image file directory: /home/itingzon.unicef/giga/output/KEN/images/Banissa\n"
     ]
    },
    {
     "name": "stdout",
     "output_type": "stream",
     "text": [
      "Mandera North 40/290\n",
      "Total tiles: (2493, 5)\n"
     ]
    },
    {
     "name": "stderr",
     "output_type": "stream",
     "text": [
      "INFO:root:Data dimensions: (2493, 7), CRS: EPSG:3857\n",
      "INFO:root:Image file directory: /home/itingzon.unicef/giga/output/KEN/images/Mandera North\n"
     ]
    },
    {
     "name": "stdout",
     "output_type": "stream",
     "text": [
      "Mandera South 41/290\n",
      "Total tiles: (2941, 5)\n"
     ]
    },
    {
     "name": "stderr",
     "output_type": "stream",
     "text": [
      "INFO:root:Data dimensions: (2941, 7), CRS: EPSG:3857\n",
      "INFO:root:Image file directory: /home/itingzon.unicef/giga/output/KEN/images/Mandera South\n"
     ]
    },
    {
     "name": "stdout",
     "output_type": "stream",
     "text": [
      "Mandera East 42/290\n",
      "Total tiles: (3721, 5)\n"
     ]
    },
    {
     "name": "stderr",
     "output_type": "stream",
     "text": [
      "INFO:root:Data dimensions: (3721, 7), CRS: EPSG:3857\n",
      "INFO:root:Image file directory: /home/itingzon.unicef/giga/output/KEN/images/Mandera East\n"
     ]
    },
    {
     "name": "stdout",
     "output_type": "stream",
     "text": [
      "Lafey 43/290\n",
      "Total tiles: (1266, 5)\n"
     ]
    },
    {
     "name": "stderr",
     "output_type": "stream",
     "text": [
      "INFO:root:Data dimensions: (1266, 7), CRS: EPSG:3857\n",
      "INFO:root:Image file directory: /home/itingzon.unicef/giga/output/KEN/images/Lafey\n"
     ]
    },
    {
     "name": "stdout",
     "output_type": "stream",
     "text": [
      "Moyale 44/290\n",
      "Total tiles: (4917, 5)\n"
     ]
    },
    {
     "name": "stderr",
     "output_type": "stream",
     "text": [
      "INFO:root:Data dimensions: (4917, 7), CRS: EPSG:3857\n",
      "INFO:root:Image file directory: /home/itingzon.unicef/giga/output/KEN/images/Moyale\n"
     ]
    },
    {
     "name": "stdout",
     "output_type": "stream",
     "text": [
      "North Horr 45/290\n",
      "Total tiles: (7098, 5)\n"
     ]
    },
    {
     "name": "stderr",
     "output_type": "stream",
     "text": [
      "INFO:root:Data dimensions: (7098, 7), CRS: EPSG:3857\n",
      "INFO:root:Image file directory: /home/itingzon.unicef/giga/output/KEN/images/North Horr\n"
     ]
    },
    {
     "name": "stdout",
     "output_type": "stream",
     "text": [
      "Saku 46/290\n",
      "Total tiles: (4595, 5)\n"
     ]
    },
    {
     "name": "stderr",
     "output_type": "stream",
     "text": [
      "INFO:root:Data dimensions: (4595, 7), CRS: EPSG:3857\n",
      "INFO:root:Image file directory: /home/itingzon.unicef/giga/output/KEN/images/Saku\n"
     ]
    },
    {
     "name": "stdout",
     "output_type": "stream",
     "text": [
      "Laisamis 47/290\n",
      "Total tiles: (4389, 5)\n"
     ]
    },
    {
     "name": "stderr",
     "output_type": "stream",
     "text": [
      "INFO:root:Data dimensions: (4389, 7), CRS: EPSG:3857\n",
      "INFO:root:Image file directory: /home/itingzon.unicef/giga/output/KEN/images/Laisamis\n"
     ]
    },
    {
     "name": "stdout",
     "output_type": "stream",
     "text": [
      "Isiolo North 48/290\n",
      "Total tiles: (6356, 5)\n"
     ]
    },
    {
     "name": "stderr",
     "output_type": "stream",
     "text": [
      "INFO:root:Data dimensions: (6356, 7), CRS: EPSG:3857\n",
      "INFO:root:Image file directory: /home/itingzon.unicef/giga/output/KEN/images/Isiolo North\n"
     ]
    },
    {
     "name": "stdout",
     "output_type": "stream",
     "text": [
      "Isiolo South 49/290\n",
      "Total tiles: (2209, 5)\n"
     ]
    },
    {
     "name": "stderr",
     "output_type": "stream",
     "text": [
      "INFO:root:Data dimensions: (2209, 7), CRS: EPSG:3857\n",
      "INFO:root:Image file directory: /home/itingzon.unicef/giga/output/KEN/images/Isiolo South\n"
     ]
    },
    {
     "name": "stdout",
     "output_type": "stream",
     "text": [
      "Igembe South 50/290\n",
      "Total tiles: (7164, 5)\n"
     ]
    },
    {
     "name": "stderr",
     "output_type": "stream",
     "text": [
      "INFO:root:Data dimensions: (7164, 7), CRS: EPSG:3857\n",
      "INFO:root:Image file directory: /home/itingzon.unicef/giga/output/KEN/images/Igembe South\n"
     ]
    },
    {
     "name": "stdout",
     "output_type": "stream",
     "text": [
      "Igembe Central 51/290\n",
      "Total tiles: (11400, 5)\n"
     ]
    },
    {
     "name": "stderr",
     "output_type": "stream",
     "text": [
      "INFO:root:Data dimensions: (11400, 7), CRS: EPSG:3857\n",
      "INFO:root:Image file directory: /home/itingzon.unicef/giga/output/KEN/images/Igembe Central\n"
     ]
    },
    {
     "name": "stdout",
     "output_type": "stream",
     "text": [
      "Igembe North 52/290\n",
      "Total tiles: (6426, 5)\n"
     ]
    },
    {
     "name": "stderr",
     "output_type": "stream",
     "text": [
      "INFO:root:Data dimensions: (6426, 7), CRS: EPSG:3857\n",
      "INFO:root:Image file directory: /home/itingzon.unicef/giga/output/KEN/images/Igembe North\n"
     ]
    },
    {
     "name": "stdout",
     "output_type": "stream",
     "text": [
      "Tigania West 53/290\n",
      "Total tiles: (12927, 5)\n"
     ]
    },
    {
     "name": "stderr",
     "output_type": "stream",
     "text": [
      "INFO:root:Data dimensions: (12927, 7), CRS: EPSG:3857\n",
      "INFO:root:Image file directory: /home/itingzon.unicef/giga/output/KEN/images/Tigania West\n"
     ]
    },
    {
     "name": "stdout",
     "output_type": "stream",
     "text": [
      "Tigania East 54/290\n",
      "Total tiles: (13408, 5)\n"
     ]
    },
    {
     "name": "stderr",
     "output_type": "stream",
     "text": [
      "INFO:root:Data dimensions: (13408, 7), CRS: EPSG:3857\n",
      "INFO:root:Image file directory: /home/itingzon.unicef/giga/output/KEN/images/Tigania East\n"
     ]
    },
    {
     "name": "stdout",
     "output_type": "stream",
     "text": [
      "North Imenti 55/290\n",
      "Total tiles: (9620, 5)\n"
     ]
    },
    {
     "name": "stderr",
     "output_type": "stream",
     "text": [
      "INFO:root:Data dimensions: (9620, 7), CRS: EPSG:3857\n",
      "INFO:root:Image file directory: /home/itingzon.unicef/giga/output/KEN/images/North Imenti\n"
     ]
    },
    {
     "name": "stdout",
     "output_type": "stream",
     "text": [
      "Buuri 56/290\n",
      "Total tiles: (17229, 5)\n"
     ]
    },
    {
     "name": "stderr",
     "output_type": "stream",
     "text": [
      "INFO:root:Data dimensions: (17229, 7), CRS: EPSG:3857\n",
      "INFO:root:Image file directory: /home/itingzon.unicef/giga/output/KEN/images/Buuri\n"
     ]
    },
    {
     "name": "stdout",
     "output_type": "stream",
     "text": [
      "Cental Imenti 57/290\n",
      "Total tiles: (17191, 5)\n"
     ]
    },
    {
     "name": "stderr",
     "output_type": "stream",
     "text": [
      "INFO:root:Data dimensions: (17191, 7), CRS: EPSG:3857\n",
      "INFO:root:Image file directory: /home/itingzon.unicef/giga/output/KEN/images/Cental Imenti\n",
      "100%|████████████████████| 17191/17191 [3:28:09<00:00,  1.38it/s]                                                       \n"
     ]
    },
    {
     "name": "stdout",
     "output_type": "stream",
     "text": [
      "South Imenti 58/290\n",
      "Total tiles: (16636, 5)\n"
     ]
    },
    {
     "name": "stderr",
     "output_type": "stream",
     "text": [
      "INFO:root:Data dimensions: (16636, 7), CRS: EPSG:3857\n",
      "INFO:root:Image file directory: /home/itingzon.unicef/giga/output/KEN/images/South Imenti\n",
      "100%|████████████████████| 16636/16636 [4:33:02<00:00,  1.02it/s]                                                       \n"
     ]
    },
    {
     "name": "stdout",
     "output_type": "stream",
     "text": [
      "Nithi 59/290\n",
      "Total tiles: (15205, 5)\n"
     ]
    },
    {
     "name": "stderr",
     "output_type": "stream",
     "text": [
      "INFO:root:Data dimensions: (15205, 7), CRS: EPSG:3857\n",
      "INFO:root:Image file directory: /home/itingzon.unicef/giga/output/KEN/images/Nithi\n",
      "100%|████████████████████| 15205/15205 [4:01:25<00:00,  1.05it/s]                                                       \n"
     ]
    },
    {
     "name": "stdout",
     "output_type": "stream",
     "text": [
      "Maara 60/290\n",
      "Total tiles: (10862, 5)\n"
     ]
    },
    {
     "name": "stderr",
     "output_type": "stream",
     "text": [
      "INFO:root:Data dimensions: (10862, 7), CRS: EPSG:3857\n",
      "INFO:root:Image file directory: /home/itingzon.unicef/giga/output/KEN/images/Maara\n",
      "100%|████████████████████| 10862/10862 [3:25:22<00:00,  1.13s/it]                                                       \n"
     ]
    },
    {
     "name": "stdout",
     "output_type": "stream",
     "text": [
      "Tharaka 61/290\n",
      "Total tiles: (29494, 5)\n"
     ]
    },
    {
     "name": "stderr",
     "output_type": "stream",
     "text": [
      "INFO:root:Data dimensions: (29494, 7), CRS: EPSG:3857\n",
      "INFO:root:Image file directory: /home/itingzon.unicef/giga/output/KEN/images/Tharaka\n",
      "100%|████████████████████| 29494/29494 [8:39:33<00:00,  1.06s/it]                                                       \n"
     ]
    },
    {
     "name": "stdout",
     "output_type": "stream",
     "text": [
      "Manyatta 62/290\n",
      "Total tiles: (9777, 5)\n"
     ]
    },
    {
     "name": "stderr",
     "output_type": "stream",
     "text": [
      "INFO:root:Data dimensions: (9777, 7), CRS: EPSG:3857\n",
      "INFO:root:Image file directory: /home/itingzon.unicef/giga/output/KEN/images/Manyatta\n",
      " 96%|███████████████████▏| 9390/9777 [3:04:18<11:42,  1.82s/it]                                                         "
     ]
    }
   ],
   "source": [
    "geoboundary = data_utils._get_geoboundaries(data_config, iso_code, adm_level=\"ADM2\")\n",
    "for i, shapename in enumerate(geoboundary.shapeName.unique()):\n",
    "    print(f\"{shapename} {i}/{len(geoboundary.shapeName.unique())}\")\n",
    "    tiles = pred_utils.generate_pred_tiles(\n",
    "        data_config, iso_code, spacing, buffer_size, adm_level, shapename\n",
    "    ).reset_index(drop=True)\n",
    "    tiles[\"points\"] = tiles[\"geometry\"].centroid\n",
    "    tiles = tiles[tiles[\"sum\"] > sum_threshold].reset_index(drop=True)\n",
    "    print(f\"Total tiles: {tiles.shape}\")\n",
    "    \n",
    "    data = tiles.copy()\n",
    "    data[\"geometry\"] = data[\"points\"]\n",
    "    sat_dir = os.path.join(cwd, \"output\", iso_code, \"images\", shapename)\n",
    "    sat_download.download_sat_images(sat_creds, sat_config, data=data, out_dir=sat_dir)"
   ]
  },
  {
   "cell_type": "markdown",
   "id": "7932aee9-7308-4736-93fd-8bd0c91475ae",
   "metadata": {},
   "source": [
    "## CNN Model"
   ]
  },
  {
   "cell_type": "code",
   "execution_count": null,
   "id": "758e96e0-3318-4845-9510-84587589eeac",
   "metadata": {},
   "outputs": [],
   "source": [
    "model_config_file = os.path.join(cwd, f\"configs/cnn_configs/vgg16.yaml\")\n",
    "model_config = config_utils.load_config(model_config_file)\n",
    "result = pred_utils.cnn_predict(tiles, iso_code, shapename, model_config, sat_dir, n_classes=2)"
   ]
  },
  {
   "cell_type": "markdown",
   "id": "a0ae9e20-6425-491e-99ee-2ae80ddf7044",
   "metadata": {},
   "source": [
    "## ViT Model"
   ]
  },
  {
   "cell_type": "code",
   "execution_count": 13,
   "id": "44dbcf6b-3bfa-4759-add7-601f878ed777",
   "metadata": {
    "scrolled": true
   },
   "outputs": [
    {
     "name": "stderr",
     "output_type": "stream",
     "text": [
      "Using cache found in /home/itingzon.unicef/.cache/torch/hub/facebookresearch_dinov2_main\n",
      "INFO:dinov2:using MLP layer as FFN\n",
      "INFO:root:Device: cpu\n",
      "INFO:root:Generating embeddings...\n",
      "INFO:root:Reading file /home/itingzon.unicef/giga/output/SEN/embeddings/SEN_Foundiougne_dinov2_vitl14_embeds.csv\n",
      "INFO:root:Loaded /home/itingzon.unicef/giga/exp/SEN-dinov2_vitl14-LR/SEN-dinov2_vitl14-LR.pkl\n",
      "INFO:sklearnex: sklearn.utils.validation._assert_all_finite: running accelerated version on CPU\n",
      "INFO:sklearnex:sklearn.utils.validation._assert_all_finite: running accelerated version on CPU\n",
      "INFO:root:Generated /home/itingzon.unicef/giga/output/SEN/results/SEN_Foundiougne_dinov2_vitl14-LR_results.gpkg\n"
     ]
    }
   ],
   "source": [
    "model_config_file = os.path.join(cwd, f\"configs/model_configs/dinov2_vitl14-LR.yaml\")\n",
    "model_config = config_utils.load_config(model_config_file)\n",
    "result = pred_utils.vit_pred(tiles, model_config, iso_code, shapename, sat_dir)"
   ]
  }
 ],
 "metadata": {
  "kernelspec": {
   "display_name": "giga2",
   "language": "python",
   "name": "giga2"
  },
  "language_info": {
   "codemirror_mode": {
    "name": "ipython",
    "version": 3
   },
   "file_extension": ".py",
   "mimetype": "text/x-python",
   "name": "python",
   "nbconvert_exporter": "python",
   "pygments_lexer": "ipython3",
   "version": "3.10.13"
  }
 },
 "nbformat": 4,
 "nbformat_minor": 5
}
