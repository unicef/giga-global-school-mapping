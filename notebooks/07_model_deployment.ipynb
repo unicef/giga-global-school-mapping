{
 "cells": [
  {
   "cell_type": "markdown",
   "id": "59f30888-f40c-41d1-863a-8ecd460a58c2",
   "metadata": {},
   "source": [
    "## Imports and Setup"
   ]
  },
  {
   "cell_type": "code",
   "execution_count": 1,
   "id": "28af0717-1750-4d1c-884c-a44aa0c7c04a",
   "metadata": {},
   "outputs": [],
   "source": [
    "import os\n",
    "import pandas as pd\n",
    "import geopandas as gpd\n",
    "import logging\n",
    "import joblib\n",
    "import torch\n",
    "\n",
    "import sys\n",
    "sys.path.insert(0, \"../src\")\n",
    "import sat_download\n",
    "\n",
    "sys.path.insert(0, \"../utils/\")\n",
    "import data_utils\n",
    "import config_utils\n",
    "import pred_utils\n",
    "import embed_utils\n",
    "\n",
    "%load_ext autoreload\n",
    "%autoreload 2"
   ]
  },
  {
   "cell_type": "markdown",
   "id": "43efdc61-1b10-4da4-b1f0-6d1c9af9ba07",
   "metadata": {},
   "source": [
    "## Load Config Files"
   ]
  },
  {
   "cell_type": "code",
   "execution_count": 2,
   "id": "e6ea2f50-edfc-4fbc-8ea8-22152a497bc7",
   "metadata": {},
   "outputs": [],
   "source": [
    "iso_code = \"ZWE\"\n",
    "adm_level = \"ADM2\"\n",
    "sum_threshold = 5\n",
    "spacing = 150\n",
    "buffer_size = 150\n",
    "\n",
    "cwd = os.path.dirname(os.getcwd())\n",
    "data_config_file = os.path.join(cwd, \"configs/data_configs/data_config_ISO_AF.yaml\")\n",
    "data_config = config_utils.load_config(data_config_file)\n",
    "\n",
    "sat_config_file = os.path.join(cwd, \"configs/sat_configs/sat_config_500x500_60cm.yaml\")\n",
    "sat_creds_file = os.path.join(cwd, \"configs/sat_configs/issa_sat_creds.yaml\")\n",
    "\n",
    "sat_config = config_utils.load_config(sat_config_file)\n",
    "sat_creds = config_utils.create_config(sat_creds_file)"
   ]
  },
  {
   "cell_type": "markdown",
   "id": "a86dc38f-094b-43eb-b003-0e0f478abec9",
   "metadata": {},
   "source": [
    "## Generate Prediction Tiles"
   ]
  },
  {
   "cell_type": "code",
   "execution_count": 3,
   "id": "773101e2-9e6f-42c9-9311-55b2ad8e5cc4",
   "metadata": {},
   "outputs": [
    {
     "name": "stdout",
     "output_type": "stream",
     "text": [
      "Total tiles: (7282, 4)\n"
     ]
    },
    {
     "data": {
      "text/html": [
       "<div>\n",
       "<style scoped>\n",
       "    .dataframe tbody tr th:only-of-type {\n",
       "        vertical-align: middle;\n",
       "    }\n",
       "\n",
       "    .dataframe tbody tr th {\n",
       "        vertical-align: top;\n",
       "    }\n",
       "\n",
       "    .dataframe thead th {\n",
       "        text-align: right;\n",
       "    }\n",
       "</style>\n",
       "<table border=\"1\" class=\"dataframe\">\n",
       "  <thead>\n",
       "    <tr style=\"text-align: right;\">\n",
       "      <th></th>\n",
       "      <th>UID</th>\n",
       "      <th>shapeName</th>\n",
       "      <th>sum</th>\n",
       "      <th>geometry</th>\n",
       "    </tr>\n",
       "  </thead>\n",
       "  <tbody>\n",
       "    <tr>\n",
       "      <th>0</th>\n",
       "      <td>582</td>\n",
       "      <td>Harare Rural</td>\n",
       "      <td>2.0</td>\n",
       "      <td>POLYGON ((3439360.595 -2031495.512, 3439360.59...</td>\n",
       "    </tr>\n",
       "    <tr>\n",
       "      <th>1</th>\n",
       "      <td>583</td>\n",
       "      <td>Harare Rural</td>\n",
       "      <td>2.0</td>\n",
       "      <td>POLYGON ((3439360.595 -2031345.512, 3439360.59...</td>\n",
       "    </tr>\n",
       "    <tr>\n",
       "      <th>2</th>\n",
       "      <td>768</td>\n",
       "      <td>Harare Rural</td>\n",
       "      <td>9.0</td>\n",
       "      <td>POLYGON ((3439660.595 -2030595.512, 3439660.59...</td>\n",
       "    </tr>\n",
       "  </tbody>\n",
       "</table>\n",
       "</div>"
      ],
      "text/plain": [
       "   UID     shapeName  sum                                           geometry\n",
       "0  582  Harare Rural  2.0  POLYGON ((3439360.595 -2031495.512, 3439360.59...\n",
       "1  583  Harare Rural  2.0  POLYGON ((3439360.595 -2031345.512, 3439360.59...\n",
       "2  768  Harare Rural  9.0  POLYGON ((3439660.595 -2030595.512, 3439660.59..."
      ]
     },
     "execution_count": 3,
     "metadata": {},
     "output_type": "execute_result"
    }
   ],
   "source": [
    "geoboundary = data_utils._get_geoboundaries(data_config, iso_code, adm_level=adm_level)\n",
    "for i, shapename in enumerate(geoboundary.shapeName.unique()):\n",
    "    tiles = pred_utils.generate_pred_tiles(\n",
    "        data_config, iso_code, spacing, buffer_size, adm_level, shapename\n",
    "    ).reset_index(drop=True)\n",
    "print(f\"Total tiles: {tiles.shape}\")\n",
    "tiles.head(3)"
   ]
  },
  {
   "cell_type": "markdown",
   "id": "c92170dc-0a4a-46d0-b319-b74ceff6cf1d",
   "metadata": {},
   "source": [
    "## Download Satellite Images"
   ]
  },
  {
   "cell_type": "code",
   "execution_count": null,
   "id": "f6691527-90b9-4b1b-a6d6-f4cda818a0d7",
   "metadata": {
    "scrolled": true
   },
   "outputs": [],
   "source": [
    "geoboundary = data_utils._get_geoboundaries(data_config, iso_code, adm_level=\"ADM2\")\n",
    "for i, shapename in enumerate(geoboundary.shapeName.unique()):\n",
    "    print(f\"{shapename} {i}/{len(geoboundary.shapeName.unique())}\")\n",
    "    tiles = pred_utils.generate_pred_tiles(\n",
    "        data_config, iso_code, spacing, buffer_size, adm_level, shapename\n",
    "    ).reset_index(drop=True)\n",
    "    tiles[\"points\"] = tiles[\"geometry\"].centroid\n",
    "    tiles = tiles[tiles[\"sum\"] > sum_threshold].reset_index(drop=True)\n",
    "    print(f\"Total tiles: {tiles.shape}\")\n",
    "    \n",
    "    data = tiles.copy()\n",
    "    data[\"geometry\"] = data[\"points\"]\n",
    "    sat_dir = os.path.join(cwd, \"output\", iso_code, \"images\", shapename)\n",
    "    sat_download.download_sat_images(sat_creds, sat_config, data=data, out_dir=sat_dir)"
   ]
  },
  {
   "cell_type": "markdown",
   "id": "7932aee9-7308-4736-93fd-8bd0c91475ae",
   "metadata": {},
   "source": [
    "## CNN Model"
   ]
  },
  {
   "cell_type": "code",
   "execution_count": null,
   "id": "758e96e0-3318-4845-9510-84587589eeac",
   "metadata": {},
   "outputs": [],
   "source": [
    "model_config_file = os.path.join(cwd, f\"configs/cnn_configs/vgg16.yaml\")\n",
    "model_config = config_utils.load_config(model_config_file)\n",
    "result = pred_utils.cnn_predict(tiles, iso_code, shapename, model_config, sat_dir, n_classes=2)"
   ]
  },
  {
   "cell_type": "markdown",
   "id": "a0ae9e20-6425-491e-99ee-2ae80ddf7044",
   "metadata": {},
   "source": [
    "## ViT Model"
   ]
  },
  {
   "cell_type": "code",
   "execution_count": 13,
   "id": "44dbcf6b-3bfa-4759-add7-601f878ed777",
   "metadata": {
    "scrolled": true
   },
   "outputs": [
    {
     "name": "stderr",
     "output_type": "stream",
     "text": [
      "Using cache found in /home/itingzon.unicef/.cache/torch/hub/facebookresearch_dinov2_main\n",
      "INFO:dinov2:using MLP layer as FFN\n",
      "INFO:root:Device: cpu\n",
      "INFO:root:Generating embeddings...\n",
      "INFO:root:Reading file /home/itingzon.unicef/giga/output/SEN/embeddings/SEN_Foundiougne_dinov2_vitl14_embeds.csv\n",
      "INFO:root:Loaded /home/itingzon.unicef/giga/exp/SEN-dinov2_vitl14-LR/SEN-dinov2_vitl14-LR.pkl\n",
      "INFO:sklearnex: sklearn.utils.validation._assert_all_finite: running accelerated version on CPU\n",
      "INFO:sklearnex:sklearn.utils.validation._assert_all_finite: running accelerated version on CPU\n",
      "INFO:root:Generated /home/itingzon.unicef/giga/output/SEN/results/SEN_Foundiougne_dinov2_vitl14-LR_results.gpkg\n"
     ]
    }
   ],
   "source": [
    "model_config_file = os.path.join(cwd, f\"configs/model_configs/dinov2_vitl14-LR.yaml\")\n",
    "model_config = config_utils.load_config(model_config_file)\n",
    "result = pred_utils.vit_pred(tiles, model_config, iso_code, shapename, sat_dir)"
   ]
  }
 ],
 "metadata": {
  "kernelspec": {
   "display_name": "giga2",
   "language": "python",
   "name": "giga2"
  },
  "language_info": {
   "codemirror_mode": {
    "name": "ipython",
    "version": 3
   },
   "file_extension": ".py",
   "mimetype": "text/x-python",
   "name": "python",
   "nbconvert_exporter": "python",
   "pygments_lexer": "ipython3",
   "version": "3.10.13"
  }
 },
 "nbformat": 4,
 "nbformat_minor": 5
}
