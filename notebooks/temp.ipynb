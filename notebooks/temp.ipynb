{
  "cells": [
    {
      "cell_type": "code",
      "source": [
        "import os\n",
        "import logging\n",
        "import argparse\n",
        "\n",
        "from tqdm import tqdm\n",
        "import geopandas as gpd\n",
        "from owslib.wms import WebMapService\n",
        "\n",
        "import os \n",
        "os.chdir('../')\n",
        "from utils import data_utils\n",
        "from utils import config_utils\n",
        "\n",
        "%load_ext autoreload\n",
        "%autoreload 2"
      ],
      "outputs": [],
      "execution_count": 1,
      "metadata": {
        "gather": {
          "logged": 1733908164715
        }
      }
    },
    {
      "cell_type": "code",
      "source": [
        "name = \"issa\"\n",
        "config_file = os.path.join(os.getcwd(), \"configs/sat_configs/sat_config_500x500_60cm-temp.yaml\")\n",
        "creds_file = os.path.join(os.getcwd(), f\"configs/sat_configs/{name}_sat_creds.yaml\")\n",
        "config = config_utils.load_config(config_file)\n",
        "creds = config_utils.create_config(creds_file)"
      ],
      "outputs": [],
      "execution_count": 82,
      "metadata": {
        "jupyter": {
          "source_hidden": false,
          "outputs_hidden": false
        },
        "nteract": {
          "transient": {
            "deleting": false
          }
        },
        "gather": {
          "logged": 1733911635673
        }
      }
    },
    {
      "cell_type": "code",
      "source": [
        "data = gpd.read_file(\"./data/vectors/GIGAv2/school/unicef/MNG_unicef.geojson\")\n",
        "data = data_utils.convert_crs(data, data.crs, \"EPSG:3857\") #config[\"srs\"])\n",
        "data.sample(3)"
      ],
      "outputs": [
        {
          "output_type": "execute_result",
          "execution_count": 83,
          "data": {
            "text/plain": "                            UID  source  iso   country region     subregion  \\\n677  UNICEF-MNG-SCHOOL-00000677  UNICEF  MNG  Mongolia   Asia  Eastern Asia   \n190  UNICEF-MNG-SCHOOL-00000190  UNICEF  MNG  Mongolia   Asia  Eastern Asia   \n548  UNICEF-MNG-SCHOOL-00000548  UNICEF  MNG  Mongolia   Asia  Eastern Asia   \n\n     name  giga_id_school           lon           lat  \\\n677  None             677  1.190195e+07  6.093582e+06   \n190  None             190  1.226019e+07  5.608038e+06   \n548  None             548  1.190308e+07  6.094762e+06   \n\n                             geometry  \n677  POINT (11901950.223 6093582.299)  \n190  POINT (12260187.644 5608038.495)  \n548  POINT (11903077.245 6094762.235)  ",
            "text/html": "<div>\n<style scoped>\n    .dataframe tbody tr th:only-of-type {\n        vertical-align: middle;\n    }\n\n    .dataframe tbody tr th {\n        vertical-align: top;\n    }\n\n    .dataframe thead th {\n        text-align: right;\n    }\n</style>\n<table border=\"1\" class=\"dataframe\">\n  <thead>\n    <tr style=\"text-align: right;\">\n      <th></th>\n      <th>UID</th>\n      <th>source</th>\n      <th>iso</th>\n      <th>country</th>\n      <th>region</th>\n      <th>subregion</th>\n      <th>name</th>\n      <th>giga_id_school</th>\n      <th>lon</th>\n      <th>lat</th>\n      <th>geometry</th>\n    </tr>\n  </thead>\n  <tbody>\n    <tr>\n      <th>677</th>\n      <td>UNICEF-MNG-SCHOOL-00000677</td>\n      <td>UNICEF</td>\n      <td>MNG</td>\n      <td>Mongolia</td>\n      <td>Asia</td>\n      <td>Eastern Asia</td>\n      <td>None</td>\n      <td>677</td>\n      <td>1.190195e+07</td>\n      <td>6.093582e+06</td>\n      <td>POINT (11901950.223 6093582.299)</td>\n    </tr>\n    <tr>\n      <th>190</th>\n      <td>UNICEF-MNG-SCHOOL-00000190</td>\n      <td>UNICEF</td>\n      <td>MNG</td>\n      <td>Mongolia</td>\n      <td>Asia</td>\n      <td>Eastern Asia</td>\n      <td>None</td>\n      <td>190</td>\n      <td>1.226019e+07</td>\n      <td>5.608038e+06</td>\n      <td>POINT (12260187.644 5608038.495)</td>\n    </tr>\n    <tr>\n      <th>548</th>\n      <td>UNICEF-MNG-SCHOOL-00000548</td>\n      <td>UNICEF</td>\n      <td>MNG</td>\n      <td>Mongolia</td>\n      <td>Asia</td>\n      <td>Eastern Asia</td>\n      <td>None</td>\n      <td>548</td>\n      <td>1.190308e+07</td>\n      <td>6.094762e+06</td>\n      <td>POINT (11903077.245 6094762.235)</td>\n    </tr>\n  </tbody>\n</table>\n</div>"
          },
          "metadata": {}
        }
      ],
      "execution_count": 83,
      "metadata": {
        "jupyter": {
          "source_hidden": false,
          "outputs_hidden": false
        },
        "nteract": {
          "transient": {
            "deleting": false
          }
        },
        "gather": {
          "logged": 1733911638002
        }
      }
    },
    {
      "cell_type": "code",
      "source": [
        "import pandas as pd\n",
        "index = 0\n",
        "image_file = f\"{name}.tiff\"\n",
        "\n",
        "url = f\"{config['digitalglobe_url']}connectid={creds['connect_id']}\"\n",
        "wms = WebMapService(url, username=creds[\"username\"], password=creds[\"password\"])\n",
        "\n",
        "# Define bounding box for the image request\n",
        "bbox = {\n",
        "    \"lon\" : [\n",
        "        data.lon[index] - config[\"size\"],\n",
        "        data.lon[index] + config[\"size\"]\n",
        "    ],\n",
        "    \"lat\": [\n",
        "        data.lat[index] - config[\"size\"],\n",
        "        data.lat[index] + config[\"size\"]\n",
        "    ]\n",
        "}\n",
        "bbox = pd.DataFrame(bbox)\n",
        "bbox = gpd.GeoDataFrame(bbox, geometry = gpd.points_from_xy(\n",
        "        x = bbox.lon,\n",
        "        y = bbox.lat,\n",
        "        crs = 'EPSG:3857', \n",
        "))\n",
        "bbox"
      ],
      "outputs": [
        {
          "output_type": "execute_result",
          "execution_count": 84,
          "data": {
            "text/plain": "            lon           lat                          geometry\n0  1.320441e+07  6.045870e+06  POINT (13204406.937 6045869.790)\n1  1.320471e+07  6.046170e+06  POINT (13204706.937 6046169.790)",
            "text/html": "<div>\n<style scoped>\n    .dataframe tbody tr th:only-of-type {\n        vertical-align: middle;\n    }\n\n    .dataframe tbody tr th {\n        vertical-align: top;\n    }\n\n    .dataframe thead th {\n        text-align: right;\n    }\n</style>\n<table border=\"1\" class=\"dataframe\">\n  <thead>\n    <tr style=\"text-align: right;\">\n      <th></th>\n      <th>lon</th>\n      <th>lat</th>\n      <th>geometry</th>\n    </tr>\n  </thead>\n  <tbody>\n    <tr>\n      <th>0</th>\n      <td>1.320441e+07</td>\n      <td>6.045870e+06</td>\n      <td>POINT (13204406.937 6045869.790)</td>\n    </tr>\n    <tr>\n      <th>1</th>\n      <td>1.320471e+07</td>\n      <td>6.046170e+06</td>\n      <td>POINT (13204706.937 6046169.790)</td>\n    </tr>\n  </tbody>\n</table>\n</div>"
          },
          "metadata": {}
        }
      ],
      "execution_count": 84,
      "metadata": {
        "jupyter": {
          "source_hidden": false,
          "outputs_hidden": false
        },
        "nteract": {
          "transient": {
            "deleting": false
          }
        },
        "gather": {
          "logged": 1733911641688
        }
      }
    },
    {
      "cell_type": "code",
      "source": [
        "bbox = bbox.to_crs(\"EPSG:4326\")\n",
        "bbox.geometry.x[0]"
      ],
      "outputs": [
        {
          "output_type": "execute_result",
          "execution_count": 85,
          "data": {
            "text/plain": "118.61720568869491"
          },
          "metadata": {}
        }
      ],
      "execution_count": 85,
      "metadata": {
        "jupyter": {
          "source_hidden": false,
          "outputs_hidden": false
        },
        "nteract": {
          "transient": {
            "deleting": false
          }
        },
        "gather": {
          "logged": 1733911645712
        }
      }
    },
    {
      "cell_type": "code",
      "source": [
        "\n",
        "print(bbox.crs)\n",
        "bbox = (\n",
        "    bbox.geometry.x[0],\n",
        "    bbox.geometry.y[0],\n",
        "    bbox.geometry.x[1],\n",
        "    bbox.geometry.y[1]\n",
        ")\n",
        "bbox"
      ],
      "outputs": [
        {
          "output_type": "stream",
          "name": "stdout",
          "text": "EPSG:4326\n"
        },
        {
          "output_type": "execute_result",
          "execution_count": 86,
          "data": {
            "text/plain": "(118.61720568869491, 47.63212189942154, 118.61990063454726, 47.63393796028878)"
          },
          "metadata": {}
        }
      ],
      "execution_count": 86,
      "metadata": {
        "jupyter": {
          "source_hidden": false,
          "outputs_hidden": false
        },
        "nteract": {
          "transient": {
            "deleting": false
          }
        },
        "gather": {
          "logged": 1733911647737
        }
      }
    },
    {
      "cell_type": "code",
      "source": [
        "# Request image from WMS\n",
        "img = wms.getmap(\n",
        "    bbox=bbox,\n",
        "    layers=config[\"layers\"],\n",
        "    srs=config[\"srs\"],\n",
        "    size=(config[\"width\"], config[\"height\"]),\n",
        "    featureProfile=config[\"featureprofile\"],\n",
        "    coverage_cql_filter=config[\"coverage_cql_filter\"],\n",
        "    exceptions=config[\"exceptions\"],\n",
        "    transparent=config[\"transparent\"],\n",
        "    format=config[\"format\"],\n",
        ")\n",
        "# Save the image to file\n",
        "with open(image_file, \"wb\") as file:\n",
        "    file.write(img.read())"
      ],
      "outputs": [],
      "execution_count": 87,
      "metadata": {
        "jupyter": {
          "source_hidden": false,
          "outputs_hidden": false
        },
        "nteract": {
          "transient": {
            "deleting": false
          }
        },
        "gather": {
          "logged": 1733911653669
        }
      }
    },
    {
      "cell_type": "code",
      "source": [
        "!gdalwarp -t_srs EPSG:3857 issa.tiff issa.tiff"
      ],
      "outputs": [
        {
          "output_type": "stream",
          "name": "stdout",
          "text": "/bin/bash: gdalwarp: command not found\r\n"
        }
      ],
      "execution_count": 3,
      "metadata": {
        "jupyter": {
          "source_hidden": false,
          "outputs_hidden": false
        },
        "nteract": {
          "transient": {
            "deleting": false
          }
        }
      }
    }
  ],
  "metadata": {
    "kernelspec": {
      "name": "gigav3",
      "language": "python",
      "display_name": "gigav3"
    },
    "language_info": {
      "name": "python",
      "version": "3.10.13",
      "mimetype": "text/x-python",
      "codemirror_mode": {
        "name": "ipython",
        "version": 3
      },
      "pygments_lexer": "ipython3",
      "nbconvert_exporter": "python",
      "file_extension": ".py"
    },
    "microsoft": {
      "ms_spell_check": {
        "ms_spell_check_language": "en"
      },
      "host": {
        "AzureML": {
          "notebookHasBeenCompleted": true
        }
      }
    },
    "kernel_info": {
      "name": "gigav3"
    },
    "nteract": {
      "version": "nteract-front-end@1.0.0"
    }
  },
  "nbformat": 4,
  "nbformat_minor": 2
}