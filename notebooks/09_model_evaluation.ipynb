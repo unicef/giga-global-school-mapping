{
 "cells": [
  {
   "cell_type": "markdown",
   "id": "25978520-4859-4a1c-82c4-29e85c398716",
   "metadata": {},
   "source": [
    "## Imports and Setup"
   ]
  },
  {
   "cell_type": "code",
   "execution_count": 2,
   "id": "6b003c08-5f06-488f-a1ee-962f293b951f",
   "metadata": {},
   "outputs": [],
   "source": [
    "import os\n",
    "import pandas as pd\n",
    "import geopandas as gpd\n",
    "import logging\n",
    "import joblib\n",
    "import torch\n",
    "\n",
    "import sys\n",
    "sys.path.insert(0, \"../utils/\")\n",
    "import post_utils\n",
    "import eval_utils\n",
    "import config_utils\n",
    "from calibrators import ECELoss\n",
    "\n",
    "import matplotlib.pyplot as plt\n",
    "import numpy as np\n",
    "from sklearn.calibration import calibration_curve, CalibrationDisplay\n",
    "\n",
    "%load_ext autoreload\n",
    "%autoreload 2"
   ]
  },
  {
   "cell_type": "markdown",
   "id": "2a34ee8e-4d86-4283-a3e3-e39342dd4b6e",
   "metadata": {},
   "source": [
    "## Load Config Files"
   ]
  },
  {
   "cell_type": "code",
   "execution_count": 91,
   "id": "b94ba1b8-3d61-4d2e-9513-28062c03cf35",
   "metadata": {},
   "outputs": [],
   "source": [
    "iso_code = \"SEN\"\n",
    "cwd = os.path.dirname(os.getcwd())\n",
    "data_config_file = os.path.join(cwd, \"configs/data_configs/data_config_ISO_AF.yaml\")\n",
    "data_config = config_utils.load_config(data_config_file)\n",
    "\n",
    "model_config_file = os.path.join(cwd, \"configs/cnn_configs/satlas-aerial_swinb_si_01.yaml\")\n",
    "model_config = config_utils.load_config(model_config_file)"
   ]
  },
  {
   "cell_type": "markdown",
   "id": "9837ba20-2bde-4c86-b01a-fde08dd2777f",
   "metadata": {},
   "source": [
    "## Load Validation Results"
   ]
  },
  {
   "cell_type": "code",
   "execution_count": 93,
   "id": "d6ea28e7-eb28-46f0-8897-2f78767a649a",
   "metadata": {},
   "outputs": [
    {
     "data": {
      "text/html": [
       "<div>\n",
       "<style scoped>\n",
       "    .dataframe tbody tr th:only-of-type {\n",
       "        vertical-align: middle;\n",
       "    }\n",
       "\n",
       "    .dataframe tbody tr th {\n",
       "        vertical-align: top;\n",
       "    }\n",
       "\n",
       "    .dataframe thead th {\n",
       "        text-align: right;\n",
       "    }\n",
       "</style>\n",
       "<table border=\"1\" class=\"dataframe\">\n",
       "  <thead>\n",
       "    <tr style=\"text-align: right;\">\n",
       "      <th></th>\n",
       "      <th>UID</th>\n",
       "      <th>source</th>\n",
       "      <th>iso</th>\n",
       "      <th>country</th>\n",
       "      <th>region</th>\n",
       "      <th>subregion</th>\n",
       "      <th>name</th>\n",
       "      <th>giga_id_school</th>\n",
       "      <th>clean</th>\n",
       "      <th>validated</th>\n",
       "      <th>class</th>\n",
       "      <th>ghsl_smod</th>\n",
       "      <th>rurban</th>\n",
       "      <th>dataset</th>\n",
       "      <th>geometry</th>\n",
       "      <th>y_true</th>\n",
       "      <th>y_preds</th>\n",
       "      <th>y_probs</th>\n",
       "    </tr>\n",
       "  </thead>\n",
       "  <tbody>\n",
       "    <tr>\n",
       "      <th>0</th>\n",
       "      <td>OSM-SEN-SCHOOL-00000052</td>\n",
       "      <td>OSM</td>\n",
       "      <td>SEN</td>\n",
       "      <td>Senegal</td>\n",
       "      <td>Africa</td>\n",
       "      <td>Sub-Saharan Africa</td>\n",
       "      <td>Ecole élémentaire de Pilote</td>\n",
       "      <td>NaN</td>\n",
       "      <td>0</td>\n",
       "      <td>0.0</td>\n",
       "      <td>school</td>\n",
       "      <td>23</td>\n",
       "      <td>urban</td>\n",
       "      <td>val</td>\n",
       "      <td>POINT (-1614927.6902678423 1955753.4233859812)</td>\n",
       "      <td>1</td>\n",
       "      <td>1</td>\n",
       "      <td>0.731047</td>\n",
       "    </tr>\n",
       "    <tr>\n",
       "      <th>1</th>\n",
       "      <td>OSM-SEN-SCHOOL-00000125</td>\n",
       "      <td>OSM</td>\n",
       "      <td>SEN</td>\n",
       "      <td>Senegal</td>\n",
       "      <td>Africa</td>\n",
       "      <td>Sub-Saharan Africa</td>\n",
       "      <td>Ecole primaire Diass 3</td>\n",
       "      <td>NaN</td>\n",
       "      <td>0</td>\n",
       "      <td>0.0</td>\n",
       "      <td>school</td>\n",
       "      <td>21</td>\n",
       "      <td>urban</td>\n",
       "      <td>val</td>\n",
       "      <td>POINT (-1677620.044063711 1803663.7987482983)</td>\n",
       "      <td>1</td>\n",
       "      <td>1</td>\n",
       "      <td>0.731058</td>\n",
       "    </tr>\n",
       "    <tr>\n",
       "      <th>2</th>\n",
       "      <td>OSM-SEN-SCHOOL-00000424</td>\n",
       "      <td>OSM</td>\n",
       "      <td>SEN</td>\n",
       "      <td>Senegal</td>\n",
       "      <td>Africa</td>\n",
       "      <td>Sub-Saharan Africa</td>\n",
       "      <td>Cheikh Dé Thialaw Seck</td>\n",
       "      <td>NaN</td>\n",
       "      <td>0</td>\n",
       "      <td>0.0</td>\n",
       "      <td>school</td>\n",
       "      <td>23</td>\n",
       "      <td>urban</td>\n",
       "      <td>val</td>\n",
       "      <td>POINT (-1642463.3094720996 1847259.1297881973)</td>\n",
       "      <td>1</td>\n",
       "      <td>1</td>\n",
       "      <td>0.731058</td>\n",
       "    </tr>\n",
       "  </tbody>\n",
       "</table>\n",
       "</div>"
      ],
      "text/plain": [
       "                       UID source  iso  country  region           subregion  \\\n",
       "0  OSM-SEN-SCHOOL-00000052    OSM  SEN  Senegal  Africa  Sub-Saharan Africa   \n",
       "1  OSM-SEN-SCHOOL-00000125    OSM  SEN  Senegal  Africa  Sub-Saharan Africa   \n",
       "2  OSM-SEN-SCHOOL-00000424    OSM  SEN  Senegal  Africa  Sub-Saharan Africa   \n",
       "\n",
       "                          name giga_id_school  clean  validated   class  \\\n",
       "0  Ecole élémentaire de Pilote            NaN      0        0.0  school   \n",
       "1       Ecole primaire Diass 3            NaN      0        0.0  school   \n",
       "2       Cheikh Dé Thialaw Seck            NaN      0        0.0  school   \n",
       "\n",
       "   ghsl_smod rurban dataset                                        geometry  \\\n",
       "0         23  urban     val  POINT (-1614927.6902678423 1955753.4233859812)   \n",
       "1         21  urban     val   POINT (-1677620.044063711 1803663.7987482983)   \n",
       "2         23  urban     val  POINT (-1642463.3094720996 1847259.1297881973)   \n",
       "\n",
       "   y_true  y_preds   y_probs  \n",
       "0       1        1  0.731047  \n",
       "1       1        1  0.731058  \n",
       "2       1        1  0.731058  "
      ]
     },
     "execution_count": 93,
     "metadata": {},
     "output_type": "execute_result"
    }
   ],
   "source": [
    "val_output = post_utils.get_results(iso_code, model_config, phase=\"val\")\n",
    "#val_output_tempscaling = post_utils.get_results(\n",
    "#    iso_code, model_config, phase=\"val\", calibration=\"tempscaling\"\n",
    "#)\n",
    "val_results = post_utils.get_evaluation(\n",
    "    val_output, beta=2, optim_threshold=None\n",
    ")\n",
    "#val_output_isoreg = post_utils.get_results(\n",
    "#    iso_code, model_config, phase=\"val\", calibration=\"isoreg\"\n",
    "#)\n",
    "val_output.head(3)"
   ]
  },
  {
   "cell_type": "markdown",
   "id": "679a3420-1f2f-4e1b-9a11-5f5f5ae4d93f",
   "metadata": {},
   "source": [
    "## Load Test Results"
   ]
  },
  {
   "cell_type": "code",
   "execution_count": 94,
   "id": "8d91a26c-4242-419d-b8f6-1f9950832121",
   "metadata": {},
   "outputs": [
    {
     "data": {
      "text/html": [
       "<div>\n",
       "<style scoped>\n",
       "    .dataframe tbody tr th:only-of-type {\n",
       "        vertical-align: middle;\n",
       "    }\n",
       "\n",
       "    .dataframe tbody tr th {\n",
       "        vertical-align: top;\n",
       "    }\n",
       "\n",
       "    .dataframe thead th {\n",
       "        text-align: right;\n",
       "    }\n",
       "</style>\n",
       "<table border=\"1\" class=\"dataframe\">\n",
       "  <thead>\n",
       "    <tr style=\"text-align: right;\">\n",
       "      <th></th>\n",
       "      <th>UID</th>\n",
       "      <th>source</th>\n",
       "      <th>iso</th>\n",
       "      <th>country</th>\n",
       "      <th>region</th>\n",
       "      <th>subregion</th>\n",
       "      <th>name</th>\n",
       "      <th>giga_id_school</th>\n",
       "      <th>clean</th>\n",
       "      <th>validated</th>\n",
       "      <th>class</th>\n",
       "      <th>ghsl_smod</th>\n",
       "      <th>rurban</th>\n",
       "      <th>dataset</th>\n",
       "      <th>geometry</th>\n",
       "      <th>y_true</th>\n",
       "      <th>y_preds</th>\n",
       "      <th>y_probs</th>\n",
       "    </tr>\n",
       "  </thead>\n",
       "  <tbody>\n",
       "    <tr>\n",
       "      <th>0</th>\n",
       "      <td>OSM-SEN-SCHOOL-00000075</td>\n",
       "      <td>OSM</td>\n",
       "      <td>SEN</td>\n",
       "      <td>Senegal</td>\n",
       "      <td>Africa</td>\n",
       "      <td>Sub-Saharan Africa</td>\n",
       "      <td>Ecole d'Elinkine</td>\n",
       "      <td>NaN</td>\n",
       "      <td>0</td>\n",
       "      <td>0.0</td>\n",
       "      <td>school</td>\n",
       "      <td>13</td>\n",
       "      <td>rural</td>\n",
       "      <td>test</td>\n",
       "      <td>POINT (-1645442.8880473897 1541725.5277999148)</td>\n",
       "      <td>1</td>\n",
       "      <td>1</td>\n",
       "      <td>0.731058</td>\n",
       "    </tr>\n",
       "    <tr>\n",
       "      <th>1</th>\n",
       "      <td>OSM-SEN-SCHOOL-00000161</td>\n",
       "      <td>OSM</td>\n",
       "      <td>SEN</td>\n",
       "      <td>Senegal</td>\n",
       "      <td>Africa</td>\n",
       "      <td>Sub-Saharan Africa</td>\n",
       "      <td>Ecole 1</td>\n",
       "      <td>NaN</td>\n",
       "      <td>0</td>\n",
       "      <td>0.0</td>\n",
       "      <td>school</td>\n",
       "      <td>23</td>\n",
       "      <td>urban</td>\n",
       "      <td>test</td>\n",
       "      <td>POINT (-1319954.9528390914 1954650.5035527328)</td>\n",
       "      <td>1</td>\n",
       "      <td>1</td>\n",
       "      <td>0.731058</td>\n",
       "    </tr>\n",
       "    <tr>\n",
       "      <th>2</th>\n",
       "      <td>OSM-SEN-SCHOOL-00000185</td>\n",
       "      <td>OSM</td>\n",
       "      <td>SEN</td>\n",
       "      <td>Senegal</td>\n",
       "      <td>Africa</td>\n",
       "      <td>Sub-Saharan Africa</td>\n",
       "      <td>Ecole Elémentaire Tivaouane 13</td>\n",
       "      <td>NaN</td>\n",
       "      <td>0</td>\n",
       "      <td>0.0</td>\n",
       "      <td>school</td>\n",
       "      <td>30</td>\n",
       "      <td>urban</td>\n",
       "      <td>test</td>\n",
       "      <td>POINT (-1648856.406144037 1841900.0392739468)</td>\n",
       "      <td>1</td>\n",
       "      <td>1</td>\n",
       "      <td>0.731059</td>\n",
       "    </tr>\n",
       "  </tbody>\n",
       "</table>\n",
       "</div>"
      ],
      "text/plain": [
       "                       UID source  iso  country  region           subregion  \\\n",
       "0  OSM-SEN-SCHOOL-00000075    OSM  SEN  Senegal  Africa  Sub-Saharan Africa   \n",
       "1  OSM-SEN-SCHOOL-00000161    OSM  SEN  Senegal  Africa  Sub-Saharan Africa   \n",
       "2  OSM-SEN-SCHOOL-00000185    OSM  SEN  Senegal  Africa  Sub-Saharan Africa   \n",
       "\n",
       "                             name giga_id_school  clean  validated   class  \\\n",
       "0                Ecole d'Elinkine            NaN      0        0.0  school   \n",
       "1                         Ecole 1            NaN      0        0.0  school   \n",
       "2  Ecole Elémentaire Tivaouane 13            NaN      0        0.0  school   \n",
       "\n",
       "   ghsl_smod rurban dataset                                        geometry  \\\n",
       "0         13  rural    test  POINT (-1645442.8880473897 1541725.5277999148)   \n",
       "1         23  urban    test  POINT (-1319954.9528390914 1954650.5035527328)   \n",
       "2         30  urban    test   POINT (-1648856.406144037 1841900.0392739468)   \n",
       "\n",
       "   y_true  y_preds   y_probs  \n",
       "0       1        1  0.731058  \n",
       "1       1        1  0.731058  \n",
       "2       1        1  0.731059  "
      ]
     },
     "execution_count": 94,
     "metadata": {},
     "output_type": "execute_result"
    }
   ],
   "source": [
    "test_output = post_utils.get_results(iso_code, model_config, phase=\"test\")\n",
    "#test_output_tempscaling = post_utils.get_results(\n",
    "#    iso_code, model_config, phase=\"test\", calibration=\"tempscaling\"\n",
    "#)\n",
    "#test_output_isoreg = post_utils.get_results(\n",
    "#    iso_code, model_config, phase=\"test\", calibration=\"isoreg\"\n",
    "#)\n",
    "test_output.head(3)"
   ]
  },
  {
   "cell_type": "markdown",
   "id": "fa1095cb-1d49-46ba-b839-0069296f0219",
   "metadata": {},
   "source": [
    "## Run Evaluation"
   ]
  },
  {
   "cell_type": "code",
   "execution_count": 95,
   "id": "67a4b575-1b0a-401b-9743-8f6fdffc96a2",
   "metadata": {},
   "outputs": [
    {
     "name": "stdout",
     "output_type": "stream",
     "text": [
      "optim_threshold: 0.4951\n",
      "fbeta_score_optim: 95.1253\n",
      "precision_score_optim: 90.3537\n",
      "recall_score_optim: 96.3979\n",
      "f1_score_optim: 93.2780\n",
      "overall_accuracy_optim: 95.4799\n",
      "balanced_accuracy_optim: 95.7176\n"
     ]
    }
   ],
   "source": [
    "val_results = post_utils.get_evaluation(\n",
    "    val_output, beta=2, optim_threshold=None\n",
    ")\n",
    "#val_results_tempscaling = post_utils.get_evaluation(\n",
    "#    val_output_tempscaling, beta=2, optim_threshold=None\n",
    "#)\n",
    "#val_results_isoreg = post_utils.get_evaluation(\n",
    "#    val_output_isoreg, beta=2, optim_threshold=None\n",
    "#)\n",
    "for key, value in val_results.items():\n",
    "    if 'optim' in key: print(f\"{key}: {value:.4f}\")\n",
    "#print(f\"Brier score: {val_results['brier_score']:.4f}\") \n",
    "#print(f\"Brier score temp scaling: {val_results_tempscaling['brier_score']:.4f}\")\n",
    "#print(f\"Brier score isotonic reg: {val_results_isoreg['brier_score']:.4f}\")"
   ]
  },
  {
   "cell_type": "code",
   "execution_count": 90,
   "id": "67cf5fbb-a8d5-4486-beb7-8a6285cdcebe",
   "metadata": {},
   "outputs": [
    {
     "name": "stdout",
     "output_type": "stream",
     "text": [
      "optim_threshold: 0.2722\n",
      "fbeta_score_optim: 91.8919\n",
      "precision_score_optim: 81.3397\n",
      "recall_score_optim: 94.9721\n",
      "f1_score_optim: 87.6289\n",
      "overall_accuracy_optim: 91.3043\n",
      "balanced_accuracy_optim: 92.2582\n",
      "Brier score: 0.1033\n",
      "Brier score temp scaling: 0.0847\n",
      "Brier score isotonic reg: 0.0568\n"
     ]
    }
   ],
   "source": [
    "test_results = post_utils.get_evaluation(\n",
    "    test_output, \n",
    "    beta=2, \n",
    "    optim_threshold=val_results['optim_threshold']\n",
    ")\n",
    "test_results_tempscaling = post_utils.get_evaluation(\n",
    "    test_output_tempscaling, \n",
    "    beta=2, \n",
    "    optim_threshold=val_results_tempscaling['optim_threshold']\n",
    ")\n",
    "test_results_isoreg= post_utils.get_evaluation(\n",
    "    test_output_isoreg, \n",
    "    beta=2,\n",
    "    optim_threshold=val_results_isoreg['optim_threshold']\n",
    ")\n",
    "for key, value in test_results.items():\n",
    "    if 'optim' in key: print(f\"{key}: {value:.4f}\")\n",
    "print(f\"Brier score: {test_results['brier_score']:.4f}\") \n",
    "print(f\"Brier score temp scaling: {test_results_tempscaling['brier_score']:.4f}\")\n",
    "print(f\"Brier score isotonic reg: {test_results_isoreg['brier_score']:.4f}\")"
   ]
  },
  {
   "cell_type": "markdown",
   "id": "8a649147-bbef-4a17-85ed-468fc3fc5cf9",
   "metadata": {},
   "source": [
    "## Model Calibration"
   ]
  },
  {
   "cell_type": "markdown",
   "id": "f53222b2-fcca-45ef-bd84-ae639670c962",
   "metadata": {},
   "source": [
    "### Validation Set Calibration"
   ]
  },
  {
   "cell_type": "code",
   "execution_count": null,
   "id": "adce1fe3-8b01-48c7-b2f1-b4c6daddf994",
   "metadata": {},
   "outputs": [],
   "source": [
    "ece = ECELoss(n_bins=10)\n",
    "ece.draw_reliability_graph(\n",
    "    val_output[\"y_probs\"].values, \n",
    "    val_output[\"y_true\"].values\n",
    ")"
   ]
  },
  {
   "cell_type": "code",
   "execution_count": null,
   "id": "06a23140-dfb2-4a18-8a03-8bae8e3f9b6f",
   "metadata": {},
   "outputs": [],
   "source": [
    "ece.draw_reliability_graph(\n",
    "    val_output_tempscaling[\"y_probs\"], \n",
    "    val_output[\"y_true\"].values\n",
    ")"
   ]
  },
  {
   "cell_type": "code",
   "execution_count": null,
   "id": "3e55cac2-1b88-4fd5-a7b2-66e2b759b5f1",
   "metadata": {},
   "outputs": [],
   "source": [
    "ece.draw_reliability_graph(\n",
    "    val_output_isoreg[\"y_probs\"], \n",
    "    val_output[\"y_true\"].values\n",
    ")"
   ]
  },
  {
   "cell_type": "markdown",
   "id": "8ca2dba3-a18e-477c-b0a0-21623bf7bad4",
   "metadata": {},
   "source": [
    "### Test Set Calibration"
   ]
  },
  {
   "cell_type": "code",
   "execution_count": null,
   "id": "a99341c8-52a7-4ea9-8c90-b38cbfd978dc",
   "metadata": {},
   "outputs": [],
   "source": [
    "ece.draw_reliability_graph(\n",
    "    test_output[\"y_probs\"].values, \n",
    "    test_output[\"y_true\"].values\n",
    ")"
   ]
  },
  {
   "cell_type": "code",
   "execution_count": null,
   "id": "900d444e-3780-4b88-978c-63344d01bc0f",
   "metadata": {},
   "outputs": [],
   "source": [
    "ece.draw_reliability_graph(\n",
    "    test_output_tempscaling[\"y_probs\"], \n",
    "    test_output[\"y_true\"].values\n",
    ")"
   ]
  },
  {
   "cell_type": "code",
   "execution_count": null,
   "id": "9e24fae4-bae7-4341-8f86-1e46d071d09e",
   "metadata": {},
   "outputs": [],
   "source": [
    "ece.draw_reliability_graph(\n",
    "    test_output_isoreg[\"y_probs\"], \n",
    "    test_output[\"y_true\"].values\n",
    ")"
   ]
  },
  {
   "cell_type": "markdown",
   "id": "b6aea9d4-ffbf-435a-9475-101d01ee6299",
   "metadata": {},
   "source": [
    "## Plot Results"
   ]
  },
  {
   "cell_type": "code",
   "execution_count": 31,
   "id": "5a95add6-082a-46d9-8f32-aec2dd46fb86",
   "metadata": {},
   "outputs": [
    {
     "data": {
      "image/png": "[encoded data removed]",
      "text/plain": [
       "<Figure size 500x300 with 1 Axes>"
      ]
     },
     "metadata": {},
     "output_type": "display_data"
    }
   ],
   "source": [
    "from sklearn.metrics import PrecisionRecallDisplay\n",
    "fig, ax = plt.subplots(1, 1, figsize=(5, 3))\n",
    "disp = PrecisionRecallDisplay(\n",
    "    precision=test_results['precision_scores_'], \n",
    "    recall=test_results['recall_scores_']\n",
    ")\n",
    "disp.plot(ax=ax);"
   ]
  },
  {
   "cell_type": "code",
   "execution_count": 177,
   "id": "305b7ecb-8120-46e6-9ea1-0fb92d67dde5",
   "metadata": {},
   "outputs": [
    {
     "data": {
      "image/png": "[encoded data removed]",
      "text/plain": [
       "<Figure size 500x300 with 1 Axes>"
      ]
     },
     "metadata": {},
     "output_type": "display_data"
    }
   ],
   "source": [
    "_, test_fscores = eval_utils.get_optimal_threshold(\n",
    "    test_results['precision_scores_'], \n",
    "    test_results['recall_scores_'], \n",
    "    test_results['thresholds_'], \n",
    "    beta=1\n",
    ")\n",
    "fig, ax = plt.subplots(figsize=(5, 3))\n",
    "ax.plot(test_results['thresholds_'], test_fscores[:-1], \"b--\");"
   ]
  },
  {
   "cell_type": "code",
   "execution_count": 178,
   "id": "9c5fda77-ce1e-4591-ad07-967244a64efa",
   "metadata": {},
   "outputs": [
    {
     "data": {
      "image/png": "[encoded data removed]",
      "text/plain": [
       "<Figure size 500x300 with 1 Axes>"
      ]
     },
     "metadata": {},
     "output_type": "display_data"
    }
   ],
   "source": [
    "fig, ax = plt.subplots(figsize=(5, 3))\n",
    "ax.plot(\n",
    "    test_results['thresholds_'], \n",
    "    test_results['precision_scores_'][:-1], \n",
    "    \"b--\"\n",
    ")\n",
    "ax.plot(\n",
    "    test_results['thresholds_'], \n",
    "    test_results['recall_scores_'][:-1], \n",
    "    \"g--\"\n",
    ");"
   ]
  }
 ],
 "metadata": {
  "kernelspec": {
   "display_name": "giga2",
   "language": "python",
   "name": "giga2"
  },
  "language_info": {
   "codemirror_mode": {
    "name": "ipython",
    "version": 3
   },
   "file_extension": ".py",
   "mimetype": "text/x-python",
   "name": "python",
   "nbconvert_exporter": "python",
   "pygments_lexer": "ipython3",
   "version": "3.10.13"
  }
 },
 "nbformat": 4,
 "nbformat_minor": 5
}
