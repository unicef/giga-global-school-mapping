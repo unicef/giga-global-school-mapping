{
 "cells": [
  {
   "cell_type": "markdown",
   "id": "10270359-5c8e-4c58-8caf-bd6ae49f17e0",
   "metadata": {},
   "source": [
    "## Imports and Setup"
   ]
  },
  {
   "cell_type": "code",
   "execution_count": 1,
   "id": "d0c8b317-49f4-4969-bcfb-7a9aad3c6994",
   "metadata": {},
   "outputs": [],
   "source": [
    "import os\n",
    "import sys\n",
    "sys.path.insert(0, \"../utils/\")\n",
    "import config_utils\n",
    "import calib_utils\n",
    "import post_utils\n",
    "import calibrators\n",
    "\n",
    "import pandas as pd\n",
    "import numpy as np\n",
    "import geopandas as gpd\n",
    "\n",
    "pd.set_option('mode.chained_assignment', None)\n",
    "%load_ext autoreload\n",
    "%autoreload 2"
   ]
  },
  {
   "cell_type": "markdown",
   "id": "bee1edd9-48d2-4d61-9a38-7d8b52fde6d8",
   "metadata": {},
   "source": [
    "## Load Configuration"
   ]
  },
  {
   "cell_type": "code",
   "execution_count": 26,
   "id": "90a7bfbd-59fb-414f-a091-afa75347f3a1",
   "metadata": {},
   "outputs": [],
   "source": [
    "iso_code = \"GHA\"\n",
    "config_file = \"configs/cnn_configs/convnext_base_v01.yaml\"\n",
    "\n",
    "cwd = os.path.dirname(os.getcwd())\n",
    "config = config_utils.load_config(os.path.join(cwd, config_file))\n",
    "config[\"iso_codes\"] = [iso_code]\n",
    "\n",
    "config_name = f\"{iso_code}_{config['config_name']}\"\n",
    "exp_dir = os.path.join(cwd, config[\"exp_dir\"], config[\"project\"], config_name)"
   ]
  },
  {
   "cell_type": "markdown",
   "id": "2e2ff5fa-566d-4e32-86d4-b182419fb995",
   "metadata": {},
   "source": [
    "## Temperature Scaling"
   ]
  },
  {
   "cell_type": "code",
   "execution_count": null,
   "id": "10368944-3f4f-4d5c-881b-58ab1d0d1449",
   "metadata": {},
   "outputs": [],
   "source": [
    "calibrator = calib_utils.temperature_check(iso_code, config, exp_dir, save_model=True)\n",
    "calib_utils.save_results(\n",
    "    calibrator, iso_code, config, exp_dir, beta=2, calibration=\"tempscaling\"\n",
    ")"
   ]
  },
  {
   "cell_type": "markdown",
   "id": "bc4465d7-65a8-43d1-9c62-22a0d21bc001",
   "metadata": {},
   "source": [
    "## Isotonic Regression"
   ]
  },
  {
   "cell_type": "code",
   "execution_count": 29,
   "id": "a8262d1f-47b4-4958-9bf4-557c98300285",
   "metadata": {},
   "outputs": [
    {
     "name": "stderr",
     "output_type": "stream",
     "text": [
      "INFO:root:Model loaded from /home/itingzon.unicef/giga/exp/GIGAv4/GHA_convnext_base_v01/GHA_convnext_base_v01_isoreg.pkl\n"
     ]
    }
   ],
   "source": [
    "calibrator = calibrators.isotonic_regressor(iso_code, config, output=None, n_bins=10)\n",
    "calib_utils.save_results(\n",
    "    calibrator, iso_code, config, exp_dir, beta=2, calibration=\"isoreg\"\n",
    ")"
   ]
  }
 ],
 "metadata": {
  "kernelspec": {
   "display_name": "giga2",
   "language": "python",
   "name": "giga2"
  },
  "language_info": {
   "codemirror_mode": {
    "name": "ipython",
    "version": 3
   },
   "file_extension": ".py",
   "mimetype": "text/x-python",
   "name": "python",
   "nbconvert_exporter": "python",
   "pygments_lexer": "ipython3",
   "version": "3.10.13"
  }
 },
 "nbformat": 4,
 "nbformat_minor": 5
}
